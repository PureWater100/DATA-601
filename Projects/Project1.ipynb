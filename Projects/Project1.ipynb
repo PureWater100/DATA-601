{
 "cells": [
  {
   "cell_type": "markdown",
   "source": "#### Project 1",
   "metadata": {
    "tags": [],
    "cell_id": "00000-dd675841-3dba-4b79-94c6-027dbb3eab3e",
    "deepnote_cell_type": "markdown"
   }
  },
  {
   "cell_type": "code",
   "metadata": {
    "cell_id": "00000-64e09099-77e2-4013-9b94-cacdf90b4fab",
    "deepnote_to_be_reexecuted": false,
    "source_hash": "676b09e0",
    "execution_start": 1636935659399,
    "execution_millis": 172,
    "deepnote_cell_type": "code"
   },
   "source": "import pandas as pd\nimport numpy as np\nimport matplotlib as plt\nimport os ",
   "execution_count": null,
   "outputs": []
  },
  {
   "cell_type": "markdown",
   "source": "#### Question 1",
   "metadata": {
    "tags": [],
    "cell_id": "00001-16de152b-d00c-49dc-9ac4-305410195153",
    "deepnote_cell_type": "markdown"
   }
  },
  {
   "cell_type": "code",
   "metadata": {
    "cell_id": "00002-8b2f1310-44bb-49c0-9e64-4c504f504913",
    "deepnote_to_be_reexecuted": false,
    "source_hash": "22b2171e",
    "execution_start": 1636935659616,
    "execution_millis": 7966,
    "deepnote_cell_type": "code"
   },
   "source": "crashes = pd.read_csv ('crashes.csv', low_memory=False)",
   "execution_count": null,
   "outputs": []
  },
  {
   "cell_type": "code",
   "metadata": {
    "cell_id": "00005-99273eba-44e7-439c-9576-5c2b6ebf8c0a",
    "deepnote_to_be_reexecuted": false,
    "source_hash": "583f89cc",
    "execution_start": 1636935667592,
    "execution_millis": 164,
    "deepnote_cell_type": "code"
   },
   "source": "crashes = crashes[crashes.YEAR == 2020]\n#crashes.head()",
   "execution_count": null,
   "outputs": []
  },
  {
   "cell_type": "code",
   "metadata": {
    "cell_id": "00007-4e19789d-bccd-4183-a684-c962b62ade4e",
    "deepnote_to_be_reexecuted": false,
    "source_hash": "409cb3f3",
    "execution_start": 1636935667767,
    "execution_millis": 4,
    "deepnote_cell_type": "code"
   },
   "source": "#from the \"crashes.csv\", accident data (acc_dat), accident time (acc_time), \n#weather description (weather_desc),report no,\n# county (county_desc), latittude, and longitude\n\n#piv_vc =pd.pivot_table(vechile_crashes,index = \"YEAR\", values = [\"ACC_DATE\",\"ACC_TIME\",\"WEATHER_DESC\",\"REPORT_NO\",\n#   ,53,54,25,22,4                                         \"COUNTY_DESC\",\"LATITUDE\",\"LONGITUDE\"\n#                                           ])\n",
   "execution_count": null,
   "outputs": []
  },
  {
   "cell_type": "code",
   "metadata": {
    "cell_id": "00008-b808808b-6afd-417a-aabd-85b5f43c4761",
    "deepnote_to_be_reexecuted": false,
    "source_hash": "9d543210",
    "execution_start": 1636935667776,
    "execution_millis": 20,
    "deepnote_cell_type": "code"
   },
   "source": "crashes = crashes[[\"ACC_DATE\",\"ACC_TIME\",\"WEATHER_DESC\",\"REPORT_NO\",\"COUNTY_DESC\",\"LATITUDE\",\"LONGITUDE\"]]",
   "execution_count": null,
   "outputs": []
  },
  {
   "cell_type": "code",
   "metadata": {
    "cell_id": "00011-3fcdc62f-9c7d-4db0-9019-979488b1b5a1",
    "deepnote_to_be_reexecuted": false,
    "source_hash": "8445c229",
    "execution_start": 1636935667805,
    "execution_millis": 13235,
    "deepnote_cell_type": "code"
   },
   "source": "persons = pd.read_csv ('persons.csv', low_memory=False)\n#person_detail.head()",
   "execution_count": null,
   "outputs": []
  },
  {
   "cell_type": "code",
   "metadata": {
    "cell_id": "00015-068d7981-58cb-4044-8294-8b870193efa1",
    "deepnote_to_be_reexecuted": false,
    "source_hash": "203ab61f",
    "execution_start": 1636935681048,
    "execution_millis": 329,
    "deepnote_cell_type": "code"
   },
   "source": "persons = persons[persons.YEAR == 2020]",
   "execution_count": null,
   "outputs": []
  },
  {
   "cell_type": "code",
   "metadata": {
    "cell_id": "00016-402129fb-0bc2-4377-bff0-083967f6b6a0",
    "deepnote_to_be_reexecuted": false,
    "source_hash": "f5f5c859",
    "execution_start": 1636935681385,
    "execution_millis": 38,
    "deepnote_cell_type": "code"
   },
   "source": "#from the \"persons.csv\", gender, data of birth, and state code\npersons = persons[['SEX_CODE','DATE_OF_BIRTH',\"REPORT_NO\",'LICENSE_STATE_CODE']]",
   "execution_count": null,
   "outputs": []
  },
  {
   "cell_type": "code",
   "metadata": {
    "cell_id": "00018-eacf5dd0-2185-42b4-aa3a-9c55012e88c0",
    "deepnote_to_be_reexecuted": false,
    "source_hash": "32023c35",
    "execution_start": 1636935681437,
    "execution_millis": 10694,
    "deepnote_cell_type": "code"
   },
   "source": "vehicles = pd.read_csv ('vehicles.csv', low_memory=False)",
   "execution_count": null,
   "outputs": []
  },
  {
   "cell_type": "code",
   "metadata": {
    "cell_id": "00022-2437bb00-a09c-4ebb-8fcc-366fca76768b",
    "deepnote_to_be_reexecuted": false,
    "source_hash": "b83c5715",
    "execution_start": 1636935692175,
    "execution_millis": 276,
    "deepnote_cell_type": "code"
   },
   "source": "vehicles = vehicles[vehicles.YEAR == 2020]\n",
   "execution_count": null,
   "outputs": []
  },
  {
   "cell_type": "code",
   "metadata": {
    "tags": [],
    "cell_id": "00012-488f9980-11dc-4191-ad6b-f0bbb502b3a3",
    "deepnote_to_be_reexecuted": false,
    "source_hash": "28ad16d0",
    "execution_start": 1636935692463,
    "execution_millis": 3,
    "deepnote_cell_type": "code"
   },
   "source": "#vehicles.tail()",
   "execution_count": null,
   "outputs": []
  },
  {
   "cell_type": "code",
   "metadata": {
    "cell_id": "00023-5c3b6179-a027-48bd-b713-fb05b650fd0d",
    "deepnote_to_be_reexecuted": false,
    "source_hash": "3dd66747",
    "execution_start": 1636935692481,
    "execution_millis": 2226067,
    "deepnote_cell_type": "code"
   },
   "source": "#from the \"vehicles.csv\", vehicle year, vehicle make, speed limit\n",
   "execution_count": null,
   "outputs": []
  },
  {
   "cell_type": "code",
   "metadata": {
    "cell_id": "00024-7cfa8743-4564-4876-9a41-ec2fb7855cac",
    "deepnote_to_be_reexecuted": false,
    "source_hash": "156a3727",
    "execution_start": 1636935692488,
    "execution_millis": 27,
    "deepnote_cell_type": "code"
   },
   "source": "vehicles = vehicles[['VEH_YEAR','VEH_MAKE',\"REPORT_NO\",'SPEED_LIMIT']]",
   "execution_count": null,
   "outputs": []
  },
  {
   "cell_type": "code",
   "metadata": {
    "cell_id": "00025-78513a18-4902-44bf-a742-592a25c10dbd",
    "deepnote_to_be_reexecuted": false,
    "source_hash": "4ec11915",
    "execution_start": 1636935692529,
    "execution_millis": 90,
    "deepnote_cell_type": "code"
   },
   "source": "vehicles",
   "execution_count": null,
   "outputs": [
    {
     "output_type": "execute_result",
     "execution_count": 14,
     "data": {
      "application/vnd.deepnote.dataframe.v2+json": {
       "row_count": 172570,
       "column_count": 4,
       "columns": [
        {
         "name": "VEH_YEAR",
         "dtype": "float64"
        },
        {
         "name": "VEH_MAKE",
         "dtype": "object"
        },
        {
         "name": "REPORT_NO",
         "dtype": "object"
        },
        {
         "name": "SPEED_LIMIT",
         "dtype": "int64"
        },
        {
         "name": "_deepnote_index_column",
         "dtype": "int64"
        }
       ],
       "rows_top": [
        {
         "VEH_YEAR": "nan",
         "VEH_MAKE": "UNKNOWN",
         "REPORT_NO": "AE5057004X",
         "SPEED_LIMIT": 25,
         "_deepnote_index_column": 0
        },
        {
         "VEH_YEAR": 2018,
         "VEH_MAKE": "TOYOTA",
         "REPORT_NO": "MSP7221001P",
         "SPEED_LIMIT": 55,
         "_deepnote_index_column": 1
        },
        {
         "VEH_YEAR": 2019,
         "VEH_MAKE": "CHEVROLET",
         "REPORT_NO": "DA37010040",
         "SPEED_LIMIT": 30,
         "_deepnote_index_column": 2
        },
        {
         "VEH_YEAR": "nan",
         "VEH_MAKE": "UNKNOWN",
         "REPORT_NO": "MDTA1791002C",
         "SPEED_LIMIT": 35,
         "_deepnote_index_column": 3
        },
        {
         "VEH_YEAR": 2002,
         "VEH_MAKE": "HONDA",
         "REPORT_NO": "AE456100BL",
         "SPEED_LIMIT": 35,
         "_deepnote_index_column": 4
        },
        {
         "VEH_YEAR": 2009,
         "VEH_MAKE": "FORD",
         "REPORT_NO": "AE5919007M",
         "SPEED_LIMIT": 0,
         "_deepnote_index_column": 5
        },
        {
         "VEH_YEAR": 2017,
         "VEH_MAKE": "HOND",
         "REPORT_NO": "ADJ778001H",
         "SPEED_LIMIT": 25,
         "_deepnote_index_column": 6
        },
        {
         "VEH_YEAR": 2019,
         "VEH_MAKE": "VOLVO",
         "REPORT_NO": "MSP7103003M",
         "SPEED_LIMIT": 70,
         "_deepnote_index_column": 7
        },
        {
         "VEH_YEAR": 2013,
         "VEH_MAKE": "HONDA",
         "REPORT_NO": "MSP7127004K",
         "SPEED_LIMIT": 55,
         "_deepnote_index_column": 8
        },
        {
         "VEH_YEAR": 2016,
         "VEH_MAKE": "MAZD",
         "REPORT_NO": "MSP71290031",
         "SPEED_LIMIT": 65,
         "_deepnote_index_column": 9
        },
        {
         "VEH_YEAR": 2016,
         "VEH_MAKE": "NEWFLYER",
         "REPORT_NO": "MTA0424000D",
         "SPEED_LIMIT": 25,
         "_deepnote_index_column": 10
        },
        {
         "VEH_YEAR": 2015,
         "VEH_MAKE": "TOYT",
         "REPORT_NO": "ZH0452000P",
         "SPEED_LIMIT": 25,
         "_deepnote_index_column": 11
        },
        {
         "VEH_YEAR": 2018,
         "VEH_MAKE": "MAZDA",
         "REPORT_NO": "MCP2291004H",
         "SPEED_LIMIT": 35,
         "_deepnote_index_column": 12
        },
        {
         "VEH_YEAR": 1998,
         "VEH_MAKE": "MITSUBISHI",
         "REPORT_NO": "MSP7182001N",
         "SPEED_LIMIT": 55,
         "_deepnote_index_column": 13
        },
        {
         "VEH_YEAR": 2019,
         "VEH_MAKE": "HONDA",
         "REPORT_NO": "MSP6739008G",
         "SPEED_LIMIT": 55,
         "_deepnote_index_column": 14
        },
        {
         "VEH_YEAR": 2005,
         "VEH_MAKE": "TOYOTA",
         "REPORT_NO": "ZR01600029",
         "SPEED_LIMIT": 50,
         "_deepnote_index_column": 15
        },
        {
         "VEH_YEAR": 2007,
         "VEH_MAKE": "NISSAN",
         "REPORT_NO": "CB6132002G",
         "SPEED_LIMIT": 55,
         "_deepnote_index_column": 16
        },
        {
         "VEH_YEAR": 2011,
         "VEH_MAKE": "FORD",
         "REPORT_NO": "AE6079005B",
         "SPEED_LIMIT": 30,
         "_deepnote_index_column": 17
        },
        {
         "VEH_YEAR": 2016,
         "VEH_MAKE": "KIA",
         "REPORT_NO": "AE47210028",
         "SPEED_LIMIT": 30,
         "_deepnote_index_column": 18
        },
        {
         "VEH_YEAR": 1995,
         "VEH_MAKE": "CHEVY",
         "REPORT_NO": "CS0029002T",
         "SPEED_LIMIT": 30,
         "_deepnote_index_column": 19
        },
        {
         "VEH_YEAR": 2007,
         "VEH_MAKE": "SUZI",
         "REPORT_NO": "ADK183000T",
         "SPEED_LIMIT": 35,
         "_deepnote_index_column": 20
        },
        {
         "VEH_YEAR": 2021,
         "VEH_MAKE": "FORD",
         "REPORT_NO": "AC2353000P",
         "SPEED_LIMIT": 20,
         "_deepnote_index_column": 21
        },
        {
         "VEH_YEAR": 2002,
         "VEH_MAKE": "FORD",
         "REPORT_NO": "MCP3192000Z",
         "SPEED_LIMIT": 30,
         "_deepnote_index_column": 22
        },
        {
         "VEH_YEAR": "nan",
         "VEH_MAKE": "UNKNOWN",
         "REPORT_NO": "DA4181002S",
         "SPEED_LIMIT": 15,
         "_deepnote_index_column": 23
        },
        {
         "VEH_YEAR": 2019,
         "VEH_MAKE": "PIRC",
         "REPORT_NO": "MCP30050053",
         "SPEED_LIMIT": 25,
         "_deepnote_index_column": 24
        },
        {
         "VEH_YEAR": 2020,
         "VEH_MAKE": "VOLKSWAGON",
         "REPORT_NO": "AC22870039",
         "SPEED_LIMIT": 35,
         "_deepnote_index_column": 25
        },
        {
         "VEH_YEAR": 2005,
         "VEH_MAKE": "HONDA",
         "REPORT_NO": "MSP5479009F",
         "SPEED_LIMIT": 55,
         "_deepnote_index_column": 26
        },
        {
         "VEH_YEAR": 2002,
         "VEH_MAKE": "TOYOTA",
         "REPORT_NO": "DA4119003Z",
         "SPEED_LIMIT": 35,
         "_deepnote_index_column": 27
        },
        {
         "VEH_YEAR": 2016,
         "VEH_MAKE": "NISSAN",
         "REPORT_NO": "DA36550066",
         "SPEED_LIMIT": 40,
         "_deepnote_index_column": 28
        },
        {
         "VEH_YEAR": 2018,
         "VEH_MAKE": "TOYOTA",
         "REPORT_NO": "MCP2623004B",
         "SPEED_LIMIT": 30,
         "_deepnote_index_column": 29
        },
        {
         "VEH_YEAR": 2004,
         "VEH_MAKE": "YAMAHA",
         "REPORT_NO": "MSP6372006Q",
         "SPEED_LIMIT": 40,
         "_deepnote_index_column": 30
        },
        {
         "VEH_YEAR": 2012,
         "VEH_MAKE": "HYUNDAI",
         "REPORT_NO": "DA3702003G",
         "SPEED_LIMIT": 35,
         "_deepnote_index_column": 31
        },
        {
         "VEH_YEAR": 2016,
         "VEH_MAKE": "CHEVROLET",
         "REPORT_NO": "MSP603300XV",
         "SPEED_LIMIT": 50,
         "_deepnote_index_column": 32
        },
        {
         "VEH_YEAR": 2005,
         "VEH_MAKE": "CHEVY",
         "REPORT_NO": "DA3894002Q",
         "SPEED_LIMIT": 55,
         "_deepnote_index_column": 33
        },
        {
         "VEH_YEAR": 2004,
         "VEH_MAKE": "TOYOTA",
         "REPORT_NO": "ZU82940050",
         "SPEED_LIMIT": 35,
         "_deepnote_index_column": 34
        },
        {
         "VEH_YEAR": 2006,
         "VEH_MAKE": "MERZ",
         "REPORT_NO": "ADK072001Q",
         "SPEED_LIMIT": 0,
         "_deepnote_index_column": 35
        },
        {
         "VEH_YEAR": 2013,
         "VEH_MAKE": "NISSAN",
         "REPORT_NO": "AE6297000X",
         "SPEED_LIMIT": 0,
         "_deepnote_index_column": 36
        },
        {
         "VEH_YEAR": 2011,
         "VEH_MAKE": "HYUNDAI",
         "REPORT_NO": "MCP22860031",
         "SPEED_LIMIT": 30,
         "_deepnote_index_column": 37
        },
        {
         "VEH_YEAR": 2015,
         "VEH_MAKE": "NISSAN",
         "REPORT_NO": "ZH06080022",
         "SPEED_LIMIT": 15,
         "_deepnote_index_column": 38
        },
        {
         "VEH_YEAR": 2013,
         "VEH_MAKE": "CADI",
         "REPORT_NO": "ADJ362004C",
         "SPEED_LIMIT": 25,
         "_deepnote_index_column": 39
        },
        {
         "VEH_YEAR": 2012,
         "VEH_MAKE": "CHEVROLET",
         "REPORT_NO": "DA3020006S",
         "SPEED_LIMIT": 35,
         "_deepnote_index_column": 40
        },
        {
         "VEH_YEAR": 2007,
         "VEH_MAKE": "HONDA",
         "REPORT_NO": "MSP692000FH",
         "SPEED_LIMIT": 55,
         "_deepnote_index_column": 41
        },
        {
         "VEH_YEAR": 2011,
         "VEH_MAKE": "PTRB",
         "REPORT_NO": "MSP692000F4",
         "SPEED_LIMIT": 55,
         "_deepnote_index_column": 42
        },
        {
         "VEH_YEAR": 2008,
         "VEH_MAKE": "HOND",
         "REPORT_NO": "AE442400TW",
         "SPEED_LIMIT": 30,
         "_deepnote_index_column": 43
        },
        {
         "VEH_YEAR": 2016,
         "VEH_MAKE": "ACUR",
         "REPORT_NO": "DA4218000S",
         "SPEED_LIMIT": 35,
         "_deepnote_index_column": 44
        },
        {
         "VEH_YEAR": 2016,
         "VEH_MAKE": "SUBARU",
         "REPORT_NO": "MSP70570022",
         "SPEED_LIMIT": 50,
         "_deepnote_index_column": 45
        },
        {
         "VEH_YEAR": 2014,
         "VEH_MAKE": "DODGE",
         "REPORT_NO": "MCP32710006",
         "SPEED_LIMIT": 50,
         "_deepnote_index_column": 46
        },
        {
         "VEH_YEAR": 2016,
         "VEH_MAKE": "JEEP",
         "REPORT_NO": "AE4573000X",
         "SPEED_LIMIT": 25,
         "_deepnote_index_column": 47
        },
        {
         "VEH_YEAR": 2010,
         "VEH_MAKE": "BUICK",
         "REPORT_NO": "AE5898007S",
         "SPEED_LIMIT": 0,
         "_deepnote_index_column": 48
        },
        {
         "VEH_YEAR": 2012,
         "VEH_MAKE": "CADI",
         "REPORT_NO": "ADJ8630043",
         "SPEED_LIMIT": 35,
         "_deepnote_index_column": 49
        },
        {
         "VEH_YEAR": "nan",
         "VEH_MAKE": "UNKNOWN",
         "REPORT_NO": "DA4131004Q",
         "SPEED_LIMIT": 30,
         "_deepnote_index_column": 50
        },
        {
         "VEH_YEAR": 2014,
         "VEH_MAKE": "ACURA",
         "REPORT_NO": "CB55250019",
         "SPEED_LIMIT": 55,
         "_deepnote_index_column": 51
        },
        {
         "VEH_YEAR": 2018,
         "VEH_MAKE": "NISSAN",
         "REPORT_NO": "MSP650400VV",
         "SPEED_LIMIT": 70,
         "_deepnote_index_column": 52
        },
        {
         "VEH_YEAR": 2003,
         "VEH_MAKE": "BUICK",
         "REPORT_NO": "ADJ993002Y",
         "SPEED_LIMIT": 25,
         "_deepnote_index_column": 53
        },
        {
         "VEH_YEAR": 2003,
         "VEH_MAKE": "TOYOTA",
         "REPORT_NO": "MCP31220033",
         "SPEED_LIMIT": 25,
         "_deepnote_index_column": 54
        },
        {
         "VEH_YEAR": 2004,
         "VEH_MAKE": "CHEVY",
         "REPORT_NO": "ADJ9540024",
         "SPEED_LIMIT": 5,
         "_deepnote_index_column": 55
        },
        {
         "VEH_YEAR": 2012,
         "VEH_MAKE": "FORD",
         "REPORT_NO": "ADJ645001X",
         "SPEED_LIMIT": 35,
         "_deepnote_index_column": 56
        },
        {
         "VEH_YEAR": 2017,
         "VEH_MAKE": "FORD",
         "REPORT_NO": "AE427900PV",
         "SPEED_LIMIT": 30,
         "_deepnote_index_column": 57
        },
        {
         "VEH_YEAR": 2015,
         "VEH_MAKE": "KIA",
         "REPORT_NO": "AE5847004N",
         "SPEED_LIMIT": 25,
         "_deepnote_index_column": 58
        },
        {
         "VEH_YEAR": "nan",
         "VEH_MAKE": "UNKNOWN",
         "REPORT_NO": "AE6069000W",
         "SPEED_LIMIT": 30,
         "_deepnote_index_column": 59
        },
        {
         "VEH_YEAR": 2013,
         "VEH_MAKE": "FORD",
         "REPORT_NO": "AE61080055",
         "SPEED_LIMIT": 45,
         "_deepnote_index_column": 60
        },
        {
         "VEH_YEAR": 1999,
         "VEH_MAKE": "MEDZ",
         "REPORT_NO": "ADH2710018",
         "SPEED_LIMIT": 25,
         "_deepnote_index_column": 61
        },
        {
         "VEH_YEAR": 2014,
         "VEH_MAKE": "CHRYSTLER",
         "REPORT_NO": "ADI194003M",
         "SPEED_LIMIT": 25,
         "_deepnote_index_column": 62
        },
        {
         "VEH_YEAR": 2014,
         "VEH_MAKE": "SUBARU",
         "REPORT_NO": "CB5816002X",
         "SPEED_LIMIT": 35,
         "_deepnote_index_column": 63
        },
        {
         "VEH_YEAR": 2012,
         "VEH_MAKE": "DODG",
         "REPORT_NO": "AE6141004Y",
         "SPEED_LIMIT": 50,
         "_deepnote_index_column": 64
        },
        {
         "VEH_YEAR": 2018,
         "VEH_MAKE": "CHEVROLET",
         "REPORT_NO": "MSP6924008S",
         "SPEED_LIMIT": 55,
         "_deepnote_index_column": 65
        },
        {
         "VEH_YEAR": 2007,
         "VEH_MAKE": "VOLVO",
         "REPORT_NO": "MSP70510012",
         "SPEED_LIMIT": 55,
         "_deepnote_index_column": 66
        },
        {
         "VEH_YEAR": 2014,
         "VEH_MAKE": "HONDA",
         "REPORT_NO": "AE5516008R",
         "SPEED_LIMIT": 30,
         "_deepnote_index_column": 67
        },
        {
         "VEH_YEAR": 2020,
         "VEH_MAKE": "INTL",
         "REPORT_NO": "MDTA1806001S",
         "SPEED_LIMIT": 55,
         "_deepnote_index_column": 68
        },
        {
         "VEH_YEAR": 2012,
         "VEH_MAKE": "MAZDA",
         "REPORT_NO": "ADK3660003",
         "SPEED_LIMIT": 25,
         "_deepnote_index_column": 69
        },
        {
         "VEH_YEAR": "nan",
         "VEH_MAKE": "UNKNOWN",
         "REPORT_NO": "DA4070003G",
         "SPEED_LIMIT": 35,
         "_deepnote_index_column": 70
        },
        {
         "VEH_YEAR": 2019,
         "VEH_MAKE": "NISSAN",
         "REPORT_NO": "AM0353000T",
         "SPEED_LIMIT": 10,
         "_deepnote_index_column": 71
        },
        {
         "VEH_YEAR": 2009,
         "VEH_MAKE": "SATURN",
         "REPORT_NO": "MSP6656006R",
         "SPEED_LIMIT": 50,
         "_deepnote_index_column": 72
        },
        {
         "VEH_YEAR": 2016,
         "VEH_MAKE": "FORD",
         "REPORT_NO": "MCP1554005V",
         "SPEED_LIMIT": 35,
         "_deepnote_index_column": 73
        },
        {
         "VEH_YEAR": 2014,
         "VEH_MAKE": "CHEVY",
         "REPORT_NO": "ZD7098000J",
         "SPEED_LIMIT": 45,
         "_deepnote_index_column": 74
        },
        {
         "VEH_YEAR": 2015,
         "VEH_MAKE": "CHEVROLET",
         "REPORT_NO": "ZR03520027",
         "SPEED_LIMIT": 50,
         "_deepnote_index_column": 75
        },
        {
         "VEH_YEAR": 2003,
         "VEH_MAKE": "HONDA",
         "REPORT_NO": "ADH156001R",
         "SPEED_LIMIT": 25,
         "_deepnote_index_column": 76
        },
        {
         "VEH_YEAR": 2011,
         "VEH_MAKE": "NEW FLYER",
         "REPORT_NO": "DM8374002P",
         "SPEED_LIMIT": 0,
         "_deepnote_index_column": 77
        },
        {
         "VEH_YEAR": 2019,
         "VEH_MAKE": "TOYT",
         "REPORT_NO": "AE581500BQ",
         "SPEED_LIMIT": 0,
         "_deepnote_index_column": 78
        },
        {
         "VEH_YEAR": 2006,
         "VEH_MAKE": "TOYOTA",
         "REPORT_NO": "MSP659500FP",
         "SPEED_LIMIT": 65,
         "_deepnote_index_column": 79
        },
        {
         "VEH_YEAR": 2018,
         "VEH_MAKE": "TOY",
         "REPORT_NO": "ADJ874002P",
         "SPEED_LIMIT": 25,
         "_deepnote_index_column": 80
        },
        {
         "VEH_YEAR": 2008,
         "VEH_MAKE": "TOTOTA",
         "REPORT_NO": "AE408600DH",
         "SPEED_LIMIT": 0,
         "_deepnote_index_column": 81
        },
        {
         "VEH_YEAR": 2011,
         "VEH_MAKE": "HONDA",
         "REPORT_NO": "ADK3420005",
         "SPEED_LIMIT": 35,
         "_deepnote_index_column": 82
        },
        {
         "VEH_YEAR": 2006,
         "VEH_MAKE": "PEIRCE",
         "REPORT_NO": "CB6183000B",
         "SPEED_LIMIT": 45,
         "_deepnote_index_column": 83
        },
        {
         "VEH_YEAR": 2007,
         "VEH_MAKE": "FORD",
         "REPORT_NO": "AE6001001X",
         "SPEED_LIMIT": 25,
         "_deepnote_index_column": 84
        },
        {
         "VEH_YEAR": 2016,
         "VEH_MAKE": "CHEVY",
         "REPORT_NO": "ADK3500006",
         "SPEED_LIMIT": 30,
         "_deepnote_index_column": 85
        },
        {
         "VEH_YEAR": 2014,
         "VEH_MAKE": "NISSAN",
         "REPORT_NO": "DA41310045",
         "SPEED_LIMIT": 40,
         "_deepnote_index_column": 86
        },
        {
         "VEH_YEAR": 2001,
         "VEH_MAKE": "TOYOTA",
         "REPORT_NO": "ADH584009N",
         "SPEED_LIMIT": 30,
         "_deepnote_index_column": 87
        },
        {
         "VEH_YEAR": 2016,
         "VEH_MAKE": "FORD",
         "REPORT_NO": "AC1926007M",
         "SPEED_LIMIT": 30,
         "_deepnote_index_column": 88
        },
        {
         "VEH_YEAR": 2019,
         "VEH_MAKE": "CHEVROLET",
         "REPORT_NO": "MCP2982003J",
         "SPEED_LIMIT": 30,
         "_deepnote_index_column": 89
        },
        {
         "VEH_YEAR": 2020,
         "VEH_MAKE": "TOYT",
         "REPORT_NO": "AE5396002H",
         "SPEED_LIMIT": 35,
         "_deepnote_index_column": 90
        },
        {
         "VEH_YEAR": 2018,
         "VEH_MAKE": "MITSUBISHI",
         "REPORT_NO": "CTX30600DY",
         "SPEED_LIMIT": 40,
         "_deepnote_index_column": 91
        },
        {
         "VEH_YEAR": 1999,
         "VEH_MAKE": "MERZ",
         "REPORT_NO": "AE58140063",
         "SPEED_LIMIT": 35,
         "_deepnote_index_column": 92
        },
        {
         "VEH_YEAR": 2018,
         "VEH_MAKE": "TOYOTA",
         "REPORT_NO": "DA4016003N",
         "SPEED_LIMIT": 40,
         "_deepnote_index_column": 93
        },
        {
         "VEH_YEAR": 2016,
         "VEH_MAKE": "CADILLAC",
         "REPORT_NO": "MSP673200KH",
         "SPEED_LIMIT": 40,
         "_deepnote_index_column": 94
        },
        {
         "VEH_YEAR": 2011,
         "VEH_MAKE": "HYUNDAI",
         "REPORT_NO": "MSP6865006R",
         "SPEED_LIMIT": 65,
         "_deepnote_index_column": 95
        },
        {
         "VEH_YEAR": 2019,
         "VEH_MAKE": "DODGE",
         "REPORT_NO": "ADK4290003",
         "SPEED_LIMIT": 25,
         "_deepnote_index_column": 96
        },
        {
         "VEH_YEAR": 2015,
         "VEH_MAKE": "CHEVY",
         "REPORT_NO": "ADK163000T",
         "SPEED_LIMIT": 25,
         "_deepnote_index_column": 97
        },
        {
         "VEH_YEAR": 2004,
         "VEH_MAKE": "DODGE",
         "REPORT_NO": "BX5308001H",
         "SPEED_LIMIT": 30,
         "_deepnote_index_column": 98
        },
        {
         "VEH_YEAR": "nan",
         "VEH_MAKE": "UNKNOWN",
         "REPORT_NO": "ZJ05740006",
         "SPEED_LIMIT": 0,
         "_deepnote_index_column": 99
        },
        {
         "VEH_YEAR": 2013,
         "VEH_MAKE": "DODGE",
         "REPORT_NO": "ZU78480069",
         "SPEED_LIMIT": 45,
         "_deepnote_index_column": 100
        },
        {
         "VEH_YEAR": 2006,
         "VEH_MAKE": "NISSAN",
         "REPORT_NO": "MSP7050007H",
         "SPEED_LIMIT": 65,
         "_deepnote_index_column": 101
        },
        {
         "VEH_YEAR": 2013,
         "VEH_MAKE": "TOYT",
         "REPORT_NO": "MCP29770077",
         "SPEED_LIMIT": 0,
         "_deepnote_index_column": 102
        },
        {
         "VEH_YEAR": 2013,
         "VEH_MAKE": "FORD",
         "REPORT_NO": "MDTA18540008",
         "SPEED_LIMIT": 55,
         "_deepnote_index_column": 103
        },
        {
         "VEH_YEAR": 2008,
         "VEH_MAKE": "CHEVROLET",
         "REPORT_NO": "MSP683600J8",
         "SPEED_LIMIT": 65,
         "_deepnote_index_column": 104
        },
        {
         "VEH_YEAR": "nan",
         "VEH_MAKE": "UNKNOWN",
         "REPORT_NO": "AE6081004D",
         "SPEED_LIMIT": 25,
         "_deepnote_index_column": 105
        },
        {
         "VEH_YEAR": 2010,
         "VEH_MAKE": "ACURA",
         "REPORT_NO": "ADJ774003J",
         "SPEED_LIMIT": 25,
         "_deepnote_index_column": 106
        },
        {
         "VEH_YEAR": 2015,
         "VEH_MAKE": "CHEVY",
         "REPORT_NO": "ADG445009Q",
         "SPEED_LIMIT": 30,
         "_deepnote_index_column": 107
        },
        {
         "VEH_YEAR": 2017,
         "VEH_MAKE": "NISSAN",
         "REPORT_NO": "ADK3780003",
         "SPEED_LIMIT": 30,
         "_deepnote_index_column": 108
        },
        {
         "VEH_YEAR": 1984,
         "VEH_MAKE": "FORD",
         "REPORT_NO": "ZH0477004D",
         "SPEED_LIMIT": 45,
         "_deepnote_index_column": 109
        },
        {
         "VEH_YEAR": 2013,
         "VEH_MAKE": "HONDA",
         "REPORT_NO": "MSP62660158",
         "SPEED_LIMIT": 55,
         "_deepnote_index_column": 110
        },
        {
         "VEH_YEAR": 2010,
         "VEH_MAKE": "CHEVROLET",
         "REPORT_NO": "DA4224000P",
         "SPEED_LIMIT": 25,
         "_deepnote_index_column": 111
        },
        {
         "VEH_YEAR": 2016,
         "VEH_MAKE": "FORD",
         "REPORT_NO": "BW01850001",
         "SPEED_LIMIT": 10,
         "_deepnote_index_column": 112
        },
        {
         "VEH_YEAR": 2015,
         "VEH_MAKE": "NISSAN",
         "REPORT_NO": "AE5911002W",
         "SPEED_LIMIT": 25,
         "_deepnote_index_column": 113
        },
        {
         "VEH_YEAR": "nan",
         "VEH_MAKE": "UNKNOWN",
         "REPORT_NO": "ADH909004X",
         "SPEED_LIMIT": 25,
         "_deepnote_index_column": 114
        },
        {
         "VEH_YEAR": 2016,
         "VEH_MAKE": "PENSKE",
         "REPORT_NO": "AC2374000N",
         "SPEED_LIMIT": 30,
         "_deepnote_index_column": 115
        },
        {
         "VEH_YEAR": 2008,
         "VEH_MAKE": "GMC",
         "REPORT_NO": "AK0066002V",
         "SPEED_LIMIT": 55,
         "_deepnote_index_column": 116
        },
        {
         "VEH_YEAR": 2011,
         "VEH_MAKE": "HONDA",
         "REPORT_NO": "MSP71290039",
         "SPEED_LIMIT": 65,
         "_deepnote_index_column": 117
        },
        {
         "VEH_YEAR": 2017,
         "VEH_MAKE": "HONDA",
         "REPORT_NO": "DA3868003V",
         "SPEED_LIMIT": 15,
         "_deepnote_index_column": 118
        },
        {
         "VEH_YEAR": 2006,
         "VEH_MAKE": "CHEVROLET",
         "REPORT_NO": "DA3594001H",
         "SPEED_LIMIT": 45,
         "_deepnote_index_column": 119
        },
        {
         "VEH_YEAR": 2015,
         "VEH_MAKE": "HONDA",
         "REPORT_NO": "ADK275000Q",
         "SPEED_LIMIT": 10,
         "_deepnote_index_column": 120
        },
        {
         "VEH_YEAR": 2019,
         "VEH_MAKE": "HONDA",
         "REPORT_NO": "AE520700K4",
         "SPEED_LIMIT": 30,
         "_deepnote_index_column": 121
        },
        {
         "VEH_YEAR": 1996,
         "VEH_MAKE": "PETERBILT",
         "REPORT_NO": "MSP669800DP",
         "SPEED_LIMIT": 50,
         "_deepnote_index_column": 122
        },
        {
         "VEH_YEAR": 1999,
         "VEH_MAKE": "HONDA",
         "REPORT_NO": "RD01210016",
         "SPEED_LIMIT": 35,
         "_deepnote_index_column": 123
        },
        {
         "VEH_YEAR": 2018,
         "VEH_MAKE": "DODGE",
         "REPORT_NO": "DA34190040",
         "SPEED_LIMIT": 45,
         "_deepnote_index_column": 124
        }
       ],
       "rows_bottom": [
        {
         "VEH_YEAR": "nan",
         "VEH_MAKE": "UNKNOWN",
         "REPORT_NO": "ZH0410001L",
         "SPEED_LIMIT": 35,
         "_deepnote_index_column": 1242278
        },
        {
         "VEH_YEAR": 2008,
         "VEH_MAKE": "CHEVY",
         "REPORT_NO": "DA41040064",
         "SPEED_LIMIT": 0,
         "_deepnote_index_column": 1242279
        },
        {
         "VEH_YEAR": 2011,
         "VEH_MAKE": "NISSAN",
         "REPORT_NO": "BX51430035",
         "SPEED_LIMIT": 25,
         "_deepnote_index_column": 1242280
        },
        {
         "VEH_YEAR": 2007,
         "VEH_MAKE": "VOLVO",
         "REPORT_NO": "DA3419004G",
         "SPEED_LIMIT": 40,
         "_deepnote_index_column": 1242281
        },
        {
         "VEH_YEAR": 2019,
         "VEH_MAKE": "SUBARU",
         "REPORT_NO": "MCP3048006L",
         "SPEED_LIMIT": 25,
         "_deepnote_index_column": 1242282
        },
        {
         "VEH_YEAR": 2008,
         "VEH_MAKE": "STERLING",
         "REPORT_NO": "DD5615009H",
         "SPEED_LIMIT": 35,
         "_deepnote_index_column": 1242283
        },
        {
         "VEH_YEAR": 2011,
         "VEH_MAKE": "BMW",
         "REPORT_NO": "MSP663100GK",
         "SPEED_LIMIT": 55,
         "_deepnote_index_column": 1242284
        },
        {
         "VEH_YEAR": 2013,
         "VEH_MAKE": "LEXUS",
         "REPORT_NO": "ADI746003G",
         "SPEED_LIMIT": 35,
         "_deepnote_index_column": 1242285
        },
        {
         "VEH_YEAR": 2006,
         "VEH_MAKE": "HONDA",
         "REPORT_NO": "DA4170004P",
         "SPEED_LIMIT": 25,
         "_deepnote_index_column": 1242286
        },
        {
         "VEH_YEAR": 2014,
         "VEH_MAKE": "FORD",
         "REPORT_NO": "DA3878005Q",
         "SPEED_LIMIT": 40,
         "_deepnote_index_column": 1242287
        },
        {
         "VEH_YEAR": 2015,
         "VEH_MAKE": "HONDA",
         "REPORT_NO": "ADK5170002",
         "SPEED_LIMIT": 35,
         "_deepnote_index_column": 1242288
        },
        {
         "VEH_YEAR": 2002,
         "VEH_MAKE": "MITSUBISHI",
         "REPORT_NO": "DE6106009J",
         "SPEED_LIMIT": 35,
         "_deepnote_index_column": 1242289
        },
        {
         "VEH_YEAR": 2013,
         "VEH_MAKE": "NISSAN",
         "REPORT_NO": "MSP659500H9",
         "SPEED_LIMIT": 45,
         "_deepnote_index_column": 1242290
        },
        {
         "VEH_YEAR": 2014,
         "VEH_MAKE": "CHEVROLET",
         "REPORT_NO": "MCP15640051",
         "SPEED_LIMIT": 30,
         "_deepnote_index_column": 1242291
        },
        {
         "VEH_YEAR": 1988,
         "VEH_MAKE": "CHEV",
         "REPORT_NO": "MSP7123001V",
         "SPEED_LIMIT": 55,
         "_deepnote_index_column": 1242292
        },
        {
         "VEH_YEAR": 2007,
         "VEH_MAKE": "ACURA",
         "REPORT_NO": "ADK167001N",
         "SPEED_LIMIT": 0,
         "_deepnote_index_column": 1242293
        },
        {
         "VEH_YEAR": 2016,
         "VEH_MAKE": "NISSAN",
         "REPORT_NO": "ADI765005R",
         "SPEED_LIMIT": 30,
         "_deepnote_index_column": 1242294
        },
        {
         "VEH_YEAR": 2007,
         "VEH_MAKE": "NISSAN",
         "REPORT_NO": "MSP663100H7",
         "SPEED_LIMIT": 55,
         "_deepnote_index_column": 1242295
        },
        {
         "VEH_YEAR": 2013,
         "VEH_MAKE": "BUICK",
         "REPORT_NO": "BW0108000K",
         "SPEED_LIMIT": 40,
         "_deepnote_index_column": 1242296
        },
        {
         "VEH_YEAR": 2012,
         "VEH_MAKE": "NISSAN",
         "REPORT_NO": "DA39530042",
         "SPEED_LIMIT": 35,
         "_deepnote_index_column": 1242297
        },
        {
         "VEH_YEAR": 2015,
         "VEH_MAKE": "CHEVY",
         "REPORT_NO": "CB5560000K",
         "SPEED_LIMIT": 45,
         "_deepnote_index_column": 1242298
        },
        {
         "VEH_YEAR": "nan",
         "VEH_MAKE": "UNKNOWN",
         "REPORT_NO": "ZH0389003J",
         "SPEED_LIMIT": 45,
         "_deepnote_index_column": 1242299
        },
        {
         "VEH_YEAR": 2019,
         "VEH_MAKE": "HYUNDAI",
         "REPORT_NO": "MSP21730016",
         "SPEED_LIMIT": 55,
         "_deepnote_index_column": 1242300
        },
        {
         "VEH_YEAR": 2012,
         "VEH_MAKE": "ACURA",
         "REPORT_NO": "MSP62660194",
         "SPEED_LIMIT": 60,
         "_deepnote_index_column": 1242301
        },
        {
         "VEH_YEAR": 2000,
         "VEH_MAKE": "HONDA",
         "REPORT_NO": "ZI01680001",
         "SPEED_LIMIT": 25,
         "_deepnote_index_column": 1242302
        },
        {
         "VEH_YEAR": 2012,
         "VEH_MAKE": "MERCEDES",
         "REPORT_NO": "MSP616500W0",
         "SPEED_LIMIT": 50,
         "_deepnote_index_column": 1242303
        },
        {
         "VEH_YEAR": 2009,
         "VEH_MAKE": "TOYOTA",
         "REPORT_NO": "MSP607900K7",
         "SPEED_LIMIT": 65,
         "_deepnote_index_column": 1242304
        },
        {
         "VEH_YEAR": 2009,
         "VEH_MAKE": "HONDA",
         "REPORT_NO": "MSP7011001C",
         "SPEED_LIMIT": 65,
         "_deepnote_index_column": 1242305
        },
        {
         "VEH_YEAR": 2014,
         "VEH_MAKE": "JEEP",
         "REPORT_NO": "AE397800DS",
         "SPEED_LIMIT": 40,
         "_deepnote_index_column": 1242306
        },
        {
         "VEH_YEAR": 2013,
         "VEH_MAKE": "BMW",
         "REPORT_NO": "DA4081005W",
         "SPEED_LIMIT": 25,
         "_deepnote_index_column": 1242307
        },
        {
         "VEH_YEAR": "nan",
         "VEH_MAKE": "UNKNOWN",
         "REPORT_NO": "ZH0463000P",
         "SPEED_LIMIT": 40,
         "_deepnote_index_column": 1242308
        },
        {
         "VEH_YEAR": 2012,
         "VEH_MAKE": "GMC",
         "REPORT_NO": "MCP31910020",
         "SPEED_LIMIT": 35,
         "_deepnote_index_column": 1242309
        },
        {
         "VEH_YEAR": 2007,
         "VEH_MAKE": "JEEP",
         "REPORT_NO": "AC2310001B",
         "SPEED_LIMIT": 45,
         "_deepnote_index_column": 1242310
        },
        {
         "VEH_YEAR": 2011,
         "VEH_MAKE": "FORD",
         "REPORT_NO": "MCP24110063",
         "SPEED_LIMIT": 30,
         "_deepnote_index_column": 1242311
        },
        {
         "VEH_YEAR": 1994,
         "VEH_MAKE": "TOYOTA",
         "REPORT_NO": "AE5945005F",
         "SPEED_LIMIT": 25,
         "_deepnote_index_column": 1242312
        },
        {
         "VEH_YEAR": 2007,
         "VEH_MAKE": "BMW",
         "REPORT_NO": "DA4103003N",
         "SPEED_LIMIT": 35,
         "_deepnote_index_column": 1242313
        },
        {
         "VEH_YEAR": 2004,
         "VEH_MAKE": "MERC",
         "REPORT_NO": "ADK5070003",
         "SPEED_LIMIT": 25,
         "_deepnote_index_column": 1242314
        },
        {
         "VEH_YEAR": 2009,
         "VEH_MAKE": "PIERCE",
         "REPORT_NO": "DE7191004G",
         "SPEED_LIMIT": 0,
         "_deepnote_index_column": 1242315
        },
        {
         "VEH_YEAR": 2017,
         "VEH_MAKE": "GMC",
         "REPORT_NO": "CE4115002D",
         "SPEED_LIMIT": 35,
         "_deepnote_index_column": 1242316
        },
        {
         "VEH_YEAR": 2002,
         "VEH_MAKE": "TOYT",
         "REPORT_NO": "AC1899005Q",
         "SPEED_LIMIT": 30,
         "_deepnote_index_column": 1242317
        },
        {
         "VEH_YEAR": 2005,
         "VEH_MAKE": "FORD",
         "REPORT_NO": "ZVW219004X",
         "SPEED_LIMIT": 50,
         "_deepnote_index_column": 1242318
        },
        {
         "VEH_YEAR": 2007,
         "VEH_MAKE": "TOYOTA",
         "REPORT_NO": "MSP7044003K",
         "SPEED_LIMIT": 45,
         "_deepnote_index_column": 1242319
        },
        {
         "VEH_YEAR": "nan",
         "VEH_MAKE": "UNKNOWN",
         "REPORT_NO": "DA4051007V",
         "SPEED_LIMIT": 30,
         "_deepnote_index_column": 1242320
        },
        {
         "VEH_YEAR": 2016,
         "VEH_MAKE": "FORD",
         "REPORT_NO": "AE6302002J",
         "SPEED_LIMIT": 25,
         "_deepnote_index_column": 1242321
        },
        {
         "VEH_YEAR": 2010,
         "VEH_MAKE": "FORD",
         "REPORT_NO": "MDTA152300B6",
         "SPEED_LIMIT": 55,
         "_deepnote_index_column": 1242322
        },
        {
         "VEH_YEAR": 2003,
         "VEH_MAKE": "MINI",
         "REPORT_NO": "MSP72190052",
         "SPEED_LIMIT": 55,
         "_deepnote_index_column": 1242323
        },
        {
         "VEH_YEAR": 2020,
         "VEH_MAKE": "HONDA",
         "REPORT_NO": "MCP243600BT",
         "SPEED_LIMIT": 35,
         "_deepnote_index_column": 1242324
        },
        {
         "VEH_YEAR": 2018,
         "VEH_MAKE": "HONDA",
         "REPORT_NO": "ADK2810018",
         "SPEED_LIMIT": 30,
         "_deepnote_index_column": 1242325
        },
        {
         "VEH_YEAR": 2000,
         "VEH_MAKE": "HONDA",
         "REPORT_NO": "DA3700001X",
         "SPEED_LIMIT": 25,
         "_deepnote_index_column": 1242326
        },
        {
         "VEH_YEAR": 2014,
         "VEH_MAKE": "CHEVROLET",
         "REPORT_NO": "MSP622800Q7",
         "SPEED_LIMIT": 10,
         "_deepnote_index_column": 1242327
        },
        {
         "VEH_YEAR": 2020,
         "VEH_MAKE": "NISSAN",
         "REPORT_NO": "CB5612006B",
         "SPEED_LIMIT": 50,
         "_deepnote_index_column": 1242328
        },
        {
         "VEH_YEAR": 2010,
         "VEH_MAKE": "LEXS",
         "REPORT_NO": "BW0132002Q",
         "SPEED_LIMIT": 55,
         "_deepnote_index_column": 1242329
        },
        {
         "VEH_YEAR": 2007,
         "VEH_MAKE": "AUDI",
         "REPORT_NO": "MSP7011001K",
         "SPEED_LIMIT": 55,
         "_deepnote_index_column": 1242330
        },
        {
         "VEH_YEAR": 2010,
         "VEH_MAKE": "CHVEROLET",
         "REPORT_NO": "MSP71230026",
         "SPEED_LIMIT": 0,
         "_deepnote_index_column": 1242331
        },
        {
         "VEH_YEAR": 1995,
         "VEH_MAKE": "BUICK",
         "REPORT_NO": "MCP2040001V",
         "SPEED_LIMIT": 50,
         "_deepnote_index_column": 1242332
        },
        {
         "VEH_YEAR": 2020,
         "VEH_MAKE": "FORD",
         "REPORT_NO": "ZR0337004V",
         "SPEED_LIMIT": 10,
         "_deepnote_index_column": 1242333
        },
        {
         "VEH_YEAR": 2007,
         "VEH_MAKE": "MAZDA",
         "REPORT_NO": "DE11940028",
         "SPEED_LIMIT": 35,
         "_deepnote_index_column": 1242334
        },
        {
         "VEH_YEAR": 2020,
         "VEH_MAKE": "FORD",
         "REPORT_NO": "CB4880000W",
         "SPEED_LIMIT": 45,
         "_deepnote_index_column": 1242335
        },
        {
         "VEH_YEAR": 2009,
         "VEH_MAKE": "NISSAN",
         "REPORT_NO": "ADK4720001",
         "SPEED_LIMIT": 25,
         "_deepnote_index_column": 1242336
        },
        {
         "VEH_YEAR": 2003,
         "VEH_MAKE": "JEEP",
         "REPORT_NO": "AE5621005D",
         "SPEED_LIMIT": 35,
         "_deepnote_index_column": 1242337
        },
        {
         "VEH_YEAR": 2018,
         "VEH_MAKE": "HONDA",
         "REPORT_NO": "DA402200D3",
         "SPEED_LIMIT": 25,
         "_deepnote_index_column": 1242338
        },
        {
         "VEH_YEAR": 2018,
         "VEH_MAKE": "FORD",
         "REPORT_NO": "BS04310004",
         "SPEED_LIMIT": 25,
         "_deepnote_index_column": 1242339
        },
        {
         "VEH_YEAR": 2020,
         "VEH_MAKE": "MAZDA",
         "REPORT_NO": "ADJ419004R",
         "SPEED_LIMIT": 55,
         "_deepnote_index_column": 1242340
        },
        {
         "VEH_YEAR": 2016,
         "VEH_MAKE": "MAZDA",
         "REPORT_NO": "ADI082000F",
         "SPEED_LIMIT": 25,
         "_deepnote_index_column": 1242341
        },
        {
         "VEH_YEAR": 2009,
         "VEH_MAKE": "HONDA",
         "REPORT_NO": "DA40250044",
         "SPEED_LIMIT": 25,
         "_deepnote_index_column": 1242342
        },
        {
         "VEH_YEAR": 2016,
         "VEH_MAKE": "CHEVY",
         "REPORT_NO": "ZD32740028",
         "SPEED_LIMIT": 15,
         "_deepnote_index_column": 1242343
        },
        {
         "VEH_YEAR": 2016,
         "VEH_MAKE": "DODGE",
         "REPORT_NO": "MSP7118005C",
         "SPEED_LIMIT": 45,
         "_deepnote_index_column": 1242344
        },
        {
         "VEH_YEAR": 1998,
         "VEH_MAKE": "DODGE",
         "REPORT_NO": "AC1283007V",
         "SPEED_LIMIT": 35,
         "_deepnote_index_column": 1242345
        },
        {
         "VEH_YEAR": 2013,
         "VEH_MAKE": "ACUR",
         "REPORT_NO": "MSP609200YR",
         "SPEED_LIMIT": 55,
         "_deepnote_index_column": 1242346
        },
        {
         "VEH_YEAR": 2011,
         "VEH_MAKE": "GREAT DANE",
         "REPORT_NO": "CB47180019",
         "SPEED_LIMIT": 0,
         "_deepnote_index_column": 1242347
        },
        {
         "VEH_YEAR": 2010,
         "VEH_MAKE": "HONDA",
         "REPORT_NO": "CC02190067",
         "SPEED_LIMIT": 35,
         "_deepnote_index_column": 1242348
        },
        {
         "VEH_YEAR": 2013,
         "VEH_MAKE": "HONDA",
         "REPORT_NO": "BD0207001D",
         "SPEED_LIMIT": 25,
         "_deepnote_index_column": 1242349
        },
        {
         "VEH_YEAR": 2020,
         "VEH_MAKE": "CHEVOLET",
         "REPORT_NO": "MCP3250000F",
         "SPEED_LIMIT": 35,
         "_deepnote_index_column": 1242350
        },
        {
         "VEH_YEAR": 2010,
         "VEH_MAKE": "CHRY",
         "REPORT_NO": "MSP6827004F",
         "SPEED_LIMIT": 50,
         "_deepnote_index_column": 1242351
        },
        {
         "VEH_YEAR": 2008,
         "VEH_MAKE": "CHEVROLET",
         "REPORT_NO": "ZJ05320034",
         "SPEED_LIMIT": 40,
         "_deepnote_index_column": 1242352
        },
        {
         "VEH_YEAR": 2019,
         "VEH_MAKE": "FORD",
         "REPORT_NO": "ZJ0509002D",
         "SPEED_LIMIT": 35,
         "_deepnote_index_column": 1242353
        },
        {
         "VEH_YEAR": 2008,
         "VEH_MAKE": "HYUNDAI",
         "REPORT_NO": "AE5675008V",
         "SPEED_LIMIT": 30,
         "_deepnote_index_column": 1242354
        },
        {
         "VEH_YEAR": 2019,
         "VEH_MAKE": "FRHT",
         "REPORT_NO": "MSP72870007",
         "SPEED_LIMIT": 25,
         "_deepnote_index_column": 1242355
        },
        {
         "VEH_YEAR": 2000,
         "VEH_MAKE": "FORD",
         "REPORT_NO": "AC2286002G",
         "SPEED_LIMIT": 40,
         "_deepnote_index_column": 1242356
        },
        {
         "VEH_YEAR": 2019,
         "VEH_MAKE": "DODGE",
         "REPORT_NO": "MCP3270000P",
         "SPEED_LIMIT": 0,
         "_deepnote_index_column": 1242357
        },
        {
         "VEH_YEAR": 2006,
         "VEH_MAKE": "HYUNDAI",
         "REPORT_NO": "ZA0542001D",
         "SPEED_LIMIT": 40,
         "_deepnote_index_column": 1242358
        },
        {
         "VEH_YEAR": 2001,
         "VEH_MAKE": "DODG",
         "REPORT_NO": "MSP672600BP",
         "SPEED_LIMIT": 65,
         "_deepnote_index_column": 1242359
        },
        {
         "VEH_YEAR": "nan",
         "VEH_MAKE": "UNKNOWN",
         "REPORT_NO": "AE6324000N",
         "SPEED_LIMIT": 25,
         "_deepnote_index_column": 1242360
        },
        {
         "VEH_YEAR": 2018,
         "VEH_MAKE": "TOYOTA",
         "REPORT_NO": "DA39860042",
         "SPEED_LIMIT": 0,
         "_deepnote_index_column": 1242361
        },
        {
         "VEH_YEAR": 2009,
         "VEH_MAKE": "MITSUBISHI",
         "REPORT_NO": "DA3866004X",
         "SPEED_LIMIT": 30,
         "_deepnote_index_column": 1242362
        },
        {
         "VEH_YEAR": 2020,
         "VEH_MAKE": "POSTAL",
         "REPORT_NO": "AE6269001M",
         "SPEED_LIMIT": 0,
         "_deepnote_index_column": 1242363
        },
        {
         "VEH_YEAR": 2021,
         "VEH_MAKE": "CHEVROLET",
         "REPORT_NO": "CB5559000D",
         "SPEED_LIMIT": 30,
         "_deepnote_index_column": 1242364
        },
        {
         "VEH_YEAR": 1994,
         "VEH_MAKE": "TOYOTA",
         "REPORT_NO": "DA2814002Z",
         "SPEED_LIMIT": 35,
         "_deepnote_index_column": 1242365
        },
        {
         "VEH_YEAR": "nan",
         "VEH_MAKE": "UNKNOWN",
         "REPORT_NO": "MSP7101003R",
         "SPEED_LIMIT": 55,
         "_deepnote_index_column": 1242366
        },
        {
         "VEH_YEAR": 2013,
         "VEH_MAKE": "HYUN",
         "REPORT_NO": "CR0004001H",
         "SPEED_LIMIT": 45,
         "_deepnote_index_column": 1242367
        },
        {
         "VEH_YEAR": 2020,
         "VEH_MAKE": "RAM",
         "REPORT_NO": "AB6140001W",
         "SPEED_LIMIT": 15,
         "_deepnote_index_column": 1242368
        },
        {
         "VEH_YEAR": 2018,
         "VEH_MAKE": "DODGE",
         "REPORT_NO": "ADJ662006B",
         "SPEED_LIMIT": 30,
         "_deepnote_index_column": 1242369
        },
        {
         "VEH_YEAR": 2017,
         "VEH_MAKE": "CADILLAC",
         "REPORT_NO": "MCP3256000L",
         "SPEED_LIMIT": 40,
         "_deepnote_index_column": 1242370
        },
        {
         "VEH_YEAR": 2007,
         "VEH_MAKE": "HONDA",
         "REPORT_NO": "ADK1940005",
         "SPEED_LIMIT": 30,
         "_deepnote_index_column": 1242371
        },
        {
         "VEH_YEAR": 2017,
         "VEH_MAKE": "HONDA",
         "REPORT_NO": "ADK108001G",
         "SPEED_LIMIT": 40,
         "_deepnote_index_column": 1242372
        },
        {
         "VEH_YEAR": 2008,
         "VEH_MAKE": "NISSAN",
         "REPORT_NO": "ZH0408000F",
         "SPEED_LIMIT": 50,
         "_deepnote_index_column": 1242373
        },
        {
         "VEH_YEAR": "nan",
         "VEH_MAKE": "UNKNOWN",
         "REPORT_NO": "AE59780034",
         "SPEED_LIMIT": 20,
         "_deepnote_index_column": 1242374
        },
        {
         "VEH_YEAR": 2010,
         "VEH_MAKE": "INTERNATIONAL",
         "REPORT_NO": "ZF05700017",
         "SPEED_LIMIT": 40,
         "_deepnote_index_column": 1242375
        },
        {
         "VEH_YEAR": 2011,
         "VEH_MAKE": "TOYOTA",
         "REPORT_NO": "MSP675500PL",
         "SPEED_LIMIT": 55,
         "_deepnote_index_column": 1242376
        },
        {
         "VEH_YEAR": 2020,
         "VEH_MAKE": "MITUBSHI",
         "REPORT_NO": "ADK315001P",
         "SPEED_LIMIT": 25,
         "_deepnote_index_column": 1242377
        },
        {
         "VEH_YEAR": 2010,
         "VEH_MAKE": "FORD",
         "REPORT_NO": "MSP637400L7",
         "SPEED_LIMIT": 55,
         "_deepnote_index_column": 1242378
        },
        {
         "VEH_YEAR": 2019,
         "VEH_MAKE": "NISSAN",
         "REPORT_NO": "ADK189000X",
         "SPEED_LIMIT": 10,
         "_deepnote_index_column": 1242379
        },
        {
         "VEH_YEAR": 2009,
         "VEH_MAKE": "MERCEDES",
         "REPORT_NO": "ADK243001Q",
         "SPEED_LIMIT": 25,
         "_deepnote_index_column": 1242380
        },
        {
         "VEH_YEAR": 2010,
         "VEH_MAKE": "NISSAN",
         "REPORT_NO": "EJ78770011",
         "SPEED_LIMIT": 30,
         "_deepnote_index_column": 1242381
        },
        {
         "VEH_YEAR": 2018,
         "VEH_MAKE": "TOYOTA",
         "REPORT_NO": "DA38030089",
         "SPEED_LIMIT": 45,
         "_deepnote_index_column": 1242382
        },
        {
         "VEH_YEAR": 2019,
         "VEH_MAKE": "NISSAN",
         "REPORT_NO": "ADK214003L",
         "SPEED_LIMIT": 55,
         "_deepnote_index_column": 1242383
        },
        {
         "VEH_YEAR": 2014,
         "VEH_MAKE": "FORD",
         "REPORT_NO": "AE478700GZ",
         "SPEED_LIMIT": 10,
         "_deepnote_index_column": 1242384
        },
        {
         "VEH_YEAR": 2010,
         "VEH_MAKE": "HONDA",
         "REPORT_NO": "ADJ749004P",
         "SPEED_LIMIT": 25,
         "_deepnote_index_column": 1242385
        },
        {
         "VEH_YEAR": 2005,
         "VEH_MAKE": "FORD",
         "REPORT_NO": "AE5974002X",
         "SPEED_LIMIT": 45,
         "_deepnote_index_column": 1242386
        },
        {
         "VEH_YEAR": 2015,
         "VEH_MAKE": "HYUNDAI",
         "REPORT_NO": "AE5936002S",
         "SPEED_LIMIT": 20,
         "_deepnote_index_column": 1242387
        },
        {
         "VEH_YEAR": 2000,
         "VEH_MAKE": "JEEP",
         "REPORT_NO": "MSP646500PT",
         "SPEED_LIMIT": 50,
         "_deepnote_index_column": 1242388
        },
        {
         "VEH_YEAR": "nan",
         "VEH_MAKE": "UNKNOWN",
         "REPORT_NO": "ADJ684003B",
         "SPEED_LIMIT": 25,
         "_deepnote_index_column": 1242389
        },
        {
         "VEH_YEAR": "nan",
         "VEH_MAKE": "UNKNOWN",
         "REPORT_NO": "AB6303001T",
         "SPEED_LIMIT": 25,
         "_deepnote_index_column": 1242390
        },
        {
         "VEH_YEAR": 2014,
         "VEH_MAKE": "HONDA",
         "REPORT_NO": "ADH816004V",
         "SPEED_LIMIT": 45,
         "_deepnote_index_column": 1242391
        },
        {
         "VEH_YEAR": 2014,
         "VEH_MAKE": "TOYOTA",
         "REPORT_NO": "ADJ778001X",
         "SPEED_LIMIT": 30,
         "_deepnote_index_column": 1242392
        },
        {
         "VEH_YEAR": 2004,
         "VEH_MAKE": "TOYT",
         "REPORT_NO": "ZF04800024",
         "SPEED_LIMIT": 40,
         "_deepnote_index_column": 1242393
        },
        {
         "VEH_YEAR": 2010,
         "VEH_MAKE": "FORD",
         "REPORT_NO": "ZR0242002R",
         "SPEED_LIMIT": 50,
         "_deepnote_index_column": 1242394
        },
        {
         "VEH_YEAR": 2015,
         "VEH_MAKE": "TOYOTA",
         "REPORT_NO": "MSP71920052",
         "SPEED_LIMIT": 55,
         "_deepnote_index_column": 1242395
        },
        {
         "VEH_YEAR": 2021,
         "VEH_MAKE": "UNKNOWN",
         "REPORT_NO": "AE6367000Z",
         "SPEED_LIMIT": 30,
         "_deepnote_index_column": 1242396
        },
        {
         "VEH_YEAR": 2006,
         "VEH_MAKE": "HONDA",
         "REPORT_NO": "AE5599006R",
         "SPEED_LIMIT": 45,
         "_deepnote_index_column": 1242397
        },
        {
         "VEH_YEAR": 2014,
         "VEH_MAKE": "TOYOTA",
         "REPORT_NO": "AE60050039",
         "SPEED_LIMIT": 0,
         "_deepnote_index_column": 1242398
        },
        {
         "VEH_YEAR": 2016,
         "VEH_MAKE": "BUICK",
         "REPORT_NO": "DE3177005T",
         "SPEED_LIMIT": 0,
         "_deepnote_index_column": 1242399
        },
        {
         "VEH_YEAR": 2011,
         "VEH_MAKE": "HONDA",
         "REPORT_NO": "ADK421000M",
         "SPEED_LIMIT": 30,
         "_deepnote_index_column": 1242400
        },
        {
         "VEH_YEAR": 2019,
         "VEH_MAKE": "FORD",
         "REPORT_NO": "AC2292002X",
         "SPEED_LIMIT": 35,
         "_deepnote_index_column": 1242401
        },
        {
         "VEH_YEAR": 2017,
         "VEH_MAKE": "HYUNDAI",
         "REPORT_NO": "DA4174003T",
         "SPEED_LIMIT": 15,
         "_deepnote_index_column": 1242402
        }
       ]
      },
      "text/plain": "         VEH_YEAR   VEH_MAKE     REPORT_NO  SPEED_LIMIT\n0             NaN    UNKNOWN    AE5057004X           25\n1          2018.0     TOYOTA   MSP7221001P           55\n2          2019.0  CHEVROLET    DA37010040           30\n3             NaN    UNKNOWN  MDTA1791002C           35\n4          2002.0      HONDA    AE456100BL           35\n...           ...        ...           ...          ...\n1242398    2014.0     TOYOTA    AE60050039            0\n1242399    2016.0      BUICK    DE3177005T            0\n1242400    2011.0      HONDA    ADK421000M           30\n1242401    2019.0       FORD    AC2292002X           35\n1242402    2017.0    HYUNDAI    DA4174003T           15\n\n[172570 rows x 4 columns]",
      "text/html": "<div>\n<style scoped>\n    .dataframe tbody tr th:only-of-type {\n        vertical-align: middle;\n    }\n\n    .dataframe tbody tr th {\n        vertical-align: top;\n    }\n\n    .dataframe thead th {\n        text-align: right;\n    }\n</style>\n<table border=\"1\" class=\"dataframe\">\n  <thead>\n    <tr style=\"text-align: right;\">\n      <th></th>\n      <th>VEH_YEAR</th>\n      <th>VEH_MAKE</th>\n      <th>REPORT_NO</th>\n      <th>SPEED_LIMIT</th>\n    </tr>\n  </thead>\n  <tbody>\n    <tr>\n      <th>0</th>\n      <td>NaN</td>\n      <td>UNKNOWN</td>\n      <td>AE5057004X</td>\n      <td>25</td>\n    </tr>\n    <tr>\n      <th>1</th>\n      <td>2018.0</td>\n      <td>TOYOTA</td>\n      <td>MSP7221001P</td>\n      <td>55</td>\n    </tr>\n    <tr>\n      <th>2</th>\n      <td>2019.0</td>\n      <td>CHEVROLET</td>\n      <td>DA37010040</td>\n      <td>30</td>\n    </tr>\n    <tr>\n      <th>3</th>\n      <td>NaN</td>\n      <td>UNKNOWN</td>\n      <td>MDTA1791002C</td>\n      <td>35</td>\n    </tr>\n    <tr>\n      <th>4</th>\n      <td>2002.0</td>\n      <td>HONDA</td>\n      <td>AE456100BL</td>\n      <td>35</td>\n    </tr>\n    <tr>\n      <th>...</th>\n      <td>...</td>\n      <td>...</td>\n      <td>...</td>\n      <td>...</td>\n    </tr>\n    <tr>\n      <th>1242398</th>\n      <td>2014.0</td>\n      <td>TOYOTA</td>\n      <td>AE60050039</td>\n      <td>0</td>\n    </tr>\n    <tr>\n      <th>1242399</th>\n      <td>2016.0</td>\n      <td>BUICK</td>\n      <td>DE3177005T</td>\n      <td>0</td>\n    </tr>\n    <tr>\n      <th>1242400</th>\n      <td>2011.0</td>\n      <td>HONDA</td>\n      <td>ADK421000M</td>\n      <td>30</td>\n    </tr>\n    <tr>\n      <th>1242401</th>\n      <td>2019.0</td>\n      <td>FORD</td>\n      <td>AC2292002X</td>\n      <td>35</td>\n    </tr>\n    <tr>\n      <th>1242402</th>\n      <td>2017.0</td>\n      <td>HYUNDAI</td>\n      <td>DA4174003T</td>\n      <td>15</td>\n    </tr>\n  </tbody>\n</table>\n<p>172570 rows × 4 columns</p>\n</div>"
     },
     "metadata": {}
    }
   ]
  },
  {
   "cell_type": "code",
   "metadata": {
    "cell_id": "00026-7f41b54c-eab8-43db-a4d7-b9cd56d9f9c3",
    "deepnote_to_be_reexecuted": false,
    "source_hash": "3d912ea6",
    "execution_start": 1636935692623,
    "execution_millis": 2226093,
    "deepnote_cell_type": "code"
   },
   "source": "#result = pd.concat([crashes, persons,vehicles], axis=1)\n",
   "execution_count": null,
   "outputs": []
  },
  {
   "cell_type": "code",
   "metadata": {
    "cell_id": "00027-32d3b21c-14a0-4554-bdb2-d59fa96c6a5d",
    "deepnote_to_be_reexecuted": false,
    "source_hash": "d342bd7e",
    "execution_start": 1636935692671,
    "execution_millis": 503,
    "deepnote_cell_type": "code"
   },
   "source": "dfm = pd.merge(crashes, pd.merge(persons, vehicles, left_on='REPORT_NO', right_on='REPORT_NO', how='outer'),left_on='REPORT_NO', right_on='REPORT_NO', how='outer')",
   "execution_count": null,
   "outputs": []
  },
  {
   "cell_type": "code",
   "metadata": {
    "cell_id": "00029-4d2404f3-4a90-4685-bc0b-f544c5b3bf9b",
    "deepnote_to_be_reexecuted": false,
    "source_hash": "b2dd9ec0",
    "execution_start": 1636935693176,
    "execution_millis": 12,
    "deepnote_output_heights": [
     21
    ],
    "deepnote_cell_type": "code"
   },
   "source": "#result\ndfm.shape",
   "execution_count": null,
   "outputs": [
    {
     "output_type": "execute_result",
     "execution_count": 17,
     "data": {
      "text/plain": "(412484, 13)"
     },
     "metadata": {}
    }
   ]
  },
  {
   "cell_type": "code",
   "metadata": {
    "cell_id": "00030-b972be24-8441-4b23-83cd-3b7913a0e85a",
    "deepnote_to_be_reexecuted": false,
    "source_hash": "8e61a2e1",
    "execution_start": 1636935693186,
    "execution_millis": 274,
    "deepnote_cell_type": "code"
   },
   "source": "#result.dropna(axis=0,inplace=True)\n\ndfm.dropna(how=\"any\",axis=0,inplace=True)",
   "execution_count": null,
   "outputs": []
  },
  {
   "cell_type": "code",
   "metadata": {
    "cell_id": "00031-e7fddd12-0de4-4844-a9de-3e96f36439dd",
    "deepnote_to_be_reexecuted": false,
    "source_hash": "3b454d8e",
    "execution_start": 1636935693463,
    "execution_millis": 1,
    "deepnote_output_heights": [
     21
    ],
    "deepnote_cell_type": "code"
   },
   "source": "#result.shape\ndfm.shape",
   "execution_count": null,
   "outputs": [
    {
     "output_type": "execute_result",
     "execution_count": 19,
     "data": {
      "text/plain": "(65314, 13)"
     },
     "metadata": {}
    }
   ]
  },
  {
   "cell_type": "code",
   "metadata": {
    "tags": [],
    "cell_id": "00021-9178beff-5ea8-4d84-a871-190a7ea7d265",
    "deepnote_to_be_reexecuted": false,
    "source_hash": "b1890b47",
    "execution_start": 1636935693476,
    "execution_millis": 60,
    "deepnote_cell_type": "code"
   },
   "source": "dfm.head()",
   "execution_count": null,
   "outputs": [
    {
     "output_type": "execute_result",
     "execution_count": 20,
     "data": {
      "application/vnd.deepnote.dataframe.v2+json": {
       "row_count": 5,
       "column_count": 13,
       "columns": [
        {
         "name": "ACC_DATE",
         "dtype": "int64",
         "stats": {
          "unique_count": 1,
          "nan_count": 0,
          "min": "20200426",
          "max": "20200426",
          "histogram": [
           {
            "bin_start": 20200425.5,
            "bin_end": 20200425.6,
            "count": 0
           },
           {
            "bin_start": 20200425.6,
            "bin_end": 20200425.7,
            "count": 0
           },
           {
            "bin_start": 20200425.7,
            "bin_end": 20200425.8,
            "count": 0
           },
           {
            "bin_start": 20200425.8,
            "bin_end": 20200425.9,
            "count": 0
           },
           {
            "bin_start": 20200425.9,
            "bin_end": 20200426,
            "count": 0
           },
           {
            "bin_start": 20200426,
            "bin_end": 20200426.1,
            "count": 5
           },
           {
            "bin_start": 20200426.1,
            "bin_end": 20200426.2,
            "count": 0
           },
           {
            "bin_start": 20200426.2,
            "bin_end": 20200426.3,
            "count": 0
           },
           {
            "bin_start": 20200426.3,
            "bin_end": 20200426.4,
            "count": 0
           },
           {
            "bin_start": 20200426.4,
            "bin_end": 20200426.5,
            "count": 0
           }
          ]
         }
        },
        {
         "name": "ACC_TIME",
         "dtype": "object",
         "stats": {
          "unique_count": 1,
          "nan_count": 0,
          "categories": [
           {
            "name": "15:14:00",
            "count": 5
           }
          ]
         }
        },
        {
         "name": "WEATHER_DESC",
         "dtype": "object",
         "stats": {
          "unique_count": 1,
          "nan_count": 0,
          "categories": [
           {
            "name": "Raining",
            "count": 5
           }
          ]
         }
        },
        {
         "name": "REPORT_NO",
         "dtype": "object",
         "stats": {
          "unique_count": 1,
          "nan_count": 0,
          "categories": [
           {
            "name": "ADJ9740010",
            "count": 5
           }
          ]
         }
        },
        {
         "name": "COUNTY_DESC",
         "dtype": "object",
         "stats": {
          "unique_count": 1,
          "nan_count": 0,
          "categories": [
           {
            "name": "Baltimore City",
            "count": 5
           }
          ]
         }
        },
        {
         "name": "LATITUDE",
         "dtype": "float64",
         "stats": {
          "unique_count": 1,
          "nan_count": 0,
          "min": "39.3129034045288",
          "max": "39.3129034045288",
          "histogram": [
           {
            "bin_start": 38.8129034045288,
            "bin_end": 38.9129034045288,
            "count": 0
           },
           {
            "bin_start": 38.9129034045288,
            "bin_end": 39.0129034045288,
            "count": 0
           },
           {
            "bin_start": 39.0129034045288,
            "bin_end": 39.112903404528794,
            "count": 0
           },
           {
            "bin_start": 39.112903404528794,
            "bin_end": 39.212903404528795,
            "count": 0
           },
           {
            "bin_start": 39.212903404528795,
            "bin_end": 39.3129034045288,
            "count": 0
           },
           {
            "bin_start": 39.3129034045288,
            "bin_end": 39.4129034045288,
            "count": 5
           },
           {
            "bin_start": 39.4129034045288,
            "bin_end": 39.5129034045288,
            "count": 0
           },
           {
            "bin_start": 39.5129034045288,
            "bin_end": 39.612903404528794,
            "count": 0
           },
           {
            "bin_start": 39.612903404528794,
            "bin_end": 39.712903404528795,
            "count": 0
           },
           {
            "bin_start": 39.712903404528795,
            "bin_end": 39.8129034045288,
            "count": 0
           }
          ]
         }
        },
        {
         "name": "LONGITUDE",
         "dtype": "float64",
         "stats": {
          "unique_count": 1,
          "nan_count": 0,
          "min": "-76.6514719129389",
          "max": "-76.6514719129389",
          "histogram": [
           {
            "bin_start": -77.1514719129389,
            "bin_end": -77.05147191293891,
            "count": 0
           },
           {
            "bin_start": -77.05147191293891,
            "bin_end": -76.9514719129389,
            "count": 0
           },
           {
            "bin_start": -76.9514719129389,
            "bin_end": -76.8514719129389,
            "count": 0
           },
           {
            "bin_start": -76.8514719129389,
            "bin_end": -76.7514719129389,
            "count": 0
           },
           {
            "bin_start": -76.7514719129389,
            "bin_end": -76.6514719129389,
            "count": 0
           },
           {
            "bin_start": -76.6514719129389,
            "bin_end": -76.55147191293891,
            "count": 5
           },
           {
            "bin_start": -76.55147191293891,
            "bin_end": -76.4514719129389,
            "count": 0
           },
           {
            "bin_start": -76.4514719129389,
            "bin_end": -76.3514719129389,
            "count": 0
           },
           {
            "bin_start": -76.3514719129389,
            "bin_end": -76.2514719129389,
            "count": 0
           },
           {
            "bin_start": -76.2514719129389,
            "bin_end": -76.1514719129389,
            "count": 0
           }
          ]
         }
        },
        {
         "name": "SEX_CODE",
         "dtype": "object",
         "stats": {
          "unique_count": 1,
          "nan_count": 0,
          "categories": [
           {
            "name": "F",
            "count": 5
           }
          ]
         }
        },
        {
         "name": "DATE_OF_BIRTH",
         "dtype": "object",
         "stats": {
          "unique_count": 1,
          "nan_count": 0,
          "categories": [
           {
            "name": "19620826",
            "count": 5
           }
          ]
         }
        },
        {
         "name": "LICENSE_STATE_CODE",
         "dtype": "object",
         "stats": {
          "unique_count": 1,
          "nan_count": 0,
          "categories": [
           {
            "name": "MD",
            "count": 5
           }
          ]
         }
        },
        {
         "name": "VEH_YEAR",
         "dtype": "float64",
         "stats": {
          "unique_count": 5,
          "nan_count": 0,
          "min": "2003.0",
          "max": "2012.0",
          "histogram": [
           {
            "bin_start": 2003,
            "bin_end": 2003.9,
            "count": 1
           },
           {
            "bin_start": 2003.9,
            "bin_end": 2004.8,
            "count": 0
           },
           {
            "bin_start": 2004.8,
            "bin_end": 2005.7,
            "count": 1
           },
           {
            "bin_start": 2005.7,
            "bin_end": 2006.6,
            "count": 1
           },
           {
            "bin_start": 2006.6,
            "bin_end": 2007.5,
            "count": 0
           },
           {
            "bin_start": 2007.5,
            "bin_end": 2008.4,
            "count": 0
           },
           {
            "bin_start": 2008.4,
            "bin_end": 2009.3,
            "count": 1
           },
           {
            "bin_start": 2009.3,
            "bin_end": 2010.2,
            "count": 0
           },
           {
            "bin_start": 2010.2,
            "bin_end": 2011.1,
            "count": 0
           },
           {
            "bin_start": 2011.1,
            "bin_end": 2012,
            "count": 1
           }
          ]
         }
        },
        {
         "name": "VEH_MAKE",
         "dtype": "object",
         "stats": {
          "unique_count": 4,
          "nan_count": 0,
          "categories": [
           {
            "name": "NISSAN",
            "count": 2
           },
           {
            "name": "MAZDA",
            "count": 1
           },
           {
            "name": "2 others",
            "count": 2
           }
          ]
         }
        },
        {
         "name": "SPEED_LIMIT",
         "dtype": "float64",
         "stats": {
          "unique_count": 2,
          "nan_count": 0,
          "min": "0.0",
          "max": "25.0",
          "histogram": [
           {
            "bin_start": 0,
            "bin_end": 2.5,
            "count": 3
           },
           {
            "bin_start": 2.5,
            "bin_end": 5,
            "count": 0
           },
           {
            "bin_start": 5,
            "bin_end": 7.5,
            "count": 0
           },
           {
            "bin_start": 7.5,
            "bin_end": 10,
            "count": 0
           },
           {
            "bin_start": 10,
            "bin_end": 12.5,
            "count": 0
           },
           {
            "bin_start": 12.5,
            "bin_end": 15,
            "count": 0
           },
           {
            "bin_start": 15,
            "bin_end": 17.5,
            "count": 0
           },
           {
            "bin_start": 17.5,
            "bin_end": 20,
            "count": 0
           },
           {
            "bin_start": 20,
            "bin_end": 22.5,
            "count": 0
           },
           {
            "bin_start": 22.5,
            "bin_end": 25,
            "count": 2
           }
          ]
         }
        },
        {
         "name": "_deepnote_index_column",
         "dtype": "int64"
        }
       ],
       "rows_top": [
        {
         "ACC_DATE": 20200426,
         "ACC_TIME": "15:14:00",
         "WEATHER_DESC": "Raining",
         "REPORT_NO": "ADJ9740010",
         "COUNTY_DESC": "Baltimore City",
         "LATITUDE": 39.3129034045288,
         "LONGITUDE": -76.6514719129389,
         "SEX_CODE": "F",
         "DATE_OF_BIRTH": "19620826",
         "LICENSE_STATE_CODE": "MD",
         "VEH_YEAR": 2003,
         "VEH_MAKE": "NISSAN",
         "SPEED_LIMIT": 25,
         "_deepnote_index_column": 47
        },
        {
         "ACC_DATE": 20200426,
         "ACC_TIME": "15:14:00",
         "WEATHER_DESC": "Raining",
         "REPORT_NO": "ADJ9740010",
         "COUNTY_DESC": "Baltimore City",
         "LATITUDE": 39.3129034045288,
         "LONGITUDE": -76.6514719129389,
         "SEX_CODE": "F",
         "DATE_OF_BIRTH": "19620826",
         "LICENSE_STATE_CODE": "MD",
         "VEH_YEAR": 2012,
         "VEH_MAKE": "MAZDA",
         "SPEED_LIMIT": 0,
         "_deepnote_index_column": 48
        },
        {
         "ACC_DATE": 20200426,
         "ACC_TIME": "15:14:00",
         "WEATHER_DESC": "Raining",
         "REPORT_NO": "ADJ9740010",
         "COUNTY_DESC": "Baltimore City",
         "LATITUDE": 39.3129034045288,
         "LONGITUDE": -76.6514719129389,
         "SEX_CODE": "F",
         "DATE_OF_BIRTH": "19620826",
         "LICENSE_STATE_CODE": "MD",
         "VEH_YEAR": 2005,
         "VEH_MAKE": "TOYTOA",
         "SPEED_LIMIT": 0,
         "_deepnote_index_column": 49
        },
        {
         "ACC_DATE": 20200426,
         "ACC_TIME": "15:14:00",
         "WEATHER_DESC": "Raining",
         "REPORT_NO": "ADJ9740010",
         "COUNTY_DESC": "Baltimore City",
         "LATITUDE": 39.3129034045288,
         "LONGITUDE": -76.6514719129389,
         "SEX_CODE": "F",
         "DATE_OF_BIRTH": "19620826",
         "LICENSE_STATE_CODE": "MD",
         "VEH_YEAR": 2006,
         "VEH_MAKE": "NISSAN",
         "SPEED_LIMIT": 25,
         "_deepnote_index_column": 50
        },
        {
         "ACC_DATE": 20200426,
         "ACC_TIME": "15:14:00",
         "WEATHER_DESC": "Raining",
         "REPORT_NO": "ADJ9740010",
         "COUNTY_DESC": "Baltimore City",
         "LATITUDE": 39.3129034045288,
         "LONGITUDE": -76.6514719129389,
         "SEX_CODE": "F",
         "DATE_OF_BIRTH": "19620826",
         "LICENSE_STATE_CODE": "MD",
         "VEH_YEAR": 2009,
         "VEH_MAKE": "HYUNDA",
         "SPEED_LIMIT": 0,
         "_deepnote_index_column": 51
        }
       ],
       "rows_bottom": null
      },
      "text/plain": "    ACC_DATE  ACC_TIME WEATHER_DESC   REPORT_NO     COUNTY_DESC   LATITUDE  \\\n47  20200426  15:14:00      Raining  ADJ9740010  Baltimore City  39.312903   \n48  20200426  15:14:00      Raining  ADJ9740010  Baltimore City  39.312903   \n49  20200426  15:14:00      Raining  ADJ9740010  Baltimore City  39.312903   \n50  20200426  15:14:00      Raining  ADJ9740010  Baltimore City  39.312903   \n51  20200426  15:14:00      Raining  ADJ9740010  Baltimore City  39.312903   \n\n    LONGITUDE SEX_CODE DATE_OF_BIRTH LICENSE_STATE_CODE  VEH_YEAR VEH_MAKE  \\\n47 -76.651472        F      19620826                 MD    2003.0   NISSAN   \n48 -76.651472        F      19620826                 MD    2012.0    MAZDA   \n49 -76.651472        F      19620826                 MD    2005.0   TOYTOA   \n50 -76.651472        F      19620826                 MD    2006.0   NISSAN   \n51 -76.651472        F      19620826                 MD    2009.0   HYUNDA   \n\n    SPEED_LIMIT  \n47         25.0  \n48          0.0  \n49          0.0  \n50         25.0  \n51          0.0  ",
      "text/html": "<div>\n<style scoped>\n    .dataframe tbody tr th:only-of-type {\n        vertical-align: middle;\n    }\n\n    .dataframe tbody tr th {\n        vertical-align: top;\n    }\n\n    .dataframe thead th {\n        text-align: right;\n    }\n</style>\n<table border=\"1\" class=\"dataframe\">\n  <thead>\n    <tr style=\"text-align: right;\">\n      <th></th>\n      <th>ACC_DATE</th>\n      <th>ACC_TIME</th>\n      <th>WEATHER_DESC</th>\n      <th>REPORT_NO</th>\n      <th>COUNTY_DESC</th>\n      <th>LATITUDE</th>\n      <th>LONGITUDE</th>\n      <th>SEX_CODE</th>\n      <th>DATE_OF_BIRTH</th>\n      <th>LICENSE_STATE_CODE</th>\n      <th>VEH_YEAR</th>\n      <th>VEH_MAKE</th>\n      <th>SPEED_LIMIT</th>\n    </tr>\n  </thead>\n  <tbody>\n    <tr>\n      <th>47</th>\n      <td>20200426</td>\n      <td>15:14:00</td>\n      <td>Raining</td>\n      <td>ADJ9740010</td>\n      <td>Baltimore City</td>\n      <td>39.312903</td>\n      <td>-76.651472</td>\n      <td>F</td>\n      <td>19620826</td>\n      <td>MD</td>\n      <td>2003.0</td>\n      <td>NISSAN</td>\n      <td>25.0</td>\n    </tr>\n    <tr>\n      <th>48</th>\n      <td>20200426</td>\n      <td>15:14:00</td>\n      <td>Raining</td>\n      <td>ADJ9740010</td>\n      <td>Baltimore City</td>\n      <td>39.312903</td>\n      <td>-76.651472</td>\n      <td>F</td>\n      <td>19620826</td>\n      <td>MD</td>\n      <td>2012.0</td>\n      <td>MAZDA</td>\n      <td>0.0</td>\n    </tr>\n    <tr>\n      <th>49</th>\n      <td>20200426</td>\n      <td>15:14:00</td>\n      <td>Raining</td>\n      <td>ADJ9740010</td>\n      <td>Baltimore City</td>\n      <td>39.312903</td>\n      <td>-76.651472</td>\n      <td>F</td>\n      <td>19620826</td>\n      <td>MD</td>\n      <td>2005.0</td>\n      <td>TOYTOA</td>\n      <td>0.0</td>\n    </tr>\n    <tr>\n      <th>50</th>\n      <td>20200426</td>\n      <td>15:14:00</td>\n      <td>Raining</td>\n      <td>ADJ9740010</td>\n      <td>Baltimore City</td>\n      <td>39.312903</td>\n      <td>-76.651472</td>\n      <td>F</td>\n      <td>19620826</td>\n      <td>MD</td>\n      <td>2006.0</td>\n      <td>NISSAN</td>\n      <td>25.0</td>\n    </tr>\n    <tr>\n      <th>51</th>\n      <td>20200426</td>\n      <td>15:14:00</td>\n      <td>Raining</td>\n      <td>ADJ9740010</td>\n      <td>Baltimore City</td>\n      <td>39.312903</td>\n      <td>-76.651472</td>\n      <td>F</td>\n      <td>19620826</td>\n      <td>MD</td>\n      <td>2009.0</td>\n      <td>HYUNDA</td>\n      <td>0.0</td>\n    </tr>\n  </tbody>\n</table>\n</div>"
     },
     "metadata": {}
    }
   ]
  },
  {
   "cell_type": "code",
   "metadata": {
    "tags": [],
    "cell_id": "00022-a5aba9ea-602e-49eb-b4d2-c015c6747c33",
    "deepnote_to_be_reexecuted": false,
    "source_hash": "4a41343d",
    "execution_start": 1636935693539,
    "execution_millis": 628,
    "deepnote_cell_type": "code"
   },
   "source": "dfm.to_csv('md_crash_2020.csv', sep='\\t')",
   "execution_count": null,
   "outputs": []
  },
  {
   "cell_type": "markdown",
   "source": "#### Question 2/3",
   "metadata": {
    "tags": [],
    "cell_id": "00023-b82fbb67-020f-4cf0-b7f6-31a218c6ea7e",
    "deepnote_cell_type": "markdown"
   }
  },
  {
   "cell_type": "code",
   "metadata": {
    "cell_id": "00033-b0033cc9-9349-42c3-a37b-88eb899bcecb",
    "deepnote_to_be_reexecuted": false,
    "source_hash": "10adb94",
    "execution_start": 1636935694175,
    "execution_millis": 44,
    "deepnote_cell_type": "code"
   },
   "source": "#e_county= pd.pivot_table(dfm,index='COUNTY_DESC', values='DATE_OF_BIRTH', aggfunc = 'mean' )\n#e_county=dfm.groupby(['COUNTY_DESC'])['DATE_OF_BIRTH'].mean()\n#piv3= pd.pivot_table(df,index=\"Region\",values=\"Sales\", aggfunc = \"sum\", columns= ['Date'])\n#e_county=dfm.groupby('COUNTY_DESC').DATE_OF_BIRTH.mean()\n\n#def aver_county(dfm.DATE_OF_BIRTH):\n#    dob = dfm.DATE_OF_BIRTH\n#    curr = '2021'\n#    if curr - dob\n#import pandas as pd\nfrom datetime import datetime\nfrom datetime import date\n",
   "execution_count": null,
   "outputs": []
  },
  {
   "cell_type": "code",
   "metadata": {
    "tags": [],
    "cell_id": "00026-810a801f-6cba-4881-b12a-730e73690cd5",
    "deepnote_to_be_reexecuted": false,
    "source_hash": "adcd6898",
    "execution_start": 1636935694220,
    "execution_millis": 809,
    "deepnote_cell_type": "code"
   },
   "source": "dfm['DATE_OF_BIRTH'] = pd.to_datetime(dfm['DATE_OF_BIRTH'])\n\ndef age (date):\n    curr = date.today()\n    return curr.year - date.year\n\ndfm['VEH_YEAR'] = dfm['VEH_YEAR'].astype(int) #make veh_year into integer type\ndef car_age (year):\n    return -1*year + 2021 \n\ndfm['age'] = dfm['DATE_OF_BIRTH'].apply(age) # creating a new column age and adding the age to it\ndfm['car_age'] = dfm['VEH_YEAR'].apply(car_age)\ndfm.head()",
   "execution_count": null,
   "outputs": [
    {
     "output_type": "execute_result",
     "execution_count": 23,
     "data": {
      "application/vnd.deepnote.dataframe.v2+json": {
       "row_count": 5,
       "column_count": 15,
       "columns": [
        {
         "name": "ACC_DATE",
         "dtype": "int64",
         "stats": {
          "unique_count": 1,
          "nan_count": 0,
          "min": "20200426",
          "max": "20200426",
          "histogram": [
           {
            "bin_start": 20200425.5,
            "bin_end": 20200425.6,
            "count": 0
           },
           {
            "bin_start": 20200425.6,
            "bin_end": 20200425.7,
            "count": 0
           },
           {
            "bin_start": 20200425.7,
            "bin_end": 20200425.8,
            "count": 0
           },
           {
            "bin_start": 20200425.8,
            "bin_end": 20200425.9,
            "count": 0
           },
           {
            "bin_start": 20200425.9,
            "bin_end": 20200426,
            "count": 0
           },
           {
            "bin_start": 20200426,
            "bin_end": 20200426.1,
            "count": 5
           },
           {
            "bin_start": 20200426.1,
            "bin_end": 20200426.2,
            "count": 0
           },
           {
            "bin_start": 20200426.2,
            "bin_end": 20200426.3,
            "count": 0
           },
           {
            "bin_start": 20200426.3,
            "bin_end": 20200426.4,
            "count": 0
           },
           {
            "bin_start": 20200426.4,
            "bin_end": 20200426.5,
            "count": 0
           }
          ]
         }
        },
        {
         "name": "ACC_TIME",
         "dtype": "object",
         "stats": {
          "unique_count": 1,
          "nan_count": 0,
          "categories": [
           {
            "name": "15:14:00",
            "count": 5
           }
          ]
         }
        },
        {
         "name": "WEATHER_DESC",
         "dtype": "object",
         "stats": {
          "unique_count": 1,
          "nan_count": 0,
          "categories": [
           {
            "name": "Raining",
            "count": 5
           }
          ]
         }
        },
        {
         "name": "REPORT_NO",
         "dtype": "object",
         "stats": {
          "unique_count": 1,
          "nan_count": 0,
          "categories": [
           {
            "name": "ADJ9740010",
            "count": 5
           }
          ]
         }
        },
        {
         "name": "COUNTY_DESC",
         "dtype": "object",
         "stats": {
          "unique_count": 1,
          "nan_count": 0,
          "categories": [
           {
            "name": "Baltimore City",
            "count": 5
           }
          ]
         }
        },
        {
         "name": "LATITUDE",
         "dtype": "float64",
         "stats": {
          "unique_count": 1,
          "nan_count": 0,
          "min": "39.3129034045288",
          "max": "39.3129034045288",
          "histogram": [
           {
            "bin_start": 38.8129034045288,
            "bin_end": 38.9129034045288,
            "count": 0
           },
           {
            "bin_start": 38.9129034045288,
            "bin_end": 39.0129034045288,
            "count": 0
           },
           {
            "bin_start": 39.0129034045288,
            "bin_end": 39.112903404528794,
            "count": 0
           },
           {
            "bin_start": 39.112903404528794,
            "bin_end": 39.212903404528795,
            "count": 0
           },
           {
            "bin_start": 39.212903404528795,
            "bin_end": 39.3129034045288,
            "count": 0
           },
           {
            "bin_start": 39.3129034045288,
            "bin_end": 39.4129034045288,
            "count": 5
           },
           {
            "bin_start": 39.4129034045288,
            "bin_end": 39.5129034045288,
            "count": 0
           },
           {
            "bin_start": 39.5129034045288,
            "bin_end": 39.612903404528794,
            "count": 0
           },
           {
            "bin_start": 39.612903404528794,
            "bin_end": 39.712903404528795,
            "count": 0
           },
           {
            "bin_start": 39.712903404528795,
            "bin_end": 39.8129034045288,
            "count": 0
           }
          ]
         }
        },
        {
         "name": "LONGITUDE",
         "dtype": "float64",
         "stats": {
          "unique_count": 1,
          "nan_count": 0,
          "min": "-76.6514719129389",
          "max": "-76.6514719129389",
          "histogram": [
           {
            "bin_start": -77.1514719129389,
            "bin_end": -77.05147191293891,
            "count": 0
           },
           {
            "bin_start": -77.05147191293891,
            "bin_end": -76.9514719129389,
            "count": 0
           },
           {
            "bin_start": -76.9514719129389,
            "bin_end": -76.8514719129389,
            "count": 0
           },
           {
            "bin_start": -76.8514719129389,
            "bin_end": -76.7514719129389,
            "count": 0
           },
           {
            "bin_start": -76.7514719129389,
            "bin_end": -76.6514719129389,
            "count": 0
           },
           {
            "bin_start": -76.6514719129389,
            "bin_end": -76.55147191293891,
            "count": 5
           },
           {
            "bin_start": -76.55147191293891,
            "bin_end": -76.4514719129389,
            "count": 0
           },
           {
            "bin_start": -76.4514719129389,
            "bin_end": -76.3514719129389,
            "count": 0
           },
           {
            "bin_start": -76.3514719129389,
            "bin_end": -76.2514719129389,
            "count": 0
           },
           {
            "bin_start": -76.2514719129389,
            "bin_end": -76.1514719129389,
            "count": 0
           }
          ]
         }
        },
        {
         "name": "SEX_CODE",
         "dtype": "object",
         "stats": {
          "unique_count": 1,
          "nan_count": 0,
          "categories": [
           {
            "name": "F",
            "count": 5
           }
          ]
         }
        },
        {
         "name": "DATE_OF_BIRTH",
         "dtype": "datetime64[ns]",
         "stats": {
          "unique_count": 1,
          "nan_count": 0,
          "min": "1962-08-26 00:00:00",
          "max": "1962-08-26 00:00:00",
          "histogram": null
         }
        },
        {
         "name": "LICENSE_STATE_CODE",
         "dtype": "object",
         "stats": {
          "unique_count": 1,
          "nan_count": 0,
          "categories": [
           {
            "name": "MD",
            "count": 5
           }
          ]
         }
        },
        {
         "name": "VEH_YEAR",
         "dtype": "int64",
         "stats": {
          "unique_count": 5,
          "nan_count": 0,
          "min": "2003",
          "max": "2012",
          "histogram": [
           {
            "bin_start": 2003,
            "bin_end": 2003.9,
            "count": 1
           },
           {
            "bin_start": 2003.9,
            "bin_end": 2004.8,
            "count": 0
           },
           {
            "bin_start": 2004.8,
            "bin_end": 2005.7,
            "count": 1
           },
           {
            "bin_start": 2005.7,
            "bin_end": 2006.6,
            "count": 1
           },
           {
            "bin_start": 2006.6,
            "bin_end": 2007.5,
            "count": 0
           },
           {
            "bin_start": 2007.5,
            "bin_end": 2008.4,
            "count": 0
           },
           {
            "bin_start": 2008.4,
            "bin_end": 2009.3,
            "count": 1
           },
           {
            "bin_start": 2009.3,
            "bin_end": 2010.2,
            "count": 0
           },
           {
            "bin_start": 2010.2,
            "bin_end": 2011.1,
            "count": 0
           },
           {
            "bin_start": 2011.1,
            "bin_end": 2012,
            "count": 1
           }
          ]
         }
        },
        {
         "name": "VEH_MAKE",
         "dtype": "object",
         "stats": {
          "unique_count": 4,
          "nan_count": 0,
          "categories": [
           {
            "name": "NISSAN",
            "count": 2
           },
           {
            "name": "MAZDA",
            "count": 1
           },
           {
            "name": "2 others",
            "count": 2
           }
          ]
         }
        },
        {
         "name": "SPEED_LIMIT",
         "dtype": "float64",
         "stats": {
          "unique_count": 2,
          "nan_count": 0,
          "min": "0.0",
          "max": "25.0",
          "histogram": [
           {
            "bin_start": 0,
            "bin_end": 2.5,
            "count": 3
           },
           {
            "bin_start": 2.5,
            "bin_end": 5,
            "count": 0
           },
           {
            "bin_start": 5,
            "bin_end": 7.5,
            "count": 0
           },
           {
            "bin_start": 7.5,
            "bin_end": 10,
            "count": 0
           },
           {
            "bin_start": 10,
            "bin_end": 12.5,
            "count": 0
           },
           {
            "bin_start": 12.5,
            "bin_end": 15,
            "count": 0
           },
           {
            "bin_start": 15,
            "bin_end": 17.5,
            "count": 0
           },
           {
            "bin_start": 17.5,
            "bin_end": 20,
            "count": 0
           },
           {
            "bin_start": 20,
            "bin_end": 22.5,
            "count": 0
           },
           {
            "bin_start": 22.5,
            "bin_end": 25,
            "count": 2
           }
          ]
         }
        },
        {
         "name": "age",
         "dtype": "int64",
         "stats": {
          "unique_count": 1,
          "nan_count": 0,
          "min": "59",
          "max": "59",
          "histogram": [
           {
            "bin_start": 58.5,
            "bin_end": 58.6,
            "count": 0
           },
           {
            "bin_start": 58.6,
            "bin_end": 58.7,
            "count": 0
           },
           {
            "bin_start": 58.7,
            "bin_end": 58.8,
            "count": 0
           },
           {
            "bin_start": 58.8,
            "bin_end": 58.9,
            "count": 0
           },
           {
            "bin_start": 58.9,
            "bin_end": 59,
            "count": 0
           },
           {
            "bin_start": 59,
            "bin_end": 59.1,
            "count": 5
           },
           {
            "bin_start": 59.1,
            "bin_end": 59.2,
            "count": 0
           },
           {
            "bin_start": 59.2,
            "bin_end": 59.3,
            "count": 0
           },
           {
            "bin_start": 59.3,
            "bin_end": 59.4,
            "count": 0
           },
           {
            "bin_start": 59.4,
            "bin_end": 59.5,
            "count": 0
           }
          ]
         }
        },
        {
         "name": "car_age",
         "dtype": "int64",
         "stats": {
          "unique_count": 5,
          "nan_count": 0,
          "min": "9",
          "max": "18",
          "histogram": [
           {
            "bin_start": 9,
            "bin_end": 9.9,
            "count": 1
           },
           {
            "bin_start": 9.9,
            "bin_end": 10.8,
            "count": 0
           },
           {
            "bin_start": 10.8,
            "bin_end": 11.7,
            "count": 0
           },
           {
            "bin_start": 11.7,
            "bin_end": 12.6,
            "count": 1
           },
           {
            "bin_start": 12.6,
            "bin_end": 13.5,
            "count": 0
           },
           {
            "bin_start": 13.5,
            "bin_end": 14.4,
            "count": 0
           },
           {
            "bin_start": 14.4,
            "bin_end": 15.3,
            "count": 1
           },
           {
            "bin_start": 15.3,
            "bin_end": 16.2,
            "count": 1
           },
           {
            "bin_start": 16.2,
            "bin_end": 17.1,
            "count": 0
           },
           {
            "bin_start": 17.1,
            "bin_end": 18,
            "count": 1
           }
          ]
         }
        },
        {
         "name": "_deepnote_index_column",
         "dtype": "int64"
        }
       ],
       "rows_top": [
        {
         "ACC_DATE": 20200426,
         "ACC_TIME": "15:14:00",
         "WEATHER_DESC": "Raining",
         "REPORT_NO": "ADJ9740010",
         "COUNTY_DESC": "Baltimore City",
         "LATITUDE": 39.3129034045288,
         "LONGITUDE": -76.6514719129389,
         "SEX_CODE": "F",
         "DATE_OF_BIRTH": "1962-08-26T00:00:00.000000",
         "LICENSE_STATE_CODE": "MD",
         "VEH_YEAR": 2003,
         "VEH_MAKE": "NISSAN",
         "SPEED_LIMIT": 25,
         "age": 59,
         "car_age": 18,
         "_deepnote_index_column": 47
        },
        {
         "ACC_DATE": 20200426,
         "ACC_TIME": "15:14:00",
         "WEATHER_DESC": "Raining",
         "REPORT_NO": "ADJ9740010",
         "COUNTY_DESC": "Baltimore City",
         "LATITUDE": 39.3129034045288,
         "LONGITUDE": -76.6514719129389,
         "SEX_CODE": "F",
         "DATE_OF_BIRTH": "1962-08-26T00:00:00.000000",
         "LICENSE_STATE_CODE": "MD",
         "VEH_YEAR": 2012,
         "VEH_MAKE": "MAZDA",
         "SPEED_LIMIT": 0,
         "age": 59,
         "car_age": 9,
         "_deepnote_index_column": 48
        },
        {
         "ACC_DATE": 20200426,
         "ACC_TIME": "15:14:00",
         "WEATHER_DESC": "Raining",
         "REPORT_NO": "ADJ9740010",
         "COUNTY_DESC": "Baltimore City",
         "LATITUDE": 39.3129034045288,
         "LONGITUDE": -76.6514719129389,
         "SEX_CODE": "F",
         "DATE_OF_BIRTH": "1962-08-26T00:00:00.000000",
         "LICENSE_STATE_CODE": "MD",
         "VEH_YEAR": 2005,
         "VEH_MAKE": "TOYTOA",
         "SPEED_LIMIT": 0,
         "age": 59,
         "car_age": 16,
         "_deepnote_index_column": 49
        },
        {
         "ACC_DATE": 20200426,
         "ACC_TIME": "15:14:00",
         "WEATHER_DESC": "Raining",
         "REPORT_NO": "ADJ9740010",
         "COUNTY_DESC": "Baltimore City",
         "LATITUDE": 39.3129034045288,
         "LONGITUDE": -76.6514719129389,
         "SEX_CODE": "F",
         "DATE_OF_BIRTH": "1962-08-26T00:00:00.000000",
         "LICENSE_STATE_CODE": "MD",
         "VEH_YEAR": 2006,
         "VEH_MAKE": "NISSAN",
         "SPEED_LIMIT": 25,
         "age": 59,
         "car_age": 15,
         "_deepnote_index_column": 50
        },
        {
         "ACC_DATE": 20200426,
         "ACC_TIME": "15:14:00",
         "WEATHER_DESC": "Raining",
         "REPORT_NO": "ADJ9740010",
         "COUNTY_DESC": "Baltimore City",
         "LATITUDE": 39.3129034045288,
         "LONGITUDE": -76.6514719129389,
         "SEX_CODE": "F",
         "DATE_OF_BIRTH": "1962-08-26T00:00:00.000000",
         "LICENSE_STATE_CODE": "MD",
         "VEH_YEAR": 2009,
         "VEH_MAKE": "HYUNDA",
         "SPEED_LIMIT": 0,
         "age": 59,
         "car_age": 12,
         "_deepnote_index_column": 51
        }
       ],
       "rows_bottom": null
      },
      "text/plain": "    ACC_DATE  ACC_TIME WEATHER_DESC   REPORT_NO     COUNTY_DESC   LATITUDE  \\\n47  20200426  15:14:00      Raining  ADJ9740010  Baltimore City  39.312903   \n48  20200426  15:14:00      Raining  ADJ9740010  Baltimore City  39.312903   \n49  20200426  15:14:00      Raining  ADJ9740010  Baltimore City  39.312903   \n50  20200426  15:14:00      Raining  ADJ9740010  Baltimore City  39.312903   \n51  20200426  15:14:00      Raining  ADJ9740010  Baltimore City  39.312903   \n\n    LONGITUDE SEX_CODE DATE_OF_BIRTH LICENSE_STATE_CODE  VEH_YEAR VEH_MAKE  \\\n47 -76.651472        F    1962-08-26                 MD      2003   NISSAN   \n48 -76.651472        F    1962-08-26                 MD      2012    MAZDA   \n49 -76.651472        F    1962-08-26                 MD      2005   TOYTOA   \n50 -76.651472        F    1962-08-26                 MD      2006   NISSAN   \n51 -76.651472        F    1962-08-26                 MD      2009   HYUNDA   \n\n    SPEED_LIMIT  age  car_age  \n47         25.0   59       18  \n48          0.0   59        9  \n49          0.0   59       16  \n50         25.0   59       15  \n51          0.0   59       12  ",
      "text/html": "<div>\n<style scoped>\n    .dataframe tbody tr th:only-of-type {\n        vertical-align: middle;\n    }\n\n    .dataframe tbody tr th {\n        vertical-align: top;\n    }\n\n    .dataframe thead th {\n        text-align: right;\n    }\n</style>\n<table border=\"1\" class=\"dataframe\">\n  <thead>\n    <tr style=\"text-align: right;\">\n      <th></th>\n      <th>ACC_DATE</th>\n      <th>ACC_TIME</th>\n      <th>WEATHER_DESC</th>\n      <th>REPORT_NO</th>\n      <th>COUNTY_DESC</th>\n      <th>LATITUDE</th>\n      <th>LONGITUDE</th>\n      <th>SEX_CODE</th>\n      <th>DATE_OF_BIRTH</th>\n      <th>LICENSE_STATE_CODE</th>\n      <th>VEH_YEAR</th>\n      <th>VEH_MAKE</th>\n      <th>SPEED_LIMIT</th>\n      <th>age</th>\n      <th>car_age</th>\n    </tr>\n  </thead>\n  <tbody>\n    <tr>\n      <th>47</th>\n      <td>20200426</td>\n      <td>15:14:00</td>\n      <td>Raining</td>\n      <td>ADJ9740010</td>\n      <td>Baltimore City</td>\n      <td>39.312903</td>\n      <td>-76.651472</td>\n      <td>F</td>\n      <td>1962-08-26</td>\n      <td>MD</td>\n      <td>2003</td>\n      <td>NISSAN</td>\n      <td>25.0</td>\n      <td>59</td>\n      <td>18</td>\n    </tr>\n    <tr>\n      <th>48</th>\n      <td>20200426</td>\n      <td>15:14:00</td>\n      <td>Raining</td>\n      <td>ADJ9740010</td>\n      <td>Baltimore City</td>\n      <td>39.312903</td>\n      <td>-76.651472</td>\n      <td>F</td>\n      <td>1962-08-26</td>\n      <td>MD</td>\n      <td>2012</td>\n      <td>MAZDA</td>\n      <td>0.0</td>\n      <td>59</td>\n      <td>9</td>\n    </tr>\n    <tr>\n      <th>49</th>\n      <td>20200426</td>\n      <td>15:14:00</td>\n      <td>Raining</td>\n      <td>ADJ9740010</td>\n      <td>Baltimore City</td>\n      <td>39.312903</td>\n      <td>-76.651472</td>\n      <td>F</td>\n      <td>1962-08-26</td>\n      <td>MD</td>\n      <td>2005</td>\n      <td>TOYTOA</td>\n      <td>0.0</td>\n      <td>59</td>\n      <td>16</td>\n    </tr>\n    <tr>\n      <th>50</th>\n      <td>20200426</td>\n      <td>15:14:00</td>\n      <td>Raining</td>\n      <td>ADJ9740010</td>\n      <td>Baltimore City</td>\n      <td>39.312903</td>\n      <td>-76.651472</td>\n      <td>F</td>\n      <td>1962-08-26</td>\n      <td>MD</td>\n      <td>2006</td>\n      <td>NISSAN</td>\n      <td>25.0</td>\n      <td>59</td>\n      <td>15</td>\n    </tr>\n    <tr>\n      <th>51</th>\n      <td>20200426</td>\n      <td>15:14:00</td>\n      <td>Raining</td>\n      <td>ADJ9740010</td>\n      <td>Baltimore City</td>\n      <td>39.312903</td>\n      <td>-76.651472</td>\n      <td>F</td>\n      <td>1962-08-26</td>\n      <td>MD</td>\n      <td>2009</td>\n      <td>HYUNDA</td>\n      <td>0.0</td>\n      <td>59</td>\n      <td>12</td>\n    </tr>\n  </tbody>\n</table>\n</div>"
     },
     "metadata": {}
    }
   ]
  },
  {
   "cell_type": "code",
   "metadata": {
    "cell_id": "00037-60362de9-563f-4b8b-9600-9c709a5346b2",
    "deepnote_to_be_reexecuted": false,
    "source_hash": "e5dbf78c",
    "execution_start": 1636935695031,
    "execution_millis": 39,
    "deepnote_output_heights": [
     611
    ],
    "deepnote_cell_type": "code"
   },
   "source": "# Sorting the result in descending order and display\n\naver_age = dfm.groupby(['COUNTY_DESC']).age.mean()\naver_age\navg_age=aver_age.groupby('COUNTY_DESC').aggregate(avg_age_desc=('mean'))\navg_age.sort_values('avg_age_desc')",
   "execution_count": null,
   "outputs": [
    {
     "output_type": "execute_result",
     "execution_count": 24,
     "data": {
      "application/vnd.deepnote.dataframe.v2+json": {
       "row_count": 24,
       "column_count": 1,
       "columns": [
        {
         "name": "avg_age_desc",
         "dtype": "float64",
         "stats": {
          "unique_count": 24,
          "nan_count": 0,
          "min": "39.733027054619704",
          "max": "45.531157270029674",
          "histogram": [
           {
            "bin_start": 39.733027054619704,
            "bin_end": 40.312840076160704,
            "count": 5
           },
           {
            "bin_start": 40.312840076160704,
            "bin_end": 40.8926530977017,
            "count": 5
           },
           {
            "bin_start": 40.8926530977017,
            "bin_end": 41.472466119242696,
            "count": 4
           },
           {
            "bin_start": 41.472466119242696,
            "bin_end": 42.05227914078369,
            "count": 3
           },
           {
            "bin_start": 42.05227914078369,
            "bin_end": 42.63209216232469,
            "count": 3
           },
           {
            "bin_start": 42.63209216232469,
            "bin_end": 43.21190518386569,
            "count": 3
           },
           {
            "bin_start": 43.21190518386569,
            "bin_end": 43.79171820540668,
            "count": 0
           },
           {
            "bin_start": 43.79171820540668,
            "bin_end": 44.37153122694768,
            "count": 0
           },
           {
            "bin_start": 44.37153122694768,
            "bin_end": 44.951344248488674,
            "count": 0
           },
           {
            "bin_start": 44.951344248488674,
            "bin_end": 45.531157270029674,
            "count": 1
           }
          ]
         }
        },
        {
         "name": "_deepnote_index_column",
         "dtype": "object"
        }
       ],
       "rows_top": [
        {
         "avg_age_desc": 39.733027054619704,
         "_deepnote_index_column": "Prince George's"
        },
        {
         "avg_age_desc": 39.88955223880597,
         "_deepnote_index_column": "Queen Anne's"
        },
        {
         "avg_age_desc": 39.94865810968495,
         "_deepnote_index_column": "Charles"
        },
        {
         "avg_age_desc": 40.01247848537005,
         "_deepnote_index_column": "Howard"
        },
        {
         "avg_age_desc": 40.140985742201636,
         "_deepnote_index_column": "Baltimore City"
        },
        {
         "avg_age_desc": 40.4789800137836,
         "_deepnote_index_column": "Frederick"
        },
        {
         "avg_age_desc": 40.562913907284766,
         "_deepnote_index_column": "Caroline"
        },
        {
         "avg_age_desc": 40.60377358490566,
         "_deepnote_index_column": "Worcester"
        },
        {
         "avg_age_desc": 40.628610729023386,
         "_deepnote_index_column": "St. Mary's"
        },
        {
         "avg_age_desc": 40.70245289726271,
         "_deepnote_index_column": "Anne Arundel"
        },
        {
         "avg_age_desc": 41.014634146341464,
         "_deepnote_index_column": "Garrett"
        },
        {
         "avg_age_desc": 41.046685878962535,
         "_deepnote_index_column": "Baltimore"
        },
        {
         "avg_age_desc": 41.24418604651163,
         "_deepnote_index_column": "Harford"
        },
        {
         "avg_age_desc": 41.46890756302521,
         "_deepnote_index_column": "Calvert"
        },
        {
         "avg_age_desc": 41.6367816091954,
         "_deepnote_index_column": "Wicomico"
        },
        {
         "avg_age_desc": 41.71026996938492,
         "_deepnote_index_column": "Montgomery"
        },
        {
         "avg_age_desc": 41.82441113490364,
         "_deepnote_index_column": "Allegany"
        },
        {
         "avg_age_desc": 42.213793103448275,
         "_deepnote_index_column": "Somerset"
        },
        {
         "avg_age_desc": 42.57714285714286,
         "_deepnote_index_column": "Dorchester"
        },
        {
         "avg_age_desc": 42.60213702074167,
         "_deepnote_index_column": "Washington"
        },
        {
         "avg_age_desc": 42.82022471910113,
         "_deepnote_index_column": "Kent"
        },
        {
         "avg_age_desc": 42.832131822863026,
         "_deepnote_index_column": "Carroll"
        },
        {
         "avg_age_desc": 43.07395498392283,
         "_deepnote_index_column": "Cecil"
        },
        {
         "avg_age_desc": 45.531157270029674,
         "_deepnote_index_column": "Talbot"
        }
       ],
       "rows_bottom": null
      },
      "text/plain": "                 avg_age_desc\nCOUNTY_DESC                  \nPrince George's     39.733027\nQueen Anne's        39.889552\nCharles             39.948658\nHoward              40.012478\nBaltimore City      40.140986\nFrederick           40.478980\nCaroline            40.562914\nWorcester           40.603774\nSt. Mary's          40.628611\nAnne Arundel        40.702453\nGarrett             41.014634\nBaltimore           41.046686\nHarford             41.244186\nCalvert             41.468908\nWicomico            41.636782\nMontgomery          41.710270\nAllegany            41.824411\nSomerset            42.213793\nDorchester          42.577143\nWashington          42.602137\nKent                42.820225\nCarroll             42.832132\nCecil               43.073955\nTalbot              45.531157",
      "text/html": "<div>\n<style scoped>\n    .dataframe tbody tr th:only-of-type {\n        vertical-align: middle;\n    }\n\n    .dataframe tbody tr th {\n        vertical-align: top;\n    }\n\n    .dataframe thead th {\n        text-align: right;\n    }\n</style>\n<table border=\"1\" class=\"dataframe\">\n  <thead>\n    <tr style=\"text-align: right;\">\n      <th></th>\n      <th>avg_age_desc</th>\n    </tr>\n    <tr>\n      <th>COUNTY_DESC</th>\n      <th></th>\n    </tr>\n  </thead>\n  <tbody>\n    <tr>\n      <th>Prince George's</th>\n      <td>39.733027</td>\n    </tr>\n    <tr>\n      <th>Queen Anne's</th>\n      <td>39.889552</td>\n    </tr>\n    <tr>\n      <th>Charles</th>\n      <td>39.948658</td>\n    </tr>\n    <tr>\n      <th>Howard</th>\n      <td>40.012478</td>\n    </tr>\n    <tr>\n      <th>Baltimore City</th>\n      <td>40.140986</td>\n    </tr>\n    <tr>\n      <th>Frederick</th>\n      <td>40.478980</td>\n    </tr>\n    <tr>\n      <th>Caroline</th>\n      <td>40.562914</td>\n    </tr>\n    <tr>\n      <th>Worcester</th>\n      <td>40.603774</td>\n    </tr>\n    <tr>\n      <th>St. Mary's</th>\n      <td>40.628611</td>\n    </tr>\n    <tr>\n      <th>Anne Arundel</th>\n      <td>40.702453</td>\n    </tr>\n    <tr>\n      <th>Garrett</th>\n      <td>41.014634</td>\n    </tr>\n    <tr>\n      <th>Baltimore</th>\n      <td>41.046686</td>\n    </tr>\n    <tr>\n      <th>Harford</th>\n      <td>41.244186</td>\n    </tr>\n    <tr>\n      <th>Calvert</th>\n      <td>41.468908</td>\n    </tr>\n    <tr>\n      <th>Wicomico</th>\n      <td>41.636782</td>\n    </tr>\n    <tr>\n      <th>Montgomery</th>\n      <td>41.710270</td>\n    </tr>\n    <tr>\n      <th>Allegany</th>\n      <td>41.824411</td>\n    </tr>\n    <tr>\n      <th>Somerset</th>\n      <td>42.213793</td>\n    </tr>\n    <tr>\n      <th>Dorchester</th>\n      <td>42.577143</td>\n    </tr>\n    <tr>\n      <th>Washington</th>\n      <td>42.602137</td>\n    </tr>\n    <tr>\n      <th>Kent</th>\n      <td>42.820225</td>\n    </tr>\n    <tr>\n      <th>Carroll</th>\n      <td>42.832132</td>\n    </tr>\n    <tr>\n      <th>Cecil</th>\n      <td>43.073955</td>\n    </tr>\n    <tr>\n      <th>Talbot</th>\n      <td>45.531157</td>\n    </tr>\n  </tbody>\n</table>\n</div>"
     },
     "metadata": {}
    }
   ]
  },
  {
   "cell_type": "code",
   "metadata": {
    "cell_id": "00039-42bbfff1-f93b-4720-8855-a2ea76ccb526",
    "deepnote_to_be_reexecuted": false,
    "source_hash": "62d67bf5",
    "execution_start": 1636935695077,
    "execution_millis": 9,
    "deepnote_output_heights": [
     306
    ],
    "deepnote_cell_type": "code"
   },
   "source": "dfm.dtypes",
   "execution_count": null,
   "outputs": [
    {
     "output_type": "execute_result",
     "execution_count": 25,
     "data": {
      "text/plain": "ACC_DATE                       int64\nACC_TIME                      object\nWEATHER_DESC                  object\nREPORT_NO                     object\nCOUNTY_DESC                   object\nLATITUDE                     float64\nLONGITUDE                    float64\nSEX_CODE                      object\nDATE_OF_BIRTH         datetime64[ns]\nLICENSE_STATE_CODE            object\nVEH_YEAR                       int64\nVEH_MAKE                      object\nSPEED_LIMIT                  float64\nage                            int64\ncar_age                        int64\ndtype: object"
     },
     "metadata": {}
    }
   ]
  },
  {
   "cell_type": "markdown",
   "source": "#### Question 5",
   "metadata": {
    "tags": [],
    "cell_id": "00028-1007dc3c-ebd7-4c47-b325-d6f7810b8ffb",
    "deepnote_cell_type": "markdown"
   }
  },
  {
   "cell_type": "code",
   "metadata": {
    "cell_id": "00042-b3a25578-fd74-4f1f-a8f7-a29b98999986",
    "deepnote_to_be_reexecuted": false,
    "source_hash": "b0945fa5",
    "execution_start": 1636935695131,
    "execution_millis": 4,
    "deepnote_cell_type": "code"
   },
   "source": "#Q5\n#read excel file\nimport pandas as pd\n\ndf = pd.read_excel ('dl1c.xls')\nprint (df)",
   "execution_count": null,
   "outputs": [
    {
     "name": "stdout",
     "text": "                                           Unnamed: 0      Unnamed: 1  \\\n0                                                 NaN             NaN   \n1                                                 NaN             NaN   \n2                                                 NaN             NaN   \n3                                                 NaN             NaN   \n4                                                 NaN             NaN   \n..                                                ...             ...   \n62                                        Wisconsin           2092911   \n63                                          Wyoming            215799   \n64                                              Total  107649685.8276   \n65         1/  Include restricted drivers and grad...             NaN   \n66         2/  Age and/or sex segregation estimate...             NaN   \n\n   Unnamed: 2      Unnamed: 3 Unnamed: 4      Unnamed: 5 Unnamed: 6  \\\n0         NaN             NaN        NaN             NaN        NaN   \n1         NaN             NaN        NaN             NaN        NaN   \n2         NaN             NaN        NaN             NaN        NaN   \n3         NaN             NaN        NaN             NaN        NaN   \n4         NaN             NaN        NaN             NaN        NaN   \n..        ...             ...        ...             ...        ...   \n62      49.89         2101848      50.11         4194759    0.77964   \n63      51.08          206651      48.92          422450   0.521355   \n64      49.36  110434779.4362      50.64  218084465.2638   0.840278   \n65        NaN             NaN        NaN             NaN        NaN   \n66        NaN             NaN        NaN             NaN        NaN   \n\n                                   Unnamed: 7 Unnamed: 8 Unnamed: 9  \\\n0                                         NaN        NaN        NaN   \n1                                         NaN        NaN        NaN   \n2                                         NaN        NaN        NaN   \n3                                         NaN        NaN        NaN   \n4                                         NaN        NaN        NaN   \n..                                        ...        ...        ...   \n62                                    5771337    2282044    2344645   \n63                                     586107     235241     226502   \n64                                  321418820  116502331  122231724   \n65         3/  Source:  Bureau of the Census.        NaN        NaN   \n66                                        NaN        NaN        NaN   \n\n   Unnamed: 10 Unnamed: 11 Unnamed: 12  \n0          NaN         NaN         NaN  \n1          NaN         NaN         NaN  \n2          NaN         NaN         NaN  \n3          NaN         NaN         NaN  \n4          NaN         NaN         NaN  \n..         ...         ...         ...  \n62     4626689   726.82621  906.643822  \n63      461743  720.772828  914.902879  \n64   256152291  678.505587  851.385964  \n65         NaN         NaN         NaN  \n66         NaN         NaN         NaN  \n\n[67 rows x 13 columns]\n",
     "output_type": "stream"
    }
   ]
  },
  {
   "cell_type": "code",
   "metadata": {
    "tags": [],
    "cell_id": "00043-08d8c0e1-9e1c-4e50-b3d5-4498c593e3cc",
    "deepnote_to_be_reexecuted": false,
    "source_hash": "3a071879",
    "execution_start": 1636935695179,
    "execution_millis": 62,
    "deepnote_cell_type": "code"
   },
   "source": "df.dropna(inplace = True)\ndf",
   "execution_count": null,
   "outputs": [
    {
     "output_type": "execute_result",
     "execution_count": 27,
     "data": {
      "application/vnd.deepnote.dataframe.v2+json": {
       "row_count": 53,
       "column_count": 13,
       "columns": [
        {
         "name": "Unnamed: 0",
         "dtype": "object",
         "stats": {
          "unique_count": 53,
          "nan_count": 0,
          "categories": [
           {
            "name": "STATE",
            "count": 1
           },
           {
            "name": "Alabama ",
            "count": 1
           },
           {
            "name": "51 others",
            "count": 51
           }
          ]
         }
        },
        {
         "name": "Unnamed: 1",
         "dtype": "object",
         "stats": {
          "unique_count": 53,
          "nan_count": 0,
          "categories": [
           {
            "name": "MALE",
            "count": 1
           },
           {
            "name": "1896942",
            "count": 1
           },
           {
            "name": "51 others",
            "count": 51
           }
          ]
         }
        },
        {
         "name": "Unnamed: 2",
         "dtype": "object",
         "stats": {
          "unique_count": 49,
          "nan_count": 0,
          "categories": [
           {
            "name": "49",
            "count": 2
           },
           {
            "name": "49.06",
            "count": 2
           },
           {
            "name": "47 others",
            "count": 49
           }
          ]
         }
        },
        {
         "name": "Unnamed: 3",
         "dtype": "object",
         "stats": {
          "unique_count": 53,
          "nan_count": 0,
          "categories": [
           {
            "name": "FEMALE",
            "count": 1
           },
           {
            "name": "2010096",
            "count": 1
           },
           {
            "name": "51 others",
            "count": 51
           }
          ]
         }
        },
        {
         "name": "Unnamed: 4",
         "dtype": "object",
         "stats": {
          "unique_count": 49,
          "nan_count": 0,
          "categories": [
           {
            "name": "51",
            "count": 2
           },
           {
            "name": "50.94",
            "count": 2
           },
           {
            "name": "47 others",
            "count": 49
           }
          ]
         }
        },
        {
         "name": "Unnamed: 5",
         "dtype": "object",
         "stats": {
          "unique_count": 53,
          "nan_count": 0,
          "categories": [
           {
            "name": "TOTAL",
            "count": 1
           },
           {
            "name": "3907038",
            "count": 1
           },
           {
            "name": "51 others",
            "count": 51
           }
          ]
         }
        },
        {
         "name": "Unnamed: 6",
         "dtype": "object",
         "stats": {
          "unique_count": 53,
          "nan_count": 0,
          "categories": [
           {
            "name": "COMMERCIAL MOTOR",
            "count": 1
           },
           {
            "name": "0.7291656518727916",
            "count": 1
           },
           {
            "name": "51 others",
            "count": 51
           }
          ]
         }
        },
        {
         "name": "Unnamed: 7",
         "dtype": "object",
         "stats": {
          "unique_count": 53,
          "nan_count": 0,
          "categories": [
           {
            "name": "RESIDENT",
            "count": 1
           },
           {
            "name": "4858979",
            "count": 1
           },
           {
            "name": "51 others",
            "count": 51
           }
          ]
         }
        },
        {
         "name": "Unnamed: 8",
         "dtype": "object",
         "stats": {
          "unique_count": 53,
          "nan_count": 0,
          "categories": [
           {
            "name": "MALE",
            "count": 1
           },
           {
            "name": "1856630",
            "count": 1
           },
           {
            "name": "51 others",
            "count": 51
           }
          ]
         }
        },
        {
         "name": "Unnamed: 9",
         "dtype": "object",
         "stats": {
          "unique_count": 53,
          "nan_count": 0,
          "categories": [
           {
            "name": "FEMALE",
            "count": 1
           },
           {
            "name": "2027412",
            "count": 1
           },
           {
            "name": "51 others",
            "count": 51
           }
          ]
         }
        },
        {
         "name": "Unnamed: 10",
         "dtype": "object",
         "stats": {
          "unique_count": 53,
          "nan_count": 0,
          "categories": [
           {
            "name": "TOTAL",
            "count": 1
           },
           {
            "name": "3884042",
            "count": 1
           },
           {
            "name": "51 others",
            "count": 51
           }
          ]
         }
        },
        {
         "name": "Unnamed: 11",
         "dtype": "object",
         "stats": {
          "unique_count": 53,
          "nan_count": 0,
          "categories": [
           {
            "name": "TOTAL RESIDENT",
            "count": 1
           },
           {
            "name": "804.0862082342813",
            "count": 1
           },
           {
            "name": "51 others",
            "count": 51
           }
          ]
         }
        },
        {
         "name": "Unnamed: 12",
         "dtype": "object",
         "stats": {
          "unique_count": 53,
          "nan_count": 0,
          "categories": [
           {
            "name": "DRIVING AGE",
            "count": 1
           },
           {
            "name": "1005.9206362856015",
            "count": 1
           },
           {
            "name": "51 others",
            "count": 51
           }
          ]
         }
        },
        {
         "name": "_deepnote_index_column",
         "dtype": "int64"
        }
       ],
       "rows_top": [
        {
         "Unnamed: 0": "STATE",
         "Unnamed: 1": "MALE",
         "Unnamed: 2": "MALE DRIVERS",
         "Unnamed: 3": "FEMALE",
         "Unnamed: 4": "FEMALE DRIVERS",
         "Unnamed: 5": "TOTAL",
         "Unnamed: 6": "COMMERCIAL MOTOR",
         "Unnamed: 7": "RESIDENT",
         "Unnamed: 8": "MALE",
         "Unnamed: 9": "FEMALE",
         "Unnamed: 10": "TOTAL",
         "Unnamed: 11": "TOTAL RESIDENT",
         "Unnamed: 12": "DRIVING AGE",
         "_deepnote_index_column": 11
        },
        {
         "Unnamed: 0": "Alabama ",
         "Unnamed: 1": "1896942",
         "Unnamed: 2": "48.55",
         "Unnamed: 3": "2010096",
         "Unnamed: 4": "51.45",
         "Unnamed: 5": "3907038",
         "Unnamed: 6": "0.7291656518727916",
         "Unnamed: 7": "4858979",
         "Unnamed: 8": "1856630",
         "Unnamed: 9": "2027412",
         "Unnamed: 10": "3884042",
         "Unnamed: 11": "804.0862082342813",
         "Unnamed: 12": "1005.9206362856015",
         "_deepnote_index_column": 13
        },
        {
         "Unnamed: 0": "Alaska  2/",
         "Unnamed: 1": "251993",
         "Unnamed: 2": "47.26",
         "Unnamed: 3": "281234",
         "Unnamed: 4": "52.74",
         "Unnamed: 5": "533227",
         "Unnamed: 6": "0.672451321630347",
         "Unnamed: 7": "738432",
         "Unnamed: 8": "303164",
         "Unnamed: 9": "268654",
         "Unnamed: 10": "571818",
         "Unnamed: 11": "722.1071134512047",
         "Unnamed: 12": "932.5117432469772",
         "_deepnote_index_column": 14
        },
        {
         "Unnamed: 0": "Arizona ",
         "Unnamed: 1": "2502985",
         "Unnamed: 2": "50.27",
         "Unnamed: 3": "2475777",
         "Unnamed: 4": "49.73",
         "Unnamed: 5": "4978762",
         "Unnamed: 6": "0.8953791443837765",
         "Unnamed: 7": "6828065",
         "Unnamed: 8": "2656888",
         "Unnamed: 9": "2730667",
         "Unnamed: 10": "5387555",
         "Unnamed: 11": "729.1614827919769",
         "Unnamed: 12": "924.1227235731236",
         "_deepnote_index_column": 15
        },
        {
         "Unnamed: 0": "Arkansas  ",
         "Unnamed: 1": "1041548",
         "Unnamed: 2": "49.14",
         "Unnamed: 3": "1078030",
         "Unnamed: 4": "50.86",
         "Unnamed: 5": "2119578",
         "Unnamed: 6": "0.7786545916888523",
         "Unnamed: 7": "2978204",
         "Unnamed: 8": "1142655",
         "Unnamed: 9": "1209829",
         "Unnamed: 10": "2352484",
         "Unnamed: 11": "711.6967138584193",
         "Unnamed: 12": "900.9957134671267",
         "_deepnote_index_column": 16
        },
        {
         "Unnamed: 0": "California",
         "Unnamed: 1": "12968614",
         "Unnamed: 2": "50.79",
         "Unnamed: 3": "12564306",
         "Unnamed: 4": "49.21",
         "Unnamed: 5": "25532920",
         "Unnamed: 6": "0.8851357600682125",
         "Unnamed: 7": "39144818",
         "Unnamed: 8": "15312391",
         "Unnamed: 9": "15743511",
         "Unnamed: 10": "31055902",
         "Unnamed: 11": "652.2682006083155",
         "Unnamed: 12": "822.1599874960965",
         "_deepnote_index_column": 17
        },
        {
         "Unnamed: 0": "Colorado 2/",
         "Unnamed: 1": "2037265",
         "Unnamed: 2": "51.26",
         "Unnamed: 3": "1937256",
         "Unnamed: 4": "48.74",
         "Unnamed: 5": "3974521",
         "Unnamed: 6": "0.8027288800309901",
         "Unnamed: 7": "5456574",
         "Unnamed: 8": "2169532",
         "Unnamed: 9": "2166806",
         "Unnamed: 10": "4336338",
         "Unnamed: 11": "728.3912946108676",
         "Unnamed: 12": "916.5616241169392",
         "_deepnote_index_column": 18
        },
        {
         "Unnamed: 0": "Connecticut",
         "Unnamed: 1": "1267221",
         "Unnamed: 2": "49.37",
         "Unnamed: 3": "1299452",
         "Unnamed: 4": "50.63",
         "Unnamed: 5": "2566673",
         "Unnamed: 6": "0.9052089828485658",
         "Unnamed: 7": "3590886",
         "Unnamed: 8": "1410989",
         "Unnamed: 9": "1512679",
         "Unnamed: 10": "2923668",
         "Unnamed: 11": "714.7742924726656",
         "Unnamed: 12": "877.8948225311492",
         "_deepnote_index_column": 19
        },
        {
         "Unnamed: 0": "Delaware",
         "Unnamed: 1": "360931",
         "Unnamed: 2": "48.61",
         "Unnamed: 3": "381593",
         "Unnamed: 4": "51.39",
         "Unnamed: 5": "742524",
         "Unnamed: 6": "0.7761921089163558",
         "Unnamed: 7": "945934",
         "Unnamed: 8": "365838",
         "Unnamed: 9": "398937",
         "Unnamed: 10": "764775",
         "Unnamed: 11": "784.9638558292651",
         "Unnamed: 12": "970.9051681867215",
         "_deepnote_index_column": 20
        },
        {
         "Unnamed: 0": "Dist. of Col. ",
         "Unnamed: 1": "223265",
         "Unnamed: 2": "49",
         "Unnamed: 3": "232337",
         "Unnamed: 4": "51",
         "Unnamed: 5": "455602",
         "Unnamed: 6": "1.5839808643713646",
         "Unnamed: 7": "672228",
         "Unnamed: 8": "264264",
         "Unnamed: 9": "300174",
         "Unnamed: 10": "564438",
         "Unnamed: 11": "677.749216039796",
         "Unnamed: 12": "807.1781134509016",
         "_deepnote_index_column": 21
        },
        {
         "Unnamed: 0": "Florida ",
         "Unnamed: 1": "6988162",
         "Unnamed: 2": "49",
         "Unnamed: 3": "7274553",
         "Unnamed: 4": "51",
         "Unnamed: 5": "14262715",
         "Unnamed: 6": "0.9009898894823453",
         "Unnamed: 7": "20271272",
         "Unnamed: 8": "8051362",
         "Unnamed: 9": "8594046",
         "Unnamed: 10": "16645408",
         "Unnamed: 11": "703.5925027299718",
         "Unnamed: 12": "856.8558367569001",
         "_deepnote_index_column": 22
        },
        {
         "Unnamed: 0": "Georgia ",
         "Unnamed: 1": "3292710",
         "Unnamed: 2": "47.68",
         "Unnamed: 3": "3613481",
         "Unnamed: 4": "52.32",
         "Unnamed: 5": "6906191",
         "Unnamed: 6": "0.8659047099851123",
         "Unnamed: 7": "10214860",
         "Unnamed: 8": "3848476",
         "Unnamed: 9": "4143883",
         "Unnamed: 10": "7992359",
         "Unnamed: 11": "676.0925749349477",
         "Unnamed: 12": "864.0991977462475",
         "_deepnote_index_column": 23
        },
        {
         "Unnamed: 0": "Hawaii",
         "Unnamed: 1": "470553",
         "Unnamed: 2": "51.72",
         "Unnamed: 3": "439244",
         "Unnamed: 4": "48.28",
         "Unnamed: 5": "909797",
         "Unnamed: 6": "0.7466698072095155",
         "Unnamed: 7": "1431603",
         "Unnamed: 8": "582093",
         "Unnamed: 9": "570536",
         "Unnamed: 10": "1152629",
         "Unnamed: 11": "635.5092857447211",
         "Unnamed: 12": "789.3233642394908",
         "_deepnote_index_column": 24
        },
        {
         "Unnamed: 0": "Idaho",
         "Unnamed: 1": "570440",
         "Unnamed: 2": "50.26",
         "Unnamed: 3": "564569",
         "Unnamed: 4": "49.74",
         "Unnamed: 5": "1135009",
         "Unnamed: 6": "0.6157366946322833",
         "Unnamed: 7": "1654930",
         "Unnamed: 8": "632148",
         "Unnamed: 9": "637722",
         "Unnamed: 10": "1269870",
         "Unnamed: 11": "685.8350504250935",
         "Unnamed: 12": "893.7993652893604",
         "_deepnote_index_column": 25
        },
        {
         "Unnamed: 0": "Illinois 2/",
         "Unnamed: 1": "4171408",
         "Unnamed: 2": "49.29",
         "Unnamed: 3": "4290785",
         "Unnamed: 4": "50.71",
         "Unnamed: 5": "8462193",
         "Unnamed: 6": "0.8062442584274994",
         "Unnamed: 7": "12859995",
         "Unnamed: 8": "4981045",
         "Unnamed: 9": "5263154",
         "Unnamed: 10": "10244199",
         "Unnamed: 11": "658.0245948773697",
         "Unnamed: 12": "826.0473073590234",
         "_deepnote_index_column": 26
        },
        {
         "Unnamed: 0": "Indiana ",
         "Unnamed: 1": "2191875",
         "Unnamed: 2": "49.06",
         "Unnamed: 3": "2275973",
         "Unnamed: 4": "50.94",
         "Unnamed: 5": "4467848",
         "Unnamed: 6": "0.74217052396397",
         "Unnamed: 7": "6619680",
         "Unnamed: 8": "2546934",
         "Unnamed: 9": "2675588",
         "Unnamed: 10": "5222522",
         "Unnamed: 11": "674.9341357890412",
         "Unnamed: 12": "855.4962525768202",
         "_deepnote_index_column": 27
        },
        {
         "Unnamed: 0": "Iowa ",
         "Unnamed: 1": "1100569",
         "Unnamed: 2": "49.48",
         "Unnamed: 3": "1123561",
         "Unnamed: 4": "50.52",
         "Unnamed: 5": "2224130",
         "Unnamed: 6": "0.6184596638545637",
         "Unnamed: 7": "3123899",
         "Unnamed: 8": "1221223",
         "Unnamed: 9": "1255757",
         "Unnamed: 10": "2476980",
         "Unnamed: 11": "711.9724421308116",
         "Unnamed: 12": "897.9200478001437",
         "_deepnote_index_column": 28
        },
        {
         "Unnamed: 0": "Kansas",
         "Unnamed: 1": "1004041",
         "Unnamed: 2": "49.49",
         "Unnamed: 3": "1024616",
         "Unnamed: 4": "50.51",
         "Unnamed: 5": "2028657",
         "Unnamed: 6": "0.7808121742617884",
         "Unnamed: 7": "2911641",
         "Unnamed: 8": "1125540",
         "Unnamed: 9": "1145916",
         "Unnamed: 10": "2271456",
         "Unnamed: 11": "696.7400857454611",
         "Unnamed: 12": "893.1086492540468",
         "_deepnote_index_column": 29
        },
        {
         "Unnamed: 0": "Kentucky ",
         "Unnamed: 1": "1489840",
         "Unnamed: 2": "49.31",
         "Unnamed: 3": "1531426",
         "Unnamed: 4": "50.69",
         "Unnamed: 5": "3021266",
         "Unnamed: 6": "0.7440315869133879",
         "Unnamed: 7": "4425092",
         "Unnamed: 8": "1719407",
         "Unnamed: 9": "1808687",
         "Unnamed: 10": "3528094",
         "Unnamed: 11": "682.7577822110817",
         "Unnamed: 12": "856.3450973811922",
         "_deepnote_index_column": 30
        },
        {
         "Unnamed: 0": "Louisiana ",
         "Unnamed: 1": "1616983",
         "Unnamed: 2": "48.17",
         "Unnamed: 3": "1740108",
         "Unnamed: 4": "51.83",
         "Unnamed: 5": "3357091",
         "Unnamed: 6": "0.8800074131471693",
         "Unnamed: 7": "4670724",
         "Unnamed: 8": "1778150",
         "Unnamed: 9": "1900915",
         "Unnamed: 10": "3679065",
         "Unnamed: 11": "718.7517395590063",
         "Unnamed: 12": "912.4848297053735",
         "_deepnote_index_column": 31
        },
        {
         "Unnamed: 0": "Maine ",
         "Unnamed: 1": "504049",
         "Unnamed: 2": "49.42",
         "Unnamed: 3": "515830",
         "Unnamed: 4": "50.58",
         "Unnamed: 5": "1019879",
         "Unnamed: 6": "0.936817913348759",
         "Unnamed: 7": "1329328",
         "Unnamed: 8": "536021",
         "Unnamed: 9": "569057",
         "Unnamed: 10": "1105078",
         "Unnamed: 11": "767.2139607380572",
         "Unnamed: 12": "922.9022747715546",
         "_deepnote_index_column": 32
        },
        {
         "Unnamed: 0": "Maryland ",
         "Unnamed: 1": "2063601",
         "Unnamed: 2": "49.3",
         "Unnamed: 3": "2122151",
         "Unnamed: 4": "50.7",
         "Unnamed: 5": "4185752",
         "Unnamed: 6": "1.030865488218598",
         "Unnamed: 7": "6006401",
         "Unnamed: 8": "2301582",
         "Unnamed: 9": "2509404",
         "Unnamed: 10": "4810986",
         "Unnamed: 11": "696.881876518068",
         "Unnamed: 12": "870.0403617886229",
         "_deepnote_index_column": 33
        },
        {
         "Unnamed: 0": "Massachusetts ",
         "Unnamed: 1": "2473050",
         "Unnamed: 2": "49.06",
         "Unnamed: 3": "2567612",
         "Unnamed: 4": "50.94",
         "Unnamed: 5": "5040662",
         "Unnamed: 6": "1.0058162064398104",
         "Unnamed: 7": "6794422",
         "Unnamed: 8": "2673282",
         "Unnamed: 9": "2901700",
         "Unnamed: 10": "5574982",
         "Unnamed: 11": "741.8823852860479",
         "Unnamed: 12": "904.1575380871185",
         "_deepnote_index_column": 34
        },
        {
         "Unnamed: 0": "Michigan ",
         "Unnamed: 1": "3476382",
         "Unnamed: 2": "48.93",
         "Unnamed: 3": "3628102",
         "Unnamed: 4": "51.07",
         "Unnamed: 5": "7104484",
         "Unnamed: 6": "0.8645583459243913",
         "Unnamed: 7": "9922576",
         "Unnamed: 8": "3886538",
         "Unnamed: 9": "4097088",
         "Unnamed: 10": "7983626",
         "Unnamed: 11": "715.991895652903",
         "Unnamed: 12": "889.8818657086391",
         "_deepnote_index_column": 35
        },
        {
         "Unnamed: 0": "Minnesota ",
         "Unnamed: 1": "1683375",
         "Unnamed: 2": "50.23",
         "Unnamed: 3": "1668055",
         "Unnamed: 4": "49.77",
         "Unnamed: 5": "3351430",
         "Unnamed: 6": "0.641021938269723",
         "Unnamed: 7": "5489594",
         "Unnamed: 8": "2146150",
         "Unnamed: 9": "2201418",
         "Unnamed: 10": "4347568",
         "Unnamed: 11": "610.5059864172105",
         "Unnamed: 12": "770.8746591197654",
         "_deepnote_index_column": 36
        },
        {
         "Unnamed: 0": "Mississippi ",
         "Unnamed: 1": "943750",
         "Unnamed: 2": "47.46",
         "Unnamed: 3": "1044646",
         "Unnamed: 4": "52.54",
         "Unnamed: 5": "1988396",
         "Unnamed: 6": "0.9688447852375122",
         "Unnamed: 7": "2992333",
         "Unnamed: 8": "1122482",
         "Unnamed: 9": "1225123",
         "Unnamed: 10": "2347605",
         "Unnamed: 11": "664.4968992421633",
         "Unnamed: 12": "846.9891655538304",
         "_deepnote_index_column": 37
        },
        {
         "Unnamed: 0": "Missouri ",
         "Unnamed: 1": "2048659",
         "Unnamed: 2": "48.62",
         "Unnamed: 3": "2164643",
         "Unnamed: 4": "51.38",
         "Unnamed: 5": "4213302",
         "Unnamed: 6": "0.7571866019387117",
         "Unnamed: 7": "6083672",
         "Unnamed: 8": "2354612",
         "Unnamed: 9": "2496673",
         "Unnamed: 10": "4851285",
         "Unnamed: 11": "692.5590334258652",
         "Unnamed: 12": "868.4919562548891",
         "_deepnote_index_column": 38
        },
        {
         "Unnamed: 0": "Montana  ",
         "Unnamed: 1": "397220",
         "Unnamed: 2": "50.83",
         "Unnamed: 3": "384207",
         "Unnamed: 4": "49.17",
         "Unnamed: 5": "781427",
         "Unnamed: 6": "0.47710855584706435",
         "Unnamed: 7": "1032949",
         "Unnamed: 8": "416688",
         "Unnamed: 9": "415155",
         "Unnamed: 10": "831843",
         "Unnamed: 11": "756.5010470023205",
         "Unnamed: 12": "939.392409384944",
         "_deepnote_index_column": 39
        },
        {
         "Unnamed: 0": "Nebraska ",
         "Unnamed: 1": "699394",
         "Unnamed: 2": "50.16",
         "Unnamed: 3": "694907",
         "Unnamed: 4": "49.84",
         "Unnamed: 5": "1394301",
         "Unnamed: 6": "0.7195578925530483",
         "Unnamed: 7": "1896190",
         "Unnamed: 8": "730256",
         "Unnamed: 9": "745902",
         "Unnamed: 10": "1476158",
         "Unnamed: 11": "735.3171359410186",
         "Unnamed: 12": "944.5472639107738",
         "_deepnote_index_column": 40
        },
        {
         "Unnamed: 0": "Nevada ",
         "Unnamed: 1": "938460",
         "Unnamed: 2": "51.13",
         "Unnamed: 3": "897051",
         "Unnamed: 4": "48.87",
         "Unnamed: 5": "1835511",
         "Unnamed: 6": "0.8013550699866274",
         "Unnamed: 7": "2890845",
         "Unnamed: 8": "1146779",
         "Unnamed: 9": "1149043",
         "Unnamed: 10": "2295822",
         "Unnamed: 11": "634.939265162954",
         "Unnamed: 12": "799.5005710373017",
         "_deepnote_index_column": 41
        },
        {
         "Unnamed: 0": "New Hampshire ",
         "Unnamed: 1": "539007",
         "Unnamed: 2": "50.15",
         "Unnamed: 3": "535759",
         "Unnamed: 4": "49.85",
         "Unnamed: 5": "1074766",
         "Unnamed: 6": "0.8378138198440626",
         "Unnamed: 7": "1330608",
         "Unnamed: 8": "540284",
         "Unnamed: 9": "559986",
         "Unnamed: 10": "1100270",
         "Unnamed: 11": "807.7254909034066",
         "Unnamed: 12": "976.8202350332191",
         "_deepnote_index_column": 42
        },
        {
         "Unnamed: 0": "New Jersey  ",
         "Unnamed: 1": "3033720",
         "Unnamed: 2": "49.09",
         "Unnamed: 3": "3145598",
         "Unnamed: 4": "50.91",
         "Unnamed: 5": "6179318",
         "Unnamed: 6": "1.0568871580023997",
         "Unnamed: 7": "8958013",
         "Unnamed: 8": "3473439",
         "Unnamed: 9": "3721914",
         "Unnamed: 10": "7195353",
         "Unnamed: 11": "689.8090011702373",
         "Unnamed: 12": "858.7928903557615",
         "_deepnote_index_column": 43
        },
        {
         "Unnamed: 0": "New Mexico  ",
         "Unnamed: 1": "730816",
         "Unnamed: 2": "49.79",
         "Unnamed: 3": "736966",
         "Unnamed: 4": "50.21",
         "Unnamed: 5": "1467782",
         "Unnamed: 6": "0.8189363070864693",
         "Unnamed: 7": "2085109",
         "Unnamed: 8": "808633",
         "Unnamed: 9": "834819",
         "Unnamed: 10": "1643452",
         "Unnamed: 11": "703.9353817953881",
         "Unnamed: 12": "893.109138569304",
         "_deepnote_index_column": 44
        },
        {
         "Unnamed: 0": "New York ",
         "Unnamed: 1": "5689829",
         "Unnamed: 2": "48.67",
         "Unnamed: 3": "6000010",
         "Unnamed: 4": "51.33",
         "Unnamed: 5": "11689839",
         "Unnamed: 6": "1.1125440931374975",
         "Unnamed: 7": "19795791",
         "Unnamed: 8": "7706731",
         "Unnamed: 9": "8363726",
         "Unnamed: 10": "16070457",
         "Unnamed: 11": "590.5214396333039",
         "Unnamed: 12": "727.4117344640541",
         "_deepnote_index_column": 45
        },
        {
         "Unnamed: 0": "North Carolina",
         "Unnamed: 1": "3469901",
         "Unnamed: 2": "48.46",
         "Unnamed: 3": "3690720",
         "Unnamed: 4": "51.54",
         "Unnamed: 5": "7160621",
         "Unnamed: 6": "0.9188780599290087",
         "Unnamed: 7": "10042802",
         "Unnamed: 8": "3855271",
         "Unnamed: 9": "4155199",
         "Unnamed: 10": "8010470",
         "Unnamed: 11": "713.0102734276749",
         "Unnamed: 12": "893.907723267174",
         "_deepnote_index_column": 46
        },
        {
         "Unnamed: 0": "North Dakota ",
         "Unnamed: 1": "283682",
         "Unnamed: 2": "52.05",
         "Unnamed: 3": "261345",
         "Unnamed: 4": "47.95",
         "Unnamed: 5": "545027",
         "Unnamed: 6": "0.6253845350639754",
         "Unnamed: 7": "756927",
         "Unnamed: 8": "308828",
         "Unnamed: 9": "291814",
         "Unnamed: 10": "600642",
         "Unnamed: 11": "720.052263956762",
         "Unnamed: 12": "907.4074074074074",
         "_deepnote_index_column": 47
        },
        {
         "Unnamed: 0": "Ohio ",
         "Unnamed: 1": "3839738",
         "Unnamed: 2": "48.46",
         "Unnamed: 3": "4083701",
         "Unnamed: 4": "51.54",
         "Unnamed: 5": "7923439",
         "Unnamed: 6": "0.7590525387957053",
         "Unnamed: 7": "11613423",
         "Unnamed: 8": "4501948",
         "Unnamed: 9": "4793103",
         "Unnamed: 10": "9295051",
         "Unnamed: 11": "682.2655990400074",
         "Unnamed: 12": "852.4363126140997",
         "_deepnote_index_column": 48
        },
        {
         "Unnamed: 0": "Oklahoma",
         "Unnamed: 1": "1276575",
         "Unnamed: 2": "48.69",
         "Unnamed: 3": "1345158",
         "Unnamed: 4": "51.31",
         "Unnamed: 5": "2621733",
         "Unnamed: 6": "0.884300350045906",
         "Unnamed: 7": "3911338",
         "Unnamed: 8": "1499350",
         "Unnamed: 9": "1555823",
         "Unnamed: 10": "3055173",
         "Unnamed: 11": "670.2905757569405",
         "Unnamed: 12": "858.1291468600961",
         "_deepnote_index_column": 49
        },
        {
         "Unnamed: 0": "Oregon ",
         "Unnamed: 1": "1384681",
         "Unnamed: 2": "49.3",
         "Unnamed: 3": "1423867",
         "Unnamed: 4": "50.7",
         "Unnamed: 5": "2808548",
         "Unnamed: 6": "0.7953085948495127",
         "Unnamed: 7": "4028977",
         "Unnamed: 8": "1602541",
         "Unnamed: 9": "1662443",
         "Unnamed: 10": "3264984",
         "Unnamed: 11": "697.0871265832493",
         "Unnamed: 12": "860.2026839947761",
         "_deepnote_index_column": 50
        },
        {
         "Unnamed: 0": "Pennsylvania",
         "Unnamed: 1": "4436952",
         "Unnamed: 2": "49.61",
         "Unnamed: 3": "4506015",
         "Unnamed: 4": "50.39",
         "Unnamed: 5": "8942967",
         "Unnamed: 6": "0.8536599265179653",
         "Unnamed: 7": "12802503",
         "Unnamed: 8": "5051811",
         "Unnamed: 9": "5379733",
         "Unnamed: 10": "10431544",
         "Unnamed: 11": "698.5327009882363",
         "Unnamed: 12": "857.3004149721269",
         "_deepnote_index_column": 51
        },
        {
         "Unnamed: 0": "Rhode Island ",
         "Unnamed: 1": "364553",
         "Unnamed: 2": "48.9",
         "Unnamed: 3": "380917",
         "Unnamed: 4": "51.1",
         "Unnamed: 5": "745470",
         "Unnamed: 6": "0.8674852736848719",
         "Unnamed: 7": "1056298",
         "Unnamed: 8": "417237",
         "Unnamed: 9": "453874",
         "Unnamed: 10": "871111",
         "Unnamed: 11": "705.7383427782689",
         "Unnamed: 12": "855.7692418073013",
         "_deepnote_index_column": 52
        },
        {
         "Unnamed: 0": "South Carolina ",
         "Unnamed: 1": "1770019",
         "Unnamed: 2": "48.05",
         "Unnamed: 3": "1913805",
         "Unnamed: 4": "51.95",
         "Unnamed: 5": "3683824",
         "Unnamed: 6": "0.9171938999209991",
         "Unnamed: 7": "4896146",
         "Unnamed: 8": "1886353",
         "Unnamed: 9": "2041073",
         "Unnamed: 10": "3927426",
         "Unnamed: 11": "752.3925961358178",
         "Unnamed: 12": "937.9741336946896",
         "_deepnote_index_column": 53
        },
        {
         "Unnamed: 0": "South Dakota",
         "Unnamed: 1": "332694",
         "Unnamed: 2": "50.74",
         "Unnamed: 3": "323013",
         "Unnamed: 4": "49.26",
         "Unnamed: 5": "655707",
         "Unnamed: 6": "0.6220615565887825",
         "Unnamed: 7": "858469",
         "Unnamed: 8": "334738",
         "Unnamed: 9": "334448",
         "Unnamed: 10": "669186",
         "Unnamed: 11": "763.8097590011986",
         "Unnamed: 12": "979.8576180613462",
         "_deepnote_index_column": 54
        },
        {
         "Unnamed: 0": "Tennessee ",
         "Unnamed: 1": "2212868",
         "Unnamed: 2": "47.88",
         "Unnamed: 3": "2408533",
         "Unnamed: 4": "52.12",
         "Unnamed: 5": "4621401",
         "Unnamed: 6": "0.846083163435682",
         "Unnamed: 7": "6600299",
         "Unnamed: 8": "2541672",
         "Unnamed: 9": "2731652",
         "Unnamed: 10": "5273324",
         "Unnamed: 11": "700.1805524264886",
         "Unnamed: 12": "876.3734221527068",
         "_deepnote_index_column": 55
        },
        {
         "Unnamed: 0": "Texas",
         "Unnamed: 1": "7824635",
         "Unnamed: 2": "49.27",
         "Unnamed: 3": "8055241",
         "Unnamed: 4": "50.73",
         "Unnamed: 5": "15879876",
         "Unnamed: 6": "0.7368949084990262",
         "Unnamed: 7": "27469114",
         "Unnamed: 8": "10359829",
         "Unnamed: 9": "10679182",
         "Unnamed: 10": "21039011",
         "Unnamed: 11": "578.099315471187",
         "Unnamed: 12": "754.7824372542988",
         "_deepnote_index_column": 56
        },
        {
         "Unnamed: 0": "Utah ",
         "Unnamed: 1": "969059",
         "Unnamed: 2": "50.64",
         "Unnamed: 3": "944505",
         "Unnamed: 4": "49.36",
         "Unnamed: 5": "1913564",
         "Unnamed: 6": "0.8731387959072674",
         "Unnamed: 7": "2995919",
         "Unnamed: 8": "1087382",
         "Unnamed: 9": "1091484",
         "Unnamed: 10": "2178866",
         "Unnamed: 11": "638.7235435938021",
         "Unnamed: 12": "878.2384965390253",
         "_deepnote_index_column": 57
        },
        {
         "Unnamed: 0": "Vermont ",
         "Unnamed: 1": "272862",
         "Unnamed: 2": "49.72",
         "Unnamed: 3": "275937",
         "Unnamed: 4": "50.28",
         "Unnamed: 5": "548799",
         "Unnamed: 6": "0.8493118673288257",
         "Unnamed: 7": "626042",
         "Unnamed: 8": "254483",
         "Unnamed: 9": "266860",
         "Unnamed: 10": "521343",
         "Unnamed: 11": "876.6169042971558",
         "Unnamed: 12": "1052.6639851307104",
         "_deepnote_index_column": 58
        },
        {
         "Unnamed: 0": "Virginia ",
         "Unnamed: 1": "2805622",
         "Unnamed: 2": "48.2",
         "Unnamed: 3": "3014587",
         "Unnamed: 4": "51.8",
         "Unnamed: 5": "5820209",
         "Unnamed: 6": "0.8198236090297369",
         "Unnamed: 7": "8382993",
         "Unnamed: 8": "3276384",
         "Unnamed: 9": "3445115",
         "Unnamed: 10": "6721499",
         "Unnamed: 11": "694.2877084592579",
         "Unnamed: 12": "865.9093752747713",
         "_deepnote_index_column": 59
        },
        {
         "Unnamed: 0": "Washington ",
         "Unnamed: 1": "2849266",
         "Unnamed: 2": "51.65",
         "Unnamed: 3": "2666868",
         "Unnamed: 4": "48.35",
         "Unnamed: 5": "5516134",
         "Unnamed: 6": "0.8433543957862659",
         "Unnamed: 7": "7170351",
         "Unnamed: 8": "2852519",
         "Unnamed: 9": "2885223",
         "Unnamed: 10": "5737742",
         "Unnamed: 11": "769.2976257368712",
         "Unnamed: 12": "961.3771410425913",
         "_deepnote_index_column": 60
        },
        {
         "Unnamed: 0": "West Virginia ",
         "Unnamed: 1": "579211.8276",
         "Unnamed: 2": "49.62",
         "Unnamed: 3": "588134.4362",
         "Unnamed: 4": "50.38",
         "Unnamed: 5": "1167346.2637999998",
         "Unnamed: 6": "0.7432983000900989",
         "Unnamed: 7": "1844128",
         "Unnamed: 8": "739350",
         "Unnamed: 9": "769050",
         "Unnamed: 10": "1508400",
         "Unnamed: 11": "633.0071794365682",
         "Unnamed: 12": "773.8970192256694",
         "_deepnote_index_column": 61
        },
        {
         "Unnamed: 0": "Wisconsin  ",
         "Unnamed: 1": "2092911",
         "Unnamed: 2": "49.89",
         "Unnamed: 3": "2101848",
         "Unnamed: 4": "50.11",
         "Unnamed: 5": "4194759",
         "Unnamed: 6": "0.7796403486224106",
         "Unnamed: 7": "5771337",
         "Unnamed: 8": "2282044",
         "Unnamed: 9": "2344645",
         "Unnamed: 10": "4626689",
         "Unnamed: 11": "726.8262102871483",
         "Unnamed: 12": "906.6438223965345",
         "_deepnote_index_column": 62
        },
        {
         "Unnamed: 0": "Wyoming  ",
         "Unnamed: 1": "215799",
         "Unnamed: 2": "51.08",
         "Unnamed: 3": "206651",
         "Unnamed: 4": "48.92",
         "Unnamed: 5": "422450",
         "Unnamed: 6": "0.5213552645219254",
         "Unnamed: 7": "586107",
         "Unnamed: 8": "235241",
         "Unnamed: 9": "226502",
         "Unnamed: 10": "461743",
         "Unnamed: 11": "720.7728281696004",
         "Unnamed: 12": "914.9028788741789",
         "_deepnote_index_column": 63
        },
        {
         "Unnamed: 0": "Total",
         "Unnamed: 1": "107649685.8276",
         "Unnamed: 2": "49.36",
         "Unnamed: 3": "110434779.4362",
         "Unnamed: 4": "50.64",
         "Unnamed: 5": "218084465.2638",
         "Unnamed: 6": "0.8402784161438345",
         "Unnamed: 7": "321418820",
         "Unnamed: 8": "116502331",
         "Unnamed: 9": "122231724",
         "Unnamed: 10": "256152291",
         "Unnamed: 11": "678.5055873946648",
         "Unnamed: 12": "851.3859642340658",
         "_deepnote_index_column": 64
        }
       ],
       "rows_bottom": null
      },
      "text/plain": "         Unnamed: 0      Unnamed: 1    Unnamed: 2      Unnamed: 3  \\\n11            STATE            MALE  MALE DRIVERS          FEMALE   \n13         Alabama          1896942         48.55         2010096   \n14       Alaska  2/          251993         47.26          281234   \n15         Arizona          2502985         50.27         2475777   \n16       Arkansas           1041548         49.14         1078030   \n17       California        12968614         50.79        12564306   \n18      Colorado 2/         2037265         51.26         1937256   \n19      Connecticut         1267221         49.37         1299452   \n20         Delaware          360931         48.61          381593   \n21   Dist. of Col.           223265            49          232337   \n22         Florida          6988162            49         7274553   \n23         Georgia          3292710         47.68         3613481   \n24           Hawaii          470553         51.72          439244   \n25            Idaho          570440         50.26          564569   \n26      Illinois 2/         4171408         49.29         4290785   \n27         Indiana          2191875         49.06         2275973   \n28            Iowa          1100569         49.48         1123561   \n29           Kansas         1004041         49.49         1024616   \n30        Kentucky          1489840         49.31         1531426   \n31       Louisiana          1616983         48.17         1740108   \n32           Maine           504049         49.42          515830   \n33        Maryland          2063601          49.3         2122151   \n34   Massachusetts          2473050         49.06         2567612   \n35        Michigan          3476382         48.93         3628102   \n36       Minnesota          1683375         50.23         1668055   \n37     Mississippi           943750         47.46         1044646   \n38        Missouri          2048659         48.62         2164643   \n39        Montana            397220         50.83          384207   \n40        Nebraska           699394         50.16          694907   \n41          Nevada           938460         51.13          897051   \n42   New Hampshire           539007         50.15          535759   \n43     New Jersey           3033720         49.09         3145598   \n44     New Mexico            730816         49.79          736966   \n45        New York          5689829         48.67         6000010   \n46   North Carolina         3469901         48.46         3690720   \n47    North Dakota           283682         52.05          261345   \n48            Ohio          3839738         48.46         4083701   \n49         Oklahoma         1276575         48.69         1345158   \n50          Oregon          1384681          49.3         1423867   \n51     Pennsylvania         4436952         49.61         4506015   \n52    Rhode Island           364553          48.9          380917   \n53  South Carolina          1770019         48.05         1913805   \n54     South Dakota          332694         50.74          323013   \n55       Tennessee          2212868         47.88         2408533   \n56            Texas         7824635         49.27         8055241   \n57            Utah           969059         50.64          944505   \n58         Vermont           272862         49.72          275937   \n59        Virginia          2805622          48.2         3014587   \n60      Washington          2849266         51.65         2666868   \n61   West Virginia      579211.8276         49.62     588134.4362   \n62      Wisconsin           2092911         49.89         2101848   \n63        Wyoming            215799         51.08          206651   \n64            Total  107649685.8276         49.36  110434779.4362   \n\n        Unnamed: 4      Unnamed: 5        Unnamed: 6 Unnamed: 7 Unnamed: 8  \\\n11  FEMALE DRIVERS           TOTAL  COMMERCIAL MOTOR   RESIDENT       MALE   \n13           51.45         3907038          0.729166    4858979    1856630   \n14           52.74          533227          0.672451     738432     303164   \n15           49.73         4978762          0.895379    6828065    2656888   \n16           50.86         2119578          0.778655    2978204    1142655   \n17           49.21        25532920          0.885136   39144818   15312391   \n18           48.74         3974521          0.802729    5456574    2169532   \n19           50.63         2566673          0.905209    3590886    1410989   \n20           51.39          742524          0.776192     945934     365838   \n21              51          455602          1.583981     672228     264264   \n22              51        14262715           0.90099   20271272    8051362   \n23           52.32         6906191          0.865905   10214860    3848476   \n24           48.28          909797           0.74667    1431603     582093   \n25           49.74         1135009          0.615737    1654930     632148   \n26           50.71         8462193          0.806244   12859995    4981045   \n27           50.94         4467848          0.742171    6619680    2546934   \n28           50.52         2224130           0.61846    3123899    1221223   \n29           50.51         2028657          0.780812    2911641    1125540   \n30           50.69         3021266          0.744032    4425092    1719407   \n31           51.83         3357091          0.880007    4670724    1778150   \n32           50.58         1019879          0.936818    1329328     536021   \n33            50.7         4185752          1.030865    6006401    2301582   \n34           50.94         5040662          1.005816    6794422    2673282   \n35           51.07         7104484          0.864558    9922576    3886538   \n36           49.77         3351430          0.641022    5489594    2146150   \n37           52.54         1988396          0.968845    2992333    1122482   \n38           51.38         4213302          0.757187    6083672    2354612   \n39           49.17          781427          0.477109    1032949     416688   \n40           49.84         1394301          0.719558    1896190     730256   \n41           48.87         1835511          0.801355    2890845    1146779   \n42           49.85         1074766          0.837814    1330608     540284   \n43           50.91         6179318          1.056887    8958013    3473439   \n44           50.21         1467782          0.818936    2085109     808633   \n45           51.33        11689839          1.112544   19795791    7706731   \n46           51.54         7160621          0.918878   10042802    3855271   \n47           47.95          545027          0.625385     756927     308828   \n48           51.54         7923439          0.759053   11613423    4501948   \n49           51.31         2621733            0.8843    3911338    1499350   \n50            50.7         2808548          0.795309    4028977    1602541   \n51           50.39         8942967           0.85366   12802503    5051811   \n52            51.1          745470          0.867485    1056298     417237   \n53           51.95         3683824          0.917194    4896146    1886353   \n54           49.26          655707          0.622062     858469     334738   \n55           52.12         4621401          0.846083    6600299    2541672   \n56           50.73        15879876          0.736895   27469114   10359829   \n57           49.36         1913564          0.873139    2995919    1087382   \n58           50.28          548799          0.849312     626042     254483   \n59            51.8         5820209          0.819824    8382993    3276384   \n60           48.35         5516134          0.843354    7170351    2852519   \n61           50.38    1167346.2638          0.743298    1844128     739350   \n62           50.11         4194759           0.77964    5771337    2282044   \n63           48.92          422450          0.521355     586107     235241   \n64           50.64  218084465.2638          0.840278  321418820  116502331   \n\n   Unnamed: 9 Unnamed: 10     Unnamed: 11  Unnamed: 12  \n11     FEMALE       TOTAL  TOTAL RESIDENT  DRIVING AGE  \n13    2027412     3884042      804.086208  1005.920636  \n14     268654      571818      722.107113   932.511743  \n15    2730667     5387555      729.161483   924.122724  \n16    1209829     2352484      711.696714   900.995713  \n17   15743511    31055902      652.268201   822.159987  \n18    2166806     4336338      728.391295   916.561624  \n19    1512679     2923668      714.774292   877.894823  \n20     398937      764775      784.963856   970.905168  \n21     300174      564438      677.749216   807.178113  \n22    8594046    16645408      703.592503   856.855837  \n23    4143883     7992359      676.092575   864.099198  \n24     570536     1152629      635.509286   789.323364  \n25     637722     1269870       685.83505   893.799365  \n26    5263154    10244199      658.024595   826.047307  \n27    2675588     5222522      674.934136   855.496253  \n28    1255757     2476980      711.972442   897.920048  \n29    1145916     2271456      696.740086   893.108649  \n30    1808687     3528094      682.757782   856.345097  \n31    1900915     3679065       718.75174    912.48483  \n32     569057     1105078      767.213961   922.902275  \n33    2509404     4810986      696.881877   870.040362  \n34    2901700     5574982      741.882385   904.157538  \n35    4097088     7983626      715.991896   889.881866  \n36    2201418     4347568      610.505986   770.874659  \n37    1225123     2347605      664.496899   846.989166  \n38    2496673     4851285      692.559033   868.491956  \n39     415155      831843      756.501047   939.392409  \n40     745902     1476158      735.317136   944.547264  \n41    1149043     2295822      634.939265   799.500571  \n42     559986     1100270      807.725491   976.820235  \n43    3721914     7195353      689.809001    858.79289  \n44     834819     1643452      703.935382   893.109139  \n45    8363726    16070457       590.52144   727.411734  \n46    4155199     8010470      713.010273   893.907723  \n47     291814      600642      720.052264   907.407407  \n48    4793103     9295051      682.265599   852.436313  \n49    1555823     3055173      670.290576   858.129147  \n50    1662443     3264984      697.087127   860.202684  \n51    5379733    10431544      698.532701   857.300415  \n52     453874      871111      705.738343   855.769242  \n53    2041073     3927426      752.392596   937.974134  \n54     334448      669186      763.809759   979.857618  \n55    2731652     5273324      700.180552   876.373422  \n56   10679182    21039011      578.099315   754.782437  \n57    1091484     2178866      638.723544   878.238497  \n58     266860      521343      876.616904  1052.663985  \n59    3445115     6721499      694.287708   865.909375  \n60    2885223     5737742      769.297626   961.377141  \n61     769050     1508400      633.007179   773.897019  \n62    2344645     4626689       726.82621   906.643822  \n63     226502      461743      720.772828   914.902879  \n64  122231724   256152291      678.505587   851.385964  ",
      "text/html": "<div>\n<style scoped>\n    .dataframe tbody tr th:only-of-type {\n        vertical-align: middle;\n    }\n\n    .dataframe tbody tr th {\n        vertical-align: top;\n    }\n\n    .dataframe thead th {\n        text-align: right;\n    }\n</style>\n<table border=\"1\" class=\"dataframe\">\n  <thead>\n    <tr style=\"text-align: right;\">\n      <th></th>\n      <th>Unnamed: 0</th>\n      <th>Unnamed: 1</th>\n      <th>Unnamed: 2</th>\n      <th>Unnamed: 3</th>\n      <th>Unnamed: 4</th>\n      <th>Unnamed: 5</th>\n      <th>Unnamed: 6</th>\n      <th>Unnamed: 7</th>\n      <th>Unnamed: 8</th>\n      <th>Unnamed: 9</th>\n      <th>Unnamed: 10</th>\n      <th>Unnamed: 11</th>\n      <th>Unnamed: 12</th>\n    </tr>\n  </thead>\n  <tbody>\n    <tr>\n      <th>11</th>\n      <td>STATE</td>\n      <td>MALE</td>\n      <td>MALE DRIVERS</td>\n      <td>FEMALE</td>\n      <td>FEMALE DRIVERS</td>\n      <td>TOTAL</td>\n      <td>COMMERCIAL MOTOR</td>\n      <td>RESIDENT</td>\n      <td>MALE</td>\n      <td>FEMALE</td>\n      <td>TOTAL</td>\n      <td>TOTAL RESIDENT</td>\n      <td>DRIVING AGE</td>\n    </tr>\n    <tr>\n      <th>13</th>\n      <td>Alabama</td>\n      <td>1896942</td>\n      <td>48.55</td>\n      <td>2010096</td>\n      <td>51.45</td>\n      <td>3907038</td>\n      <td>0.729166</td>\n      <td>4858979</td>\n      <td>1856630</td>\n      <td>2027412</td>\n      <td>3884042</td>\n      <td>804.086208</td>\n      <td>1005.920636</td>\n    </tr>\n    <tr>\n      <th>14</th>\n      <td>Alaska  2/</td>\n      <td>251993</td>\n      <td>47.26</td>\n      <td>281234</td>\n      <td>52.74</td>\n      <td>533227</td>\n      <td>0.672451</td>\n      <td>738432</td>\n      <td>303164</td>\n      <td>268654</td>\n      <td>571818</td>\n      <td>722.107113</td>\n      <td>932.511743</td>\n    </tr>\n    <tr>\n      <th>15</th>\n      <td>Arizona</td>\n      <td>2502985</td>\n      <td>50.27</td>\n      <td>2475777</td>\n      <td>49.73</td>\n      <td>4978762</td>\n      <td>0.895379</td>\n      <td>6828065</td>\n      <td>2656888</td>\n      <td>2730667</td>\n      <td>5387555</td>\n      <td>729.161483</td>\n      <td>924.122724</td>\n    </tr>\n    <tr>\n      <th>16</th>\n      <td>Arkansas</td>\n      <td>1041548</td>\n      <td>49.14</td>\n      <td>1078030</td>\n      <td>50.86</td>\n      <td>2119578</td>\n      <td>0.778655</td>\n      <td>2978204</td>\n      <td>1142655</td>\n      <td>1209829</td>\n      <td>2352484</td>\n      <td>711.696714</td>\n      <td>900.995713</td>\n    </tr>\n    <tr>\n      <th>17</th>\n      <td>California</td>\n      <td>12968614</td>\n      <td>50.79</td>\n      <td>12564306</td>\n      <td>49.21</td>\n      <td>25532920</td>\n      <td>0.885136</td>\n      <td>39144818</td>\n      <td>15312391</td>\n      <td>15743511</td>\n      <td>31055902</td>\n      <td>652.268201</td>\n      <td>822.159987</td>\n    </tr>\n    <tr>\n      <th>18</th>\n      <td>Colorado 2/</td>\n      <td>2037265</td>\n      <td>51.26</td>\n      <td>1937256</td>\n      <td>48.74</td>\n      <td>3974521</td>\n      <td>0.802729</td>\n      <td>5456574</td>\n      <td>2169532</td>\n      <td>2166806</td>\n      <td>4336338</td>\n      <td>728.391295</td>\n      <td>916.561624</td>\n    </tr>\n    <tr>\n      <th>19</th>\n      <td>Connecticut</td>\n      <td>1267221</td>\n      <td>49.37</td>\n      <td>1299452</td>\n      <td>50.63</td>\n      <td>2566673</td>\n      <td>0.905209</td>\n      <td>3590886</td>\n      <td>1410989</td>\n      <td>1512679</td>\n      <td>2923668</td>\n      <td>714.774292</td>\n      <td>877.894823</td>\n    </tr>\n    <tr>\n      <th>20</th>\n      <td>Delaware</td>\n      <td>360931</td>\n      <td>48.61</td>\n      <td>381593</td>\n      <td>51.39</td>\n      <td>742524</td>\n      <td>0.776192</td>\n      <td>945934</td>\n      <td>365838</td>\n      <td>398937</td>\n      <td>764775</td>\n      <td>784.963856</td>\n      <td>970.905168</td>\n    </tr>\n    <tr>\n      <th>21</th>\n      <td>Dist. of Col.</td>\n      <td>223265</td>\n      <td>49</td>\n      <td>232337</td>\n      <td>51</td>\n      <td>455602</td>\n      <td>1.583981</td>\n      <td>672228</td>\n      <td>264264</td>\n      <td>300174</td>\n      <td>564438</td>\n      <td>677.749216</td>\n      <td>807.178113</td>\n    </tr>\n    <tr>\n      <th>22</th>\n      <td>Florida</td>\n      <td>6988162</td>\n      <td>49</td>\n      <td>7274553</td>\n      <td>51</td>\n      <td>14262715</td>\n      <td>0.90099</td>\n      <td>20271272</td>\n      <td>8051362</td>\n      <td>8594046</td>\n      <td>16645408</td>\n      <td>703.592503</td>\n      <td>856.855837</td>\n    </tr>\n    <tr>\n      <th>23</th>\n      <td>Georgia</td>\n      <td>3292710</td>\n      <td>47.68</td>\n      <td>3613481</td>\n      <td>52.32</td>\n      <td>6906191</td>\n      <td>0.865905</td>\n      <td>10214860</td>\n      <td>3848476</td>\n      <td>4143883</td>\n      <td>7992359</td>\n      <td>676.092575</td>\n      <td>864.099198</td>\n    </tr>\n    <tr>\n      <th>24</th>\n      <td>Hawaii</td>\n      <td>470553</td>\n      <td>51.72</td>\n      <td>439244</td>\n      <td>48.28</td>\n      <td>909797</td>\n      <td>0.74667</td>\n      <td>1431603</td>\n      <td>582093</td>\n      <td>570536</td>\n      <td>1152629</td>\n      <td>635.509286</td>\n      <td>789.323364</td>\n    </tr>\n    <tr>\n      <th>25</th>\n      <td>Idaho</td>\n      <td>570440</td>\n      <td>50.26</td>\n      <td>564569</td>\n      <td>49.74</td>\n      <td>1135009</td>\n      <td>0.615737</td>\n      <td>1654930</td>\n      <td>632148</td>\n      <td>637722</td>\n      <td>1269870</td>\n      <td>685.83505</td>\n      <td>893.799365</td>\n    </tr>\n    <tr>\n      <th>26</th>\n      <td>Illinois 2/</td>\n      <td>4171408</td>\n      <td>49.29</td>\n      <td>4290785</td>\n      <td>50.71</td>\n      <td>8462193</td>\n      <td>0.806244</td>\n      <td>12859995</td>\n      <td>4981045</td>\n      <td>5263154</td>\n      <td>10244199</td>\n      <td>658.024595</td>\n      <td>826.047307</td>\n    </tr>\n    <tr>\n      <th>27</th>\n      <td>Indiana</td>\n      <td>2191875</td>\n      <td>49.06</td>\n      <td>2275973</td>\n      <td>50.94</td>\n      <td>4467848</td>\n      <td>0.742171</td>\n      <td>6619680</td>\n      <td>2546934</td>\n      <td>2675588</td>\n      <td>5222522</td>\n      <td>674.934136</td>\n      <td>855.496253</td>\n    </tr>\n    <tr>\n      <th>28</th>\n      <td>Iowa</td>\n      <td>1100569</td>\n      <td>49.48</td>\n      <td>1123561</td>\n      <td>50.52</td>\n      <td>2224130</td>\n      <td>0.61846</td>\n      <td>3123899</td>\n      <td>1221223</td>\n      <td>1255757</td>\n      <td>2476980</td>\n      <td>711.972442</td>\n      <td>897.920048</td>\n    </tr>\n    <tr>\n      <th>29</th>\n      <td>Kansas</td>\n      <td>1004041</td>\n      <td>49.49</td>\n      <td>1024616</td>\n      <td>50.51</td>\n      <td>2028657</td>\n      <td>0.780812</td>\n      <td>2911641</td>\n      <td>1125540</td>\n      <td>1145916</td>\n      <td>2271456</td>\n      <td>696.740086</td>\n      <td>893.108649</td>\n    </tr>\n    <tr>\n      <th>30</th>\n      <td>Kentucky</td>\n      <td>1489840</td>\n      <td>49.31</td>\n      <td>1531426</td>\n      <td>50.69</td>\n      <td>3021266</td>\n      <td>0.744032</td>\n      <td>4425092</td>\n      <td>1719407</td>\n      <td>1808687</td>\n      <td>3528094</td>\n      <td>682.757782</td>\n      <td>856.345097</td>\n    </tr>\n    <tr>\n      <th>31</th>\n      <td>Louisiana</td>\n      <td>1616983</td>\n      <td>48.17</td>\n      <td>1740108</td>\n      <td>51.83</td>\n      <td>3357091</td>\n      <td>0.880007</td>\n      <td>4670724</td>\n      <td>1778150</td>\n      <td>1900915</td>\n      <td>3679065</td>\n      <td>718.75174</td>\n      <td>912.48483</td>\n    </tr>\n    <tr>\n      <th>32</th>\n      <td>Maine</td>\n      <td>504049</td>\n      <td>49.42</td>\n      <td>515830</td>\n      <td>50.58</td>\n      <td>1019879</td>\n      <td>0.936818</td>\n      <td>1329328</td>\n      <td>536021</td>\n      <td>569057</td>\n      <td>1105078</td>\n      <td>767.213961</td>\n      <td>922.902275</td>\n    </tr>\n    <tr>\n      <th>33</th>\n      <td>Maryland</td>\n      <td>2063601</td>\n      <td>49.3</td>\n      <td>2122151</td>\n      <td>50.7</td>\n      <td>4185752</td>\n      <td>1.030865</td>\n      <td>6006401</td>\n      <td>2301582</td>\n      <td>2509404</td>\n      <td>4810986</td>\n      <td>696.881877</td>\n      <td>870.040362</td>\n    </tr>\n    <tr>\n      <th>34</th>\n      <td>Massachusetts</td>\n      <td>2473050</td>\n      <td>49.06</td>\n      <td>2567612</td>\n      <td>50.94</td>\n      <td>5040662</td>\n      <td>1.005816</td>\n      <td>6794422</td>\n      <td>2673282</td>\n      <td>2901700</td>\n      <td>5574982</td>\n      <td>741.882385</td>\n      <td>904.157538</td>\n    </tr>\n    <tr>\n      <th>35</th>\n      <td>Michigan</td>\n      <td>3476382</td>\n      <td>48.93</td>\n      <td>3628102</td>\n      <td>51.07</td>\n      <td>7104484</td>\n      <td>0.864558</td>\n      <td>9922576</td>\n      <td>3886538</td>\n      <td>4097088</td>\n      <td>7983626</td>\n      <td>715.991896</td>\n      <td>889.881866</td>\n    </tr>\n    <tr>\n      <th>36</th>\n      <td>Minnesota</td>\n      <td>1683375</td>\n      <td>50.23</td>\n      <td>1668055</td>\n      <td>49.77</td>\n      <td>3351430</td>\n      <td>0.641022</td>\n      <td>5489594</td>\n      <td>2146150</td>\n      <td>2201418</td>\n      <td>4347568</td>\n      <td>610.505986</td>\n      <td>770.874659</td>\n    </tr>\n    <tr>\n      <th>37</th>\n      <td>Mississippi</td>\n      <td>943750</td>\n      <td>47.46</td>\n      <td>1044646</td>\n      <td>52.54</td>\n      <td>1988396</td>\n      <td>0.968845</td>\n      <td>2992333</td>\n      <td>1122482</td>\n      <td>1225123</td>\n      <td>2347605</td>\n      <td>664.496899</td>\n      <td>846.989166</td>\n    </tr>\n    <tr>\n      <th>38</th>\n      <td>Missouri</td>\n      <td>2048659</td>\n      <td>48.62</td>\n      <td>2164643</td>\n      <td>51.38</td>\n      <td>4213302</td>\n      <td>0.757187</td>\n      <td>6083672</td>\n      <td>2354612</td>\n      <td>2496673</td>\n      <td>4851285</td>\n      <td>692.559033</td>\n      <td>868.491956</td>\n    </tr>\n    <tr>\n      <th>39</th>\n      <td>Montana</td>\n      <td>397220</td>\n      <td>50.83</td>\n      <td>384207</td>\n      <td>49.17</td>\n      <td>781427</td>\n      <td>0.477109</td>\n      <td>1032949</td>\n      <td>416688</td>\n      <td>415155</td>\n      <td>831843</td>\n      <td>756.501047</td>\n      <td>939.392409</td>\n    </tr>\n    <tr>\n      <th>40</th>\n      <td>Nebraska</td>\n      <td>699394</td>\n      <td>50.16</td>\n      <td>694907</td>\n      <td>49.84</td>\n      <td>1394301</td>\n      <td>0.719558</td>\n      <td>1896190</td>\n      <td>730256</td>\n      <td>745902</td>\n      <td>1476158</td>\n      <td>735.317136</td>\n      <td>944.547264</td>\n    </tr>\n    <tr>\n      <th>41</th>\n      <td>Nevada</td>\n      <td>938460</td>\n      <td>51.13</td>\n      <td>897051</td>\n      <td>48.87</td>\n      <td>1835511</td>\n      <td>0.801355</td>\n      <td>2890845</td>\n      <td>1146779</td>\n      <td>1149043</td>\n      <td>2295822</td>\n      <td>634.939265</td>\n      <td>799.500571</td>\n    </tr>\n    <tr>\n      <th>42</th>\n      <td>New Hampshire</td>\n      <td>539007</td>\n      <td>50.15</td>\n      <td>535759</td>\n      <td>49.85</td>\n      <td>1074766</td>\n      <td>0.837814</td>\n      <td>1330608</td>\n      <td>540284</td>\n      <td>559986</td>\n      <td>1100270</td>\n      <td>807.725491</td>\n      <td>976.820235</td>\n    </tr>\n    <tr>\n      <th>43</th>\n      <td>New Jersey</td>\n      <td>3033720</td>\n      <td>49.09</td>\n      <td>3145598</td>\n      <td>50.91</td>\n      <td>6179318</td>\n      <td>1.056887</td>\n      <td>8958013</td>\n      <td>3473439</td>\n      <td>3721914</td>\n      <td>7195353</td>\n      <td>689.809001</td>\n      <td>858.79289</td>\n    </tr>\n    <tr>\n      <th>44</th>\n      <td>New Mexico</td>\n      <td>730816</td>\n      <td>49.79</td>\n      <td>736966</td>\n      <td>50.21</td>\n      <td>1467782</td>\n      <td>0.818936</td>\n      <td>2085109</td>\n      <td>808633</td>\n      <td>834819</td>\n      <td>1643452</td>\n      <td>703.935382</td>\n      <td>893.109139</td>\n    </tr>\n    <tr>\n      <th>45</th>\n      <td>New York</td>\n      <td>5689829</td>\n      <td>48.67</td>\n      <td>6000010</td>\n      <td>51.33</td>\n      <td>11689839</td>\n      <td>1.112544</td>\n      <td>19795791</td>\n      <td>7706731</td>\n      <td>8363726</td>\n      <td>16070457</td>\n      <td>590.52144</td>\n      <td>727.411734</td>\n    </tr>\n    <tr>\n      <th>46</th>\n      <td>North Carolina</td>\n      <td>3469901</td>\n      <td>48.46</td>\n      <td>3690720</td>\n      <td>51.54</td>\n      <td>7160621</td>\n      <td>0.918878</td>\n      <td>10042802</td>\n      <td>3855271</td>\n      <td>4155199</td>\n      <td>8010470</td>\n      <td>713.010273</td>\n      <td>893.907723</td>\n    </tr>\n    <tr>\n      <th>47</th>\n      <td>North Dakota</td>\n      <td>283682</td>\n      <td>52.05</td>\n      <td>261345</td>\n      <td>47.95</td>\n      <td>545027</td>\n      <td>0.625385</td>\n      <td>756927</td>\n      <td>308828</td>\n      <td>291814</td>\n      <td>600642</td>\n      <td>720.052264</td>\n      <td>907.407407</td>\n    </tr>\n    <tr>\n      <th>48</th>\n      <td>Ohio</td>\n      <td>3839738</td>\n      <td>48.46</td>\n      <td>4083701</td>\n      <td>51.54</td>\n      <td>7923439</td>\n      <td>0.759053</td>\n      <td>11613423</td>\n      <td>4501948</td>\n      <td>4793103</td>\n      <td>9295051</td>\n      <td>682.265599</td>\n      <td>852.436313</td>\n    </tr>\n    <tr>\n      <th>49</th>\n      <td>Oklahoma</td>\n      <td>1276575</td>\n      <td>48.69</td>\n      <td>1345158</td>\n      <td>51.31</td>\n      <td>2621733</td>\n      <td>0.8843</td>\n      <td>3911338</td>\n      <td>1499350</td>\n      <td>1555823</td>\n      <td>3055173</td>\n      <td>670.290576</td>\n      <td>858.129147</td>\n    </tr>\n    <tr>\n      <th>50</th>\n      <td>Oregon</td>\n      <td>1384681</td>\n      <td>49.3</td>\n      <td>1423867</td>\n      <td>50.7</td>\n      <td>2808548</td>\n      <td>0.795309</td>\n      <td>4028977</td>\n      <td>1602541</td>\n      <td>1662443</td>\n      <td>3264984</td>\n      <td>697.087127</td>\n      <td>860.202684</td>\n    </tr>\n    <tr>\n      <th>51</th>\n      <td>Pennsylvania</td>\n      <td>4436952</td>\n      <td>49.61</td>\n      <td>4506015</td>\n      <td>50.39</td>\n      <td>8942967</td>\n      <td>0.85366</td>\n      <td>12802503</td>\n      <td>5051811</td>\n      <td>5379733</td>\n      <td>10431544</td>\n      <td>698.532701</td>\n      <td>857.300415</td>\n    </tr>\n    <tr>\n      <th>52</th>\n      <td>Rhode Island</td>\n      <td>364553</td>\n      <td>48.9</td>\n      <td>380917</td>\n      <td>51.1</td>\n      <td>745470</td>\n      <td>0.867485</td>\n      <td>1056298</td>\n      <td>417237</td>\n      <td>453874</td>\n      <td>871111</td>\n      <td>705.738343</td>\n      <td>855.769242</td>\n    </tr>\n    <tr>\n      <th>53</th>\n      <td>South Carolina</td>\n      <td>1770019</td>\n      <td>48.05</td>\n      <td>1913805</td>\n      <td>51.95</td>\n      <td>3683824</td>\n      <td>0.917194</td>\n      <td>4896146</td>\n      <td>1886353</td>\n      <td>2041073</td>\n      <td>3927426</td>\n      <td>752.392596</td>\n      <td>937.974134</td>\n    </tr>\n    <tr>\n      <th>54</th>\n      <td>South Dakota</td>\n      <td>332694</td>\n      <td>50.74</td>\n      <td>323013</td>\n      <td>49.26</td>\n      <td>655707</td>\n      <td>0.622062</td>\n      <td>858469</td>\n      <td>334738</td>\n      <td>334448</td>\n      <td>669186</td>\n      <td>763.809759</td>\n      <td>979.857618</td>\n    </tr>\n    <tr>\n      <th>55</th>\n      <td>Tennessee</td>\n      <td>2212868</td>\n      <td>47.88</td>\n      <td>2408533</td>\n      <td>52.12</td>\n      <td>4621401</td>\n      <td>0.846083</td>\n      <td>6600299</td>\n      <td>2541672</td>\n      <td>2731652</td>\n      <td>5273324</td>\n      <td>700.180552</td>\n      <td>876.373422</td>\n    </tr>\n    <tr>\n      <th>56</th>\n      <td>Texas</td>\n      <td>7824635</td>\n      <td>49.27</td>\n      <td>8055241</td>\n      <td>50.73</td>\n      <td>15879876</td>\n      <td>0.736895</td>\n      <td>27469114</td>\n      <td>10359829</td>\n      <td>10679182</td>\n      <td>21039011</td>\n      <td>578.099315</td>\n      <td>754.782437</td>\n    </tr>\n    <tr>\n      <th>57</th>\n      <td>Utah</td>\n      <td>969059</td>\n      <td>50.64</td>\n      <td>944505</td>\n      <td>49.36</td>\n      <td>1913564</td>\n      <td>0.873139</td>\n      <td>2995919</td>\n      <td>1087382</td>\n      <td>1091484</td>\n      <td>2178866</td>\n      <td>638.723544</td>\n      <td>878.238497</td>\n    </tr>\n    <tr>\n      <th>58</th>\n      <td>Vermont</td>\n      <td>272862</td>\n      <td>49.72</td>\n      <td>275937</td>\n      <td>50.28</td>\n      <td>548799</td>\n      <td>0.849312</td>\n      <td>626042</td>\n      <td>254483</td>\n      <td>266860</td>\n      <td>521343</td>\n      <td>876.616904</td>\n      <td>1052.663985</td>\n    </tr>\n    <tr>\n      <th>59</th>\n      <td>Virginia</td>\n      <td>2805622</td>\n      <td>48.2</td>\n      <td>3014587</td>\n      <td>51.8</td>\n      <td>5820209</td>\n      <td>0.819824</td>\n      <td>8382993</td>\n      <td>3276384</td>\n      <td>3445115</td>\n      <td>6721499</td>\n      <td>694.287708</td>\n      <td>865.909375</td>\n    </tr>\n    <tr>\n      <th>60</th>\n      <td>Washington</td>\n      <td>2849266</td>\n      <td>51.65</td>\n      <td>2666868</td>\n      <td>48.35</td>\n      <td>5516134</td>\n      <td>0.843354</td>\n      <td>7170351</td>\n      <td>2852519</td>\n      <td>2885223</td>\n      <td>5737742</td>\n      <td>769.297626</td>\n      <td>961.377141</td>\n    </tr>\n    <tr>\n      <th>61</th>\n      <td>West Virginia</td>\n      <td>579211.8276</td>\n      <td>49.62</td>\n      <td>588134.4362</td>\n      <td>50.38</td>\n      <td>1167346.2638</td>\n      <td>0.743298</td>\n      <td>1844128</td>\n      <td>739350</td>\n      <td>769050</td>\n      <td>1508400</td>\n      <td>633.007179</td>\n      <td>773.897019</td>\n    </tr>\n    <tr>\n      <th>62</th>\n      <td>Wisconsin</td>\n      <td>2092911</td>\n      <td>49.89</td>\n      <td>2101848</td>\n      <td>50.11</td>\n      <td>4194759</td>\n      <td>0.77964</td>\n      <td>5771337</td>\n      <td>2282044</td>\n      <td>2344645</td>\n      <td>4626689</td>\n      <td>726.82621</td>\n      <td>906.643822</td>\n    </tr>\n    <tr>\n      <th>63</th>\n      <td>Wyoming</td>\n      <td>215799</td>\n      <td>51.08</td>\n      <td>206651</td>\n      <td>48.92</td>\n      <td>422450</td>\n      <td>0.521355</td>\n      <td>586107</td>\n      <td>235241</td>\n      <td>226502</td>\n      <td>461743</td>\n      <td>720.772828</td>\n      <td>914.902879</td>\n    </tr>\n    <tr>\n      <th>64</th>\n      <td>Total</td>\n      <td>107649685.8276</td>\n      <td>49.36</td>\n      <td>110434779.4362</td>\n      <td>50.64</td>\n      <td>218084465.2638</td>\n      <td>0.840278</td>\n      <td>321418820</td>\n      <td>116502331</td>\n      <td>122231724</td>\n      <td>256152291</td>\n      <td>678.505587</td>\n      <td>851.385964</td>\n    </tr>\n  </tbody>\n</table>\n</div>"
     },
     "metadata": {}
    }
   ]
  },
  {
   "cell_type": "code",
   "metadata": {
    "tags": [],
    "cell_id": "00044-a4268361-8c6c-45d6-9986-1afd62545f87",
    "deepnote_to_be_reexecuted": false,
    "source_hash": "366f3e26",
    "execution_start": 1636935695278,
    "execution_millis": 8,
    "deepnote_cell_type": "code"
   },
   "source": "df2 = df[['Unnamed: 0','Unnamed: 2','Unnamed: 4']]\ndf2",
   "execution_count": null,
   "outputs": [
    {
     "output_type": "execute_result",
     "execution_count": 28,
     "data": {
      "application/vnd.deepnote.dataframe.v2+json": {
       "row_count": 53,
       "column_count": 3,
       "columns": [
        {
         "name": "Unnamed: 0",
         "dtype": "object",
         "stats": {
          "unique_count": 53,
          "nan_count": 0,
          "categories": [
           {
            "name": "STATE",
            "count": 1
           },
           {
            "name": "Alabama ",
            "count": 1
           },
           {
            "name": "51 others",
            "count": 51
           }
          ]
         }
        },
        {
         "name": "Unnamed: 2",
         "dtype": "object",
         "stats": {
          "unique_count": 49,
          "nan_count": 0,
          "categories": [
           {
            "name": "49",
            "count": 2
           },
           {
            "name": "49.06",
            "count": 2
           },
           {
            "name": "47 others",
            "count": 49
           }
          ]
         }
        },
        {
         "name": "Unnamed: 4",
         "dtype": "object",
         "stats": {
          "unique_count": 49,
          "nan_count": 0,
          "categories": [
           {
            "name": "51",
            "count": 2
           },
           {
            "name": "50.94",
            "count": 2
           },
           {
            "name": "47 others",
            "count": 49
           }
          ]
         }
        },
        {
         "name": "_deepnote_index_column",
         "dtype": "int64"
        }
       ],
       "rows_top": [
        {
         "Unnamed: 0": "STATE",
         "Unnamed: 2": "MALE DRIVERS",
         "Unnamed: 4": "FEMALE DRIVERS",
         "_deepnote_index_column": 11
        },
        {
         "Unnamed: 0": "Alabama ",
         "Unnamed: 2": "48.55",
         "Unnamed: 4": "51.45",
         "_deepnote_index_column": 13
        },
        {
         "Unnamed: 0": "Alaska  2/",
         "Unnamed: 2": "47.26",
         "Unnamed: 4": "52.74",
         "_deepnote_index_column": 14
        },
        {
         "Unnamed: 0": "Arizona ",
         "Unnamed: 2": "50.27",
         "Unnamed: 4": "49.73",
         "_deepnote_index_column": 15
        },
        {
         "Unnamed: 0": "Arkansas  ",
         "Unnamed: 2": "49.14",
         "Unnamed: 4": "50.86",
         "_deepnote_index_column": 16
        },
        {
         "Unnamed: 0": "California",
         "Unnamed: 2": "50.79",
         "Unnamed: 4": "49.21",
         "_deepnote_index_column": 17
        },
        {
         "Unnamed: 0": "Colorado 2/",
         "Unnamed: 2": "51.26",
         "Unnamed: 4": "48.74",
         "_deepnote_index_column": 18
        },
        {
         "Unnamed: 0": "Connecticut",
         "Unnamed: 2": "49.37",
         "Unnamed: 4": "50.63",
         "_deepnote_index_column": 19
        },
        {
         "Unnamed: 0": "Delaware",
         "Unnamed: 2": "48.61",
         "Unnamed: 4": "51.39",
         "_deepnote_index_column": 20
        },
        {
         "Unnamed: 0": "Dist. of Col. ",
         "Unnamed: 2": "49",
         "Unnamed: 4": "51",
         "_deepnote_index_column": 21
        },
        {
         "Unnamed: 0": "Florida ",
         "Unnamed: 2": "49",
         "Unnamed: 4": "51",
         "_deepnote_index_column": 22
        },
        {
         "Unnamed: 0": "Georgia ",
         "Unnamed: 2": "47.68",
         "Unnamed: 4": "52.32",
         "_deepnote_index_column": 23
        },
        {
         "Unnamed: 0": "Hawaii",
         "Unnamed: 2": "51.72",
         "Unnamed: 4": "48.28",
         "_deepnote_index_column": 24
        },
        {
         "Unnamed: 0": "Idaho",
         "Unnamed: 2": "50.26",
         "Unnamed: 4": "49.74",
         "_deepnote_index_column": 25
        },
        {
         "Unnamed: 0": "Illinois 2/",
         "Unnamed: 2": "49.29",
         "Unnamed: 4": "50.71",
         "_deepnote_index_column": 26
        },
        {
         "Unnamed: 0": "Indiana ",
         "Unnamed: 2": "49.06",
         "Unnamed: 4": "50.94",
         "_deepnote_index_column": 27
        },
        {
         "Unnamed: 0": "Iowa ",
         "Unnamed: 2": "49.48",
         "Unnamed: 4": "50.52",
         "_deepnote_index_column": 28
        },
        {
         "Unnamed: 0": "Kansas",
         "Unnamed: 2": "49.49",
         "Unnamed: 4": "50.51",
         "_deepnote_index_column": 29
        },
        {
         "Unnamed: 0": "Kentucky ",
         "Unnamed: 2": "49.31",
         "Unnamed: 4": "50.69",
         "_deepnote_index_column": 30
        },
        {
         "Unnamed: 0": "Louisiana ",
         "Unnamed: 2": "48.17",
         "Unnamed: 4": "51.83",
         "_deepnote_index_column": 31
        },
        {
         "Unnamed: 0": "Maine ",
         "Unnamed: 2": "49.42",
         "Unnamed: 4": "50.58",
         "_deepnote_index_column": 32
        },
        {
         "Unnamed: 0": "Maryland ",
         "Unnamed: 2": "49.3",
         "Unnamed: 4": "50.7",
         "_deepnote_index_column": 33
        },
        {
         "Unnamed: 0": "Massachusetts ",
         "Unnamed: 2": "49.06",
         "Unnamed: 4": "50.94",
         "_deepnote_index_column": 34
        },
        {
         "Unnamed: 0": "Michigan ",
         "Unnamed: 2": "48.93",
         "Unnamed: 4": "51.07",
         "_deepnote_index_column": 35
        },
        {
         "Unnamed: 0": "Minnesota ",
         "Unnamed: 2": "50.23",
         "Unnamed: 4": "49.77",
         "_deepnote_index_column": 36
        },
        {
         "Unnamed: 0": "Mississippi ",
         "Unnamed: 2": "47.46",
         "Unnamed: 4": "52.54",
         "_deepnote_index_column": 37
        },
        {
         "Unnamed: 0": "Missouri ",
         "Unnamed: 2": "48.62",
         "Unnamed: 4": "51.38",
         "_deepnote_index_column": 38
        },
        {
         "Unnamed: 0": "Montana  ",
         "Unnamed: 2": "50.83",
         "Unnamed: 4": "49.17",
         "_deepnote_index_column": 39
        },
        {
         "Unnamed: 0": "Nebraska ",
         "Unnamed: 2": "50.16",
         "Unnamed: 4": "49.84",
         "_deepnote_index_column": 40
        },
        {
         "Unnamed: 0": "Nevada ",
         "Unnamed: 2": "51.13",
         "Unnamed: 4": "48.87",
         "_deepnote_index_column": 41
        },
        {
         "Unnamed: 0": "New Hampshire ",
         "Unnamed: 2": "50.15",
         "Unnamed: 4": "49.85",
         "_deepnote_index_column": 42
        },
        {
         "Unnamed: 0": "New Jersey  ",
         "Unnamed: 2": "49.09",
         "Unnamed: 4": "50.91",
         "_deepnote_index_column": 43
        },
        {
         "Unnamed: 0": "New Mexico  ",
         "Unnamed: 2": "49.79",
         "Unnamed: 4": "50.21",
         "_deepnote_index_column": 44
        },
        {
         "Unnamed: 0": "New York ",
         "Unnamed: 2": "48.67",
         "Unnamed: 4": "51.33",
         "_deepnote_index_column": 45
        },
        {
         "Unnamed: 0": "North Carolina",
         "Unnamed: 2": "48.46",
         "Unnamed: 4": "51.54",
         "_deepnote_index_column": 46
        },
        {
         "Unnamed: 0": "North Dakota ",
         "Unnamed: 2": "52.05",
         "Unnamed: 4": "47.95",
         "_deepnote_index_column": 47
        },
        {
         "Unnamed: 0": "Ohio ",
         "Unnamed: 2": "48.46",
         "Unnamed: 4": "51.54",
         "_deepnote_index_column": 48
        },
        {
         "Unnamed: 0": "Oklahoma",
         "Unnamed: 2": "48.69",
         "Unnamed: 4": "51.31",
         "_deepnote_index_column": 49
        },
        {
         "Unnamed: 0": "Oregon ",
         "Unnamed: 2": "49.3",
         "Unnamed: 4": "50.7",
         "_deepnote_index_column": 50
        },
        {
         "Unnamed: 0": "Pennsylvania",
         "Unnamed: 2": "49.61",
         "Unnamed: 4": "50.39",
         "_deepnote_index_column": 51
        },
        {
         "Unnamed: 0": "Rhode Island ",
         "Unnamed: 2": "48.9",
         "Unnamed: 4": "51.1",
         "_deepnote_index_column": 52
        },
        {
         "Unnamed: 0": "South Carolina ",
         "Unnamed: 2": "48.05",
         "Unnamed: 4": "51.95",
         "_deepnote_index_column": 53
        },
        {
         "Unnamed: 0": "South Dakota",
         "Unnamed: 2": "50.74",
         "Unnamed: 4": "49.26",
         "_deepnote_index_column": 54
        },
        {
         "Unnamed: 0": "Tennessee ",
         "Unnamed: 2": "47.88",
         "Unnamed: 4": "52.12",
         "_deepnote_index_column": 55
        },
        {
         "Unnamed: 0": "Texas",
         "Unnamed: 2": "49.27",
         "Unnamed: 4": "50.73",
         "_deepnote_index_column": 56
        },
        {
         "Unnamed: 0": "Utah ",
         "Unnamed: 2": "50.64",
         "Unnamed: 4": "49.36",
         "_deepnote_index_column": 57
        },
        {
         "Unnamed: 0": "Vermont ",
         "Unnamed: 2": "49.72",
         "Unnamed: 4": "50.28",
         "_deepnote_index_column": 58
        },
        {
         "Unnamed: 0": "Virginia ",
         "Unnamed: 2": "48.2",
         "Unnamed: 4": "51.8",
         "_deepnote_index_column": 59
        },
        {
         "Unnamed: 0": "Washington ",
         "Unnamed: 2": "51.65",
         "Unnamed: 4": "48.35",
         "_deepnote_index_column": 60
        },
        {
         "Unnamed: 0": "West Virginia ",
         "Unnamed: 2": "49.62",
         "Unnamed: 4": "50.38",
         "_deepnote_index_column": 61
        },
        {
         "Unnamed: 0": "Wisconsin  ",
         "Unnamed: 2": "49.89",
         "Unnamed: 4": "50.11",
         "_deepnote_index_column": 62
        },
        {
         "Unnamed: 0": "Wyoming  ",
         "Unnamed: 2": "51.08",
         "Unnamed: 4": "48.92",
         "_deepnote_index_column": 63
        },
        {
         "Unnamed: 0": "Total",
         "Unnamed: 2": "49.36",
         "Unnamed: 4": "50.64",
         "_deepnote_index_column": 64
        }
       ],
       "rows_bottom": null
      },
      "text/plain": "         Unnamed: 0    Unnamed: 2      Unnamed: 4\n11            STATE  MALE DRIVERS  FEMALE DRIVERS\n13         Alabama          48.55           51.45\n14       Alaska  2/         47.26           52.74\n15         Arizona          50.27           49.73\n16       Arkansas           49.14           50.86\n17       California         50.79           49.21\n18      Colorado 2/         51.26           48.74\n19      Connecticut         49.37           50.63\n20         Delaware         48.61           51.39\n21   Dist. of Col.             49              51\n22         Florida             49              51\n23         Georgia          47.68           52.32\n24           Hawaii         51.72           48.28\n25            Idaho         50.26           49.74\n26      Illinois 2/         49.29           50.71\n27         Indiana          49.06           50.94\n28            Iowa          49.48           50.52\n29           Kansas         49.49           50.51\n30        Kentucky          49.31           50.69\n31       Louisiana          48.17           51.83\n32           Maine          49.42           50.58\n33        Maryland           49.3            50.7\n34   Massachusetts          49.06           50.94\n35        Michigan          48.93           51.07\n36       Minnesota          50.23           49.77\n37     Mississippi          47.46           52.54\n38        Missouri          48.62           51.38\n39        Montana           50.83           49.17\n40        Nebraska          50.16           49.84\n41          Nevada          51.13           48.87\n42   New Hampshire          50.15           49.85\n43     New Jersey           49.09           50.91\n44     New Mexico           49.79           50.21\n45        New York          48.67           51.33\n46   North Carolina         48.46           51.54\n47    North Dakota          52.05           47.95\n48            Ohio          48.46           51.54\n49         Oklahoma         48.69           51.31\n50          Oregon           49.3            50.7\n51     Pennsylvania         49.61           50.39\n52    Rhode Island           48.9            51.1\n53  South Carolina          48.05           51.95\n54     South Dakota         50.74           49.26\n55       Tennessee          47.88           52.12\n56            Texas         49.27           50.73\n57            Utah          50.64           49.36\n58         Vermont          49.72           50.28\n59        Virginia           48.2            51.8\n60      Washington          51.65           48.35\n61   West Virginia          49.62           50.38\n62      Wisconsin           49.89           50.11\n63        Wyoming           51.08           48.92\n64            Total         49.36           50.64",
      "text/html": "<div>\n<style scoped>\n    .dataframe tbody tr th:only-of-type {\n        vertical-align: middle;\n    }\n\n    .dataframe tbody tr th {\n        vertical-align: top;\n    }\n\n    .dataframe thead th {\n        text-align: right;\n    }\n</style>\n<table border=\"1\" class=\"dataframe\">\n  <thead>\n    <tr style=\"text-align: right;\">\n      <th></th>\n      <th>Unnamed: 0</th>\n      <th>Unnamed: 2</th>\n      <th>Unnamed: 4</th>\n    </tr>\n  </thead>\n  <tbody>\n    <tr>\n      <th>11</th>\n      <td>STATE</td>\n      <td>MALE DRIVERS</td>\n      <td>FEMALE DRIVERS</td>\n    </tr>\n    <tr>\n      <th>13</th>\n      <td>Alabama</td>\n      <td>48.55</td>\n      <td>51.45</td>\n    </tr>\n    <tr>\n      <th>14</th>\n      <td>Alaska  2/</td>\n      <td>47.26</td>\n      <td>52.74</td>\n    </tr>\n    <tr>\n      <th>15</th>\n      <td>Arizona</td>\n      <td>50.27</td>\n      <td>49.73</td>\n    </tr>\n    <tr>\n      <th>16</th>\n      <td>Arkansas</td>\n      <td>49.14</td>\n      <td>50.86</td>\n    </tr>\n    <tr>\n      <th>17</th>\n      <td>California</td>\n      <td>50.79</td>\n      <td>49.21</td>\n    </tr>\n    <tr>\n      <th>18</th>\n      <td>Colorado 2/</td>\n      <td>51.26</td>\n      <td>48.74</td>\n    </tr>\n    <tr>\n      <th>19</th>\n      <td>Connecticut</td>\n      <td>49.37</td>\n      <td>50.63</td>\n    </tr>\n    <tr>\n      <th>20</th>\n      <td>Delaware</td>\n      <td>48.61</td>\n      <td>51.39</td>\n    </tr>\n    <tr>\n      <th>21</th>\n      <td>Dist. of Col.</td>\n      <td>49</td>\n      <td>51</td>\n    </tr>\n    <tr>\n      <th>22</th>\n      <td>Florida</td>\n      <td>49</td>\n      <td>51</td>\n    </tr>\n    <tr>\n      <th>23</th>\n      <td>Georgia</td>\n      <td>47.68</td>\n      <td>52.32</td>\n    </tr>\n    <tr>\n      <th>24</th>\n      <td>Hawaii</td>\n      <td>51.72</td>\n      <td>48.28</td>\n    </tr>\n    <tr>\n      <th>25</th>\n      <td>Idaho</td>\n      <td>50.26</td>\n      <td>49.74</td>\n    </tr>\n    <tr>\n      <th>26</th>\n      <td>Illinois 2/</td>\n      <td>49.29</td>\n      <td>50.71</td>\n    </tr>\n    <tr>\n      <th>27</th>\n      <td>Indiana</td>\n      <td>49.06</td>\n      <td>50.94</td>\n    </tr>\n    <tr>\n      <th>28</th>\n      <td>Iowa</td>\n      <td>49.48</td>\n      <td>50.52</td>\n    </tr>\n    <tr>\n      <th>29</th>\n      <td>Kansas</td>\n      <td>49.49</td>\n      <td>50.51</td>\n    </tr>\n    <tr>\n      <th>30</th>\n      <td>Kentucky</td>\n      <td>49.31</td>\n      <td>50.69</td>\n    </tr>\n    <tr>\n      <th>31</th>\n      <td>Louisiana</td>\n      <td>48.17</td>\n      <td>51.83</td>\n    </tr>\n    <tr>\n      <th>32</th>\n      <td>Maine</td>\n      <td>49.42</td>\n      <td>50.58</td>\n    </tr>\n    <tr>\n      <th>33</th>\n      <td>Maryland</td>\n      <td>49.3</td>\n      <td>50.7</td>\n    </tr>\n    <tr>\n      <th>34</th>\n      <td>Massachusetts</td>\n      <td>49.06</td>\n      <td>50.94</td>\n    </tr>\n    <tr>\n      <th>35</th>\n      <td>Michigan</td>\n      <td>48.93</td>\n      <td>51.07</td>\n    </tr>\n    <tr>\n      <th>36</th>\n      <td>Minnesota</td>\n      <td>50.23</td>\n      <td>49.77</td>\n    </tr>\n    <tr>\n      <th>37</th>\n      <td>Mississippi</td>\n      <td>47.46</td>\n      <td>52.54</td>\n    </tr>\n    <tr>\n      <th>38</th>\n      <td>Missouri</td>\n      <td>48.62</td>\n      <td>51.38</td>\n    </tr>\n    <tr>\n      <th>39</th>\n      <td>Montana</td>\n      <td>50.83</td>\n      <td>49.17</td>\n    </tr>\n    <tr>\n      <th>40</th>\n      <td>Nebraska</td>\n      <td>50.16</td>\n      <td>49.84</td>\n    </tr>\n    <tr>\n      <th>41</th>\n      <td>Nevada</td>\n      <td>51.13</td>\n      <td>48.87</td>\n    </tr>\n    <tr>\n      <th>42</th>\n      <td>New Hampshire</td>\n      <td>50.15</td>\n      <td>49.85</td>\n    </tr>\n    <tr>\n      <th>43</th>\n      <td>New Jersey</td>\n      <td>49.09</td>\n      <td>50.91</td>\n    </tr>\n    <tr>\n      <th>44</th>\n      <td>New Mexico</td>\n      <td>49.79</td>\n      <td>50.21</td>\n    </tr>\n    <tr>\n      <th>45</th>\n      <td>New York</td>\n      <td>48.67</td>\n      <td>51.33</td>\n    </tr>\n    <tr>\n      <th>46</th>\n      <td>North Carolina</td>\n      <td>48.46</td>\n      <td>51.54</td>\n    </tr>\n    <tr>\n      <th>47</th>\n      <td>North Dakota</td>\n      <td>52.05</td>\n      <td>47.95</td>\n    </tr>\n    <tr>\n      <th>48</th>\n      <td>Ohio</td>\n      <td>48.46</td>\n      <td>51.54</td>\n    </tr>\n    <tr>\n      <th>49</th>\n      <td>Oklahoma</td>\n      <td>48.69</td>\n      <td>51.31</td>\n    </tr>\n    <tr>\n      <th>50</th>\n      <td>Oregon</td>\n      <td>49.3</td>\n      <td>50.7</td>\n    </tr>\n    <tr>\n      <th>51</th>\n      <td>Pennsylvania</td>\n      <td>49.61</td>\n      <td>50.39</td>\n    </tr>\n    <tr>\n      <th>52</th>\n      <td>Rhode Island</td>\n      <td>48.9</td>\n      <td>51.1</td>\n    </tr>\n    <tr>\n      <th>53</th>\n      <td>South Carolina</td>\n      <td>48.05</td>\n      <td>51.95</td>\n    </tr>\n    <tr>\n      <th>54</th>\n      <td>South Dakota</td>\n      <td>50.74</td>\n      <td>49.26</td>\n    </tr>\n    <tr>\n      <th>55</th>\n      <td>Tennessee</td>\n      <td>47.88</td>\n      <td>52.12</td>\n    </tr>\n    <tr>\n      <th>56</th>\n      <td>Texas</td>\n      <td>49.27</td>\n      <td>50.73</td>\n    </tr>\n    <tr>\n      <th>57</th>\n      <td>Utah</td>\n      <td>50.64</td>\n      <td>49.36</td>\n    </tr>\n    <tr>\n      <th>58</th>\n      <td>Vermont</td>\n      <td>49.72</td>\n      <td>50.28</td>\n    </tr>\n    <tr>\n      <th>59</th>\n      <td>Virginia</td>\n      <td>48.2</td>\n      <td>51.8</td>\n    </tr>\n    <tr>\n      <th>60</th>\n      <td>Washington</td>\n      <td>51.65</td>\n      <td>48.35</td>\n    </tr>\n    <tr>\n      <th>61</th>\n      <td>West Virginia</td>\n      <td>49.62</td>\n      <td>50.38</td>\n    </tr>\n    <tr>\n      <th>62</th>\n      <td>Wisconsin</td>\n      <td>49.89</td>\n      <td>50.11</td>\n    </tr>\n    <tr>\n      <th>63</th>\n      <td>Wyoming</td>\n      <td>51.08</td>\n      <td>48.92</td>\n    </tr>\n    <tr>\n      <th>64</th>\n      <td>Total</td>\n      <td>49.36</td>\n      <td>50.64</td>\n    </tr>\n  </tbody>\n</table>\n</div>"
     },
     "metadata": {}
    }
   ]
  },
  {
   "cell_type": "code",
   "metadata": {
    "tags": [],
    "cell_id": "00032-ed62474d-f12d-4b57-9035-1db29167e41c",
    "deepnote_to_be_reexecuted": false,
    "source_hash": "59c9e319",
    "execution_start": 1636935695288,
    "execution_millis": 35,
    "deepnote_cell_type": "code"
   },
   "source": "show = df2.groupby(['Unnamed: 0','Unnamed: 2'])\nshow.first()\n#avg_age=aver_age.groupby('COUNTY_DESC').aggregate(avg_age_desc=('mean'))\n#avg_age.sort_values('avg_age_desc')",
   "execution_count": null,
   "outputs": [
    {
     "output_type": "execute_result",
     "execution_count": 29,
     "data": {
      "application/vnd.deepnote.dataframe.v2+json": {
       "row_count": 53,
       "column_count": 1,
       "columns": [
        {
         "name": "Unnamed: 4",
         "dtype": "object",
         "stats": {
          "unique_count": 49,
          "nan_count": 0,
          "categories": [
           {
            "name": "51",
            "count": 2
           },
           {
            "name": "50.94",
            "count": 2
           },
           {
            "name": "47 others",
            "count": 49
           }
          ]
         }
        },
        {
         "name": "_deepnote_index_column",
         "dtype": "object"
        }
       ],
       "rows_top": [
        {
         "Unnamed: 4": "51.45",
         "_deepnote_index_column": "('Alabama ', 48.55)"
        },
        {
         "Unnamed: 4": "52.74",
         "_deepnote_index_column": "('Alaska  2/', 47.26)"
        },
        {
         "Unnamed: 4": "49.73",
         "_deepnote_index_column": "('Arizona ', 50.27)"
        },
        {
         "Unnamed: 4": "50.86",
         "_deepnote_index_column": "('Arkansas  ', 49.14)"
        },
        {
         "Unnamed: 4": "49.21",
         "_deepnote_index_column": "('California', 50.79)"
        },
        {
         "Unnamed: 4": "48.74",
         "_deepnote_index_column": "('Colorado 2/', 51.26)"
        },
        {
         "Unnamed: 4": "50.63",
         "_deepnote_index_column": "('Connecticut', 49.37)"
        },
        {
         "Unnamed: 4": "51.39",
         "_deepnote_index_column": "('Delaware', 48.61)"
        },
        {
         "Unnamed: 4": "51",
         "_deepnote_index_column": "('Dist. of Col. ', 49)"
        },
        {
         "Unnamed: 4": "51",
         "_deepnote_index_column": "('Florida ', 49)"
        },
        {
         "Unnamed: 4": "52.32",
         "_deepnote_index_column": "('Georgia ', 47.68)"
        },
        {
         "Unnamed: 4": "48.28",
         "_deepnote_index_column": "('Hawaii', 51.72)"
        },
        {
         "Unnamed: 4": "49.74",
         "_deepnote_index_column": "('Idaho', 50.26)"
        },
        {
         "Unnamed: 4": "50.71",
         "_deepnote_index_column": "('Illinois 2/', 49.29)"
        },
        {
         "Unnamed: 4": "50.94",
         "_deepnote_index_column": "('Indiana ', 49.06)"
        },
        {
         "Unnamed: 4": "50.52",
         "_deepnote_index_column": "('Iowa ', 49.48)"
        },
        {
         "Unnamed: 4": "50.51",
         "_deepnote_index_column": "('Kansas', 49.49)"
        },
        {
         "Unnamed: 4": "50.69",
         "_deepnote_index_column": "('Kentucky ', 49.31)"
        },
        {
         "Unnamed: 4": "51.83",
         "_deepnote_index_column": "('Louisiana ', 48.17)"
        },
        {
         "Unnamed: 4": "50.58",
         "_deepnote_index_column": "('Maine ', 49.42)"
        },
        {
         "Unnamed: 4": "50.7",
         "_deepnote_index_column": "('Maryland ', 49.3)"
        },
        {
         "Unnamed: 4": "50.94",
         "_deepnote_index_column": "('Massachusetts ', 49.06)"
        },
        {
         "Unnamed: 4": "51.07",
         "_deepnote_index_column": "('Michigan ', 48.93)"
        },
        {
         "Unnamed: 4": "49.77",
         "_deepnote_index_column": "('Minnesota ', 50.23)"
        },
        {
         "Unnamed: 4": "52.54",
         "_deepnote_index_column": "('Mississippi ', 47.46)"
        },
        {
         "Unnamed: 4": "51.38",
         "_deepnote_index_column": "('Missouri ', 48.62)"
        },
        {
         "Unnamed: 4": "49.17",
         "_deepnote_index_column": "('Montana  ', 50.83)"
        },
        {
         "Unnamed: 4": "49.84",
         "_deepnote_index_column": "('Nebraska ', 50.16)"
        },
        {
         "Unnamed: 4": "48.87",
         "_deepnote_index_column": "('Nevada ', 51.13)"
        },
        {
         "Unnamed: 4": "49.85",
         "_deepnote_index_column": "('New Hampshire ', 50.15)"
        },
        {
         "Unnamed: 4": "50.91",
         "_deepnote_index_column": "('New Jersey  ', 49.09)"
        },
        {
         "Unnamed: 4": "50.21",
         "_deepnote_index_column": "('New Mexico  ', 49.79)"
        },
        {
         "Unnamed: 4": "51.33",
         "_deepnote_index_column": "('New York ', 48.67)"
        },
        {
         "Unnamed: 4": "51.54",
         "_deepnote_index_column": "('North Carolina', 48.46)"
        },
        {
         "Unnamed: 4": "47.95",
         "_deepnote_index_column": "('North Dakota ', 52.05)"
        },
        {
         "Unnamed: 4": "51.54",
         "_deepnote_index_column": "('Ohio ', 48.46)"
        },
        {
         "Unnamed: 4": "51.31",
         "_deepnote_index_column": "('Oklahoma', 48.69)"
        },
        {
         "Unnamed: 4": "50.7",
         "_deepnote_index_column": "('Oregon ', 49.3)"
        },
        {
         "Unnamed: 4": "50.39",
         "_deepnote_index_column": "('Pennsylvania', 49.61)"
        },
        {
         "Unnamed: 4": "51.1",
         "_deepnote_index_column": "('Rhode Island ', 48.9)"
        },
        {
         "Unnamed: 4": "FEMALE DRIVERS",
         "_deepnote_index_column": "('STATE', 'MALE DRIVERS')"
        },
        {
         "Unnamed: 4": "51.95",
         "_deepnote_index_column": "('South Carolina ', 48.05)"
        },
        {
         "Unnamed: 4": "49.26",
         "_deepnote_index_column": "('South Dakota', 50.74)"
        },
        {
         "Unnamed: 4": "52.12",
         "_deepnote_index_column": "('Tennessee ', 47.88)"
        },
        {
         "Unnamed: 4": "50.73",
         "_deepnote_index_column": "('Texas', 49.27)"
        },
        {
         "Unnamed: 4": "50.64",
         "_deepnote_index_column": "('Total', 49.36)"
        },
        {
         "Unnamed: 4": "49.36",
         "_deepnote_index_column": "('Utah ', 50.64)"
        },
        {
         "Unnamed: 4": "50.28",
         "_deepnote_index_column": "('Vermont ', 49.72)"
        },
        {
         "Unnamed: 4": "51.8",
         "_deepnote_index_column": "('Virginia ', 48.2)"
        },
        {
         "Unnamed: 4": "48.35",
         "_deepnote_index_column": "('Washington ', 51.65)"
        },
        {
         "Unnamed: 4": "50.38",
         "_deepnote_index_column": "('West Virginia ', 49.62)"
        },
        {
         "Unnamed: 4": "50.11",
         "_deepnote_index_column": "('Wisconsin  ', 49.89)"
        },
        {
         "Unnamed: 4": "48.92",
         "_deepnote_index_column": "('Wyoming  ', 51.08)"
        }
       ],
       "rows_bottom": null
      },
      "text/plain": "                                  Unnamed: 4\nUnnamed: 0      Unnamed: 2                  \nAlabama         48.55                  51.45\nAlaska  2/      47.26                  52.74\nArizona         50.27                  49.73\nArkansas        49.14                  50.86\nCalifornia      50.79                  49.21\nColorado 2/     51.26                  48.74\nConnecticut     49.37                  50.63\nDelaware        48.61                  51.39\nDist. of Col.   49                        51\nFlorida         49                        51\nGeorgia         47.68                  52.32\nHawaii          51.72                  48.28\nIdaho           50.26                  49.74\nIllinois 2/     49.29                  50.71\nIndiana         49.06                  50.94\nIowa            49.48                  50.52\nKansas          49.49                  50.51\nKentucky        49.31                  50.69\nLouisiana       48.17                  51.83\nMaine           49.42                  50.58\nMaryland        49.3                    50.7\nMassachusetts   49.06                  50.94\nMichigan        48.93                  51.07\nMinnesota       50.23                  49.77\nMississippi     47.46                  52.54\nMissouri        48.62                  51.38\nMontana         50.83                  49.17\nNebraska        50.16                  49.84\nNevada          51.13                  48.87\nNew Hampshire   50.15                  49.85\nNew Jersey      49.09                  50.91\nNew Mexico      49.79                  50.21\nNew York        48.67                  51.33\nNorth Carolina  48.46                  51.54\nNorth Dakota    52.05                  47.95\nOhio            48.46                  51.54\nOklahoma        48.69                  51.31\nOregon          49.3                    50.7\nPennsylvania    49.61                  50.39\nRhode Island    48.9                    51.1\nSTATE           MALE DRIVERS  FEMALE DRIVERS\nSouth Carolina  48.05                  51.95\nSouth Dakota    50.74                  49.26\nTennessee       47.88                  52.12\nTexas           49.27                  50.73\nTotal           49.36                  50.64\nUtah            50.64                  49.36\nVermont         49.72                  50.28\nVirginia        48.2                    51.8\nWashington      51.65                  48.35\nWest Virginia   49.62                  50.38\nWisconsin       49.89                  50.11\nWyoming         51.08                  48.92",
      "text/html": "<div>\n<style scoped>\n    .dataframe tbody tr th:only-of-type {\n        vertical-align: middle;\n    }\n\n    .dataframe tbody tr th {\n        vertical-align: top;\n    }\n\n    .dataframe thead th {\n        text-align: right;\n    }\n</style>\n<table border=\"1\" class=\"dataframe\">\n  <thead>\n    <tr style=\"text-align: right;\">\n      <th></th>\n      <th></th>\n      <th>Unnamed: 4</th>\n    </tr>\n    <tr>\n      <th>Unnamed: 0</th>\n      <th>Unnamed: 2</th>\n      <th></th>\n    </tr>\n  </thead>\n  <tbody>\n    <tr>\n      <th>Alabama</th>\n      <th>48.55</th>\n      <td>51.45</td>\n    </tr>\n    <tr>\n      <th>Alaska  2/</th>\n      <th>47.26</th>\n      <td>52.74</td>\n    </tr>\n    <tr>\n      <th>Arizona</th>\n      <th>50.27</th>\n      <td>49.73</td>\n    </tr>\n    <tr>\n      <th>Arkansas</th>\n      <th>49.14</th>\n      <td>50.86</td>\n    </tr>\n    <tr>\n      <th>California</th>\n      <th>50.79</th>\n      <td>49.21</td>\n    </tr>\n    <tr>\n      <th>Colorado 2/</th>\n      <th>51.26</th>\n      <td>48.74</td>\n    </tr>\n    <tr>\n      <th>Connecticut</th>\n      <th>49.37</th>\n      <td>50.63</td>\n    </tr>\n    <tr>\n      <th>Delaware</th>\n      <th>48.61</th>\n      <td>51.39</td>\n    </tr>\n    <tr>\n      <th>Dist. of Col.</th>\n      <th>49</th>\n      <td>51</td>\n    </tr>\n    <tr>\n      <th>Florida</th>\n      <th>49</th>\n      <td>51</td>\n    </tr>\n    <tr>\n      <th>Georgia</th>\n      <th>47.68</th>\n      <td>52.32</td>\n    </tr>\n    <tr>\n      <th>Hawaii</th>\n      <th>51.72</th>\n      <td>48.28</td>\n    </tr>\n    <tr>\n      <th>Idaho</th>\n      <th>50.26</th>\n      <td>49.74</td>\n    </tr>\n    <tr>\n      <th>Illinois 2/</th>\n      <th>49.29</th>\n      <td>50.71</td>\n    </tr>\n    <tr>\n      <th>Indiana</th>\n      <th>49.06</th>\n      <td>50.94</td>\n    </tr>\n    <tr>\n      <th>Iowa</th>\n      <th>49.48</th>\n      <td>50.52</td>\n    </tr>\n    <tr>\n      <th>Kansas</th>\n      <th>49.49</th>\n      <td>50.51</td>\n    </tr>\n    <tr>\n      <th>Kentucky</th>\n      <th>49.31</th>\n      <td>50.69</td>\n    </tr>\n    <tr>\n      <th>Louisiana</th>\n      <th>48.17</th>\n      <td>51.83</td>\n    </tr>\n    <tr>\n      <th>Maine</th>\n      <th>49.42</th>\n      <td>50.58</td>\n    </tr>\n    <tr>\n      <th>Maryland</th>\n      <th>49.3</th>\n      <td>50.7</td>\n    </tr>\n    <tr>\n      <th>Massachusetts</th>\n      <th>49.06</th>\n      <td>50.94</td>\n    </tr>\n    <tr>\n      <th>Michigan</th>\n      <th>48.93</th>\n      <td>51.07</td>\n    </tr>\n    <tr>\n      <th>Minnesota</th>\n      <th>50.23</th>\n      <td>49.77</td>\n    </tr>\n    <tr>\n      <th>Mississippi</th>\n      <th>47.46</th>\n      <td>52.54</td>\n    </tr>\n    <tr>\n      <th>Missouri</th>\n      <th>48.62</th>\n      <td>51.38</td>\n    </tr>\n    <tr>\n      <th>Montana</th>\n      <th>50.83</th>\n      <td>49.17</td>\n    </tr>\n    <tr>\n      <th>Nebraska</th>\n      <th>50.16</th>\n      <td>49.84</td>\n    </tr>\n    <tr>\n      <th>Nevada</th>\n      <th>51.13</th>\n      <td>48.87</td>\n    </tr>\n    <tr>\n      <th>New Hampshire</th>\n      <th>50.15</th>\n      <td>49.85</td>\n    </tr>\n    <tr>\n      <th>New Jersey</th>\n      <th>49.09</th>\n      <td>50.91</td>\n    </tr>\n    <tr>\n      <th>New Mexico</th>\n      <th>49.79</th>\n      <td>50.21</td>\n    </tr>\n    <tr>\n      <th>New York</th>\n      <th>48.67</th>\n      <td>51.33</td>\n    </tr>\n    <tr>\n      <th>North Carolina</th>\n      <th>48.46</th>\n      <td>51.54</td>\n    </tr>\n    <tr>\n      <th>North Dakota</th>\n      <th>52.05</th>\n      <td>47.95</td>\n    </tr>\n    <tr>\n      <th>Ohio</th>\n      <th>48.46</th>\n      <td>51.54</td>\n    </tr>\n    <tr>\n      <th>Oklahoma</th>\n      <th>48.69</th>\n      <td>51.31</td>\n    </tr>\n    <tr>\n      <th>Oregon</th>\n      <th>49.3</th>\n      <td>50.7</td>\n    </tr>\n    <tr>\n      <th>Pennsylvania</th>\n      <th>49.61</th>\n      <td>50.39</td>\n    </tr>\n    <tr>\n      <th>Rhode Island</th>\n      <th>48.9</th>\n      <td>51.1</td>\n    </tr>\n    <tr>\n      <th>STATE</th>\n      <th>MALE DRIVERS</th>\n      <td>FEMALE DRIVERS</td>\n    </tr>\n    <tr>\n      <th>South Carolina</th>\n      <th>48.05</th>\n      <td>51.95</td>\n    </tr>\n    <tr>\n      <th>South Dakota</th>\n      <th>50.74</th>\n      <td>49.26</td>\n    </tr>\n    <tr>\n      <th>Tennessee</th>\n      <th>47.88</th>\n      <td>52.12</td>\n    </tr>\n    <tr>\n      <th>Texas</th>\n      <th>49.27</th>\n      <td>50.73</td>\n    </tr>\n    <tr>\n      <th>Total</th>\n      <th>49.36</th>\n      <td>50.64</td>\n    </tr>\n    <tr>\n      <th>Utah</th>\n      <th>50.64</th>\n      <td>49.36</td>\n    </tr>\n    <tr>\n      <th>Vermont</th>\n      <th>49.72</th>\n      <td>50.28</td>\n    </tr>\n    <tr>\n      <th>Virginia</th>\n      <th>48.2</th>\n      <td>51.8</td>\n    </tr>\n    <tr>\n      <th>Washington</th>\n      <th>51.65</th>\n      <td>48.35</td>\n    </tr>\n    <tr>\n      <th>West Virginia</th>\n      <th>49.62</th>\n      <td>50.38</td>\n    </tr>\n    <tr>\n      <th>Wisconsin</th>\n      <th>49.89</th>\n      <td>50.11</td>\n    </tr>\n    <tr>\n      <th>Wyoming</th>\n      <th>51.08</th>\n      <td>48.92</td>\n    </tr>\n  </tbody>\n</table>\n</div>"
     },
     "metadata": {}
    }
   ]
  },
  {
   "cell_type": "code",
   "metadata": {
    "tags": [],
    "cell_id": "00045-a2e57d3d-79cd-4893-b88d-ea311ec8a97b",
    "deepnote_to_be_reexecuted": false,
    "source_hash": "e62ef148",
    "execution_start": 1636935695327,
    "execution_millis": 61,
    "deepnote_cell_type": "code"
   },
   "source": "df3 = pd.read_csv('MD2020_Rain_Snow.csv')\ndf3",
   "execution_count": null,
   "outputs": [
    {
     "output_type": "execute_result",
     "execution_count": 30,
     "data": {
      "application/vnd.deepnote.dataframe.v2+json": {
       "row_count": 366,
       "column_count": 3,
       "columns": [
        {
         "name": "Date",
         "dtype": "object",
         "stats": {
          "unique_count": 366,
          "nan_count": 0,
          "categories": [
           {
            "name": "1/1/2020 ",
            "count": 1
           },
           {
            "name": "1/2/2020 ",
            "count": 1
           },
           {
            "name": "364 others",
            "count": 364
           }
          ]
         }
        },
        {
         "name": "Precip in.",
         "dtype": "float64",
         "stats": {
          "unique_count": 72,
          "nan_count": 0,
          "min": "0.0",
          "max": "1.78",
          "histogram": [
           {
            "bin_start": 0,
            "bin_end": 0.178,
            "count": 284
           },
           {
            "bin_start": 0.178,
            "bin_end": 0.356,
            "count": 36
           },
           {
            "bin_start": 0.356,
            "bin_end": 0.534,
            "count": 15
           },
           {
            "bin_start": 0.534,
            "bin_end": 0.712,
            "count": 10
           },
           {
            "bin_start": 0.712,
            "bin_end": 0.8899999999999999,
            "count": 3
           },
           {
            "bin_start": 0.8899999999999999,
            "bin_end": 1.068,
            "count": 5
           },
           {
            "bin_start": 1.068,
            "bin_end": 1.246,
            "count": 4
           },
           {
            "bin_start": 1.246,
            "bin_end": 1.424,
            "count": 3
           },
           {
            "bin_start": 1.424,
            "bin_end": 1.6019999999999999,
            "count": 4
           },
           {
            "bin_start": 1.6019999999999999,
            "bin_end": 1.78,
            "count": 2
           }
          ]
         }
        },
        {
         "name": "Snow in.",
         "dtype": "int64",
         "stats": {
          "unique_count": 7,
          "nan_count": 0,
          "min": "0",
          "max": "21",
          "histogram": [
           {
            "bin_start": 0,
            "bin_end": 2.1,
            "count": 361
           },
           {
            "bin_start": 2.1,
            "bin_end": 4.2,
            "count": 2
           },
           {
            "bin_start": 4.2,
            "bin_end": 6.300000000000001,
            "count": 0
           },
           {
            "bin_start": 6.300000000000001,
            "bin_end": 8.4,
            "count": 1
           },
           {
            "bin_start": 8.4,
            "bin_end": 10.5,
            "count": 0
           },
           {
            "bin_start": 10.5,
            "bin_end": 12.600000000000001,
            "count": 0
           },
           {
            "bin_start": 12.600000000000001,
            "bin_end": 14.700000000000001,
            "count": 0
           },
           {
            "bin_start": 14.700000000000001,
            "bin_end": 16.8,
            "count": 0
           },
           {
            "bin_start": 16.8,
            "bin_end": 18.900000000000002,
            "count": 0
           },
           {
            "bin_start": 18.900000000000002,
            "bin_end": 21,
            "count": 2
           }
          ]
         }
        },
        {
         "name": "_deepnote_index_column",
         "dtype": "int64"
        }
       ],
       "rows_top": [
        {
         "Date": "1/1/2020 ",
         "Precip in.": 0,
         "Snow in.": 0,
         "_deepnote_index_column": 0
        },
        {
         "Date": "1/2/2020 ",
         "Precip in.": 0,
         "Snow in.": 0,
         "_deepnote_index_column": 1
        },
        {
         "Date": "1/3/2020 ",
         "Precip in.": 0.19,
         "Snow in.": 0,
         "_deepnote_index_column": 2
        },
        {
         "Date": "1/4/2020 ",
         "Precip in.": 0.21,
         "Snow in.": 0,
         "_deepnote_index_column": 3
        },
        {
         "Date": "1/5/2020 ",
         "Precip in.": 0.15,
         "Snow in.": 0,
         "_deepnote_index_column": 4
        },
        {
         "Date": "1/6/2020 ",
         "Precip in.": 0,
         "Snow in.": 0,
         "_deepnote_index_column": 5
        },
        {
         "Date": "1/7/2020 ",
         "Precip in.": 0.03,
         "Snow in.": 3,
         "_deepnote_index_column": 6
        },
        {
         "Date": "1/8/2020 ",
         "Precip in.": 0.27,
         "Snow in.": 19,
         "_deepnote_index_column": 7
        },
        {
         "Date": "1/9/2020 ",
         "Precip in.": 0,
         "Snow in.": 0,
         "_deepnote_index_column": 8
        },
        {
         "Date": "1/10/2020 ",
         "Precip in.": 0,
         "Snow in.": 0,
         "_deepnote_index_column": 9
        },
        {
         "Date": "1/11/2020 ",
         "Precip in.": 0,
         "Snow in.": 0,
         "_deepnote_index_column": 10
        },
        {
         "Date": "1/12/2020 ",
         "Precip in.": 0.35,
         "Snow in.": 0,
         "_deepnote_index_column": 11
        },
        {
         "Date": "1/13/2020 ",
         "Precip in.": 0,
         "Snow in.": 0,
         "_deepnote_index_column": 12
        },
        {
         "Date": "1/14/2020 ",
         "Precip in.": 0.02,
         "Snow in.": 0,
         "_deepnote_index_column": 13
        },
        {
         "Date": "1/15/2020 ",
         "Precip in.": 0.06,
         "Snow in.": 0,
         "_deepnote_index_column": 14
        },
        {
         "Date": "1/16/2020 ",
         "Precip in.": 0,
         "Snow in.": 0,
         "_deepnote_index_column": 15
        },
        {
         "Date": "1/17/2020 ",
         "Precip in.": 0,
         "Snow in.": 0,
         "_deepnote_index_column": 16
        },
        {
         "Date": "1/18/2020 ",
         "Precip in.": 0.04,
         "Snow in.": 1,
         "_deepnote_index_column": 17
        },
        {
         "Date": "1/19/2020 ",
         "Precip in.": 0.39,
         "Snow in.": 0,
         "_deepnote_index_column": 18
        },
        {
         "Date": "1/20/2020 ",
         "Precip in.": 0,
         "Snow in.": 0,
         "_deepnote_index_column": 19
        },
        {
         "Date": "1/21/2020 ",
         "Precip in.": 0,
         "Snow in.": 0,
         "_deepnote_index_column": 20
        },
        {
         "Date": "1/22/2020 ",
         "Precip in.": 0,
         "Snow in.": 0,
         "_deepnote_index_column": 21
        },
        {
         "Date": "1/23/2020 ",
         "Precip in.": 0,
         "Snow in.": 0,
         "_deepnote_index_column": 22
        },
        {
         "Date": "1/24/2020 ",
         "Precip in.": 0,
         "Snow in.": 0,
         "_deepnote_index_column": 23
        },
        {
         "Date": "1/25/2020 ",
         "Precip in.": 1.51,
         "Snow in.": 0,
         "_deepnote_index_column": 24
        },
        {
         "Date": "1/26/2020 ",
         "Precip in.": 0.06,
         "Snow in.": 0,
         "_deepnote_index_column": 25
        },
        {
         "Date": "1/27/2020 ",
         "Precip in.": 0,
         "Snow in.": 0,
         "_deepnote_index_column": 26
        },
        {
         "Date": "1/28/2020 ",
         "Precip in.": 0,
         "Snow in.": 0,
         "_deepnote_index_column": 27
        },
        {
         "Date": "1/29/2020 ",
         "Precip in.": 0,
         "Snow in.": 0,
         "_deepnote_index_column": 28
        },
        {
         "Date": "1/30/2020 ",
         "Precip in.": 0,
         "Snow in.": 0,
         "_deepnote_index_column": 29
        },
        {
         "Date": "1/31/2020 ",
         "Precip in.": 0,
         "Snow in.": 0,
         "_deepnote_index_column": 30
        },
        {
         "Date": "2/1/2020 ",
         "Precip in.": 0.02,
         "Snow in.": 0,
         "_deepnote_index_column": 31
        },
        {
         "Date": "2/2/2020 ",
         "Precip in.": 0.11,
         "Snow in.": 0,
         "_deepnote_index_column": 32
        },
        {
         "Date": "2/3/2020 ",
         "Precip in.": 0,
         "Snow in.": 0,
         "_deepnote_index_column": 33
        },
        {
         "Date": "2/4/2020 ",
         "Precip in.": 0.02,
         "Snow in.": 0,
         "_deepnote_index_column": 34
        },
        {
         "Date": "2/5/2020 ",
         "Precip in.": 0.03,
         "Snow in.": 0,
         "_deepnote_index_column": 35
        },
        {
         "Date": "2/6/2020 ",
         "Precip in.": 0.2,
         "Snow in.": 0,
         "_deepnote_index_column": 36
        },
        {
         "Date": "2/7/2020 ",
         "Precip in.": 0.7,
         "Snow in.": 0,
         "_deepnote_index_column": 37
        },
        {
         "Date": "2/8/2020 ",
         "Precip in.": 0.29,
         "Snow in.": 0,
         "_deepnote_index_column": 38
        },
        {
         "Date": "2/9/2020 ",
         "Precip in.": 0,
         "Snow in.": 0,
         "_deepnote_index_column": 39
        },
        {
         "Date": "2/10/2020 ",
         "Precip in.": 0.08,
         "Snow in.": 0,
         "_deepnote_index_column": 40
        },
        {
         "Date": "2/11/2020 ",
         "Precip in.": 0.64,
         "Snow in.": 0,
         "_deepnote_index_column": 41
        },
        {
         "Date": "2/12/2020 ",
         "Precip in.": 0.1,
         "Snow in.": 0,
         "_deepnote_index_column": 42
        },
        {
         "Date": "2/13/2020 ",
         "Precip in.": 0.19,
         "Snow in.": 0,
         "_deepnote_index_column": 43
        },
        {
         "Date": "2/14/2020 ",
         "Precip in.": 0.06,
         "Snow in.": 0,
         "_deepnote_index_column": 44
        },
        {
         "Date": "2/15/2020 ",
         "Precip in.": 0,
         "Snow in.": 0,
         "_deepnote_index_column": 45
        },
        {
         "Date": "2/16/2020 ",
         "Precip in.": 0,
         "Snow in.": 0,
         "_deepnote_index_column": 46
        },
        {
         "Date": "2/17/2020 ",
         "Precip in.": 0,
         "Snow in.": 0,
         "_deepnote_index_column": 47
        },
        {
         "Date": "2/18/2020 ",
         "Precip in.": 0,
         "Snow in.": 0,
         "_deepnote_index_column": 48
        },
        {
         "Date": "2/19/2020 ",
         "Precip in.": 0.01,
         "Snow in.": 0,
         "_deepnote_index_column": 49
        },
        {
         "Date": "2/20/2020 ",
         "Precip in.": 0,
         "Snow in.": 0,
         "_deepnote_index_column": 50
        },
        {
         "Date": "2/21/2020 ",
         "Precip in.": 0,
         "Snow in.": 0,
         "_deepnote_index_column": 51
        },
        {
         "Date": "2/22/2020 ",
         "Precip in.": 0,
         "Snow in.": 0,
         "_deepnote_index_column": 52
        },
        {
         "Date": "2/23/2020 ",
         "Precip in.": 0,
         "Snow in.": 0,
         "_deepnote_index_column": 53
        },
        {
         "Date": "2/24/2020 ",
         "Precip in.": 0,
         "Snow in.": 0,
         "_deepnote_index_column": 54
        },
        {
         "Date": "2/25/2020 ",
         "Precip in.": 0.13,
         "Snow in.": 0,
         "_deepnote_index_column": 55
        },
        {
         "Date": "2/26/2020 ",
         "Precip in.": 0.24,
         "Snow in.": 0,
         "_deepnote_index_column": 56
        },
        {
         "Date": "2/27/2020 ",
         "Precip in.": 0.46,
         "Snow in.": 0,
         "_deepnote_index_column": 57
        },
        {
         "Date": "2/28/2020 ",
         "Precip in.": 0,
         "Snow in.": 0,
         "_deepnote_index_column": 58
        },
        {
         "Date": "2/29/2020 ",
         "Precip in.": 0,
         "Snow in.": 0,
         "_deepnote_index_column": 59
        },
        {
         "Date": "3/1/2020 ",
         "Precip in.": 0,
         "Snow in.": 0,
         "_deepnote_index_column": 60
        },
        {
         "Date": "3/2/2020 ",
         "Precip in.": 0.02,
         "Snow in.": 0,
         "_deepnote_index_column": 61
        },
        {
         "Date": "3/3/2020 ",
         "Precip in.": 0.14,
         "Snow in.": 0,
         "_deepnote_index_column": 62
        },
        {
         "Date": "3/4/2020 ",
         "Precip in.": 0.04,
         "Snow in.": 0,
         "_deepnote_index_column": 63
        },
        {
         "Date": "3/5/2020 ",
         "Precip in.": 0,
         "Snow in.": 0,
         "_deepnote_index_column": 64
        },
        {
         "Date": "3/6/2020 ",
         "Precip in.": 0,
         "Snow in.": 0,
         "_deepnote_index_column": 65
        },
        {
         "Date": "3/7/2020 ",
         "Precip in.": 0.01,
         "Snow in.": 0,
         "_deepnote_index_column": 66
        },
        {
         "Date": "3/8/2020 ",
         "Precip in.": 0,
         "Snow in.": 0,
         "_deepnote_index_column": 67
        },
        {
         "Date": "3/9/2020 ",
         "Precip in.": 0,
         "Snow in.": 0,
         "_deepnote_index_column": 68
        },
        {
         "Date": "3/10/2020 ",
         "Precip in.": 0,
         "Snow in.": 0,
         "_deepnote_index_column": 69
        },
        {
         "Date": "3/11/2020 ",
         "Precip in.": 0.03,
         "Snow in.": 0,
         "_deepnote_index_column": 70
        },
        {
         "Date": "3/12/2020 ",
         "Precip in.": 0,
         "Snow in.": 0,
         "_deepnote_index_column": 71
        },
        {
         "Date": "3/13/2020 ",
         "Precip in.": 0.27,
         "Snow in.": 0,
         "_deepnote_index_column": 72
        },
        {
         "Date": "3/14/2020 ",
         "Precip in.": 0.02,
         "Snow in.": 0,
         "_deepnote_index_column": 73
        },
        {
         "Date": "3/15/2020 ",
         "Precip in.": 0.27,
         "Snow in.": 0,
         "_deepnote_index_column": 74
        },
        {
         "Date": "3/16/2020 ",
         "Precip in.": 0,
         "Snow in.": 0,
         "_deepnote_index_column": 75
        },
        {
         "Date": "3/17/2020 ",
         "Precip in.": 0,
         "Snow in.": 0,
         "_deepnote_index_column": 76
        },
        {
         "Date": "3/18/2020 ",
         "Precip in.": 0.01,
         "Snow in.": 0,
         "_deepnote_index_column": 77
        },
        {
         "Date": "3/19/2020 ",
         "Precip in.": 0.65,
         "Snow in.": 0,
         "_deepnote_index_column": 78
        },
        {
         "Date": "3/20/2020 ",
         "Precip in.": 0.02,
         "Snow in.": 0,
         "_deepnote_index_column": 79
        },
        {
         "Date": "3/21/2020 ",
         "Precip in.": 0.01,
         "Snow in.": 0,
         "_deepnote_index_column": 80
        },
        {
         "Date": "3/22/2020 ",
         "Precip in.": 0,
         "Snow in.": 0,
         "_deepnote_index_column": 81
        },
        {
         "Date": "3/23/2020 ",
         "Precip in.": 0.11,
         "Snow in.": 0,
         "_deepnote_index_column": 82
        },
        {
         "Date": "3/24/2020 ",
         "Precip in.": 0.15,
         "Snow in.": 0,
         "_deepnote_index_column": 83
        },
        {
         "Date": "3/25/2020 ",
         "Precip in.": 0.06,
         "Snow in.": 0,
         "_deepnote_index_column": 84
        },
        {
         "Date": "3/26/2020 ",
         "Precip in.": 0.23,
         "Snow in.": 0,
         "_deepnote_index_column": 85
        },
        {
         "Date": "3/27/2020 ",
         "Precip in.": 0.01,
         "Snow in.": 0,
         "_deepnote_index_column": 86
        },
        {
         "Date": "3/28/2020 ",
         "Precip in.": 0.4,
         "Snow in.": 0,
         "_deepnote_index_column": 87
        },
        {
         "Date": "3/29/2020 ",
         "Precip in.": 0.14,
         "Snow in.": 0,
         "_deepnote_index_column": 88
        },
        {
         "Date": "3/30/2020 ",
         "Precip in.": 0.01,
         "Snow in.": 0,
         "_deepnote_index_column": 89
        },
        {
         "Date": "3/31/2020 ",
         "Precip in.": 0.02,
         "Snow in.": 0,
         "_deepnote_index_column": 90
        },
        {
         "Date": "4/1/2020 ",
         "Precip in.": 0.18,
         "Snow in.": 0,
         "_deepnote_index_column": 91
        },
        {
         "Date": "4/2/2020 ",
         "Precip in.": 0,
         "Snow in.": 0,
         "_deepnote_index_column": 92
        },
        {
         "Date": "4/3/2020 ",
         "Precip in.": 0,
         "Snow in.": 0,
         "_deepnote_index_column": 93
        },
        {
         "Date": "4/4/2020 ",
         "Precip in.": 0,
         "Snow in.": 0,
         "_deepnote_index_column": 94
        },
        {
         "Date": "4/5/2020 ",
         "Precip in.": 0,
         "Snow in.": 0,
         "_deepnote_index_column": 95
        },
        {
         "Date": "4/6/2020 ",
         "Precip in.": 0.02,
         "Snow in.": 0,
         "_deepnote_index_column": 96
        },
        {
         "Date": "4/7/2020 ",
         "Precip in.": 0.03,
         "Snow in.": 0,
         "_deepnote_index_column": 97
        },
        {
         "Date": "4/8/2020 ",
         "Precip in.": 0.21,
         "Snow in.": 0,
         "_deepnote_index_column": 98
        },
        {
         "Date": "4/9/2020 ",
         "Precip in.": 0.12,
         "Snow in.": 0,
         "_deepnote_index_column": 99
        },
        {
         "Date": "4/10/2020 ",
         "Precip in.": 0.03,
         "Snow in.": 0,
         "_deepnote_index_column": 100
        },
        {
         "Date": "4/11/2020 ",
         "Precip in.": 0,
         "Snow in.": 0,
         "_deepnote_index_column": 101
        },
        {
         "Date": "4/12/2020 ",
         "Precip in.": 0.02,
         "Snow in.": 0,
         "_deepnote_index_column": 102
        },
        {
         "Date": "4/13/2020 ",
         "Precip in.": 1.56,
         "Snow in.": 0,
         "_deepnote_index_column": 103
        },
        {
         "Date": "4/14/2020 ",
         "Precip in.": 0.64,
         "Snow in.": 0,
         "_deepnote_index_column": 104
        },
        {
         "Date": "4/15/2020 ",
         "Precip in.": 0.28,
         "Snow in.": 0,
         "_deepnote_index_column": 105
        },
        {
         "Date": "4/16/2020 ",
         "Precip in.": 0,
         "Snow in.": 0,
         "_deepnote_index_column": 106
        },
        {
         "Date": "4/17/2020 ",
         "Precip in.": 0,
         "Snow in.": 0,
         "_deepnote_index_column": 107
        },
        {
         "Date": "4/18/2020 ",
         "Precip in.": 0.06,
         "Snow in.": 0,
         "_deepnote_index_column": 108
        },
        {
         "Date": "4/19/2020 ",
         "Precip in.": 0.02,
         "Snow in.": 0,
         "_deepnote_index_column": 109
        },
        {
         "Date": "4/20/2020 ",
         "Precip in.": 0,
         "Snow in.": 0,
         "_deepnote_index_column": 110
        },
        {
         "Date": "4/21/2020 ",
         "Precip in.": 0,
         "Snow in.": 0,
         "_deepnote_index_column": 111
        },
        {
         "Date": "4/22/2020 ",
         "Precip in.": 0.03,
         "Snow in.": 0,
         "_deepnote_index_column": 112
        },
        {
         "Date": "4/23/2020 ",
         "Precip in.": 0.05,
         "Snow in.": 0,
         "_deepnote_index_column": 113
        },
        {
         "Date": "4/24/2020 ",
         "Precip in.": 0.79,
         "Snow in.": 0,
         "_deepnote_index_column": 114
        },
        {
         "Date": "4/25/2020 ",
         "Precip in.": 0.06,
         "Snow in.": 0,
         "_deepnote_index_column": 115
        },
        {
         "Date": "4/26/2020 ",
         "Precip in.": 0.44,
         "Snow in.": 0,
         "_deepnote_index_column": 116
        },
        {
         "Date": "4/27/2020 ",
         "Precip in.": 0.21,
         "Snow in.": 0,
         "_deepnote_index_column": 117
        },
        {
         "Date": "4/28/2020 ",
         "Precip in.": 0.01,
         "Snow in.": 0,
         "_deepnote_index_column": 118
        },
        {
         "Date": "4/29/2020 ",
         "Precip in.": 0.03,
         "Snow in.": 0,
         "_deepnote_index_column": 119
        },
        {
         "Date": "4/30/2020 ",
         "Precip in.": 0.2,
         "Snow in.": 0,
         "_deepnote_index_column": 120
        },
        {
         "Date": "5/1/2020 ",
         "Precip in.": 1.25,
         "Snow in.": 0,
         "_deepnote_index_column": 121
        },
        {
         "Date": "5/2/2020 ",
         "Precip in.": 0.05,
         "Snow in.": 0,
         "_deepnote_index_column": 122
        },
        {
         "Date": "5/3/2020 ",
         "Precip in.": 0.03,
         "Snow in.": 0,
         "_deepnote_index_column": 123
        },
        {
         "Date": "5/4/2020 ",
         "Precip in.": 0.42,
         "Snow in.": 0,
         "_deepnote_index_column": 124
        },
        {
         "Date": "5/5/2020 ",
         "Precip in.": 0.01,
         "Snow in.": 0,
         "_deepnote_index_column": 125
        },
        {
         "Date": "5/6/2020 ",
         "Precip in.": 0.24,
         "Snow in.": 0,
         "_deepnote_index_column": 126
        },
        {
         "Date": "5/7/2020 ",
         "Precip in.": 0.27,
         "Snow in.": 0,
         "_deepnote_index_column": 127
        },
        {
         "Date": "5/8/2020 ",
         "Precip in.": 0.02,
         "Snow in.": 0,
         "_deepnote_index_column": 128
        },
        {
         "Date": "5/9/2020 ",
         "Precip in.": 0.24,
         "Snow in.": 0,
         "_deepnote_index_column": 129
        },
        {
         "Date": "5/10/2020 ",
         "Precip in.": 0,
         "Snow in.": 0,
         "_deepnote_index_column": 130
        },
        {
         "Date": "5/11/2020 ",
         "Precip in.": 0.02,
         "Snow in.": 0,
         "_deepnote_index_column": 131
        },
        {
         "Date": "5/12/2020 ",
         "Precip in.": 0,
         "Snow in.": 0,
         "_deepnote_index_column": 132
        },
        {
         "Date": "5/13/2020 ",
         "Precip in.": 0,
         "Snow in.": 0,
         "_deepnote_index_column": 133
        },
        {
         "Date": "5/14/2020 ",
         "Precip in.": 0,
         "Snow in.": 0,
         "_deepnote_index_column": 134
        },
        {
         "Date": "5/15/2020 ",
         "Precip in.": 0,
         "Snow in.": 0,
         "_deepnote_index_column": 135
        },
        {
         "Date": "5/16/2020 ",
         "Precip in.": 0,
         "Snow in.": 0,
         "_deepnote_index_column": 136
        },
        {
         "Date": "5/17/2020 ",
         "Precip in.": 0,
         "Snow in.": 0,
         "_deepnote_index_column": 137
        },
        {
         "Date": "5/18/2020 ",
         "Precip in.": 0,
         "Snow in.": 0,
         "_deepnote_index_column": 138
        },
        {
         "Date": "5/19/2020 ",
         "Precip in.": 0,
         "Snow in.": 0,
         "_deepnote_index_column": 139
        },
        {
         "Date": "5/20/2020 ",
         "Precip in.": 0,
         "Snow in.": 0,
         "_deepnote_index_column": 140
        },
        {
         "Date": "5/21/2020 ",
         "Precip in.": 0,
         "Snow in.": 0,
         "_deepnote_index_column": 141
        },
        {
         "Date": "5/22/2020 ",
         "Precip in.": 0.16,
         "Snow in.": 0,
         "_deepnote_index_column": 142
        },
        {
         "Date": "5/23/2020 ",
         "Precip in.": 0.53,
         "Snow in.": 0,
         "_deepnote_index_column": 143
        },
        {
         "Date": "5/24/2020 ",
         "Precip in.": 0.01,
         "Snow in.": 0,
         "_deepnote_index_column": 144
        },
        {
         "Date": "5/25/2020 ",
         "Precip in.": 0,
         "Snow in.": 0,
         "_deepnote_index_column": 145
        },
        {
         "Date": "5/26/2020 ",
         "Precip in.": 0,
         "Snow in.": 0,
         "_deepnote_index_column": 146
        },
        {
         "Date": "5/27/2020 ",
         "Precip in.": 0,
         "Snow in.": 0,
         "_deepnote_index_column": 147
        },
        {
         "Date": "5/28/2020 ",
         "Precip in.": 0.05,
         "Snow in.": 0,
         "_deepnote_index_column": 148
        },
        {
         "Date": "5/29/2020 ",
         "Precip in.": 0.08,
         "Snow in.": 0,
         "_deepnote_index_column": 149
        },
        {
         "Date": "5/30/2020 ",
         "Precip in.": 0.06,
         "Snow in.": 0,
         "_deepnote_index_column": 150
        },
        {
         "Date": "5/31/2020 ",
         "Precip in.": 0,
         "Snow in.": 0,
         "_deepnote_index_column": 151
        },
        {
         "Date": "6/1/2020 ",
         "Precip in.": 0,
         "Snow in.": 0,
         "_deepnote_index_column": 152
        },
        {
         "Date": "6/2/2020 ",
         "Precip in.": 0,
         "Snow in.": 0,
         "_deepnote_index_column": 153
        },
        {
         "Date": "6/3/2020 ",
         "Precip in.": 0,
         "Snow in.": 0,
         "_deepnote_index_column": 154
        },
        {
         "Date": "6/4/2020 ",
         "Precip in.": 0.08,
         "Snow in.": 0,
         "_deepnote_index_column": 155
        },
        {
         "Date": "6/5/2020 ",
         "Precip in.": 1.31,
         "Snow in.": 0,
         "_deepnote_index_column": 156
        },
        {
         "Date": "6/6/2020 ",
         "Precip in.": 1.08,
         "Snow in.": 0,
         "_deepnote_index_column": 157
        },
        {
         "Date": "6/7/2020 ",
         "Precip in.": 0.01,
         "Snow in.": 0,
         "_deepnote_index_column": 158
        },
        {
         "Date": "6/8/2020 ",
         "Precip in.": 0,
         "Snow in.": 0,
         "_deepnote_index_column": 159
        },
        {
         "Date": "6/9/2020 ",
         "Precip in.": 0,
         "Snow in.": 0,
         "_deepnote_index_column": 160
        },
        {
         "Date": "6/10/2020 ",
         "Precip in.": 0.05,
         "Snow in.": 0,
         "_deepnote_index_column": 161
        },
        {
         "Date": "6/11/2020 ",
         "Precip in.": 0.95,
         "Snow in.": 0,
         "_deepnote_index_column": 162
        },
        {
         "Date": "6/12/2020 ",
         "Precip in.": 0.15,
         "Snow in.": 0,
         "_deepnote_index_column": 163
        },
        {
         "Date": "6/13/2020 ",
         "Precip in.": 0,
         "Snow in.": 0,
         "_deepnote_index_column": 164
        },
        {
         "Date": "6/14/2020 ",
         "Precip in.": 0,
         "Snow in.": 0,
         "_deepnote_index_column": 165
        }
       ],
       "rows_bottom": [
        {
         "Date": "7/18/2020 ",
         "Precip in.": 0,
         "Snow in.": 0,
         "_deepnote_index_column": 199
        },
        {
         "Date": "7/19/2020 ",
         "Precip in.": 0,
         "Snow in.": 0,
         "_deepnote_index_column": 200
        },
        {
         "Date": "7/20/2020 ",
         "Precip in.": 0.01,
         "Snow in.": 0,
         "_deepnote_index_column": 201
        },
        {
         "Date": "7/21/2020 ",
         "Precip in.": 0.06,
         "Snow in.": 0,
         "_deepnote_index_column": 202
        },
        {
         "Date": "7/22/2020 ",
         "Precip in.": 0.49,
         "Snow in.": 0,
         "_deepnote_index_column": 203
        },
        {
         "Date": "7/23/2020 ",
         "Precip in.": 0.96,
         "Snow in.": 0,
         "_deepnote_index_column": 204
        },
        {
         "Date": "7/24/2020 ",
         "Precip in.": 0.39,
         "Snow in.": 0,
         "_deepnote_index_column": 205
        },
        {
         "Date": "7/25/2020 ",
         "Precip in.": 0.08,
         "Snow in.": 0,
         "_deepnote_index_column": 206
        },
        {
         "Date": "7/26/2020 ",
         "Precip in.": 0.01,
         "Snow in.": 0,
         "_deepnote_index_column": 207
        },
        {
         "Date": "7/27/2020 ",
         "Precip in.": 0,
         "Snow in.": 0,
         "_deepnote_index_column": 208
        },
        {
         "Date": "7/28/2020 ",
         "Precip in.": 0,
         "Snow in.": 0,
         "_deepnote_index_column": 209
        },
        {
         "Date": "7/29/2020 ",
         "Precip in.": 0,
         "Snow in.": 0,
         "_deepnote_index_column": 210
        },
        {
         "Date": "7/30/2020 ",
         "Precip in.": 0.02,
         "Snow in.": 0,
         "_deepnote_index_column": 211
        },
        {
         "Date": "7/31/2020 ",
         "Precip in.": 0.38,
         "Snow in.": 0,
         "_deepnote_index_column": 212
        },
        {
         "Date": "8/1/2020 ",
         "Precip in.": 0.33,
         "Snow in.": 0,
         "_deepnote_index_column": 213
        },
        {
         "Date": "8/2/2020 ",
         "Precip in.": 0.01,
         "Snow in.": 0,
         "_deepnote_index_column": 214
        },
        {
         "Date": "8/3/2020 ",
         "Precip in.": 0.04,
         "Snow in.": 0,
         "_deepnote_index_column": 215
        },
        {
         "Date": "8/4/2020 ",
         "Precip in.": 1.52,
         "Snow in.": 0,
         "_deepnote_index_column": 216
        },
        {
         "Date": "8/5/2020 ",
         "Precip in.": 1.19,
         "Snow in.": 0,
         "_deepnote_index_column": 217
        },
        {
         "Date": "8/6/2020 ",
         "Precip in.": 0.71,
         "Snow in.": 0,
         "_deepnote_index_column": 218
        },
        {
         "Date": "8/7/2020 ",
         "Precip in.": 0.21,
         "Snow in.": 0,
         "_deepnote_index_column": 219
        },
        {
         "Date": "8/8/2020 ",
         "Precip in.": 0.18,
         "Snow in.": 0,
         "_deepnote_index_column": 220
        },
        {
         "Date": "8/9/2020 ",
         "Precip in.": 0,
         "Snow in.": 0,
         "_deepnote_index_column": 221
        },
        {
         "Date": "8/10/2020 ",
         "Precip in.": 0,
         "Snow in.": 0,
         "_deepnote_index_column": 222
        },
        {
         "Date": "8/11/2020 ",
         "Precip in.": 0.01,
         "Snow in.": 0,
         "_deepnote_index_column": 223
        },
        {
         "Date": "8/12/2020 ",
         "Precip in.": 0.09,
         "Snow in.": 0,
         "_deepnote_index_column": 224
        },
        {
         "Date": "8/13/2020 ",
         "Precip in.": 0.67,
         "Snow in.": 0,
         "_deepnote_index_column": 225
        },
        {
         "Date": "8/14/2020 ",
         "Precip in.": 0.28,
         "Snow in.": 0,
         "_deepnote_index_column": 226
        },
        {
         "Date": "8/15/2020 ",
         "Precip in.": 0.22,
         "Snow in.": 0,
         "_deepnote_index_column": 227
        },
        {
         "Date": "8/16/2020 ",
         "Precip in.": 0.96,
         "Snow in.": 0,
         "_deepnote_index_column": 228
        },
        {
         "Date": "8/17/2020 ",
         "Precip in.": 0.04,
         "Snow in.": 0,
         "_deepnote_index_column": 229
        },
        {
         "Date": "8/18/2020 ",
         "Precip in.": 0.12,
         "Snow in.": 0,
         "_deepnote_index_column": 230
        },
        {
         "Date": "8/19/2020 ",
         "Precip in.": 0.15,
         "Snow in.": 0,
         "_deepnote_index_column": 231
        },
        {
         "Date": "8/20/2020 ",
         "Precip in.": 0.09,
         "Snow in.": 0,
         "_deepnote_index_column": 232
        },
        {
         "Date": "8/21/2020 ",
         "Precip in.": 0,
         "Snow in.": 0,
         "_deepnote_index_column": 233
        },
        {
         "Date": "8/22/2020 ",
         "Precip in.": 0.03,
         "Snow in.": 0,
         "_deepnote_index_column": 234
        },
        {
         "Date": "8/23/2020 ",
         "Precip in.": 0.03,
         "Snow in.": 0,
         "_deepnote_index_column": 235
        },
        {
         "Date": "8/24/2020 ",
         "Precip in.": 0.06,
         "Snow in.": 0,
         "_deepnote_index_column": 236
        },
        {
         "Date": "8/25/2020 ",
         "Precip in.": 0.04,
         "Snow in.": 0,
         "_deepnote_index_column": 237
        },
        {
         "Date": "8/26/2020 ",
         "Precip in.": 0.02,
         "Snow in.": 0,
         "_deepnote_index_column": 238
        },
        {
         "Date": "8/27/2020 ",
         "Precip in.": 0,
         "Snow in.": 0,
         "_deepnote_index_column": 239
        },
        {
         "Date": "8/28/2020 ",
         "Precip in.": 0.03,
         "Snow in.": 0,
         "_deepnote_index_column": 240
        },
        {
         "Date": "8/29/2020 ",
         "Precip in.": 0.63,
         "Snow in.": 0,
         "_deepnote_index_column": 241
        },
        {
         "Date": "8/30/2020 ",
         "Precip in.": 0.24,
         "Snow in.": 0,
         "_deepnote_index_column": 242
        },
        {
         "Date": "8/31/2020 ",
         "Precip in.": 0.03,
         "Snow in.": 0,
         "_deepnote_index_column": 243
        },
        {
         "Date": "9/1/2020 ",
         "Precip in.": 0.4,
         "Snow in.": 0,
         "_deepnote_index_column": 244
        },
        {
         "Date": "9/2/2020 ",
         "Precip in.": 0.12,
         "Snow in.": 0,
         "_deepnote_index_column": 245
        },
        {
         "Date": "9/3/2020 ",
         "Precip in.": 0.5,
         "Snow in.": 0,
         "_deepnote_index_column": 246
        },
        {
         "Date": "9/4/2020 ",
         "Precip in.": 1.14,
         "Snow in.": 0,
         "_deepnote_index_column": 247
        },
        {
         "Date": "9/5/2020 ",
         "Precip in.": 0,
         "Snow in.": 0,
         "_deepnote_index_column": 248
        },
        {
         "Date": "9/6/2020 ",
         "Precip in.": 0,
         "Snow in.": 0,
         "_deepnote_index_column": 249
        },
        {
         "Date": "9/7/2020 ",
         "Precip in.": 0,
         "Snow in.": 0,
         "_deepnote_index_column": 250
        },
        {
         "Date": "9/8/2020 ",
         "Precip in.": 0,
         "Snow in.": 0,
         "_deepnote_index_column": 251
        },
        {
         "Date": "9/9/2020 ",
         "Precip in.": 0.01,
         "Snow in.": 0,
         "_deepnote_index_column": 252
        },
        {
         "Date": "9/10/2020 ",
         "Precip in.": 0.32,
         "Snow in.": 0,
         "_deepnote_index_column": 253
        },
        {
         "Date": "9/11/2020 ",
         "Precip in.": 1.4,
         "Snow in.": 0,
         "_deepnote_index_column": 254
        },
        {
         "Date": "9/12/2020 ",
         "Precip in.": 0.01,
         "Snow in.": 0,
         "_deepnote_index_column": 255
        },
        {
         "Date": "9/13/2020 ",
         "Precip in.": 0.02,
         "Snow in.": 0,
         "_deepnote_index_column": 256
        },
        {
         "Date": "9/14/2020 ",
         "Precip in.": 0,
         "Snow in.": 0,
         "_deepnote_index_column": 257
        },
        {
         "Date": "9/15/2020 ",
         "Precip in.": 0,
         "Snow in.": 0,
         "_deepnote_index_column": 258
        },
        {
         "Date": "9/16/2020 ",
         "Precip in.": 0,
         "Snow in.": 0,
         "_deepnote_index_column": 259
        },
        {
         "Date": "9/17/2020 ",
         "Precip in.": 0,
         "Snow in.": 0,
         "_deepnote_index_column": 260
        },
        {
         "Date": "9/18/2020 ",
         "Precip in.": 0.11,
         "Snow in.": 0,
         "_deepnote_index_column": 261
        },
        {
         "Date": "9/19/2020 ",
         "Precip in.": 0,
         "Snow in.": 0,
         "_deepnote_index_column": 262
        },
        {
         "Date": "9/20/2020 ",
         "Precip in.": 0,
         "Snow in.": 0,
         "_deepnote_index_column": 263
        },
        {
         "Date": "9/21/2020 ",
         "Precip in.": 0,
         "Snow in.": 0,
         "_deepnote_index_column": 264
        },
        {
         "Date": "9/22/2020 ",
         "Precip in.": 0,
         "Snow in.": 0,
         "_deepnote_index_column": 265
        },
        {
         "Date": "9/23/2020 ",
         "Precip in.": 0,
         "Snow in.": 0,
         "_deepnote_index_column": 266
        },
        {
         "Date": "9/24/2020 ",
         "Precip in.": 0,
         "Snow in.": 0,
         "_deepnote_index_column": 267
        },
        {
         "Date": "9/25/2020 ",
         "Precip in.": 0,
         "Snow in.": 0,
         "_deepnote_index_column": 268
        },
        {
         "Date": "9/26/2020 ",
         "Precip in.": 0.35,
         "Snow in.": 0,
         "_deepnote_index_column": 269
        },
        {
         "Date": "9/27/2020 ",
         "Precip in.": 0.05,
         "Snow in.": 0,
         "_deepnote_index_column": 270
        },
        {
         "Date": "9/28/2020 ",
         "Precip in.": 0.01,
         "Snow in.": 0,
         "_deepnote_index_column": 271
        },
        {
         "Date": "9/29/2020 ",
         "Precip in.": 0.02,
         "Snow in.": 0,
         "_deepnote_index_column": 272
        },
        {
         "Date": "9/30/2020 ",
         "Precip in.": 0.36,
         "Snow in.": 0,
         "_deepnote_index_column": 273
        },
        {
         "Date": "10/1/2020 ",
         "Precip in.": 0,
         "Snow in.": 0,
         "_deepnote_index_column": 274
        },
        {
         "Date": "10/2/2020 ",
         "Precip in.": 0.14,
         "Snow in.": 0,
         "_deepnote_index_column": 275
        },
        {
         "Date": "10/3/2020 ",
         "Precip in.": 0.01,
         "Snow in.": 0,
         "_deepnote_index_column": 276
        },
        {
         "Date": "10/4/2020 ",
         "Precip in.": 0,
         "Snow in.": 0,
         "_deepnote_index_column": 277
        },
        {
         "Date": "10/5/2020 ",
         "Precip in.": 0.06,
         "Snow in.": 0,
         "_deepnote_index_column": 278
        },
        {
         "Date": "10/6/2020 ",
         "Precip in.": 0,
         "Snow in.": 0,
         "_deepnote_index_column": 279
        },
        {
         "Date": "10/7/2020 ",
         "Precip in.": 0,
         "Snow in.": 0,
         "_deepnote_index_column": 280
        },
        {
         "Date": "10/8/2020 ",
         "Precip in.": 0,
         "Snow in.": 0,
         "_deepnote_index_column": 281
        },
        {
         "Date": "10/9/2020 ",
         "Precip in.": 0,
         "Snow in.": 0,
         "_deepnote_index_column": 282
        },
        {
         "Date": "10/10/2020 ",
         "Precip in.": 0,
         "Snow in.": 0,
         "_deepnote_index_column": 283
        },
        {
         "Date": "10/11/2020 ",
         "Precip in.": 0.04,
         "Snow in.": 0,
         "_deepnote_index_column": 284
        },
        {
         "Date": "10/12/2020 ",
         "Precip in.": 1,
         "Snow in.": 0,
         "_deepnote_index_column": 285
        },
        {
         "Date": "10/13/2020 ",
         "Precip in.": 0.19,
         "Snow in.": 0,
         "_deepnote_index_column": 286
        },
        {
         "Date": "10/14/2020 ",
         "Precip in.": 0.01,
         "Snow in.": 0,
         "_deepnote_index_column": 287
        },
        {
         "Date": "10/15/2020 ",
         "Precip in.": 0,
         "Snow in.": 0,
         "_deepnote_index_column": 288
        },
        {
         "Date": "10/16/2020 ",
         "Precip in.": 0.01,
         "Snow in.": 0,
         "_deepnote_index_column": 289
        },
        {
         "Date": "10/17/2020 ",
         "Precip in.": 0.04,
         "Snow in.": 0,
         "_deepnote_index_column": 290
        },
        {
         "Date": "10/18/2020 ",
         "Precip in.": 0,
         "Snow in.": 0,
         "_deepnote_index_column": 291
        },
        {
         "Date": "10/19/2020 ",
         "Precip in.": 0,
         "Snow in.": 0,
         "_deepnote_index_column": 292
        },
        {
         "Date": "10/20/2020 ",
         "Precip in.": 0,
         "Snow in.": 0,
         "_deepnote_index_column": 293
        },
        {
         "Date": "10/21/2020 ",
         "Precip in.": 0.01,
         "Snow in.": 0,
         "_deepnote_index_column": 294
        },
        {
         "Date": "10/22/2020 ",
         "Precip in.": 0,
         "Snow in.": 0,
         "_deepnote_index_column": 295
        },
        {
         "Date": "10/23/2020 ",
         "Precip in.": 0,
         "Snow in.": 0,
         "_deepnote_index_column": 296
        },
        {
         "Date": "10/24/2020 ",
         "Precip in.": 0,
         "Snow in.": 0,
         "_deepnote_index_column": 297
        },
        {
         "Date": "10/25/2020 ",
         "Precip in.": 0.06,
         "Snow in.": 0,
         "_deepnote_index_column": 298
        },
        {
         "Date": "10/26/2020 ",
         "Precip in.": 0.15,
         "Snow in.": 0,
         "_deepnote_index_column": 299
        },
        {
         "Date": "10/27/2020 ",
         "Precip in.": 0,
         "Snow in.": 0,
         "_deepnote_index_column": 300
        },
        {
         "Date": "10/28/2020 ",
         "Precip in.": 0.01,
         "Snow in.": 0,
         "_deepnote_index_column": 301
        },
        {
         "Date": "10/29/2020 ",
         "Precip in.": 0.63,
         "Snow in.": 0,
         "_deepnote_index_column": 302
        },
        {
         "Date": "10/30/2020 ",
         "Precip in.": 1.48,
         "Snow in.": 0,
         "_deepnote_index_column": 303
        },
        {
         "Date": "10/31/2020 ",
         "Precip in.": 0.01,
         "Snow in.": 0,
         "_deepnote_index_column": 304
        },
        {
         "Date": "11/1/2020 ",
         "Precip in.": 0.03,
         "Snow in.": 0,
         "_deepnote_index_column": 305
        },
        {
         "Date": "11/2/2020 ",
         "Precip in.": 0.32,
         "Snow in.": 0,
         "_deepnote_index_column": 306
        },
        {
         "Date": "11/3/2020 ",
         "Precip in.": 0,
         "Snow in.": 0,
         "_deepnote_index_column": 307
        },
        {
         "Date": "11/4/2020 ",
         "Precip in.": 0,
         "Snow in.": 0,
         "_deepnote_index_column": 308
        },
        {
         "Date": "11/5/2020 ",
         "Precip in.": 0,
         "Snow in.": 0,
         "_deepnote_index_column": 309
        },
        {
         "Date": "11/6/2020 ",
         "Precip in.": 0,
         "Snow in.": 0,
         "_deepnote_index_column": 310
        },
        {
         "Date": "11/7/2020 ",
         "Precip in.": 0,
         "Snow in.": 0,
         "_deepnote_index_column": 311
        },
        {
         "Date": "11/8/2020 ",
         "Precip in.": 0,
         "Snow in.": 0,
         "_deepnote_index_column": 312
        },
        {
         "Date": "11/9/2020 ",
         "Precip in.": 0,
         "Snow in.": 0,
         "_deepnote_index_column": 313
        },
        {
         "Date": "11/10/2020 ",
         "Precip in.": 0,
         "Snow in.": 0,
         "_deepnote_index_column": 314
        },
        {
         "Date": "11/11/2020 ",
         "Precip in.": 0.14,
         "Snow in.": 0,
         "_deepnote_index_column": 315
        },
        {
         "Date": "11/12/2020 ",
         "Precip in.": 1.78,
         "Snow in.": 0,
         "_deepnote_index_column": 316
        },
        {
         "Date": "11/13/2020 ",
         "Precip in.": 0.19,
         "Snow in.": 0,
         "_deepnote_index_column": 317
        },
        {
         "Date": "11/14/2020 ",
         "Precip in.": 0,
         "Snow in.": 0,
         "_deepnote_index_column": 318
        },
        {
         "Date": "11/15/2020 ",
         "Precip in.": 0.01,
         "Snow in.": 0,
         "_deepnote_index_column": 319
        },
        {
         "Date": "11/16/2020 ",
         "Precip in.": 0.06,
         "Snow in.": 0,
         "_deepnote_index_column": 320
        },
        {
         "Date": "11/17/2020 ",
         "Precip in.": 0,
         "Snow in.": 0,
         "_deepnote_index_column": 321
        },
        {
         "Date": "11/18/2020 ",
         "Precip in.": 0,
         "Snow in.": 0,
         "_deepnote_index_column": 322
        },
        {
         "Date": "11/19/2020 ",
         "Precip in.": 0,
         "Snow in.": 0,
         "_deepnote_index_column": 323
        },
        {
         "Date": "11/20/2020 ",
         "Precip in.": 0,
         "Snow in.": 0,
         "_deepnote_index_column": 324
        },
        {
         "Date": "11/21/2020 ",
         "Precip in.": 0,
         "Snow in.": 0,
         "_deepnote_index_column": 325
        },
        {
         "Date": "11/22/2020 ",
         "Precip in.": 0,
         "Snow in.": 0,
         "_deepnote_index_column": 326
        },
        {
         "Date": "11/23/2020 ",
         "Precip in.": 0.08,
         "Snow in.": 0,
         "_deepnote_index_column": 327
        },
        {
         "Date": "11/24/2020 ",
         "Precip in.": 0,
         "Snow in.": 0,
         "_deepnote_index_column": 328
        },
        {
         "Date": "11/25/2020 ",
         "Precip in.": 0,
         "Snow in.": 0,
         "_deepnote_index_column": 329
        },
        {
         "Date": "11/26/2020 ",
         "Precip in.": 0.16,
         "Snow in.": 0,
         "_deepnote_index_column": 330
        },
        {
         "Date": "11/27/2020 ",
         "Precip in.": 0.01,
         "Snow in.": 0,
         "_deepnote_index_column": 331
        },
        {
         "Date": "11/28/2020 ",
         "Precip in.": 0,
         "Snow in.": 0,
         "_deepnote_index_column": 332
        },
        {
         "Date": "11/29/2020 ",
         "Precip in.": 0,
         "Snow in.": 0,
         "_deepnote_index_column": 333
        },
        {
         "Date": "11/30/2020 ",
         "Precip in.": 0.74,
         "Snow in.": 0,
         "_deepnote_index_column": 334
        },
        {
         "Date": "12/1/2020 ",
         "Precip in.": 0.66,
         "Snow in.": 0,
         "_deepnote_index_column": 335
        },
        {
         "Date": "12/2/2020 ",
         "Precip in.": 0.02,
         "Snow in.": 0,
         "_deepnote_index_column": 336
        },
        {
         "Date": "12/3/2020 ",
         "Precip in.": 0,
         "Snow in.": 0,
         "_deepnote_index_column": 337
        },
        {
         "Date": "12/4/2020 ",
         "Precip in.": 0.05,
         "Snow in.": 0,
         "_deepnote_index_column": 338
        },
        {
         "Date": "12/5/2020 ",
         "Precip in.": 1,
         "Snow in.": 0,
         "_deepnote_index_column": 339
        },
        {
         "Date": "12/6/2020 ",
         "Precip in.": 0.01,
         "Snow in.": 0,
         "_deepnote_index_column": 340
        },
        {
         "Date": "12/7/2020 ",
         "Precip in.": 0,
         "Snow in.": 0,
         "_deepnote_index_column": 341
        },
        {
         "Date": "12/8/2020 ",
         "Precip in.": 0,
         "Snow in.": 0,
         "_deepnote_index_column": 342
        },
        {
         "Date": "12/9/2020 ",
         "Precip in.": 0,
         "Snow in.": 0,
         "_deepnote_index_column": 343
        },
        {
         "Date": "12/10/2020 ",
         "Precip in.": 0,
         "Snow in.": 0,
         "_deepnote_index_column": 344
        },
        {
         "Date": "12/11/2020 ",
         "Precip in.": 0,
         "Snow in.": 0,
         "_deepnote_index_column": 345
        },
        {
         "Date": "12/12/2020 ",
         "Precip in.": 0,
         "Snow in.": 0,
         "_deepnote_index_column": 346
        },
        {
         "Date": "12/13/2020 ",
         "Precip in.": 0.01,
         "Snow in.": 0,
         "_deepnote_index_column": 347
        },
        {
         "Date": "12/14/2020 ",
         "Precip in.": 0.26,
         "Snow in.": 1,
         "_deepnote_index_column": 348
        },
        {
         "Date": "12/15/2020 ",
         "Precip in.": 0.87,
         "Snow in.": 0,
         "_deepnote_index_column": 349
        },
        {
         "Date": "12/16/2020 ",
         "Precip in.": 0.11,
         "Snow in.": 4,
         "_deepnote_index_column": 350
        },
        {
         "Date": "12/17/2020 ",
         "Precip in.": 1.23,
         "Snow in.": 21,
         "_deepnote_index_column": 351
        },
        {
         "Date": "12/18/2020 ",
         "Precip in.": 0,
         "Snow in.": 7,
         "_deepnote_index_column": 352
        },
        {
         "Date": "12/19/2020 ",
         "Precip in.": 0,
         "Snow in.": 1,
         "_deepnote_index_column": 353
        },
        {
         "Date": "12/20/2020 ",
         "Precip in.": 0,
         "Snow in.": 0,
         "_deepnote_index_column": 354
        },
        {
         "Date": "12/21/2020 ",
         "Precip in.": 0,
         "Snow in.": 0,
         "_deepnote_index_column": 355
        },
        {
         "Date": "12/22/2020 ",
         "Precip in.": 0.03,
         "Snow in.": 0,
         "_deepnote_index_column": 356
        },
        {
         "Date": "12/23/2020 ",
         "Precip in.": 0,
         "Snow in.": 0,
         "_deepnote_index_column": 357
        },
        {
         "Date": "12/24/2020 ",
         "Precip in.": 0.13,
         "Snow in.": 0,
         "_deepnote_index_column": 358
        },
        {
         "Date": "12/25/2020 ",
         "Precip in.": 1.75,
         "Snow in.": 1,
         "_deepnote_index_column": 359
        },
        {
         "Date": "12/26/2020 ",
         "Precip in.": 0,
         "Snow in.": 0,
         "_deepnote_index_column": 360
        },
        {
         "Date": "12/27/2020 ",
         "Precip in.": 0,
         "Snow in.": 0,
         "_deepnote_index_column": 361
        },
        {
         "Date": "12/28/2020 ",
         "Precip in.": 0,
         "Snow in.": 0,
         "_deepnote_index_column": 362
        },
        {
         "Date": "12/29/2020 ",
         "Precip in.": 0,
         "Snow in.": 0,
         "_deepnote_index_column": 363
        },
        {
         "Date": "12/30/2020 ",
         "Precip in.": 0,
         "Snow in.": 0,
         "_deepnote_index_column": 364
        },
        {
         "Date": "12/31/2020 ",
         "Precip in.": 0,
         "Snow in.": 0,
         "_deepnote_index_column": 365
        }
       ]
      },
      "text/plain": "            Date  Precip in.  Snow in.\n0      1/1/2020         0.00         0\n1      1/2/2020         0.00         0\n2      1/3/2020         0.19         0\n3      1/4/2020         0.21         0\n4      1/5/2020         0.15         0\n..           ...         ...       ...\n361  12/27/2020         0.00         0\n362  12/28/2020         0.00         0\n363  12/29/2020         0.00         0\n364  12/30/2020         0.00         0\n365  12/31/2020         0.00         0\n\n[366 rows x 3 columns]",
      "text/html": "<div>\n<style scoped>\n    .dataframe tbody tr th:only-of-type {\n        vertical-align: middle;\n    }\n\n    .dataframe tbody tr th {\n        vertical-align: top;\n    }\n\n    .dataframe thead th {\n        text-align: right;\n    }\n</style>\n<table border=\"1\" class=\"dataframe\">\n  <thead>\n    <tr style=\"text-align: right;\">\n      <th></th>\n      <th>Date</th>\n      <th>Precip in.</th>\n      <th>Snow in.</th>\n    </tr>\n  </thead>\n  <tbody>\n    <tr>\n      <th>0</th>\n      <td>1/1/2020</td>\n      <td>0.00</td>\n      <td>0</td>\n    </tr>\n    <tr>\n      <th>1</th>\n      <td>1/2/2020</td>\n      <td>0.00</td>\n      <td>0</td>\n    </tr>\n    <tr>\n      <th>2</th>\n      <td>1/3/2020</td>\n      <td>0.19</td>\n      <td>0</td>\n    </tr>\n    <tr>\n      <th>3</th>\n      <td>1/4/2020</td>\n      <td>0.21</td>\n      <td>0</td>\n    </tr>\n    <tr>\n      <th>4</th>\n      <td>1/5/2020</td>\n      <td>0.15</td>\n      <td>0</td>\n    </tr>\n    <tr>\n      <th>...</th>\n      <td>...</td>\n      <td>...</td>\n      <td>...</td>\n    </tr>\n    <tr>\n      <th>361</th>\n      <td>12/27/2020</td>\n      <td>0.00</td>\n      <td>0</td>\n    </tr>\n    <tr>\n      <th>362</th>\n      <td>12/28/2020</td>\n      <td>0.00</td>\n      <td>0</td>\n    </tr>\n    <tr>\n      <th>363</th>\n      <td>12/29/2020</td>\n      <td>0.00</td>\n      <td>0</td>\n    </tr>\n    <tr>\n      <th>364</th>\n      <td>12/30/2020</td>\n      <td>0.00</td>\n      <td>0</td>\n    </tr>\n    <tr>\n      <th>365</th>\n      <td>12/31/2020</td>\n      <td>0.00</td>\n      <td>0</td>\n    </tr>\n  </tbody>\n</table>\n<p>366 rows × 3 columns</p>\n</div>"
     },
     "metadata": {}
    }
   ]
  },
  {
   "cell_type": "markdown",
   "source": "#### Question 7",
   "metadata": {
    "tags": [],
    "cell_id": "00032-c7f3699a-3775-4e56-ab2f-ecc21dce83cc",
    "deepnote_cell_type": "markdown"
   }
  },
  {
   "cell_type": "code",
   "metadata": {
    "tags": [],
    "cell_id": "00046-b167c5e3-7ed8-4d85-8d57-8ece77477b8b",
    "deepnote_to_be_reexecuted": false,
    "source_hash": "51a280b1",
    "execution_start": 1636935695407,
    "execution_millis": 1110111,
    "deepnote_cell_type": "code"
   },
   "source": "rain_snow = 0\nsunny = 0\nfor e in df3['Precip in.']:\n    if (e > .05):\n        rain_snow = rain_snow + 1\n    else:\n        sunny = sunny + 1\n\nfor e in df3['Snow in.']:\n    if (e > 1):\n        rain_snow = rain_snow + 1\n        sunny = sunny + 1\n    else:\n        sunny = sunny + 1\n\nprint(rain_snow)\nprint(sunny)\n",
   "execution_count": null,
   "outputs": [
    {
     "name": "stdout",
     "text": "134\n603\n",
     "output_type": "stream"
    }
   ]
  },
  {
   "cell_type": "code",
   "metadata": {
    "tags": [],
    "cell_id": "00047-6d843886-7045-4582-b7ce-7f035e1b5473",
    "deepnote_to_be_reexecuted": false,
    "source_hash": "97978a88",
    "execution_start": 1636935695417,
    "execution_millis": 1106467,
    "deepnote_cell_type": "code"
   },
   "source": "print('Ratio of num of accidents occurred in rainy to sunny day is ', rain_snow, '/', sunny, \n        ' = ', rain_snow/sunny)\nprint('It appears that 22% of accidents happened on a rainy/snowy day, and 80% happened on a sunny day. This implies that bad weather is not a direct cause of car accidents.')",
   "execution_count": null,
   "outputs": [
    {
     "name": "stdout",
     "text": "Ratio of num of accidents occurred in rainy to sunny day is  134 / 603  =  0.2222222222222222\nIt appears that 22% of accidents happened on a rainy/snowy day, and 80% happened on a sunny day. This implies that bad weather is not a direct cause of car accidents.\n",
     "output_type": "stream"
    }
   ]
  },
  {
   "cell_type": "markdown",
   "source": "<a style='text-decoration:none;line-height:16px;display:flex;color:#5B5B62;padding:10px;justify-content:end;' href='https://deepnote.com?utm_source=created-in-deepnote-cell&projectId=4511c9db-3ff3-4de2-bdfe-cb0da3a697d3' target=\"_blank\">\n<img alt='Created in deepnote.com' style='display:inline;max-height:16px;margin:0px;margin-right:7.5px;' src='data:image/svg+xml;base64,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' > </img>\nCreated in <span style='font-weight:600;margin-left:4px;'>Deepnote</span></a>",
   "metadata": {
    "tags": [],
    "created_in_deepnote_cell": true,
    "deepnote_cell_type": "markdown"
   }
  }
 ],
 "nbformat": 4,
 "nbformat_minor": 5,
 "metadata": {
  "kernelspec": {
   "display_name": "Python 3",
   "language": "python",
   "name": "python3"
  },
  "language_info": {
   "codemirror_mode": {
    "name": "ipython",
    "version": 3
   },
   "file_extension": ".py",
   "mimetype": "text/x-python",
   "name": "python",
   "nbconvert_exporter": "python",
   "pygments_lexer": "ipython3",
   "version": "3.8.8"
  },
  "deepnote_notebook_id": "fc3a1719-37f1-4c49-ba3e-81141013beac",
  "deepnote": {},
  "deepnote_execution_queue": []
 }
}