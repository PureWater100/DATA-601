{
 "cells": [
  {
   "cell_type": "code",
   "metadata": {
    "tags": [],
    "cell_id": "00000-2895ecd6-cfc4-433e-9c0e-9e281e5ba4c5",
    "deepnote_to_be_reexecuted": false,
    "source_hash": "593005cc",
    "execution_start": 1647317191233,
    "execution_millis": 2155,
    "deepnote_cell_type": "code",
    "deepnote_cell_height": 315
   },
   "source": "import numpy as np\nimport pandas as pd\nimport matplotlib.pyplot as plt\nfrom matplotlib.pyplot import bar\nimport seaborn as sns\n# sklearn stuff\nfrom sklearn.metrics import r2_score\nfrom sklearn.model_selection import train_test_split\nfrom sklearn.feature_selection import SelectKBest\nfrom sklearn.feature_selection import f_regression\nfrom sklearn.linear_model import LinearRegression\nfrom sklearn.metrics import mean_absolute_error\nfrom sklearn.linear_model import LogisticRegression\nfrom sklearn.metrics import confusion_matrix",
   "execution_count": 1,
   "outputs": []
  },
  {
   "cell_type": "code",
   "metadata": {
    "tags": [],
    "cell_id": "00001-d78e5ff3-6437-41e1-aacd-fdf31d9c9f9a",
    "deepnote_to_be_reexecuted": false,
    "source_hash": "1532e41d",
    "execution_start": 1647317193402,
    "execution_millis": 73,
    "deepnote_cell_type": "code",
    "deepnote_cell_height": 462
   },
   "source": "#referencing the github link won't work now that the repository has been taken down\n#download the excel file, then convert to csv\ndf = pd.read_csv('flights2DCMDVA.csv', index_col=[])\ndf.head()",
   "execution_count": 2,
   "outputs": [
    {
     "output_type": "execute_result",
     "execution_count": 2,
     "data": {
      "application/vnd.deepnote.dataframe.v3+json": {
       "column_count": 16,
       "row_count": 5,
       "columns": [
        {
         "name": "year",
         "dtype": "int64",
         "stats": {
          "unique_count": 1,
          "nan_count": 0,
          "min": "2013",
          "max": "2013",
          "histogram": [
           {
            "bin_start": 2012.5,
            "bin_end": 2012.6,
            "count": 0
           },
           {
            "bin_start": 2012.6,
            "bin_end": 2012.7,
            "count": 0
           },
           {
            "bin_start": 2012.7,
            "bin_end": 2012.8,
            "count": 0
           },
           {
            "bin_start": 2012.8,
            "bin_end": 2012.9,
            "count": 0
           },
           {
            "bin_start": 2012.9,
            "bin_end": 2013,
            "count": 0
           },
           {
            "bin_start": 2013,
            "bin_end": 2013.1,
            "count": 5
           },
           {
            "bin_start": 2013.1,
            "bin_end": 2013.2,
            "count": 0
           },
           {
            "bin_start": 2013.2,
            "bin_end": 2013.3,
            "count": 0
           },
           {
            "bin_start": 2013.3,
            "bin_end": 2013.4,
            "count": 0
           },
           {
            "bin_start": 2013.4,
            "bin_end": 2013.5,
            "count": 0
           }
          ]
         }
        },
        {
         "name": "month",
         "dtype": "int64",
         "stats": {
          "unique_count": 1,
          "nan_count": 0,
          "min": "1",
          "max": "1",
          "histogram": [
           {
            "bin_start": 0.5,
            "bin_end": 0.6,
            "count": 0
           },
           {
            "bin_start": 0.6,
            "bin_end": 0.7,
            "count": 0
           },
           {
            "bin_start": 0.7,
            "bin_end": 0.8,
            "count": 0
           },
           {
            "bin_start": 0.8,
            "bin_end": 0.9,
            "count": 0
           },
           {
            "bin_start": 0.9,
            "bin_end": 1,
            "count": 0
           },
           {
            "bin_start": 1,
            "bin_end": 1.1,
            "count": 5
           },
           {
            "bin_start": 1.1,
            "bin_end": 1.2000000000000002,
            "count": 0
           },
           {
            "bin_start": 1.2000000000000002,
            "bin_end": 1.3,
            "count": 0
           },
           {
            "bin_start": 1.3,
            "bin_end": 1.4,
            "count": 0
           },
           {
            "bin_start": 1.4,
            "bin_end": 1.5,
            "count": 0
           }
          ]
         }
        },
        {
         "name": "day",
         "dtype": "int64",
         "stats": {
          "unique_count": 1,
          "nan_count": 0,
          "min": "1",
          "max": "1",
          "histogram": [
           {
            "bin_start": 0.5,
            "bin_end": 0.6,
            "count": 0
           },
           {
            "bin_start": 0.6,
            "bin_end": 0.7,
            "count": 0
           },
           {
            "bin_start": 0.7,
            "bin_end": 0.8,
            "count": 0
           },
           {
            "bin_start": 0.8,
            "bin_end": 0.9,
            "count": 0
           },
           {
            "bin_start": 0.9,
            "bin_end": 1,
            "count": 0
           },
           {
            "bin_start": 1,
            "bin_end": 1.1,
            "count": 5
           },
           {
            "bin_start": 1.1,
            "bin_end": 1.2000000000000002,
            "count": 0
           },
           {
            "bin_start": 1.2000000000000002,
            "bin_end": 1.3,
            "count": 0
           },
           {
            "bin_start": 1.3,
            "bin_end": 1.4,
            "count": 0
           },
           {
            "bin_start": 1.4,
            "bin_end": 1.5,
            "count": 0
           }
          ]
         }
        },
        {
         "name": "dep_time",
         "dtype": "float64",
         "stats": {
          "unique_count": 5,
          "nan_count": 0,
          "min": "629.0",
          "max": "1316.0",
          "histogram": [
           {
            "bin_start": 629,
            "bin_end": 697.7,
            "count": 1
           },
           {
            "bin_start": 697.7,
            "bin_end": 766.4,
            "count": 0
           },
           {
            "bin_start": 766.4,
            "bin_end": 835.1,
            "count": 0
           },
           {
            "bin_start": 835.1,
            "bin_end": 903.8,
            "count": 1
           },
           {
            "bin_start": 903.8,
            "bin_end": 972.5,
            "count": 0
           },
           {
            "bin_start": 972.5,
            "bin_end": 1041.2,
            "count": 0
           },
           {
            "bin_start": 1041.2,
            "bin_end": 1109.9,
            "count": 1
           },
           {
            "bin_start": 1109.9,
            "bin_end": 1178.6,
            "count": 1
           },
           {
            "bin_start": 1178.6,
            "bin_end": 1247.3000000000002,
            "count": 0
           },
           {
            "bin_start": 1247.3000000000002,
            "bin_end": 1316,
            "count": 1
           }
          ]
         }
        },
        {
         "name": "dep_delay",
         "dtype": "float64",
         "stats": {
          "unique_count": 4,
          "nan_count": 0,
          "min": "-2.0",
          "max": "853.0",
          "histogram": [
           {
            "bin_start": -2,
            "bin_end": 83.5,
            "count": 4
           },
           {
            "bin_start": 83.5,
            "bin_end": 169,
            "count": 0
           },
           {
            "bin_start": 169,
            "bin_end": 254.5,
            "count": 0
           },
           {
            "bin_start": 254.5,
            "bin_end": 340,
            "count": 0
           },
           {
            "bin_start": 340,
            "bin_end": 425.5,
            "count": 0
           },
           {
            "bin_start": 425.5,
            "bin_end": 511,
            "count": 0
           },
           {
            "bin_start": 511,
            "bin_end": 596.5,
            "count": 0
           },
           {
            "bin_start": 596.5,
            "bin_end": 682,
            "count": 0
           },
           {
            "bin_start": 682,
            "bin_end": 767.5,
            "count": 0
           },
           {
            "bin_start": 767.5,
            "bin_end": 853,
            "count": 1
           }
          ]
         }
        },
        {
         "name": "arr_time",
         "dtype": "float64",
         "stats": {
          "unique_count": 5,
          "nan_count": 0,
          "min": "721.0",
          "max": "1412.0",
          "histogram": [
           {
            "bin_start": 721,
            "bin_end": 790.1,
            "count": 1
           },
           {
            "bin_start": 790.1,
            "bin_end": 859.2,
            "count": 0
           },
           {
            "bin_start": 859.2,
            "bin_end": 928.3,
            "count": 0
           },
           {
            "bin_start": 928.3,
            "bin_end": 997.4,
            "count": 0
           },
           {
            "bin_start": 997.4,
            "bin_end": 1066.5,
            "count": 1
           },
           {
            "bin_start": 1066.5,
            "bin_end": 1135.6,
            "count": 0
           },
           {
            "bin_start": 1135.6,
            "bin_end": 1204.6999999999998,
            "count": 1
           },
           {
            "bin_start": 1204.6999999999998,
            "bin_end": 1273.8,
            "count": 1
           },
           {
            "bin_start": 1273.8,
            "bin_end": 1342.9,
            "count": 0
           },
           {
            "bin_start": 1342.9,
            "bin_end": 1412,
            "count": 1
           }
          ]
         }
        },
        {
         "name": "arr_delay",
         "dtype": "float64",
         "stats": {
          "unique_count": 5,
          "nan_count": 0,
          "min": "-19.0",
          "max": "851.0",
          "histogram": [
           {
            "bin_start": -19,
            "bin_end": 68,
            "count": 4
           },
           {
            "bin_start": 68,
            "bin_end": 155,
            "count": 0
           },
           {
            "bin_start": 155,
            "bin_end": 242,
            "count": 0
           },
           {
            "bin_start": 242,
            "bin_end": 329,
            "count": 0
           },
           {
            "bin_start": 329,
            "bin_end": 416,
            "count": 0
           },
           {
            "bin_start": 416,
            "bin_end": 503,
            "count": 0
           },
           {
            "bin_start": 503,
            "bin_end": 590,
            "count": 0
           },
           {
            "bin_start": 590,
            "bin_end": 677,
            "count": 0
           },
           {
            "bin_start": 677,
            "bin_end": 764,
            "count": 0
           },
           {
            "bin_start": 764,
            "bin_end": 851,
            "count": 1
           }
          ]
         }
        },
        {
         "name": "carrier",
         "dtype": "object",
         "stats": {
          "unique_count": 3,
          "nan_count": 0,
          "categories": [
           {
            "name": "WN",
            "count": 3
           },
           {
            "name": "MQ",
            "count": 1
           },
           {
            "name": "EV",
            "count": 1
           }
          ]
         }
        },
        {
         "name": "tailnum",
         "dtype": "object",
         "stats": {
          "unique_count": 5,
          "nan_count": 0,
          "categories": [
           {
            "name": "N273WN",
            "count": 1
           },
           {
            "name": "N942MQ",
            "count": 1
           },
           {
            "name": "3 others",
            "count": 3
           }
          ]
         }
        },
        {
         "name": "flight",
         "dtype": "int64",
         "stats": {
          "unique_count": 5,
          "nan_count": 0,
          "min": "321",
          "max": "4646",
          "histogram": [
           {
            "bin_start": 321,
            "bin_end": 753.5,
            "count": 1
           },
           {
            "bin_start": 753.5,
            "bin_end": 1186,
            "count": 0
           },
           {
            "bin_start": 1186,
            "bin_end": 1618.5,
            "count": 1
           },
           {
            "bin_start": 1618.5,
            "bin_end": 2051,
            "count": 0
           },
           {
            "bin_start": 2051,
            "bin_end": 2483.5,
            "count": 0
           },
           {
            "bin_start": 2483.5,
            "bin_end": 2916,
            "count": 0
           },
           {
            "bin_start": 2916,
            "bin_end": 3348.5,
            "count": 0
           },
           {
            "bin_start": 3348.5,
            "bin_end": 3781,
            "count": 0
           },
           {
            "bin_start": 3781,
            "bin_end": 4213.5,
            "count": 1
           },
           {
            "bin_start": 4213.5,
            "bin_end": 4646,
            "count": 2
           }
          ]
         }
        },
        {
         "name": "origin",
         "dtype": "object",
         "stats": {
          "unique_count": 3,
          "nan_count": 0,
          "categories": [
           {
            "name": "LGA",
            "count": 2
           },
           {
            "name": "EWR",
            "count": 2
           },
           {
            "name": "JFK",
            "count": 1
           }
          ]
         }
        },
        {
         "name": "dest",
         "dtype": "object",
         "stats": {
          "unique_count": 1,
          "nan_count": 0,
          "categories": [
           {
            "name": "BWI",
            "count": 5
           }
          ]
         }
        },
        {
         "name": "air_time",
         "dtype": "float64",
         "stats": {
          "unique_count": 4,
          "nan_count": 0,
          "min": "38.0",
          "max": "43.0",
          "histogram": [
           {
            "bin_start": 38,
            "bin_end": 38.5,
            "count": 2
           },
           {
            "bin_start": 38.5,
            "bin_end": 39,
            "count": 0
           },
           {
            "bin_start": 39,
            "bin_end": 39.5,
            "count": 0
           },
           {
            "bin_start": 39.5,
            "bin_end": 40,
            "count": 0
           },
           {
            "bin_start": 40,
            "bin_end": 40.5,
            "count": 1
           },
           {
            "bin_start": 40.5,
            "bin_end": 41,
            "count": 0
           },
           {
            "bin_start": 41,
            "bin_end": 41.5,
            "count": 1
           },
           {
            "bin_start": 41.5,
            "bin_end": 42,
            "count": 0
           },
           {
            "bin_start": 42,
            "bin_end": 42.5,
            "count": 0
           },
           {
            "bin_start": 42.5,
            "bin_end": 43,
            "count": 1
           }
          ]
         }
        },
        {
         "name": "distance",
         "dtype": "int64",
         "stats": {
          "unique_count": 3,
          "nan_count": 0,
          "min": "169",
          "max": "185",
          "histogram": [
           {
            "bin_start": 169,
            "bin_end": 170.6,
            "count": 2
           },
           {
            "bin_start": 170.6,
            "bin_end": 172.2,
            "count": 0
           },
           {
            "bin_start": 172.2,
            "bin_end": 173.8,
            "count": 0
           },
           {
            "bin_start": 173.8,
            "bin_end": 175.4,
            "count": 0
           },
           {
            "bin_start": 175.4,
            "bin_end": 177,
            "count": 0
           },
           {
            "bin_start": 177,
            "bin_end": 178.6,
            "count": 0
           },
           {
            "bin_start": 178.6,
            "bin_end": 180.2,
            "count": 0
           },
           {
            "bin_start": 180.2,
            "bin_end": 181.8,
            "count": 0
           },
           {
            "bin_start": 181.8,
            "bin_end": 183.4,
            "count": 0
           },
           {
            "bin_start": 183.4,
            "bin_end": 185,
            "count": 3
           }
          ]
         }
        },
        {
         "name": "hour",
         "dtype": "float64",
         "stats": {
          "unique_count": 5,
          "nan_count": 0,
          "min": "6.0",
          "max": "13.0",
          "histogram": [
           {
            "bin_start": 6,
            "bin_end": 6.7,
            "count": 1
           },
           {
            "bin_start": 6.7,
            "bin_end": 7.4,
            "count": 0
           },
           {
            "bin_start": 7.4,
            "bin_end": 8.1,
            "count": 1
           },
           {
            "bin_start": 8.1,
            "bin_end": 8.8,
            "count": 0
           },
           {
            "bin_start": 8.8,
            "bin_end": 9.5,
            "count": 0
           },
           {
            "bin_start": 9.5,
            "bin_end": 10.2,
            "count": 1
           },
           {
            "bin_start": 10.2,
            "bin_end": 10.899999999999999,
            "count": 0
           },
           {
            "bin_start": 10.899999999999999,
            "bin_end": 11.6,
            "count": 1
           },
           {
            "bin_start": 11.6,
            "bin_end": 12.3,
            "count": 0
           },
           {
            "bin_start": 12.3,
            "bin_end": 13,
            "count": 1
           }
          ]
         }
        },
        {
         "name": "minute",
         "dtype": "float64",
         "stats": {
          "unique_count": 5,
          "nan_count": 0,
          "min": "16.0",
          "max": "59.0",
          "histogram": [
           {
            "bin_start": 16,
            "bin_end": 20.3,
            "count": 1
           },
           {
            "bin_start": 20.3,
            "bin_end": 24.6,
            "count": 0
           },
           {
            "bin_start": 24.6,
            "bin_end": 28.9,
            "count": 0
           },
           {
            "bin_start": 28.9,
            "bin_end": 33.2,
            "count": 1
           },
           {
            "bin_start": 33.2,
            "bin_end": 37.5,
            "count": 0
           },
           {
            "bin_start": 37.5,
            "bin_end": 41.8,
            "count": 0
           },
           {
            "bin_start": 41.8,
            "bin_end": 46.099999999999994,
            "count": 0
           },
           {
            "bin_start": 46.099999999999994,
            "bin_end": 50.4,
            "count": 1
           },
           {
            "bin_start": 50.4,
            "bin_end": 54.699999999999996,
            "count": 0
           },
           {
            "bin_start": 54.699999999999996,
            "bin_end": 59,
            "count": 2
           }
          ]
         }
        },
        {
         "name": "_deepnote_index_column",
         "dtype": "int64"
        }
       ],
       "rows": [
        {
         "year": 2013,
         "month": 1,
         "day": 1,
         "dep_time": 629,
         "dep_delay": -1,
         "arr_time": 721,
         "arr_delay": -19,
         "carrier": "WN",
         "tailnum": "N273WN",
         "flight": 4646,
         "origin": "LGA",
         "dest": "BWI",
         "air_time": 40,
         "distance": 185,
         "hour": 6,
         "minute": 29,
         "_deepnote_index_column": 0
        },
        {
         "year": 2013,
         "month": 1,
         "day": 1,
         "dep_time": 848,
         "dep_delay": 853,
         "arr_time": 1001,
         "arr_delay": 851,
         "carrier": "MQ",
         "tailnum": "N942MQ",
         "flight": 3944,
         "origin": "JFK",
         "dest": "BWI",
         "air_time": 41,
         "distance": 184,
         "hour": 8,
         "minute": 48,
         "_deepnote_index_column": 1
        },
        {
         "year": 2013,
         "month": 1,
         "day": 1,
         "dep_time": 1059,
         "dep_delay": -1,
         "arr_time": 1201,
         "arr_delay": -14,
         "carrier": "WN",
         "tailnum": "N505SW",
         "flight": 321,
         "origin": "LGA",
         "dest": "BWI",
         "air_time": 43,
         "distance": 185,
         "hour": 10,
         "minute": 59,
         "_deepnote_index_column": 2
        },
        {
         "year": 2013,
         "month": 1,
         "day": 1,
         "dep_time": 1158,
         "dep_delay": -2,
         "arr_time": 1256,
         "arr_delay": -4,
         "carrier": "WN",
         "tailnum": "N783SW",
         "flight": 1568,
         "origin": "EWR",
         "dest": "BWI",
         "air_time": 38,
         "distance": 169,
         "hour": 11,
         "minute": 58,
         "_deepnote_index_column": 3
        },
        {
         "year": 2013,
         "month": 1,
         "day": 1,
         "dep_time": 1316,
         "dep_delay": 2,
         "arr_time": 1412,
         "arr_delay": -3,
         "carrier": "EV",
         "tailnum": "N11551",
         "flight": 4340,
         "origin": "EWR",
         "dest": "BWI",
         "air_time": 38,
         "distance": 169,
         "hour": 13,
         "minute": 16,
         "_deepnote_index_column": 4
        }
       ]
      },
      "text/plain": "   year  month  day  dep_time  dep_delay  arr_time  arr_delay carrier tailnum  \\\n0  2013      1    1     629.0       -1.0     721.0      -19.0      WN  N273WN   \n1  2013      1    1     848.0      853.0    1001.0      851.0      MQ  N942MQ   \n2  2013      1    1    1059.0       -1.0    1201.0      -14.0      WN  N505SW   \n3  2013      1    1    1158.0       -2.0    1256.0       -4.0      WN  N783SW   \n4  2013      1    1    1316.0        2.0    1412.0       -3.0      EV  N11551   \n\n   flight origin dest  air_time  distance  hour  minute  \n0    4646    LGA  BWI      40.0       185   6.0    29.0  \n1    3944    JFK  BWI      41.0       184   8.0    48.0  \n2     321    LGA  BWI      43.0       185  10.0    59.0  \n3    1568    EWR  BWI      38.0       169  11.0    58.0  \n4    4340    EWR  BWI      38.0       169  13.0    16.0  ",
      "text/html": "<div>\n<style scoped>\n    .dataframe tbody tr th:only-of-type {\n        vertical-align: middle;\n    }\n\n    .dataframe tbody tr th {\n        vertical-align: top;\n    }\n\n    .dataframe thead th {\n        text-align: right;\n    }\n</style>\n<table border=\"1\" class=\"dataframe\">\n  <thead>\n    <tr style=\"text-align: right;\">\n      <th></th>\n      <th>year</th>\n      <th>month</th>\n      <th>day</th>\n      <th>dep_time</th>\n      <th>dep_delay</th>\n      <th>arr_time</th>\n      <th>arr_delay</th>\n      <th>carrier</th>\n      <th>tailnum</th>\n      <th>flight</th>\n      <th>origin</th>\n      <th>dest</th>\n      <th>air_time</th>\n      <th>distance</th>\n      <th>hour</th>\n      <th>minute</th>\n    </tr>\n  </thead>\n  <tbody>\n    <tr>\n      <th>0</th>\n      <td>2013</td>\n      <td>1</td>\n      <td>1</td>\n      <td>629.0</td>\n      <td>-1.0</td>\n      <td>721.0</td>\n      <td>-19.0</td>\n      <td>WN</td>\n      <td>N273WN</td>\n      <td>4646</td>\n      <td>LGA</td>\n      <td>BWI</td>\n      <td>40.0</td>\n      <td>185</td>\n      <td>6.0</td>\n      <td>29.0</td>\n    </tr>\n    <tr>\n      <th>1</th>\n      <td>2013</td>\n      <td>1</td>\n      <td>1</td>\n      <td>848.0</td>\n      <td>853.0</td>\n      <td>1001.0</td>\n      <td>851.0</td>\n      <td>MQ</td>\n      <td>N942MQ</td>\n      <td>3944</td>\n      <td>JFK</td>\n      <td>BWI</td>\n      <td>41.0</td>\n      <td>184</td>\n      <td>8.0</td>\n      <td>48.0</td>\n    </tr>\n    <tr>\n      <th>2</th>\n      <td>2013</td>\n      <td>1</td>\n      <td>1</td>\n      <td>1059.0</td>\n      <td>-1.0</td>\n      <td>1201.0</td>\n      <td>-14.0</td>\n      <td>WN</td>\n      <td>N505SW</td>\n      <td>321</td>\n      <td>LGA</td>\n      <td>BWI</td>\n      <td>43.0</td>\n      <td>185</td>\n      <td>10.0</td>\n      <td>59.0</td>\n    </tr>\n    <tr>\n      <th>3</th>\n      <td>2013</td>\n      <td>1</td>\n      <td>1</td>\n      <td>1158.0</td>\n      <td>-2.0</td>\n      <td>1256.0</td>\n      <td>-4.0</td>\n      <td>WN</td>\n      <td>N783SW</td>\n      <td>1568</td>\n      <td>EWR</td>\n      <td>BWI</td>\n      <td>38.0</td>\n      <td>169</td>\n      <td>11.0</td>\n      <td>58.0</td>\n    </tr>\n    <tr>\n      <th>4</th>\n      <td>2013</td>\n      <td>1</td>\n      <td>1</td>\n      <td>1316.0</td>\n      <td>2.0</td>\n      <td>1412.0</td>\n      <td>-3.0</td>\n      <td>EV</td>\n      <td>N11551</td>\n      <td>4340</td>\n      <td>EWR</td>\n      <td>BWI</td>\n      <td>38.0</td>\n      <td>169</td>\n      <td>13.0</td>\n      <td>16.0</td>\n    </tr>\n  </tbody>\n</table>\n</div>"
     },
     "metadata": {}
    }
   ]
  },
  {
   "cell_type": "code",
   "metadata": {
    "tags": [],
    "cell_id": "00002-95e6cc4f-d8b9-4a34-97fa-f77157faa01c",
    "deepnote_to_be_reexecuted": false,
    "source_hash": "f88152d9",
    "execution_start": 1647317193480,
    "execution_millis": 86,
    "deepnote_cell_type": "code",
    "deepnote_cell_height": 531
   },
   "source": "df.describe()",
   "execution_count": 3,
   "outputs": [
    {
     "output_type": "execute_result",
     "execution_count": 3,
     "data": {
      "application/vnd.deepnote.dataframe.v3+json": {
       "column_count": 12,
       "row_count": 8,
       "columns": [
        {
         "name": "year",
         "dtype": "float64",
         "stats": {
          "unique_count": 3,
          "nan_count": 0,
          "min": "0.0",
          "max": "17166.0",
          "histogram": [
           {
            "bin_start": 0,
            "bin_end": 1716.6,
            "count": 1
           },
           {
            "bin_start": 1716.6,
            "bin_end": 3433.2,
            "count": 6
           },
           {
            "bin_start": 3433.2,
            "bin_end": 5149.799999999999,
            "count": 0
           },
           {
            "bin_start": 5149.799999999999,
            "bin_end": 6866.4,
            "count": 0
           },
           {
            "bin_start": 6866.4,
            "bin_end": 8583,
            "count": 0
           },
           {
            "bin_start": 8583,
            "bin_end": 10299.599999999999,
            "count": 0
           },
           {
            "bin_start": 10299.599999999999,
            "bin_end": 12016.199999999999,
            "count": 0
           },
           {
            "bin_start": 12016.199999999999,
            "bin_end": 13732.8,
            "count": 0
           },
           {
            "bin_start": 13732.8,
            "bin_end": 15449.4,
            "count": 0
           },
           {
            "bin_start": 15449.4,
            "bin_end": 17166,
            "count": 1
           }
          ]
         }
        },
        {
         "name": "month",
         "dtype": "float64",
         "stats": {
          "unique_count": 8,
          "nan_count": 0,
          "min": "1.0",
          "max": "17166.0",
          "histogram": [
           {
            "bin_start": 1,
            "bin_end": 1717.5,
            "count": 7
           },
           {
            "bin_start": 1717.5,
            "bin_end": 3434,
            "count": 0
           },
           {
            "bin_start": 3434,
            "bin_end": 5150.5,
            "count": 0
           },
           {
            "bin_start": 5150.5,
            "bin_end": 6867,
            "count": 0
           },
           {
            "bin_start": 6867,
            "bin_end": 8583.5,
            "count": 0
           },
           {
            "bin_start": 8583.5,
            "bin_end": 10300,
            "count": 0
           },
           {
            "bin_start": 10300,
            "bin_end": 12016.5,
            "count": 0
           },
           {
            "bin_start": 12016.5,
            "bin_end": 13733,
            "count": 0
           },
           {
            "bin_start": 13733,
            "bin_end": 15449.5,
            "count": 0
           },
           {
            "bin_start": 15449.5,
            "bin_end": 17166,
            "count": 1
           }
          ]
         }
        },
        {
         "name": "day",
         "dtype": "float64",
         "stats": {
          "unique_count": 8,
          "nan_count": 0,
          "min": "1.0",
          "max": "17166.0",
          "histogram": [
           {
            "bin_start": 1,
            "bin_end": 1717.5,
            "count": 7
           },
           {
            "bin_start": 1717.5,
            "bin_end": 3434,
            "count": 0
           },
           {
            "bin_start": 3434,
            "bin_end": 5150.5,
            "count": 0
           },
           {
            "bin_start": 5150.5,
            "bin_end": 6867,
            "count": 0
           },
           {
            "bin_start": 6867,
            "bin_end": 8583.5,
            "count": 0
           },
           {
            "bin_start": 8583.5,
            "bin_end": 10300,
            "count": 0
           },
           {
            "bin_start": 10300,
            "bin_end": 12016.5,
            "count": 0
           },
           {
            "bin_start": 12016.5,
            "bin_end": 13733,
            "count": 0
           },
           {
            "bin_start": 13733,
            "bin_end": 15449.5,
            "count": 0
           },
           {
            "bin_start": 15449.5,
            "bin_end": 17166,
            "count": 1
           }
          ]
         }
        },
        {
         "name": "dep_time",
         "dtype": "float64",
         "stats": {
          "unique_count": 8,
          "nan_count": 0,
          "min": "2.0",
          "max": "16227.0",
          "histogram": [
           {
            "bin_start": 2,
            "bin_end": 1624.5,
            "count": 5
           },
           {
            "bin_start": 1624.5,
            "bin_end": 3247,
            "count": 2
           },
           {
            "bin_start": 3247,
            "bin_end": 4869.5,
            "count": 0
           },
           {
            "bin_start": 4869.5,
            "bin_end": 6492,
            "count": 0
           },
           {
            "bin_start": 6492,
            "bin_end": 8114.5,
            "count": 0
           },
           {
            "bin_start": 8114.5,
            "bin_end": 9737,
            "count": 0
           },
           {
            "bin_start": 9737,
            "bin_end": 11359.5,
            "count": 0
           },
           {
            "bin_start": 11359.5,
            "bin_end": 12982,
            "count": 0
           },
           {
            "bin_start": 12982,
            "bin_end": 14604.5,
            "count": 0
           },
           {
            "bin_start": 14604.5,
            "bin_end": 16227,
            "count": 1
           }
          ]
         }
        },
        {
         "name": "dep_delay",
         "dtype": "float64",
         "stats": {
          "unique_count": 8,
          "nan_count": 0,
          "min": "-32.0",
          "max": "16227.0",
          "histogram": [
           {
            "bin_start": -32,
            "bin_end": 1593.9,
            "count": 7
           },
           {
            "bin_start": 1593.9,
            "bin_end": 3219.8,
            "count": 0
           },
           {
            "bin_start": 3219.8,
            "bin_end": 4845.700000000001,
            "count": 0
           },
           {
            "bin_start": 4845.700000000001,
            "bin_end": 6471.6,
            "count": 0
           },
           {
            "bin_start": 6471.6,
            "bin_end": 8097.5,
            "count": 0
           },
           {
            "bin_start": 8097.5,
            "bin_end": 9723.400000000001,
            "count": 0
           },
           {
            "bin_start": 9723.400000000001,
            "bin_end": 11349.300000000001,
            "count": 0
           },
           {
            "bin_start": 11349.300000000001,
            "bin_end": 12975.2,
            "count": 0
           },
           {
            "bin_start": 12975.2,
            "bin_end": 14601.1,
            "count": 0
           },
           {
            "bin_start": 14601.1,
            "bin_end": 16227,
            "count": 1
           }
          ]
         }
        },
        {
         "name": "arr_time",
         "dtype": "float64",
         "stats": {
          "unique_count": 8,
          "nan_count": 0,
          "min": "1.0",
          "max": "16180.0",
          "histogram": [
           {
            "bin_start": 1,
            "bin_end": 1618.9,
            "count": 5
           },
           {
            "bin_start": 1618.9,
            "bin_end": 3236.8,
            "count": 2
           },
           {
            "bin_start": 3236.8,
            "bin_end": 4854.700000000001,
            "count": 0
           },
           {
            "bin_start": 4854.700000000001,
            "bin_end": 6472.6,
            "count": 0
           },
           {
            "bin_start": 6472.6,
            "bin_end": 8090.5,
            "count": 0
           },
           {
            "bin_start": 8090.5,
            "bin_end": 9708.400000000001,
            "count": 0
           },
           {
            "bin_start": 9708.400000000001,
            "bin_end": 11326.300000000001,
            "count": 0
           },
           {
            "bin_start": 11326.300000000001,
            "bin_end": 12944.2,
            "count": 0
           },
           {
            "bin_start": 12944.2,
            "bin_end": 14562.1,
            "count": 0
           },
           {
            "bin_start": 14562.1,
            "bin_end": 16180,
            "count": 1
           }
          ]
         }
        },
        {
         "name": "arr_delay",
         "dtype": "float64",
         "stats": {
          "unique_count": 8,
          "nan_count": 0,
          "min": "-62.0",
          "max": "16164.0",
          "histogram": [
           {
            "bin_start": -62,
            "bin_end": 1560.6,
            "count": 7
           },
           {
            "bin_start": 1560.6,
            "bin_end": 3183.2,
            "count": 0
           },
           {
            "bin_start": 3183.2,
            "bin_end": 4805.799999999999,
            "count": 0
           },
           {
            "bin_start": 4805.799999999999,
            "bin_end": 6428.4,
            "count": 0
           },
           {
            "bin_start": 6428.4,
            "bin_end": 8051,
            "count": 0
           },
           {
            "bin_start": 8051,
            "bin_end": 9673.599999999999,
            "count": 0
           },
           {
            "bin_start": 9673.599999999999,
            "bin_end": 11296.199999999999,
            "count": 0
           },
           {
            "bin_start": 11296.199999999999,
            "bin_end": 12918.8,
            "count": 0
           },
           {
            "bin_start": 12918.8,
            "bin_end": 14541.4,
            "count": 0
           },
           {
            "bin_start": 14541.4,
            "bin_end": 16164,
            "count": 1
           }
          ]
         }
        },
        {
         "name": "flight",
         "dtype": "float64",
         "stats": {
          "unique_count": 8,
          "nan_count": 0,
          "min": "63.0",
          "max": "17166.0",
          "histogram": [
           {
            "bin_start": 63,
            "bin_end": 1773.3,
            "count": 2
           },
           {
            "bin_start": 1773.3,
            "bin_end": 3483.6,
            "count": 1
           },
           {
            "bin_start": 3483.6,
            "bin_end": 5193.9,
            "count": 3
           },
           {
            "bin_start": 5193.9,
            "bin_end": 6904.2,
            "count": 1
           },
           {
            "bin_start": 6904.2,
            "bin_end": 8614.5,
            "count": 0
           },
           {
            "bin_start": 8614.5,
            "bin_end": 10324.8,
            "count": 0
           },
           {
            "bin_start": 10324.8,
            "bin_end": 12035.1,
            "count": 0
           },
           {
            "bin_start": 12035.1,
            "bin_end": 13745.4,
            "count": 0
           },
           {
            "bin_start": 13745.4,
            "bin_end": 15455.699999999999,
            "count": 0
           },
           {
            "bin_start": 15455.699999999999,
            "bin_end": 17166,
            "count": 1
           }
          ]
         }
        },
        {
         "name": "air_time",
         "dtype": "float64",
         "stats": {
          "unique_count": 8,
          "nan_count": 0,
          "min": "6.551112197223895",
          "max": "16164.0",
          "histogram": [
           {
            "bin_start": 6.551112197223895,
            "bin_end": 1622.2960009775015,
            "count": 7
           },
           {
            "bin_start": 1622.2960009775015,
            "bin_end": 3238.0408897577795,
            "count": 0
           },
           {
            "bin_start": 3238.0408897577795,
            "bin_end": 4853.7857785380575,
            "count": 0
           },
           {
            "bin_start": 4853.7857785380575,
            "bin_end": 6469.530667318335,
            "count": 0
           },
           {
            "bin_start": 6469.530667318335,
            "bin_end": 8085.2755560986125,
            "count": 0
           },
           {
            "bin_start": 8085.2755560986125,
            "bin_end": 9701.02044487889,
            "count": 0
           },
           {
            "bin_start": 9701.02044487889,
            "bin_end": 11316.765333659167,
            "count": 0
           },
           {
            "bin_start": 11316.765333659167,
            "bin_end": 12932.510222439445,
            "count": 0
           },
           {
            "bin_start": 12932.510222439445,
            "bin_end": 14548.255111219723,
            "count": 0
           },
           {
            "bin_start": 14548.255111219723,
            "bin_end": 16164,
            "count": 1
           }
          ]
         }
        },
        {
         "name": "distance",
         "dtype": "float64",
         "stats": {
          "unique_count": 8,
          "nan_count": 0,
          "min": "14.25263567634038",
          "max": "17166.0",
          "histogram": [
           {
            "bin_start": 14.25263567634038,
            "bin_end": 1729.4273721087063,
            "count": 7
           },
           {
            "bin_start": 1729.4273721087063,
            "bin_end": 3444.6021085410725,
            "count": 0
           },
           {
            "bin_start": 3444.6021085410725,
            "bin_end": 5159.7768449734385,
            "count": 0
           },
           {
            "bin_start": 5159.7768449734385,
            "bin_end": 6874.951581405804,
            "count": 0
           },
           {
            "bin_start": 6874.951581405804,
            "bin_end": 8590.12631783817,
            "count": 0
           },
           {
            "bin_start": 8590.12631783817,
            "bin_end": 10305.301054270538,
            "count": 0
           },
           {
            "bin_start": 10305.301054270538,
            "bin_end": 12020.475790702903,
            "count": 0
           },
           {
            "bin_start": 12020.475790702903,
            "bin_end": 13735.650527135269,
            "count": 0
           },
           {
            "bin_start": 13735.650527135269,
            "bin_end": 15450.825263567634,
            "count": 0
           },
           {
            "bin_start": 15450.825263567634,
            "bin_end": 17166,
            "count": 1
           }
          ]
         }
        },
        {
         "name": "hour",
         "dtype": "float64",
         "stats": {
          "unique_count": 8,
          "nan_count": 0,
          "min": "0.0",
          "max": "16227.0",
          "histogram": [
           {
            "bin_start": 0,
            "bin_end": 1622.7,
            "count": 7
           },
           {
            "bin_start": 1622.7,
            "bin_end": 3245.4,
            "count": 0
           },
           {
            "bin_start": 3245.4,
            "bin_end": 4868.1,
            "count": 0
           },
           {
            "bin_start": 4868.1,
            "bin_end": 6490.8,
            "count": 0
           },
           {
            "bin_start": 6490.8,
            "bin_end": 8113.5,
            "count": 0
           },
           {
            "bin_start": 8113.5,
            "bin_end": 9736.2,
            "count": 0
           },
           {
            "bin_start": 9736.2,
            "bin_end": 11358.9,
            "count": 0
           },
           {
            "bin_start": 11358.9,
            "bin_end": 12981.6,
            "count": 0
           },
           {
            "bin_start": 12981.6,
            "bin_end": 14604.300000000001,
            "count": 0
           },
           {
            "bin_start": 14604.300000000001,
            "bin_end": 16227,
            "count": 1
           }
          ]
         }
        },
        {
         "name": "minute",
         "dtype": "float64",
         "stats": {
          "unique_count": 8,
          "nan_count": 0,
          "min": "0.0",
          "max": "16227.0",
          "histogram": [
           {
            "bin_start": 0,
            "bin_end": 1622.7,
            "count": 7
           },
           {
            "bin_start": 1622.7,
            "bin_end": 3245.4,
            "count": 0
           },
           {
            "bin_start": 3245.4,
            "bin_end": 4868.1,
            "count": 0
           },
           {
            "bin_start": 4868.1,
            "bin_end": 6490.8,
            "count": 0
           },
           {
            "bin_start": 6490.8,
            "bin_end": 8113.5,
            "count": 0
           },
           {
            "bin_start": 8113.5,
            "bin_end": 9736.2,
            "count": 0
           },
           {
            "bin_start": 9736.2,
            "bin_end": 11358.9,
            "count": 0
           },
           {
            "bin_start": 11358.9,
            "bin_end": 12981.6,
            "count": 0
           },
           {
            "bin_start": 12981.6,
            "bin_end": 14604.300000000001,
            "count": 0
           },
           {
            "bin_start": 14604.300000000001,
            "bin_end": 16227,
            "count": 1
           }
          ]
         }
        },
        {
         "name": "_deepnote_index_column",
         "dtype": "object"
        }
       ],
       "rows": [
        {
         "year": 17166,
         "month": 17166,
         "day": 17166,
         "dep_time": 16227,
         "dep_delay": 16227,
         "arr_time": 16180,
         "arr_delay": 16164,
         "flight": 17166,
         "air_time": 16164,
         "distance": 17166,
         "hour": 16227,
         "minute": 16227,
         "_deepnote_index_column": "count"
        },
        {
         "year": 2013,
         "month": 6.244960969358034,
         "day": 15.555982756611908,
         "dep_time": 1383.9868737289703,
         "dep_delay": 13.155604856104024,
         "arr_time": 1497.763411619283,
         "arr_delay": 10.839396189062114,
         "flight": 3666.8915297681465,
         "air_time": 45.74375154664687,
         "distance": 212.31935220785275,
         "hour": 13.489554446293216,
         "minute": 35.03142909964873,
         "_deepnote_index_column": "mean"
        },
        {
         "year": 0,
         "month": 3.4420756235086114,
         "day": 8.741054936133192,
         "dep_time": 491.0954339721977,
         "dep_delay": 41.697742376814666,
         "arr_time": 501.35754469460863,
         "arr_delay": 45.410635159519266,
         "flight": 1390.4919286611898,
         "air_time": 6.551112197223895,
         "distance": 14.25263567634038,
         "hour": 4.943118951106456,
         "minute": 19.029892686928765,
         "_deepnote_index_column": "std"
        },
        {
         "year": 2013,
         "month": 1,
         "day": 1,
         "dep_time": 2,
         "dep_delay": -32,
         "arr_time": 1,
         "arr_delay": -62,
         "flight": 63,
         "air_time": 31,
         "distance": 169,
         "hour": 0,
         "minute": 0,
         "_deepnote_index_column": "min"
        },
        {
         "year": 2013,
         "month": 3,
         "day": 8,
         "dep_time": 956,
         "dep_delay": -6,
         "arr_time": 1109,
         "arr_delay": -13,
         "flight": 2187,
         "air_time": 41,
         "distance": 212,
         "hour": 9,
         "minute": 19,
         "_deepnote_index_column": "25%"
        },
        {
         "year": 2013,
         "month": 6,
         "day": 15,
         "dep_time": 1435,
         "dep_delay": -3,
         "arr_time": 1543,
         "arr_delay": -3,
         "flight": 3761,
         "air_time": 45,
         "distance": 214,
         "hour": 14,
         "minute": 38,
         "_deepnote_index_column": "50%"
        },
        {
         "year": 2013,
         "month": 9,
         "day": 23,
         "dep_time": 1819,
         "dep_delay": 11,
         "arr_time": 1922,
         "arr_delay": 16,
         "flight": 4418,
         "air_time": 49,
         "distance": 228,
         "hour": 18,
         "minute": 53,
         "_deepnote_index_column": "75%"
        },
        {
         "year": 2013,
         "month": 12,
         "day": 31,
         "dep_time": 2400,
         "dep_delay": 853,
         "arr_time": 2400,
         "arr_delay": 851,
         "flight": 6181,
         "air_time": 131,
         "distance": 229,
         "hour": 24,
         "minute": 59,
         "_deepnote_index_column": "max"
        }
       ]
      },
      "text/plain": "          year         month           day      dep_time     dep_delay  \\\ncount  17166.0  17166.000000  17166.000000  16227.000000  16227.000000   \nmean    2013.0      6.244961     15.555983   1383.986874     13.155605   \nstd        0.0      3.442076      8.741055    491.095434     41.697742   \nmin     2013.0      1.000000      1.000000      2.000000    -32.000000   \n25%     2013.0      3.000000      8.000000    956.000000     -6.000000   \n50%     2013.0      6.000000     15.000000   1435.000000     -3.000000   \n75%     2013.0      9.000000     23.000000   1819.000000     11.000000   \nmax     2013.0     12.000000     31.000000   2400.000000    853.000000   \n\n           arr_time     arr_delay        flight      air_time      distance  \\\ncount  16180.000000  16164.000000  17166.000000  16164.000000  17166.000000   \nmean    1497.763412     10.839396   3666.891530     45.743752    212.319352   \nstd      501.357545     45.410635   1390.491929      6.551112     14.252636   \nmin        1.000000    -62.000000     63.000000     31.000000    169.000000   \n25%     1109.000000    -13.000000   2187.000000     41.000000    212.000000   \n50%     1543.000000     -3.000000   3761.000000     45.000000    214.000000   \n75%     1922.000000     16.000000   4418.000000     49.000000    228.000000   \nmax     2400.000000    851.000000   6181.000000    131.000000    229.000000   \n\n               hour        minute  \ncount  16227.000000  16227.000000  \nmean      13.489554     35.031429  \nstd        4.943119     19.029893  \nmin        0.000000      0.000000  \n25%        9.000000     19.000000  \n50%       14.000000     38.000000  \n75%       18.000000     53.000000  \nmax       24.000000     59.000000  ",
      "text/html": "<div>\n<style scoped>\n    .dataframe tbody tr th:only-of-type {\n        vertical-align: middle;\n    }\n\n    .dataframe tbody tr th {\n        vertical-align: top;\n    }\n\n    .dataframe thead th {\n        text-align: right;\n    }\n</style>\n<table border=\"1\" class=\"dataframe\">\n  <thead>\n    <tr style=\"text-align: right;\">\n      <th></th>\n      <th>year</th>\n      <th>month</th>\n      <th>day</th>\n      <th>dep_time</th>\n      <th>dep_delay</th>\n      <th>arr_time</th>\n      <th>arr_delay</th>\n      <th>flight</th>\n      <th>air_time</th>\n      <th>distance</th>\n      <th>hour</th>\n      <th>minute</th>\n    </tr>\n  </thead>\n  <tbody>\n    <tr>\n      <th>count</th>\n      <td>17166.0</td>\n      <td>17166.000000</td>\n      <td>17166.000000</td>\n      <td>16227.000000</td>\n      <td>16227.000000</td>\n      <td>16180.000000</td>\n      <td>16164.000000</td>\n      <td>17166.000000</td>\n      <td>16164.000000</td>\n      <td>17166.000000</td>\n      <td>16227.000000</td>\n      <td>16227.000000</td>\n    </tr>\n    <tr>\n      <th>mean</th>\n      <td>2013.0</td>\n      <td>6.244961</td>\n      <td>15.555983</td>\n      <td>1383.986874</td>\n      <td>13.155605</td>\n      <td>1497.763412</td>\n      <td>10.839396</td>\n      <td>3666.891530</td>\n      <td>45.743752</td>\n      <td>212.319352</td>\n      <td>13.489554</td>\n      <td>35.031429</td>\n    </tr>\n    <tr>\n      <th>std</th>\n      <td>0.0</td>\n      <td>3.442076</td>\n      <td>8.741055</td>\n      <td>491.095434</td>\n      <td>41.697742</td>\n      <td>501.357545</td>\n      <td>45.410635</td>\n      <td>1390.491929</td>\n      <td>6.551112</td>\n      <td>14.252636</td>\n      <td>4.943119</td>\n      <td>19.029893</td>\n    </tr>\n    <tr>\n      <th>min</th>\n      <td>2013.0</td>\n      <td>1.000000</td>\n      <td>1.000000</td>\n      <td>2.000000</td>\n      <td>-32.000000</td>\n      <td>1.000000</td>\n      <td>-62.000000</td>\n      <td>63.000000</td>\n      <td>31.000000</td>\n      <td>169.000000</td>\n      <td>0.000000</td>\n      <td>0.000000</td>\n    </tr>\n    <tr>\n      <th>25%</th>\n      <td>2013.0</td>\n      <td>3.000000</td>\n      <td>8.000000</td>\n      <td>956.000000</td>\n      <td>-6.000000</td>\n      <td>1109.000000</td>\n      <td>-13.000000</td>\n      <td>2187.000000</td>\n      <td>41.000000</td>\n      <td>212.000000</td>\n      <td>9.000000</td>\n      <td>19.000000</td>\n    </tr>\n    <tr>\n      <th>50%</th>\n      <td>2013.0</td>\n      <td>6.000000</td>\n      <td>15.000000</td>\n      <td>1435.000000</td>\n      <td>-3.000000</td>\n      <td>1543.000000</td>\n      <td>-3.000000</td>\n      <td>3761.000000</td>\n      <td>45.000000</td>\n      <td>214.000000</td>\n      <td>14.000000</td>\n      <td>38.000000</td>\n    </tr>\n    <tr>\n      <th>75%</th>\n      <td>2013.0</td>\n      <td>9.000000</td>\n      <td>23.000000</td>\n      <td>1819.000000</td>\n      <td>11.000000</td>\n      <td>1922.000000</td>\n      <td>16.000000</td>\n      <td>4418.000000</td>\n      <td>49.000000</td>\n      <td>228.000000</td>\n      <td>18.000000</td>\n      <td>53.000000</td>\n    </tr>\n    <tr>\n      <th>max</th>\n      <td>2013.0</td>\n      <td>12.000000</td>\n      <td>31.000000</td>\n      <td>2400.000000</td>\n      <td>853.000000</td>\n      <td>2400.000000</td>\n      <td>851.000000</td>\n      <td>6181.000000</td>\n      <td>131.000000</td>\n      <td>229.000000</td>\n      <td>24.000000</td>\n      <td>59.000000</td>\n    </tr>\n  </tbody>\n</table>\n</div>"
     },
     "metadata": {}
    }
   ]
  },
  {
   "cell_type": "code",
   "metadata": {
    "tags": [],
    "cell_id": "00003-8a06e64b-eb2d-418f-a4c8-4f9059e9d0b3",
    "deepnote_to_be_reexecuted": false,
    "source_hash": "76f04c72",
    "execution_start": 1647317193576,
    "execution_millis": 2,
    "deepnote_cell_type": "code",
    "deepnote_cell_height": 99
   },
   "source": "#model can't handle nan values, so drop them\ndf.dropna(inplace=True)",
   "execution_count": 4,
   "outputs": []
  },
  {
   "cell_type": "code",
   "metadata": {
    "tags": [],
    "cell_id": "00004-512f34eb-b15e-4d66-af11-8cb755d2d12c",
    "deepnote_to_be_reexecuted": false,
    "source_hash": "51c05dca",
    "execution_start": 1647317193584,
    "execution_millis": 12,
    "deepnote_cell_type": "code",
    "deepnote_cell_height": 117
   },
   "source": "df['carrier'] = df.carrier.factorize()[0]\ndf['dest'] = df.dest.factorize()[0]\ndf['origin'] = df.origin.factorize()[0]",
   "execution_count": 5,
   "outputs": []
  },
  {
   "cell_type": "code",
   "metadata": {
    "tags": [],
    "cell_id": "00005-d0571424-3c33-4a75-9d5f-f8bb90c124c5",
    "deepnote_to_be_reexecuted": false,
    "source_hash": "c085b6ba",
    "execution_start": 1647317193640,
    "execution_millis": 87,
    "deepnote_cell_type": "code",
    "deepnote_cell_height": 408
   },
   "source": "df.head()",
   "execution_count": 6,
   "outputs": [
    {
     "output_type": "execute_result",
     "execution_count": 6,
     "data": {
      "application/vnd.deepnote.dataframe.v3+json": {
       "column_count": 16,
       "row_count": 5,
       "columns": [
        {
         "name": "year",
         "dtype": "int64",
         "stats": {
          "unique_count": 1,
          "nan_count": 0,
          "min": "2013",
          "max": "2013",
          "histogram": [
           {
            "bin_start": 2012.5,
            "bin_end": 2012.6,
            "count": 0
           },
           {
            "bin_start": 2012.6,
            "bin_end": 2012.7,
            "count": 0
           },
           {
            "bin_start": 2012.7,
            "bin_end": 2012.8,
            "count": 0
           },
           {
            "bin_start": 2012.8,
            "bin_end": 2012.9,
            "count": 0
           },
           {
            "bin_start": 2012.9,
            "bin_end": 2013,
            "count": 0
           },
           {
            "bin_start": 2013,
            "bin_end": 2013.1,
            "count": 5
           },
           {
            "bin_start": 2013.1,
            "bin_end": 2013.2,
            "count": 0
           },
           {
            "bin_start": 2013.2,
            "bin_end": 2013.3,
            "count": 0
           },
           {
            "bin_start": 2013.3,
            "bin_end": 2013.4,
            "count": 0
           },
           {
            "bin_start": 2013.4,
            "bin_end": 2013.5,
            "count": 0
           }
          ]
         }
        },
        {
         "name": "month",
         "dtype": "int64",
         "stats": {
          "unique_count": 1,
          "nan_count": 0,
          "min": "1",
          "max": "1",
          "histogram": [
           {
            "bin_start": 0.5,
            "bin_end": 0.6,
            "count": 0
           },
           {
            "bin_start": 0.6,
            "bin_end": 0.7,
            "count": 0
           },
           {
            "bin_start": 0.7,
            "bin_end": 0.8,
            "count": 0
           },
           {
            "bin_start": 0.8,
            "bin_end": 0.9,
            "count": 0
           },
           {
            "bin_start": 0.9,
            "bin_end": 1,
            "count": 0
           },
           {
            "bin_start": 1,
            "bin_end": 1.1,
            "count": 5
           },
           {
            "bin_start": 1.1,
            "bin_end": 1.2000000000000002,
            "count": 0
           },
           {
            "bin_start": 1.2000000000000002,
            "bin_end": 1.3,
            "count": 0
           },
           {
            "bin_start": 1.3,
            "bin_end": 1.4,
            "count": 0
           },
           {
            "bin_start": 1.4,
            "bin_end": 1.5,
            "count": 0
           }
          ]
         }
        },
        {
         "name": "day",
         "dtype": "int64",
         "stats": {
          "unique_count": 1,
          "nan_count": 0,
          "min": "1",
          "max": "1",
          "histogram": [
           {
            "bin_start": 0.5,
            "bin_end": 0.6,
            "count": 0
           },
           {
            "bin_start": 0.6,
            "bin_end": 0.7,
            "count": 0
           },
           {
            "bin_start": 0.7,
            "bin_end": 0.8,
            "count": 0
           },
           {
            "bin_start": 0.8,
            "bin_end": 0.9,
            "count": 0
           },
           {
            "bin_start": 0.9,
            "bin_end": 1,
            "count": 0
           },
           {
            "bin_start": 1,
            "bin_end": 1.1,
            "count": 5
           },
           {
            "bin_start": 1.1,
            "bin_end": 1.2000000000000002,
            "count": 0
           },
           {
            "bin_start": 1.2000000000000002,
            "bin_end": 1.3,
            "count": 0
           },
           {
            "bin_start": 1.3,
            "bin_end": 1.4,
            "count": 0
           },
           {
            "bin_start": 1.4,
            "bin_end": 1.5,
            "count": 0
           }
          ]
         }
        },
        {
         "name": "dep_time",
         "dtype": "float64",
         "stats": {
          "unique_count": 5,
          "nan_count": 0,
          "min": "629.0",
          "max": "1316.0",
          "histogram": [
           {
            "bin_start": 629,
            "bin_end": 697.7,
            "count": 1
           },
           {
            "bin_start": 697.7,
            "bin_end": 766.4,
            "count": 0
           },
           {
            "bin_start": 766.4,
            "bin_end": 835.1,
            "count": 0
           },
           {
            "bin_start": 835.1,
            "bin_end": 903.8,
            "count": 1
           },
           {
            "bin_start": 903.8,
            "bin_end": 972.5,
            "count": 0
           },
           {
            "bin_start": 972.5,
            "bin_end": 1041.2,
            "count": 0
           },
           {
            "bin_start": 1041.2,
            "bin_end": 1109.9,
            "count": 1
           },
           {
            "bin_start": 1109.9,
            "bin_end": 1178.6,
            "count": 1
           },
           {
            "bin_start": 1178.6,
            "bin_end": 1247.3000000000002,
            "count": 0
           },
           {
            "bin_start": 1247.3000000000002,
            "bin_end": 1316,
            "count": 1
           }
          ]
         }
        },
        {
         "name": "dep_delay",
         "dtype": "float64",
         "stats": {
          "unique_count": 4,
          "nan_count": 0,
          "min": "-2.0",
          "max": "853.0",
          "histogram": [
           {
            "bin_start": -2,
            "bin_end": 83.5,
            "count": 4
           },
           {
            "bin_start": 83.5,
            "bin_end": 169,
            "count": 0
           },
           {
            "bin_start": 169,
            "bin_end": 254.5,
            "count": 0
           },
           {
            "bin_start": 254.5,
            "bin_end": 340,
            "count": 0
           },
           {
            "bin_start": 340,
            "bin_end": 425.5,
            "count": 0
           },
           {
            "bin_start": 425.5,
            "bin_end": 511,
            "count": 0
           },
           {
            "bin_start": 511,
            "bin_end": 596.5,
            "count": 0
           },
           {
            "bin_start": 596.5,
            "bin_end": 682,
            "count": 0
           },
           {
            "bin_start": 682,
            "bin_end": 767.5,
            "count": 0
           },
           {
            "bin_start": 767.5,
            "bin_end": 853,
            "count": 1
           }
          ]
         }
        },
        {
         "name": "arr_time",
         "dtype": "float64",
         "stats": {
          "unique_count": 5,
          "nan_count": 0,
          "min": "721.0",
          "max": "1412.0",
          "histogram": [
           {
            "bin_start": 721,
            "bin_end": 790.1,
            "count": 1
           },
           {
            "bin_start": 790.1,
            "bin_end": 859.2,
            "count": 0
           },
           {
            "bin_start": 859.2,
            "bin_end": 928.3,
            "count": 0
           },
           {
            "bin_start": 928.3,
            "bin_end": 997.4,
            "count": 0
           },
           {
            "bin_start": 997.4,
            "bin_end": 1066.5,
            "count": 1
           },
           {
            "bin_start": 1066.5,
            "bin_end": 1135.6,
            "count": 0
           },
           {
            "bin_start": 1135.6,
            "bin_end": 1204.6999999999998,
            "count": 1
           },
           {
            "bin_start": 1204.6999999999998,
            "bin_end": 1273.8,
            "count": 1
           },
           {
            "bin_start": 1273.8,
            "bin_end": 1342.9,
            "count": 0
           },
           {
            "bin_start": 1342.9,
            "bin_end": 1412,
            "count": 1
           }
          ]
         }
        },
        {
         "name": "arr_delay",
         "dtype": "float64",
         "stats": {
          "unique_count": 5,
          "nan_count": 0,
          "min": "-19.0",
          "max": "851.0",
          "histogram": [
           {
            "bin_start": -19,
            "bin_end": 68,
            "count": 4
           },
           {
            "bin_start": 68,
            "bin_end": 155,
            "count": 0
           },
           {
            "bin_start": 155,
            "bin_end": 242,
            "count": 0
           },
           {
            "bin_start": 242,
            "bin_end": 329,
            "count": 0
           },
           {
            "bin_start": 329,
            "bin_end": 416,
            "count": 0
           },
           {
            "bin_start": 416,
            "bin_end": 503,
            "count": 0
           },
           {
            "bin_start": 503,
            "bin_end": 590,
            "count": 0
           },
           {
            "bin_start": 590,
            "bin_end": 677,
            "count": 0
           },
           {
            "bin_start": 677,
            "bin_end": 764,
            "count": 0
           },
           {
            "bin_start": 764,
            "bin_end": 851,
            "count": 1
           }
          ]
         }
        },
        {
         "name": "carrier",
         "dtype": "int64",
         "stats": {
          "unique_count": 3,
          "nan_count": 0,
          "min": "0",
          "max": "2",
          "histogram": [
           {
            "bin_start": 0,
            "bin_end": 0.2,
            "count": 3
           },
           {
            "bin_start": 0.2,
            "bin_end": 0.4,
            "count": 0
           },
           {
            "bin_start": 0.4,
            "bin_end": 0.6000000000000001,
            "count": 0
           },
           {
            "bin_start": 0.6000000000000001,
            "bin_end": 0.8,
            "count": 0
           },
           {
            "bin_start": 0.8,
            "bin_end": 1,
            "count": 0
           },
           {
            "bin_start": 1,
            "bin_end": 1.2000000000000002,
            "count": 1
           },
           {
            "bin_start": 1.2000000000000002,
            "bin_end": 1.4000000000000001,
            "count": 0
           },
           {
            "bin_start": 1.4000000000000001,
            "bin_end": 1.6,
            "count": 0
           },
           {
            "bin_start": 1.6,
            "bin_end": 1.8,
            "count": 0
           },
           {
            "bin_start": 1.8,
            "bin_end": 2,
            "count": 1
           }
          ]
         }
        },
        {
         "name": "tailnum",
         "dtype": "object",
         "stats": {
          "unique_count": 5,
          "nan_count": 0,
          "categories": [
           {
            "name": "N273WN",
            "count": 1
           },
           {
            "name": "N942MQ",
            "count": 1
           },
           {
            "name": "3 others",
            "count": 3
           }
          ]
         }
        },
        {
         "name": "flight",
         "dtype": "int64",
         "stats": {
          "unique_count": 5,
          "nan_count": 0,
          "min": "321",
          "max": "4646",
          "histogram": [
           {
            "bin_start": 321,
            "bin_end": 753.5,
            "count": 1
           },
           {
            "bin_start": 753.5,
            "bin_end": 1186,
            "count": 0
           },
           {
            "bin_start": 1186,
            "bin_end": 1618.5,
            "count": 1
           },
           {
            "bin_start": 1618.5,
            "bin_end": 2051,
            "count": 0
           },
           {
            "bin_start": 2051,
            "bin_end": 2483.5,
            "count": 0
           },
           {
            "bin_start": 2483.5,
            "bin_end": 2916,
            "count": 0
           },
           {
            "bin_start": 2916,
            "bin_end": 3348.5,
            "count": 0
           },
           {
            "bin_start": 3348.5,
            "bin_end": 3781,
            "count": 0
           },
           {
            "bin_start": 3781,
            "bin_end": 4213.5,
            "count": 1
           },
           {
            "bin_start": 4213.5,
            "bin_end": 4646,
            "count": 2
           }
          ]
         }
        },
        {
         "name": "origin",
         "dtype": "int64",
         "stats": {
          "unique_count": 3,
          "nan_count": 0,
          "min": "0",
          "max": "2",
          "histogram": [
           {
            "bin_start": 0,
            "bin_end": 0.2,
            "count": 2
           },
           {
            "bin_start": 0.2,
            "bin_end": 0.4,
            "count": 0
           },
           {
            "bin_start": 0.4,
            "bin_end": 0.6000000000000001,
            "count": 0
           },
           {
            "bin_start": 0.6000000000000001,
            "bin_end": 0.8,
            "count": 0
           },
           {
            "bin_start": 0.8,
            "bin_end": 1,
            "count": 0
           },
           {
            "bin_start": 1,
            "bin_end": 1.2000000000000002,
            "count": 1
           },
           {
            "bin_start": 1.2000000000000002,
            "bin_end": 1.4000000000000001,
            "count": 0
           },
           {
            "bin_start": 1.4000000000000001,
            "bin_end": 1.6,
            "count": 0
           },
           {
            "bin_start": 1.6,
            "bin_end": 1.8,
            "count": 0
           },
           {
            "bin_start": 1.8,
            "bin_end": 2,
            "count": 2
           }
          ]
         }
        },
        {
         "name": "dest",
         "dtype": "int64",
         "stats": {
          "unique_count": 1,
          "nan_count": 0,
          "min": "0",
          "max": "0",
          "histogram": [
           {
            "bin_start": -0.5,
            "bin_end": -0.4,
            "count": 0
           },
           {
            "bin_start": -0.4,
            "bin_end": -0.3,
            "count": 0
           },
           {
            "bin_start": -0.3,
            "bin_end": -0.19999999999999996,
            "count": 0
           },
           {
            "bin_start": -0.19999999999999996,
            "bin_end": -0.09999999999999998,
            "count": 0
           },
           {
            "bin_start": -0.09999999999999998,
            "bin_end": 0,
            "count": 0
           },
           {
            "bin_start": 0,
            "bin_end": 0.10000000000000009,
            "count": 5
           },
           {
            "bin_start": 0.10000000000000009,
            "bin_end": 0.20000000000000007,
            "count": 0
           },
           {
            "bin_start": 0.20000000000000007,
            "bin_end": 0.30000000000000004,
            "count": 0
           },
           {
            "bin_start": 0.30000000000000004,
            "bin_end": 0.4,
            "count": 0
           },
           {
            "bin_start": 0.4,
            "bin_end": 0.5,
            "count": 0
           }
          ]
         }
        },
        {
         "name": "air_time",
         "dtype": "float64",
         "stats": {
          "unique_count": 4,
          "nan_count": 0,
          "min": "38.0",
          "max": "43.0",
          "histogram": [
           {
            "bin_start": 38,
            "bin_end": 38.5,
            "count": 2
           },
           {
            "bin_start": 38.5,
            "bin_end": 39,
            "count": 0
           },
           {
            "bin_start": 39,
            "bin_end": 39.5,
            "count": 0
           },
           {
            "bin_start": 39.5,
            "bin_end": 40,
            "count": 0
           },
           {
            "bin_start": 40,
            "bin_end": 40.5,
            "count": 1
           },
           {
            "bin_start": 40.5,
            "bin_end": 41,
            "count": 0
           },
           {
            "bin_start": 41,
            "bin_end": 41.5,
            "count": 1
           },
           {
            "bin_start": 41.5,
            "bin_end": 42,
            "count": 0
           },
           {
            "bin_start": 42,
            "bin_end": 42.5,
            "count": 0
           },
           {
            "bin_start": 42.5,
            "bin_end": 43,
            "count": 1
           }
          ]
         }
        },
        {
         "name": "distance",
         "dtype": "int64",
         "stats": {
          "unique_count": 3,
          "nan_count": 0,
          "min": "169",
          "max": "185",
          "histogram": [
           {
            "bin_start": 169,
            "bin_end": 170.6,
            "count": 2
           },
           {
            "bin_start": 170.6,
            "bin_end": 172.2,
            "count": 0
           },
           {
            "bin_start": 172.2,
            "bin_end": 173.8,
            "count": 0
           },
           {
            "bin_start": 173.8,
            "bin_end": 175.4,
            "count": 0
           },
           {
            "bin_start": 175.4,
            "bin_end": 177,
            "count": 0
           },
           {
            "bin_start": 177,
            "bin_end": 178.6,
            "count": 0
           },
           {
            "bin_start": 178.6,
            "bin_end": 180.2,
            "count": 0
           },
           {
            "bin_start": 180.2,
            "bin_end": 181.8,
            "count": 0
           },
           {
            "bin_start": 181.8,
            "bin_end": 183.4,
            "count": 0
           },
           {
            "bin_start": 183.4,
            "bin_end": 185,
            "count": 3
           }
          ]
         }
        },
        {
         "name": "hour",
         "dtype": "float64",
         "stats": {
          "unique_count": 5,
          "nan_count": 0,
          "min": "6.0",
          "max": "13.0",
          "histogram": [
           {
            "bin_start": 6,
            "bin_end": 6.7,
            "count": 1
           },
           {
            "bin_start": 6.7,
            "bin_end": 7.4,
            "count": 0
           },
           {
            "bin_start": 7.4,
            "bin_end": 8.1,
            "count": 1
           },
           {
            "bin_start": 8.1,
            "bin_end": 8.8,
            "count": 0
           },
           {
            "bin_start": 8.8,
            "bin_end": 9.5,
            "count": 0
           },
           {
            "bin_start": 9.5,
            "bin_end": 10.2,
            "count": 1
           },
           {
            "bin_start": 10.2,
            "bin_end": 10.899999999999999,
            "count": 0
           },
           {
            "bin_start": 10.899999999999999,
            "bin_end": 11.6,
            "count": 1
           },
           {
            "bin_start": 11.6,
            "bin_end": 12.3,
            "count": 0
           },
           {
            "bin_start": 12.3,
            "bin_end": 13,
            "count": 1
           }
          ]
         }
        },
        {
         "name": "minute",
         "dtype": "float64",
         "stats": {
          "unique_count": 5,
          "nan_count": 0,
          "min": "16.0",
          "max": "59.0",
          "histogram": [
           {
            "bin_start": 16,
            "bin_end": 20.3,
            "count": 1
           },
           {
            "bin_start": 20.3,
            "bin_end": 24.6,
            "count": 0
           },
           {
            "bin_start": 24.6,
            "bin_end": 28.9,
            "count": 0
           },
           {
            "bin_start": 28.9,
            "bin_end": 33.2,
            "count": 1
           },
           {
            "bin_start": 33.2,
            "bin_end": 37.5,
            "count": 0
           },
           {
            "bin_start": 37.5,
            "bin_end": 41.8,
            "count": 0
           },
           {
            "bin_start": 41.8,
            "bin_end": 46.099999999999994,
            "count": 0
           },
           {
            "bin_start": 46.099999999999994,
            "bin_end": 50.4,
            "count": 1
           },
           {
            "bin_start": 50.4,
            "bin_end": 54.699999999999996,
            "count": 0
           },
           {
            "bin_start": 54.699999999999996,
            "bin_end": 59,
            "count": 2
           }
          ]
         }
        },
        {
         "name": "_deepnote_index_column",
         "dtype": "int64"
        }
       ],
       "rows": [
        {
         "year": 2013,
         "month": 1,
         "day": 1,
         "dep_time": 629,
         "dep_delay": -1,
         "arr_time": 721,
         "arr_delay": -19,
         "carrier": 0,
         "tailnum": "N273WN",
         "flight": 4646,
         "origin": 0,
         "dest": 0,
         "air_time": 40,
         "distance": 185,
         "hour": 6,
         "minute": 29,
         "_deepnote_index_column": 0
        },
        {
         "year": 2013,
         "month": 1,
         "day": 1,
         "dep_time": 848,
         "dep_delay": 853,
         "arr_time": 1001,
         "arr_delay": 851,
         "carrier": 1,
         "tailnum": "N942MQ",
         "flight": 3944,
         "origin": 1,
         "dest": 0,
         "air_time": 41,
         "distance": 184,
         "hour": 8,
         "minute": 48,
         "_deepnote_index_column": 1
        },
        {
         "year": 2013,
         "month": 1,
         "day": 1,
         "dep_time": 1059,
         "dep_delay": -1,
         "arr_time": 1201,
         "arr_delay": -14,
         "carrier": 0,
         "tailnum": "N505SW",
         "flight": 321,
         "origin": 0,
         "dest": 0,
         "air_time": 43,
         "distance": 185,
         "hour": 10,
         "minute": 59,
         "_deepnote_index_column": 2
        },
        {
         "year": 2013,
         "month": 1,
         "day": 1,
         "dep_time": 1158,
         "dep_delay": -2,
         "arr_time": 1256,
         "arr_delay": -4,
         "carrier": 0,
         "tailnum": "N783SW",
         "flight": 1568,
         "origin": 2,
         "dest": 0,
         "air_time": 38,
         "distance": 169,
         "hour": 11,
         "minute": 58,
         "_deepnote_index_column": 3
        },
        {
         "year": 2013,
         "month": 1,
         "day": 1,
         "dep_time": 1316,
         "dep_delay": 2,
         "arr_time": 1412,
         "arr_delay": -3,
         "carrier": 2,
         "tailnum": "N11551",
         "flight": 4340,
         "origin": 2,
         "dest": 0,
         "air_time": 38,
         "distance": 169,
         "hour": 13,
         "minute": 16,
         "_deepnote_index_column": 4
        }
       ]
      },
      "text/plain": "   year  month  day  dep_time  dep_delay  arr_time  arr_delay  carrier  \\\n0  2013      1    1     629.0       -1.0     721.0      -19.0        0   \n1  2013      1    1     848.0      853.0    1001.0      851.0        1   \n2  2013      1    1    1059.0       -1.0    1201.0      -14.0        0   \n3  2013      1    1    1158.0       -2.0    1256.0       -4.0        0   \n4  2013      1    1    1316.0        2.0    1412.0       -3.0        2   \n\n  tailnum  flight  origin  dest  air_time  distance  hour  minute  \n0  N273WN    4646       0     0      40.0       185   6.0    29.0  \n1  N942MQ    3944       1     0      41.0       184   8.0    48.0  \n2  N505SW     321       0     0      43.0       185  10.0    59.0  \n3  N783SW    1568       2     0      38.0       169  11.0    58.0  \n4  N11551    4340       2     0      38.0       169  13.0    16.0  ",
      "text/html": "<div>\n<style scoped>\n    .dataframe tbody tr th:only-of-type {\n        vertical-align: middle;\n    }\n\n    .dataframe tbody tr th {\n        vertical-align: top;\n    }\n\n    .dataframe thead th {\n        text-align: right;\n    }\n</style>\n<table border=\"1\" class=\"dataframe\">\n  <thead>\n    <tr style=\"text-align: right;\">\n      <th></th>\n      <th>year</th>\n      <th>month</th>\n      <th>day</th>\n      <th>dep_time</th>\n      <th>dep_delay</th>\n      <th>arr_time</th>\n      <th>arr_delay</th>\n      <th>carrier</th>\n      <th>tailnum</th>\n      <th>flight</th>\n      <th>origin</th>\n      <th>dest</th>\n      <th>air_time</th>\n      <th>distance</th>\n      <th>hour</th>\n      <th>minute</th>\n    </tr>\n  </thead>\n  <tbody>\n    <tr>\n      <th>0</th>\n      <td>2013</td>\n      <td>1</td>\n      <td>1</td>\n      <td>629.0</td>\n      <td>-1.0</td>\n      <td>721.0</td>\n      <td>-19.0</td>\n      <td>0</td>\n      <td>N273WN</td>\n      <td>4646</td>\n      <td>0</td>\n      <td>0</td>\n      <td>40.0</td>\n      <td>185</td>\n      <td>6.0</td>\n      <td>29.0</td>\n    </tr>\n    <tr>\n      <th>1</th>\n      <td>2013</td>\n      <td>1</td>\n      <td>1</td>\n      <td>848.0</td>\n      <td>853.0</td>\n      <td>1001.0</td>\n      <td>851.0</td>\n      <td>1</td>\n      <td>N942MQ</td>\n      <td>3944</td>\n      <td>1</td>\n      <td>0</td>\n      <td>41.0</td>\n      <td>184</td>\n      <td>8.0</td>\n      <td>48.0</td>\n    </tr>\n    <tr>\n      <th>2</th>\n      <td>2013</td>\n      <td>1</td>\n      <td>1</td>\n      <td>1059.0</td>\n      <td>-1.0</td>\n      <td>1201.0</td>\n      <td>-14.0</td>\n      <td>0</td>\n      <td>N505SW</td>\n      <td>321</td>\n      <td>0</td>\n      <td>0</td>\n      <td>43.0</td>\n      <td>185</td>\n      <td>10.0</td>\n      <td>59.0</td>\n    </tr>\n    <tr>\n      <th>3</th>\n      <td>2013</td>\n      <td>1</td>\n      <td>1</td>\n      <td>1158.0</td>\n      <td>-2.0</td>\n      <td>1256.0</td>\n      <td>-4.0</td>\n      <td>0</td>\n      <td>N783SW</td>\n      <td>1568</td>\n      <td>2</td>\n      <td>0</td>\n      <td>38.0</td>\n      <td>169</td>\n      <td>11.0</td>\n      <td>58.0</td>\n    </tr>\n    <tr>\n      <th>4</th>\n      <td>2013</td>\n      <td>1</td>\n      <td>1</td>\n      <td>1316.0</td>\n      <td>2.0</td>\n      <td>1412.0</td>\n      <td>-3.0</td>\n      <td>2</td>\n      <td>N11551</td>\n      <td>4340</td>\n      <td>2</td>\n      <td>0</td>\n      <td>38.0</td>\n      <td>169</td>\n      <td>13.0</td>\n      <td>16.0</td>\n    </tr>\n  </tbody>\n</table>\n</div>"
     },
     "metadata": {}
    }
   ]
  },
  {
   "cell_type": "code",
   "metadata": {
    "tags": [],
    "cell_id": "00003-103d99a9-4256-4f83-bb3c-ac927c2a29c7",
    "deepnote_to_be_reexecuted": false,
    "source_hash": "6fc86029",
    "execution_start": 1647317193725,
    "execution_millis": 3,
    "deepnote_cell_type": "code",
    "deepnote_cell_height": 420
   },
   "source": "#Split dataset into two (training 80%, validation (testing) %20, random_state=1).\nX = df.loc[:,['month', 'day', 'distance']].values\nY = df.loc[:,'arr_delay'].values\n\nX_train, X_test, Y_train, Y_test = train_test_split(X, Y, test_size = 0.2, random_state=1)\n\n#fit the model\nmodel = LinearRegression()\nmodel.fit(X_train, Y_train)\n\n# evaluate the model\nyhat = model.predict(X_test)\n\n# evaluate predictions\nmax_relative_error = np.amax(abs((Y_test-yhat)/yhat))\nprint('max_relative_error (%):', 100*max_relative_error)\nprint('Rsquared:',np.corrcoef(Y_test, yhat)[0,1]**2)",
   "execution_count": 7,
   "outputs": [
    {
     "name": "stdout",
     "text": "max_relative_error (%): 3824.460137644558\nRsquared: 0.0030031150292381026\n",
     "output_type": "stream"
    }
   ]
  },
  {
   "cell_type": "code",
   "metadata": {
    "tags": [],
    "cell_id": "00005-e0a417ba-ca75-4cbc-9aa2-ac9d0ec89fcb",
    "deepnote_to_be_reexecuted": false,
    "source_hash": "3fd7117c",
    "execution_start": 1647317193726,
    "execution_millis": 0,
    "deepnote_cell_type": "code",
    "deepnote_cell_height": 117
   },
   "source": "#download the test dataset and predic the arrival delays of these flights\ndf_test = pd.read_csv('flights_test_data.csv', index_col=[])\ndf_test.drop(['year','carrier', 'origin', 'dest'], axis=1, inplace=True)",
   "execution_count": 8,
   "outputs": []
  },
  {
   "cell_type": "code",
   "metadata": {
    "tags": [],
    "cell_id": "00006-f61238f7-da0a-40c7-bef1-001d9dd11b8a",
    "deepnote_to_be_reexecuted": false,
    "source_hash": "5386f47b",
    "execution_start": 1647317193726,
    "execution_millis": 43,
    "deepnote_cell_type": "code",
    "deepnote_cell_height": 99
   },
   "source": "#convert df to numpy array\ntest_info = df_test.to_numpy()",
   "execution_count": 9,
   "outputs": []
  },
  {
   "cell_type": "code",
   "metadata": {
    "tags": [],
    "cell_id": "00007-48d3359e-170c-475d-8b03-d60bd5193991",
    "deepnote_to_be_reexecuted": false,
    "source_hash": "7acff4f1",
    "execution_start": 1647317193769,
    "execution_millis": 2,
    "deepnote_cell_type": "code",
    "deepnote_cell_height": 175,
    "deepnote_output_heights": [
     78
    ]
   },
   "source": "model.predict(test_info)",
   "execution_count": 10,
   "outputs": [
    {
     "output_type": "execute_result",
     "execution_count": 10,
     "data": {
      "text/plain": "array([13.07651325, 13.86611448, 12.84184608, 11.98386038, 12.57365303,\n       12.13784459, 10.90271901, 10.5844062 ,  9.30816553, 10.27556096,\n        8.55850522,  9.68059612,  8.41532125,  8.63063937,  7.35306602,\n        7.43170504,  7.43303771,  8.31600051,  8.34114317,  8.85096412])"
     },
     "metadata": {}
    }
   ]
  },
  {
   "cell_type": "code",
   "metadata": {
    "tags": [],
    "cell_id": "00008-86ca7501-de58-48bf-b2f2-06fd27dc9388",
    "deepnote_to_be_reexecuted": false,
    "source_hash": "93ead7e8",
    "execution_start": 1647317193770,
    "execution_millis": 22625,
    "deepnote_cell_type": "code",
    "deepnote_cell_height": 490
   },
   "source": "#Part 5: Multiple Logistic Regression Model, guess the 3 cancelled flights in test dataset\n#Split dataset into two (training 80%, validation (testing) %20, random_state=1).\n\nX = df.loc[:,['dep_delay']].values\nY = df.loc[:,'arr_delay'].values\nX_train, X_test, y_train, y_test = train_test_split(X, Y, test_size=0.2, random_state=1)\n\n#fit the model\nlogreg = LogisticRegression()\nlogreg.fit(X_train, y_train)\nlogreg.score(X_test, y_test)\ny_predict = logreg.predict(X_test)",
   "execution_count": 11,
   "outputs": [
    {
     "name": "stderr",
     "text": "/shared-libs/python3.7/py/lib/python3.7/site-packages/sklearn/linear_model/_logistic.py:818: ConvergenceWarning: lbfgs failed to converge (status=1):\nSTOP: TOTAL NO. of ITERATIONS REACHED LIMIT.\n\nIncrease the number of iterations (max_iter) or scale the data as shown in:\n    https://scikit-learn.org/stable/modules/preprocessing.html\nPlease also refer to the documentation for alternative solver options:\n    https://scikit-learn.org/stable/modules/linear_model.html#logistic-regression\n  extra_warning_msg=_LOGISTIC_SOLVER_CONVERGENCE_MSG,\n",
     "output_type": "stream"
    }
   ]
  },
  {
   "cell_type": "code",
   "metadata": {
    "tags": [],
    "cell_id": "00009-06c39ad6-2c42-4c91-971d-e05fffb38d13",
    "deepnote_to_be_reexecuted": false,
    "source_hash": "5920af8c",
    "execution_start": 1647317216444,
    "execution_millis": 34,
    "deepnote_cell_type": "code",
    "deepnote_cell_height": 598
   },
   "source": "df.groupby(['day']).agg(['mean']).sort_values(('arr_delay', 'mean'))['arr_delay']",
   "execution_count": 12,
   "outputs": [
    {
     "output_type": "execute_result",
     "execution_count": 12,
     "data": {
      "application/vnd.deepnote.dataframe.v3+json": {
       "column_count": 1,
       "row_count": 31,
       "columns": [
        {
         "name": "mean",
         "dtype": "float64",
         "stats": {
          "unique_count": 31,
          "nan_count": 0,
          "min": "0.31497418244406195",
          "max": "22.795180722891565",
          "histogram": [
           {
            "bin_start": 0.31497418244406195,
            "bin_end": 2.562994836488812,
            "count": 4
           },
           {
            "bin_start": 2.562994836488812,
            "bin_end": 4.8110154905335625,
            "count": 4
           },
           {
            "bin_start": 4.8110154905335625,
            "bin_end": 7.059036144578313,
            "count": 2
           },
           {
            "bin_start": 7.059036144578313,
            "bin_end": 9.307056798623062,
            "count": 2
           },
           {
            "bin_start": 9.307056798623062,
            "bin_end": 11.555077452667813,
            "count": 4
           },
           {
            "bin_start": 11.555077452667813,
            "bin_end": 13.803098106712564,
            "count": 2
           },
           {
            "bin_start": 13.803098106712564,
            "bin_end": 16.051118760757312,
            "count": 7
           },
           {
            "bin_start": 16.051118760757312,
            "bin_end": 18.299139414802063,
            "count": 2
           },
           {
            "bin_start": 18.299139414802063,
            "bin_end": 20.547160068846814,
            "count": 2
           },
           {
            "bin_start": 20.547160068846814,
            "bin_end": 22.795180722891565,
            "count": 2
           }
          ]
         }
        },
        {
         "name": "_deepnote_index_column",
         "dtype": "int64"
        }
       ],
       "rows": [
        {
         "mean": 0.31497418244406195,
         "_deepnote_index_column": 15
        },
        {
         "mean": 0.7946058091286307,
         "_deepnote_index_column": 29
        },
        {
         "mean": 1.1200750469043153,
         "_deepnote_index_column": 5
        },
        {
         "mean": 2.2039007092198584,
         "_deepnote_index_column": 4
        },
        {
         "mean": 3.2553606237816766,
         "_deepnote_index_column": 6
        },
        {
         "mean": 3.3127659574468087,
         "_deepnote_index_column": 30
        },
        {
         "mean": 3.7190388170055453,
         "_deepnote_index_column": 20
        },
        {
         "mean": 4.583180987202925,
         "_deepnote_index_column": 14
        },
        {
         "mean": 6.038961038961039,
         "_deepnote_index_column": 16
        },
        {
         "mean": 6.757798165137615,
         "_deepnote_index_column": 21
        }
       ]
      },
      "text/plain": "          mean\nday           \n15    0.314974\n29    0.794606\n5     1.120075\n4     2.203901\n6     3.255361\n30    3.312766\n20    3.719039\n14    4.583181\n16    6.038961\n21    6.757798\n31    8.357388\n3     8.831010\n26    9.410959\n18   10.167568\n2    10.676301\n27   10.700576\n11   12.161765\n7    13.371171\n12   14.081081\n9    14.244576\n1    14.506446\n13   14.507519\n10   15.013308\n17   15.210619\n25   15.930189\n28   16.461856\n19   17.902439\n22   18.542435\n24   19.516832\n23   22.591919\n8    22.795181",
      "text/html": "<div>\n<style scoped>\n    .dataframe tbody tr th:only-of-type {\n        vertical-align: middle;\n    }\n\n    .dataframe tbody tr th {\n        vertical-align: top;\n    }\n\n    .dataframe thead th {\n        text-align: right;\n    }\n</style>\n<table border=\"1\" class=\"dataframe\">\n  <thead>\n    <tr style=\"text-align: right;\">\n      <th></th>\n      <th>mean</th>\n    </tr>\n    <tr>\n      <th>day</th>\n      <th></th>\n    </tr>\n  </thead>\n  <tbody>\n    <tr>\n      <th>15</th>\n      <td>0.314974</td>\n    </tr>\n    <tr>\n      <th>29</th>\n      <td>0.794606</td>\n    </tr>\n    <tr>\n      <th>5</th>\n      <td>1.120075</td>\n    </tr>\n    <tr>\n      <th>4</th>\n      <td>2.203901</td>\n    </tr>\n    <tr>\n      <th>6</th>\n      <td>3.255361</td>\n    </tr>\n    <tr>\n      <th>30</th>\n      <td>3.312766</td>\n    </tr>\n    <tr>\n      <th>20</th>\n      <td>3.719039</td>\n    </tr>\n    <tr>\n      <th>14</th>\n      <td>4.583181</td>\n    </tr>\n    <tr>\n      <th>16</th>\n      <td>6.038961</td>\n    </tr>\n    <tr>\n      <th>21</th>\n      <td>6.757798</td>\n    </tr>\n    <tr>\n      <th>31</th>\n      <td>8.357388</td>\n    </tr>\n    <tr>\n      <th>3</th>\n      <td>8.831010</td>\n    </tr>\n    <tr>\n      <th>26</th>\n      <td>9.410959</td>\n    </tr>\n    <tr>\n      <th>18</th>\n      <td>10.167568</td>\n    </tr>\n    <tr>\n      <th>2</th>\n      <td>10.676301</td>\n    </tr>\n    <tr>\n      <th>27</th>\n      <td>10.700576</td>\n    </tr>\n    <tr>\n      <th>11</th>\n      <td>12.161765</td>\n    </tr>\n    <tr>\n      <th>7</th>\n      <td>13.371171</td>\n    </tr>\n    <tr>\n      <th>12</th>\n      <td>14.081081</td>\n    </tr>\n    <tr>\n      <th>9</th>\n      <td>14.244576</td>\n    </tr>\n    <tr>\n      <th>1</th>\n      <td>14.506446</td>\n    </tr>\n    <tr>\n      <th>13</th>\n      <td>14.507519</td>\n    </tr>\n    <tr>\n      <th>10</th>\n      <td>15.013308</td>\n    </tr>\n    <tr>\n      <th>17</th>\n      <td>15.210619</td>\n    </tr>\n    <tr>\n      <th>25</th>\n      <td>15.930189</td>\n    </tr>\n    <tr>\n      <th>28</th>\n      <td>16.461856</td>\n    </tr>\n    <tr>\n      <th>19</th>\n      <td>17.902439</td>\n    </tr>\n    <tr>\n      <th>22</th>\n      <td>18.542435</td>\n    </tr>\n    <tr>\n      <th>24</th>\n      <td>19.516832</td>\n    </tr>\n    <tr>\n      <th>23</th>\n      <td>22.591919</td>\n    </tr>\n    <tr>\n      <th>8</th>\n      <td>22.795181</td>\n    </tr>\n  </tbody>\n</table>\n</div>"
     },
     "metadata": {}
    }
   ]
  },
  {
   "cell_type": "code",
   "metadata": {
    "tags": [],
    "cell_id": "00011-004d6724-c28c-4af8-8948-c9fcff850964",
    "deepnote_to_be_reexecuted": false,
    "source_hash": "f5a7bb99",
    "execution_start": 1647317216477,
    "execution_millis": 1,
    "deepnote_cell_type": "code",
    "deepnote_cell_height": 420
   },
   "source": "#Split dataset into two (training 80%, validation (testing) %20, random_state=1).\nX = df.loc[:,['dep_delay']].values\nY = df.loc[:,'arr_delay'].values\n\nX_train, X_test, Y_train, Y_test = train_test_split(X, Y, test_size = 0.2, random_state=1)\n\n#fit the model\nmodel = LinearRegression()\nmodel.fit(X_train, Y_train)\n\n# evaluate the model\nyhat = model.predict(X_test)\n\n# evaluate predictions\nmax_relative_error = np.amax(abs((Y_test-yhat)/yhat))\nprint('max_relative_error (%):', 100*max_relative_error)\nprint('Rsquared:',np.corrcoef(Y_test, yhat)[0,1]**2)",
   "execution_count": 13,
   "outputs": [
    {
     "name": "stdout",
     "text": "max_relative_error (%): 10461.047087356215\nRsquared: 0.8770655977094658\n",
     "output_type": "stream"
    }
   ]
  },
  {
   "cell_type": "markdown",
   "source": "<a style='text-decoration:none;line-height:16px;display:flex;color:#5B5B62;padding:10px;justify-content:end;' href='https://deepnote.com?utm_source=created-in-deepnote-cell&projectId=f8475077-1815-4082-a9b9-b766f4497f53' target=\"_blank\">\n<img alt='Created in deepnote.com' style='display:inline;max-height:16px;margin:0px;margin-right:7.5px;' src='data:image/svg+xml;base64,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' > </img>\nCreated in <span style='font-weight:600;margin-left:4px;'>Deepnote</span></a>",
   "metadata": {
    "tags": [],
    "created_in_deepnote_cell": true,
    "deepnote_cell_type": "markdown"
   }
  }
 ],
 "nbformat": 4,
 "nbformat_minor": 2,
 "metadata": {
  "orig_nbformat": 2,
  "deepnote": {
   "is_reactive": false
  },
  "deepnote_notebook_id": "4596ee37-30fb-4827-8167-6a8bf97c17a9",
  "deepnote_execution_queue": []
 }
}
