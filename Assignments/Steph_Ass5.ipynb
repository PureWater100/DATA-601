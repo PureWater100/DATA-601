{
 "cells": [
  {
   "cell_type": "markdown",
   "source": "#### Question 1\n#### 1. Calculate the average crime rate for each zip code, and determine the zipcode with highest average crime rate.",
   "metadata": {
    "tags": [],
    "cell_id": "00000-6e66d23c-796b-46ef-9146-7090168a6b58",
    "deepnote_cell_type": "markdown"
   }
  },
  {
   "cell_type": "code",
   "metadata": {
    "tags": [],
    "cell_id": "00000-e4369f10-44fc-4cd5-b3f1-b733ed948922",
    "deepnote_to_be_reexecuted": false,
    "source_hash": "73ec7057",
    "execution_start": 1638073231503,
    "execution_millis": 1103,
    "deepnote_cell_type": "code"
   },
   "source": "# USUAL SUSPECTS\nimport numpy as np\n# Fixing random state for reproducibility\nnp.random.seed(19680801)\nimport pandas as pd\nimport matplotlib.pyplot as plt\nfrom matplotlib.pyplot import bar\n# sklearn stuff\nfrom sklearn.metrics import r2_score\nfrom sklearn.model_selection import train_test_split\nfrom sklearn.feature_selection import SelectKBest\nfrom sklearn.feature_selection import f_regression\nfrom sklearn.linear_model import LinearRegression\nfrom sklearn.metrics import mean_absolute_error\n# SM stuff\n#import statsmodels.api as sm\n#import statsmodels.formula.api as smf",
   "execution_count": null,
   "outputs": []
  },
  {
   "cell_type": "code",
   "metadata": {
    "tags": [],
    "cell_id": "00002-3c9fae85-e4c1-4ff0-9497-a9fe637de227",
    "deepnote_to_be_reexecuted": false,
    "source_hash": "4269cf84",
    "execution_start": 1638073232610,
    "execution_millis": 105,
    "deepnote_cell_type": "code"
   },
   "source": "#df = pd.read_csv('https://raw.githubusercontent.com/simsekergun/DATA601/main/2021Fall/datasets/HouseTraining.csv', index_col=[])\ndf = pd.read_csv('HouseTraining.csv', index_col=[])\ndf.head()",
   "execution_count": null,
   "outputs": [
    {
     "output_type": "execute_result",
     "execution_count": 2,
     "data": {
      "application/vnd.deepnote.dataframe.v2+json": {
       "row_count": 5,
       "column_count": 13,
       "columns": [
        {
         "name": "Unnamed: 0",
         "dtype": "int64",
         "stats": {
          "unique_count": 5,
          "nan_count": 0,
          "min": "0",
          "max": "4",
          "histogram": [
           {
            "bin_start": 0,
            "bin_end": 0.4,
            "count": 1
           },
           {
            "bin_start": 0.4,
            "bin_end": 0.8,
            "count": 0
           },
           {
            "bin_start": 0.8,
            "bin_end": 1.2000000000000002,
            "count": 1
           },
           {
            "bin_start": 1.2000000000000002,
            "bin_end": 1.6,
            "count": 0
           },
           {
            "bin_start": 1.6,
            "bin_end": 2,
            "count": 0
           },
           {
            "bin_start": 2,
            "bin_end": 2.4000000000000004,
            "count": 1
           },
           {
            "bin_start": 2.4000000000000004,
            "bin_end": 2.8000000000000003,
            "count": 0
           },
           {
            "bin_start": 2.8000000000000003,
            "bin_end": 3.2,
            "count": 1
           },
           {
            "bin_start": 3.2,
            "bin_end": 3.6,
            "count": 0
           },
           {
            "bin_start": 3.6,
            "bin_end": 4,
            "count": 1
           }
          ]
         }
        },
        {
         "name": "School_Rating",
         "dtype": "int64",
         "stats": {
          "unique_count": 2,
          "nan_count": 0,
          "min": "6",
          "max": "8",
          "histogram": [
           {
            "bin_start": 6,
            "bin_end": 6.2,
            "count": 1
           },
           {
            "bin_start": 6.2,
            "bin_end": 6.4,
            "count": 0
           },
           {
            "bin_start": 6.4,
            "bin_end": 6.6,
            "count": 0
           },
           {
            "bin_start": 6.6,
            "bin_end": 6.8,
            "count": 0
           },
           {
            "bin_start": 6.8,
            "bin_end": 7,
            "count": 0
           },
           {
            "bin_start": 7,
            "bin_end": 7.2,
            "count": 0
           },
           {
            "bin_start": 7.2,
            "bin_end": 7.4,
            "count": 0
           },
           {
            "bin_start": 7.4,
            "bin_end": 7.6,
            "count": 0
           },
           {
            "bin_start": 7.6,
            "bin_end": 7.8,
            "count": 0
           },
           {
            "bin_start": 7.8,
            "bin_end": 8,
            "count": 4
           }
          ]
         }
        },
        {
         "name": "House_Area",
         "dtype": "int64",
         "stats": {
          "unique_count": 5,
          "nan_count": 0,
          "min": "1743",
          "max": "3672",
          "histogram": [
           {
            "bin_start": 1743,
            "bin_end": 1935.9,
            "count": 1
           },
           {
            "bin_start": 1935.9,
            "bin_end": 2128.8,
            "count": 0
           },
           {
            "bin_start": 2128.8,
            "bin_end": 2321.7,
            "count": 2
           },
           {
            "bin_start": 2321.7,
            "bin_end": 2514.6,
            "count": 1
           },
           {
            "bin_start": 2514.6,
            "bin_end": 2707.5,
            "count": 0
           },
           {
            "bin_start": 2707.5,
            "bin_end": 2900.4,
            "count": 0
           },
           {
            "bin_start": 2900.4,
            "bin_end": 3093.3,
            "count": 0
           },
           {
            "bin_start": 3093.3,
            "bin_end": 3286.2,
            "count": 0
           },
           {
            "bin_start": 3286.2,
            "bin_end": 3479.1000000000004,
            "count": 0
           },
           {
            "bin_start": 3479.1000000000004,
            "bin_end": 3672,
            "count": 1
           }
          ]
         }
        },
        {
         "name": "Lot_Area",
         "dtype": "int64",
         "stats": {
          "unique_count": 5,
          "nan_count": 0,
          "min": "3893",
          "max": "7364",
          "histogram": [
           {
            "bin_start": 3893,
            "bin_end": 4240.1,
            "count": 1
           },
           {
            "bin_start": 4240.1,
            "bin_end": 4587.2,
            "count": 0
           },
           {
            "bin_start": 4587.2,
            "bin_end": 4934.3,
            "count": 1
           },
           {
            "bin_start": 4934.3,
            "bin_end": 5281.4,
            "count": 2
           },
           {
            "bin_start": 5281.4,
            "bin_end": 5628.5,
            "count": 0
           },
           {
            "bin_start": 5628.5,
            "bin_end": 5975.6,
            "count": 0
           },
           {
            "bin_start": 5975.6,
            "bin_end": 6322.700000000001,
            "count": 0
           },
           {
            "bin_start": 6322.700000000001,
            "bin_end": 6669.8,
            "count": 0
           },
           {
            "bin_start": 6669.8,
            "bin_end": 7016.9,
            "count": 0
           },
           {
            "bin_start": 7016.9,
            "bin_end": 7364,
            "count": 1
           }
          ]
         }
        },
        {
         "name": "Room_No",
         "dtype": "float64",
         "stats": {
          "unique_count": 3,
          "nan_count": 0,
          "min": "2.0",
          "max": "5.0",
          "histogram": [
           {
            "bin_start": 2,
            "bin_end": 2.3,
            "count": 1
           },
           {
            "bin_start": 2.3,
            "bin_end": 2.6,
            "count": 0
           },
           {
            "bin_start": 2.6,
            "bin_end": 2.9,
            "count": 0
           },
           {
            "bin_start": 2.9,
            "bin_end": 3.2,
            "count": 3
           },
           {
            "bin_start": 3.2,
            "bin_end": 3.5,
            "count": 0
           },
           {
            "bin_start": 3.5,
            "bin_end": 3.8,
            "count": 0
           },
           {
            "bin_start": 3.8,
            "bin_end": 4.1,
            "count": 0
           },
           {
            "bin_start": 4.1,
            "bin_end": 4.4,
            "count": 0
           },
           {
            "bin_start": 4.4,
            "bin_end": 4.699999999999999,
            "count": 0
           },
           {
            "bin_start": 4.699999999999999,
            "bin_end": 5,
            "count": 1
           }
          ]
         }
        },
        {
         "name": "Bath_No",
         "dtype": "float64",
         "stats": {
          "unique_count": 3,
          "nan_count": 0,
          "min": "2.0",
          "max": "5.0",
          "histogram": [
           {
            "bin_start": 2,
            "bin_end": 2.3,
            "count": 1
           },
           {
            "bin_start": 2.3,
            "bin_end": 2.6,
            "count": 0
           },
           {
            "bin_start": 2.6,
            "bin_end": 2.9,
            "count": 0
           },
           {
            "bin_start": 2.9,
            "bin_end": 3.2,
            "count": 3
           },
           {
            "bin_start": 3.2,
            "bin_end": 3.5,
            "count": 0
           },
           {
            "bin_start": 3.5,
            "bin_end": 3.8,
            "count": 0
           },
           {
            "bin_start": 3.8,
            "bin_end": 4.1,
            "count": 0
           },
           {
            "bin_start": 4.1,
            "bin_end": 4.4,
            "count": 0
           },
           {
            "bin_start": 4.4,
            "bin_end": 4.699999999999999,
            "count": 0
           },
           {
            "bin_start": 4.699999999999999,
            "bin_end": 5,
            "count": 1
           }
          ]
         }
        },
        {
         "name": "Garage",
         "dtype": "float64",
         "stats": {
          "unique_count": 2,
          "nan_count": 0,
          "min": "0.0",
          "max": "1.0",
          "histogram": [
           {
            "bin_start": 0,
            "bin_end": 0.1,
            "count": 2
           },
           {
            "bin_start": 0.1,
            "bin_end": 0.2,
            "count": 0
           },
           {
            "bin_start": 0.2,
            "bin_end": 0.30000000000000004,
            "count": 0
           },
           {
            "bin_start": 0.30000000000000004,
            "bin_end": 0.4,
            "count": 0
           },
           {
            "bin_start": 0.4,
            "bin_end": 0.5,
            "count": 0
           },
           {
            "bin_start": 0.5,
            "bin_end": 0.6000000000000001,
            "count": 0
           },
           {
            "bin_start": 0.6000000000000001,
            "bin_end": 0.7000000000000001,
            "count": 0
           },
           {
            "bin_start": 0.7000000000000001,
            "bin_end": 0.8,
            "count": 0
           },
           {
            "bin_start": 0.8,
            "bin_end": 0.9,
            "count": 0
           },
           {
            "bin_start": 0.9,
            "bin_end": 1,
            "count": 3
           }
          ]
         }
        },
        {
         "name": "Pool",
         "dtype": "float64",
         "stats": {
          "unique_count": 2,
          "nan_count": 0,
          "min": "0.0",
          "max": "1.0",
          "histogram": [
           {
            "bin_start": 0,
            "bin_end": 0.1,
            "count": 4
           },
           {
            "bin_start": 0.1,
            "bin_end": 0.2,
            "count": 0
           },
           {
            "bin_start": 0.2,
            "bin_end": 0.30000000000000004,
            "count": 0
           },
           {
            "bin_start": 0.30000000000000004,
            "bin_end": 0.4,
            "count": 0
           },
           {
            "bin_start": 0.4,
            "bin_end": 0.5,
            "count": 0
           },
           {
            "bin_start": 0.5,
            "bin_end": 0.6000000000000001,
            "count": 0
           },
           {
            "bin_start": 0.6000000000000001,
            "bin_end": 0.7000000000000001,
            "count": 0
           },
           {
            "bin_start": 0.7000000000000001,
            "bin_end": 0.8,
            "count": 0
           },
           {
            "bin_start": 0.8,
            "bin_end": 0.9,
            "count": 0
           },
           {
            "bin_start": 0.9,
            "bin_end": 1,
            "count": 1
           }
          ]
         }
        },
        {
         "name": "House_Age",
         "dtype": "int64",
         "stats": {
          "unique_count": 5,
          "nan_count": 0,
          "min": "8",
          "max": "70",
          "histogram": [
           {
            "bin_start": 8,
            "bin_end": 14.2,
            "count": 1
           },
           {
            "bin_start": 14.2,
            "bin_end": 20.4,
            "count": 0
           },
           {
            "bin_start": 20.4,
            "bin_end": 26.6,
            "count": 0
           },
           {
            "bin_start": 26.6,
            "bin_end": 32.8,
            "count": 0
           },
           {
            "bin_start": 32.8,
            "bin_end": 39,
            "count": 2
           },
           {
            "bin_start": 39,
            "bin_end": 45.2,
            "count": 1
           },
           {
            "bin_start": 45.2,
            "bin_end": 51.4,
            "count": 0
           },
           {
            "bin_start": 51.4,
            "bin_end": 57.6,
            "count": 0
           },
           {
            "bin_start": 57.6,
            "bin_end": 63.800000000000004,
            "count": 0
           },
           {
            "bin_start": 63.800000000000004,
            "bin_end": 70,
            "count": 1
           }
          ]
         }
        },
        {
         "name": "Walkability",
         "dtype": "float64",
         "stats": {
          "unique_count": 4,
          "nan_count": 0,
          "min": "5.0",
          "max": "8.0",
          "histogram": [
           {
            "bin_start": 5,
            "bin_end": 5.3,
            "count": 1
           },
           {
            "bin_start": 5.3,
            "bin_end": 5.6,
            "count": 0
           },
           {
            "bin_start": 5.6,
            "bin_end": 5.9,
            "count": 0
           },
           {
            "bin_start": 5.9,
            "bin_end": 6.2,
            "count": 1
           },
           {
            "bin_start": 6.2,
            "bin_end": 6.5,
            "count": 0
           },
           {
            "bin_start": 6.5,
            "bin_end": 6.8,
            "count": 0
           },
           {
            "bin_start": 6.8,
            "bin_end": 7.1,
            "count": 2
           },
           {
            "bin_start": 7.1,
            "bin_end": 7.4,
            "count": 0
           },
           {
            "bin_start": 7.4,
            "bin_end": 7.699999999999999,
            "count": 0
           },
           {
            "bin_start": 7.699999999999999,
            "bin_end": 8,
            "count": 1
           }
          ]
         }
        },
        {
         "name": "Crime_Rate",
         "dtype": "int64",
         "stats": {
          "unique_count": 4,
          "nan_count": 0,
          "min": "4",
          "max": "8",
          "histogram": [
           {
            "bin_start": 4,
            "bin_end": 4.4,
            "count": 1
           },
           {
            "bin_start": 4.4,
            "bin_end": 4.8,
            "count": 0
           },
           {
            "bin_start": 4.8,
            "bin_end": 5.2,
            "count": 1
           },
           {
            "bin_start": 5.2,
            "bin_end": 5.6,
            "count": 0
           },
           {
            "bin_start": 5.6,
            "bin_end": 6,
            "count": 0
           },
           {
            "bin_start": 6,
            "bin_end": 6.4,
            "count": 2
           },
           {
            "bin_start": 6.4,
            "bin_end": 6.800000000000001,
            "count": 0
           },
           {
            "bin_start": 6.800000000000001,
            "bin_end": 7.2,
            "count": 0
           },
           {
            "bin_start": 7.2,
            "bin_end": 7.6,
            "count": 0
           },
           {
            "bin_start": 7.6,
            "bin_end": 8,
            "count": 1
           }
          ]
         }
        },
        {
         "name": "Zipcode",
         "dtype": "int64",
         "stats": {
          "unique_count": 3,
          "nan_count": 0,
          "min": "20104",
          "max": "20182",
          "histogram": [
           {
            "bin_start": 20104,
            "bin_end": 20111.8,
            "count": 1
           },
           {
            "bin_start": 20111.8,
            "bin_end": 20119.6,
            "count": 0
           },
           {
            "bin_start": 20119.6,
            "bin_end": 20127.4,
            "count": 0
           },
           {
            "bin_start": 20127.4,
            "bin_end": 20135.2,
            "count": 0
           },
           {
            "bin_start": 20135.2,
            "bin_end": 20143,
            "count": 1
           },
           {
            "bin_start": 20143,
            "bin_end": 20150.8,
            "count": 0
           },
           {
            "bin_start": 20150.8,
            "bin_end": 20158.6,
            "count": 0
           },
           {
            "bin_start": 20158.6,
            "bin_end": 20166.4,
            "count": 0
           },
           {
            "bin_start": 20166.4,
            "bin_end": 20174.2,
            "count": 0
           },
           {
            "bin_start": 20174.2,
            "bin_end": 20182,
            "count": 3
           }
          ]
         }
        },
        {
         "name": "House_Price",
         "dtype": "float64",
         "stats": {
          "unique_count": 5,
          "nan_count": 0,
          "min": "6411000.0",
          "max": "15332000.0",
          "histogram": [
           {
            "bin_start": 6411000,
            "bin_end": 7303100,
            "count": 1
           },
           {
            "bin_start": 7303100,
            "bin_end": 8195200,
            "count": 0
           },
           {
            "bin_start": 8195200,
            "bin_end": 9087300,
            "count": 2
           },
           {
            "bin_start": 9087300,
            "bin_end": 9979400,
            "count": 1
           },
           {
            "bin_start": 9979400,
            "bin_end": 10871500,
            "count": 0
           },
           {
            "bin_start": 10871500,
            "bin_end": 11763600,
            "count": 0
           },
           {
            "bin_start": 11763600,
            "bin_end": 12655700,
            "count": 0
           },
           {
            "bin_start": 12655700,
            "bin_end": 13547800,
            "count": 0
           },
           {
            "bin_start": 13547800,
            "bin_end": 14439900,
            "count": 0
           },
           {
            "bin_start": 14439900,
            "bin_end": 15332000,
            "count": 1
           }
          ]
         }
        },
        {
         "name": "_deepnote_index_column",
         "dtype": "int64"
        }
       ],
       "rows_top": [
        {
         "Unnamed: 0": 0,
         "School_Rating": 8,
         "House_Area": 3672,
         "Lot_Area": 7364,
         "Room_No": 5,
         "Bath_No": 5,
         "Garage": 1,
         "Pool": 0,
         "House_Age": 8,
         "Walkability": 8,
         "Crime_Rate": 4,
         "Zipcode": 20104,
         "House_Price": 15332000,
         "_deepnote_index_column": 0
        },
        {
         "Unnamed: 0": 1,
         "School_Rating": 6,
         "House_Area": 1743,
         "Lot_Area": 3893,
         "Room_No": 2,
         "Bath_No": 2,
         "Garage": 0,
         "Pool": 0,
         "House_Age": 33,
         "Walkability": 5,
         "Crime_Rate": 8,
         "Zipcode": 20140,
         "House_Price": 6411000,
         "_deepnote_index_column": 1
        },
        {
         "Unnamed: 0": 2,
         "School_Rating": 8,
         "House_Area": 2242,
         "Lot_Area": 5199,
         "Room_No": 3,
         "Bath_No": 3,
         "Garage": 1,
         "Pool": 0,
         "House_Age": 34,
         "Walkability": 7,
         "Crime_Rate": 6,
         "Zipcode": 20182,
         "House_Price": 8931000,
         "_deepnote_index_column": 2
        },
        {
         "Unnamed: 0": 3,
         "School_Rating": 8,
         "House_Area": 2257,
         "Lot_Area": 4699,
         "Room_No": 3,
         "Bath_No": 3,
         "Garage": 0,
         "Pool": 1,
         "House_Age": 42,
         "Walkability": 6,
         "Crime_Rate": 5,
         "Zipcode": 20182,
         "House_Price": 8662000,
         "_deepnote_index_column": 3
        },
        {
         "Unnamed: 0": 4,
         "School_Rating": 8,
         "House_Area": 2436,
         "Lot_Area": 5200,
         "Room_No": 3,
         "Bath_No": 3,
         "Garage": 1,
         "Pool": 0,
         "House_Age": 70,
         "Walkability": 7,
         "Crime_Rate": 6,
         "Zipcode": 20182,
         "House_Price": 9098000,
         "_deepnote_index_column": 4
        }
       ],
       "rows_bottom": null
      },
      "text/plain": "   Unnamed: 0  School_Rating  House_Area  Lot_Area  Room_No  Bath_No  Garage  \\\n0           0              8        3672      7364      5.0      5.0     1.0   \n1           1              6        1743      3893      2.0      2.0     0.0   \n2           2              8        2242      5199      3.0      3.0     1.0   \n3           3              8        2257      4699      3.0      3.0     0.0   \n4           4              8        2436      5200      3.0      3.0     1.0   \n\n   Pool  House_Age  Walkability  Crime_Rate  Zipcode  House_Price  \n0   0.0          8          8.0           4    20104   15332000.0  \n1   0.0         33          5.0           8    20140    6411000.0  \n2   0.0         34          7.0           6    20182    8931000.0  \n3   1.0         42          6.0           5    20182    8662000.0  \n4   0.0         70          7.0           6    20182    9098000.0  ",
      "text/html": "<div>\n<style scoped>\n    .dataframe tbody tr th:only-of-type {\n        vertical-align: middle;\n    }\n\n    .dataframe tbody tr th {\n        vertical-align: top;\n    }\n\n    .dataframe thead th {\n        text-align: right;\n    }\n</style>\n<table border=\"1\" class=\"dataframe\">\n  <thead>\n    <tr style=\"text-align: right;\">\n      <th></th>\n      <th>Unnamed: 0</th>\n      <th>School_Rating</th>\n      <th>House_Area</th>\n      <th>Lot_Area</th>\n      <th>Room_No</th>\n      <th>Bath_No</th>\n      <th>Garage</th>\n      <th>Pool</th>\n      <th>House_Age</th>\n      <th>Walkability</th>\n      <th>Crime_Rate</th>\n      <th>Zipcode</th>\n      <th>House_Price</th>\n    </tr>\n  </thead>\n  <tbody>\n    <tr>\n      <th>0</th>\n      <td>0</td>\n      <td>8</td>\n      <td>3672</td>\n      <td>7364</td>\n      <td>5.0</td>\n      <td>5.0</td>\n      <td>1.0</td>\n      <td>0.0</td>\n      <td>8</td>\n      <td>8.0</td>\n      <td>4</td>\n      <td>20104</td>\n      <td>15332000.0</td>\n    </tr>\n    <tr>\n      <th>1</th>\n      <td>1</td>\n      <td>6</td>\n      <td>1743</td>\n      <td>3893</td>\n      <td>2.0</td>\n      <td>2.0</td>\n      <td>0.0</td>\n      <td>0.0</td>\n      <td>33</td>\n      <td>5.0</td>\n      <td>8</td>\n      <td>20140</td>\n      <td>6411000.0</td>\n    </tr>\n    <tr>\n      <th>2</th>\n      <td>2</td>\n      <td>8</td>\n      <td>2242</td>\n      <td>5199</td>\n      <td>3.0</td>\n      <td>3.0</td>\n      <td>1.0</td>\n      <td>0.0</td>\n      <td>34</td>\n      <td>7.0</td>\n      <td>6</td>\n      <td>20182</td>\n      <td>8931000.0</td>\n    </tr>\n    <tr>\n      <th>3</th>\n      <td>3</td>\n      <td>8</td>\n      <td>2257</td>\n      <td>4699</td>\n      <td>3.0</td>\n      <td>3.0</td>\n      <td>0.0</td>\n      <td>1.0</td>\n      <td>42</td>\n      <td>6.0</td>\n      <td>5</td>\n      <td>20182</td>\n      <td>8662000.0</td>\n    </tr>\n    <tr>\n      <th>4</th>\n      <td>4</td>\n      <td>8</td>\n      <td>2436</td>\n      <td>5200</td>\n      <td>3.0</td>\n      <td>3.0</td>\n      <td>1.0</td>\n      <td>0.0</td>\n      <td>70</td>\n      <td>7.0</td>\n      <td>6</td>\n      <td>20182</td>\n      <td>9098000.0</td>\n    </tr>\n  </tbody>\n</table>\n</div>"
     },
     "metadata": {}
    }
   ]
  },
  {
   "cell_type": "code",
   "metadata": {
    "tags": [],
    "cell_id": "00003-30f95647-1900-4a91-8f87-459c651ae0b7",
    "deepnote_to_be_reexecuted": false,
    "source_hash": "770fef3f",
    "execution_start": 1638073232725,
    "execution_millis": 27,
    "deepnote_output_heights": [
     21
    ],
    "deepnote_cell_type": "code"
   },
   "source": "#there are five different zipcodes\ndf.Zipcode.unique()",
   "execution_count": null,
   "outputs": [
    {
     "output_type": "execute_result",
     "execution_count": 3,
     "data": {
      "text/plain": "array([20104, 20140, 20182, 20174, 20119])"
     },
     "metadata": {}
    }
   ]
  },
  {
   "cell_type": "code",
   "metadata": {
    "tags": [],
    "cell_id": "00005-6de4410a-152f-4e1d-88e4-c637044487d9",
    "deepnote_to_be_reexecuted": false,
    "source_hash": "7309bbf2",
    "execution_start": 1638073232761,
    "execution_millis": 35,
    "deepnote_cell_type": "code"
   },
   "source": "#Use the groupby function to group by zipcode\n#then calcualte the mean of each zipcode's crime rate\n#finally sort/list the means by smallest to largest\ndf2 = df.groupby('Zipcode').agg({'Crime_Rate':'mean'}).sort_values(by ='Crime_Rate')\ndf2",
   "execution_count": null,
   "outputs": [
    {
     "output_type": "execute_result",
     "execution_count": 4,
     "data": {
      "application/vnd.deepnote.dataframe.v2+json": {
       "row_count": 5,
       "column_count": 1,
       "columns": [
        {
         "name": "Crime_Rate",
         "dtype": "float64",
         "stats": {
          "unique_count": 5,
          "nan_count": 0,
          "min": "4.283783783783784",
          "max": "6.511904761904762",
          "histogram": [
           {
            "bin_start": 4.283783783783784,
            "bin_end": 4.5065958815958815,
            "count": 2
           },
           {
            "bin_start": 4.5065958815958815,
            "bin_end": 4.72940797940798,
            "count": 1
           },
           {
            "bin_start": 4.72940797940798,
            "bin_end": 4.952220077220078,
            "count": 0
           },
           {
            "bin_start": 4.952220077220078,
            "bin_end": 5.175032175032175,
            "count": 0
           },
           {
            "bin_start": 5.175032175032175,
            "bin_end": 5.397844272844273,
            "count": 0
           },
           {
            "bin_start": 5.397844272844273,
            "bin_end": 5.620656370656371,
            "count": 0
           },
           {
            "bin_start": 5.620656370656371,
            "bin_end": 5.843468468468469,
            "count": 0
           },
           {
            "bin_start": 5.843468468468469,
            "bin_end": 6.066280566280566,
            "count": 0
           },
           {
            "bin_start": 6.066280566280566,
            "bin_end": 6.289092664092664,
            "count": 0
           },
           {
            "bin_start": 6.289092664092664,
            "bin_end": 6.511904761904762,
            "count": 2
           }
          ]
         }
        },
        {
         "name": "_deepnote_index_column",
         "dtype": "int64"
        }
       ],
       "rows_top": [
        {
         "Crime_Rate": 4.283783783783784,
         "_deepnote_index_column": 20104
        },
        {
         "Crime_Rate": 4.5,
         "_deepnote_index_column": 20182
        },
        {
         "Crime_Rate": 4.6103896103896105,
         "_deepnote_index_column": 20119
        },
        {
         "Crime_Rate": 6.368421052631579,
         "_deepnote_index_column": 20174
        },
        {
         "Crime_Rate": 6.511904761904762,
         "_deepnote_index_column": 20140
        }
       ],
       "rows_bottom": null
      },
      "text/plain": "         Crime_Rate\nZipcode            \n20104      4.283784\n20182      4.500000\n20119      4.610390\n20174      6.368421\n20140      6.511905",
      "text/html": "<div>\n<style scoped>\n    .dataframe tbody tr th:only-of-type {\n        vertical-align: middle;\n    }\n\n    .dataframe tbody tr th {\n        vertical-align: top;\n    }\n\n    .dataframe thead th {\n        text-align: right;\n    }\n</style>\n<table border=\"1\" class=\"dataframe\">\n  <thead>\n    <tr style=\"text-align: right;\">\n      <th></th>\n      <th>Crime_Rate</th>\n    </tr>\n    <tr>\n      <th>Zipcode</th>\n      <th></th>\n    </tr>\n  </thead>\n  <tbody>\n    <tr>\n      <th>20104</th>\n      <td>4.283784</td>\n    </tr>\n    <tr>\n      <th>20182</th>\n      <td>4.500000</td>\n    </tr>\n    <tr>\n      <th>20119</th>\n      <td>4.610390</td>\n    </tr>\n    <tr>\n      <th>20174</th>\n      <td>6.368421</td>\n    </tr>\n    <tr>\n      <th>20140</th>\n      <td>6.511905</td>\n    </tr>\n  </tbody>\n</table>\n</div>"
     },
     "metadata": {}
    }
   ]
  },
  {
   "cell_type": "code",
   "metadata": {
    "tags": [],
    "cell_id": "00005-8967d80e-a602-479c-9bfe-11c936d4a379",
    "deepnote_to_be_reexecuted": false,
    "source_hash": "99ba7097",
    "execution_start": 1638073232800,
    "execution_millis": 19,
    "deepnote_cell_type": "code"
   },
   "source": "print(\"The zipcode 20140 has the highest crime rate of 6.5 percent.\")",
   "execution_count": null,
   "outputs": [
    {
     "name": "stdout",
     "text": "The zipcode 20140 has the highest crime rate of 6.5 percent.\n",
     "output_type": "stream"
    }
   ]
  },
  {
   "cell_type": "markdown",
   "source": "#### 2. Calculate the average house price for each zip code, and determine the zipcode with lowest average house price. Do you see a pattern?",
   "metadata": {
    "tags": [],
    "cell_id": "00006-58e35960-f6dd-4d88-bf67-54e3b5007e2a",
    "deepnote_cell_type": "markdown"
   }
  },
  {
   "cell_type": "code",
   "metadata": {
    "tags": [],
    "cell_id": "00007-e5acd389-b5be-4f46-a477-9dc9574fd92f",
    "deepnote_to_be_reexecuted": false,
    "source_hash": "d392eed4",
    "execution_start": 1638073232827,
    "execution_millis": 30,
    "deepnote_cell_type": "code"
   },
   "source": "df3 = df.groupby('Zipcode').agg({'House_Price':'mean'}).sort_values(by ='House_Price')\ndf3\n",
   "execution_count": null,
   "outputs": [
    {
     "output_type": "execute_result",
     "execution_count": 6,
     "data": {
      "application/vnd.deepnote.dataframe.v2+json": {
       "row_count": 5,
       "column_count": 1,
       "columns": [
        {
         "name": "House_Price",
         "dtype": "float64",
         "stats": {
          "unique_count": 5,
          "nan_count": 0,
          "min": "10306178.57142857",
          "max": "10901485.714285715",
          "histogram": [
           {
            "bin_start": 10306178.57142857,
            "bin_end": 10365709.285714285,
            "count": 1
           },
           {
            "bin_start": 10365709.285714285,
            "bin_end": 10425240,
            "count": 0
           },
           {
            "bin_start": 10425240,
            "bin_end": 10484770.714285715,
            "count": 0
           },
           {
            "bin_start": 10484770.714285715,
            "bin_end": 10544301.42857143,
            "count": 0
           },
           {
            "bin_start": 10544301.42857143,
            "bin_end": 10603832.142857142,
            "count": 0
           },
           {
            "bin_start": 10603832.142857142,
            "bin_end": 10663362.857142856,
            "count": 1
           },
           {
            "bin_start": 10663362.857142856,
            "bin_end": 10722893.57142857,
            "count": 0
           },
           {
            "bin_start": 10722893.57142857,
            "bin_end": 10782424.285714285,
            "count": 0
           },
           {
            "bin_start": 10782424.285714285,
            "bin_end": 10841955,
            "count": 1
           },
           {
            "bin_start": 10841955,
            "bin_end": 10901485.714285715,
            "count": 2
           }
          ]
         }
        },
        {
         "name": "_deepnote_index_column",
         "dtype": "int64"
        }
       ],
       "rows_top": [
        {
         "House_Price": 10306178.57142857,
         "_deepnote_index_column": 20140
        },
        {
         "House_Price": 10637042.105263159,
         "_deepnote_index_column": 20174
        },
        {
         "House_Price": 10832540.54054054,
         "_deepnote_index_column": 20104
        },
        {
         "House_Price": 10872129.87012987,
         "_deepnote_index_column": 20119
        },
        {
         "House_Price": 10901485.714285715,
         "_deepnote_index_column": 20182
        }
       ],
       "rows_bottom": null
      },
      "text/plain": "          House_Price\nZipcode              \n20140    1.030618e+07\n20174    1.063704e+07\n20104    1.083254e+07\n20119    1.087213e+07\n20182    1.090149e+07",
      "text/html": "<div>\n<style scoped>\n    .dataframe tbody tr th:only-of-type {\n        vertical-align: middle;\n    }\n\n    .dataframe tbody tr th {\n        vertical-align: top;\n    }\n\n    .dataframe thead th {\n        text-align: right;\n    }\n</style>\n<table border=\"1\" class=\"dataframe\">\n  <thead>\n    <tr style=\"text-align: right;\">\n      <th></th>\n      <th>House_Price</th>\n    </tr>\n    <tr>\n      <th>Zipcode</th>\n      <th></th>\n    </tr>\n  </thead>\n  <tbody>\n    <tr>\n      <th>20140</th>\n      <td>1.030618e+07</td>\n    </tr>\n    <tr>\n      <th>20174</th>\n      <td>1.063704e+07</td>\n    </tr>\n    <tr>\n      <th>20104</th>\n      <td>1.083254e+07</td>\n    </tr>\n    <tr>\n      <th>20119</th>\n      <td>1.087213e+07</td>\n    </tr>\n    <tr>\n      <th>20182</th>\n      <td>1.090149e+07</td>\n    </tr>\n  </tbody>\n</table>\n</div>"
     },
     "metadata": {}
    }
   ]
  },
  {
   "cell_type": "code",
   "metadata": {
    "tags": [],
    "cell_id": "00008-47e08bef-3604-4f5b-80a4-95444a0a970f",
    "deepnote_to_be_reexecuted": false,
    "source_hash": "256e58e5",
    "execution_start": 1638073232857,
    "execution_millis": 19,
    "deepnote_cell_type": "code"
   },
   "source": "print(\"The zipcode 20140 has the lowest average house price of 10306178.\\nThere seems to be an inverse relationship between house price and crime rate, as the two zipcodes with a higher relative crime rate also have a lower relative house price.\")",
   "execution_count": null,
   "outputs": [
    {
     "name": "stdout",
     "text": "The zipcode 20140 has the lowest average house price of 10306178.\nThere seems to be an inverse relationship between house price and crime rate, as the two zipcodes with a higher relative crime rate also have a lower relative house price.\n",
     "output_type": "stream"
    }
   ]
  },
  {
   "cell_type": "markdown",
   "source": "#### 3. What feature has the strongest correlation with the \"School_Rating\"?",
   "metadata": {
    "tags": [],
    "cell_id": "00009-fe739c7f-e07d-47f8-99ee-c99f2072241c",
    "deepnote_cell_type": "markdown"
   }
  },
  {
   "cell_type": "code",
   "metadata": {
    "tags": [],
    "cell_id": "00009-dc4ab4e9-2425-4adb-912e-8813e63dddcb",
    "deepnote_to_be_reexecuted": false,
    "source_hash": "f8453a83",
    "execution_start": 1638073232888,
    "execution_millis": 114,
    "deepnote_output_heights": [
     409
    ],
    "deepnote_cell_type": "code"
   },
   "source": "df.corr()",
   "execution_count": null,
   "outputs": [
    {
     "output_type": "execute_result",
     "execution_count": 8,
     "data": {
      "application/vnd.deepnote.dataframe.v2+json": {
       "row_count": 13,
       "column_count": 13,
       "columns": [
        {
         "name": "Unnamed: 0",
         "dtype": "float64",
         "stats": {
          "unique_count": 13,
          "nan_count": 0,
          "min": "-0.08184789701001532",
          "max": "1.0",
          "histogram": [
           {
            "bin_start": -0.08184789701001532,
            "bin_end": 0.026336892690986213,
            "count": 11
           },
           {
            "bin_start": 0.026336892690986213,
            "bin_end": 0.13452168239198775,
            "count": 1
           },
           {
            "bin_start": 0.13452168239198775,
            "bin_end": 0.2427064720929893,
            "count": 0
           },
           {
            "bin_start": 0.2427064720929893,
            "bin_end": 0.3508912617939908,
            "count": 0
           },
           {
            "bin_start": 0.3508912617939908,
            "bin_end": 0.45907605149499237,
            "count": 0
           },
           {
            "bin_start": 0.45907605149499237,
            "bin_end": 0.5672608411959938,
            "count": 0
           },
           {
            "bin_start": 0.5672608411959938,
            "bin_end": 0.6754456308969954,
            "count": 0
           },
           {
            "bin_start": 0.6754456308969954,
            "bin_end": 0.7836304205979969,
            "count": 0
           },
           {
            "bin_start": 0.7836304205979969,
            "bin_end": 0.8918152102989985,
            "count": 0
           },
           {
            "bin_start": 0.8918152102989985,
            "bin_end": 1,
            "count": 1
           }
          ]
         }
        },
        {
         "name": "School_Rating",
         "dtype": "float64",
         "stats": {
          "unique_count": 13,
          "nan_count": 0,
          "min": "-0.6519579753677722",
          "max": "1.0",
          "histogram": [
           {
            "bin_start": -0.6519579753677722,
            "bin_end": -0.486762177830995,
            "count": 1
           },
           {
            "bin_start": -0.486762177830995,
            "bin_end": -0.3215663802942178,
            "count": 1
           },
           {
            "bin_start": -0.3215663802942178,
            "bin_end": -0.1563705827574406,
            "count": 0
           },
           {
            "bin_start": -0.1563705827574406,
            "bin_end": 0.008825214779336621,
            "count": 6
           },
           {
            "bin_start": 0.008825214779336621,
            "bin_end": 0.1740210123161139,
            "count": 3
           },
           {
            "bin_start": 0.1740210123161139,
            "bin_end": 0.33921680985289104,
            "count": 0
           },
           {
            "bin_start": 0.33921680985289104,
            "bin_end": 0.5044126073896682,
            "count": 1
           },
           {
            "bin_start": 0.5044126073896682,
            "bin_end": 0.6696084049264455,
            "count": 0
           },
           {
            "bin_start": 0.6696084049264455,
            "bin_end": 0.8348042024632227,
            "count": 0
           },
           {
            "bin_start": 0.8348042024632227,
            "bin_end": 1,
            "count": 1
           }
          ]
         }
        },
        {
         "name": "House_Area",
         "dtype": "float64",
         "stats": {
          "unique_count": 13,
          "nan_count": 0,
          "min": "-0.001420915400566004",
          "max": "1.0",
          "histogram": [
           {
            "bin_start": -0.001420915400566004,
            "bin_end": 0.0987211761394906,
            "count": 7
           },
           {
            "bin_start": 0.0987211761394906,
            "bin_end": 0.1988632676795472,
            "count": 1
           },
           {
            "bin_start": 0.1988632676795472,
            "bin_end": 0.2990053592196038,
            "count": 0
           },
           {
            "bin_start": 0.2990053592196038,
            "bin_end": 0.3991474507596604,
            "count": 0
           },
           {
            "bin_start": 0.3991474507596604,
            "bin_end": 0.499289542299717,
            "count": 0
           },
           {
            "bin_start": 0.499289542299717,
            "bin_end": 0.5994316338397736,
            "count": 0
           },
           {
            "bin_start": 0.5994316338397736,
            "bin_end": 0.6995737253798302,
            "count": 1
           },
           {
            "bin_start": 0.6995737253798302,
            "bin_end": 0.7997158169198868,
            "count": 0
           },
           {
            "bin_start": 0.7997158169198868,
            "bin_end": 0.8998579084599434,
            "count": 1
           },
           {
            "bin_start": 0.8998579084599434,
            "bin_end": 1,
            "count": 3
           }
          ]
         }
        },
        {
         "name": "Lot_Area",
         "dtype": "float64",
         "stats": {
          "unique_count": 13,
          "nan_count": 0,
          "min": "-0.04643826388096345",
          "max": "1.0",
          "histogram": [
           {
            "bin_start": -0.04643826388096345,
            "bin_end": 0.05820556250713291,
            "count": 7
           },
           {
            "bin_start": 0.05820556250713291,
            "bin_end": 0.16284938889522926,
            "count": 1
           },
           {
            "bin_start": 0.16284938889522926,
            "bin_end": 0.26749321528332565,
            "count": 0
           },
           {
            "bin_start": 0.26749321528332565,
            "bin_end": 0.372137041671422,
            "count": 0
           },
           {
            "bin_start": 0.372137041671422,
            "bin_end": 0.4767808680595183,
            "count": 0
           },
           {
            "bin_start": 0.4767808680595183,
            "bin_end": 0.5814246944476147,
            "count": 0
           },
           {
            "bin_start": 0.5814246944476147,
            "bin_end": 0.6860685208357111,
            "count": 2
           },
           {
            "bin_start": 0.6860685208357111,
            "bin_end": 0.7907123472238073,
            "count": 1
           },
           {
            "bin_start": 0.7907123472238073,
            "bin_end": 0.8953561736119038,
            "count": 1
           },
           {
            "bin_start": 0.8953561736119038,
            "bin_end": 1,
            "count": 1
           }
          ]
         }
        },
        {
         "name": "Room_No",
         "dtype": "float64",
         "stats": {
          "unique_count": 13,
          "nan_count": 0,
          "min": "-0.012670875547446819",
          "max": "1.0",
          "histogram": [
           {
            "bin_start": -0.012670875547446819,
            "bin_end": 0.08859621200729785,
            "count": 7
           },
           {
            "bin_start": 0.08859621200729785,
            "bin_end": 0.18986329956204254,
            "count": 1
           },
           {
            "bin_start": 0.18986329956204254,
            "bin_end": 0.2911303871167872,
            "count": 0
           },
           {
            "bin_start": 0.2911303871167872,
            "bin_end": 0.39239747467153185,
            "count": 0
           },
           {
            "bin_start": 0.39239747467153185,
            "bin_end": 0.4936645622262765,
            "count": 0
           },
           {
            "bin_start": 0.4936645622262765,
            "bin_end": 0.5949316497810212,
            "count": 0
           },
           {
            "bin_start": 0.5949316497810212,
            "bin_end": 0.6961987373357659,
            "count": 1
           },
           {
            "bin_start": 0.6961987373357659,
            "bin_end": 0.7974658248905105,
            "count": 0
           },
           {
            "bin_start": 0.7974658248905105,
            "bin_end": 0.8987329124452552,
            "count": 1
           },
           {
            "bin_start": 0.8987329124452552,
            "bin_end": 1,
            "count": 3
           }
          ]
         }
        },
        {
         "name": "Bath_No",
         "dtype": "float64",
         "stats": {
          "unique_count": 13,
          "nan_count": 0,
          "min": "-0.01538375937036293",
          "max": "1.0",
          "histogram": [
           {
            "bin_start": -0.01538375937036293,
            "bin_end": 0.08615461656667336,
            "count": 7
           },
           {
            "bin_start": 0.08615461656667336,
            "bin_end": 0.18769299250370966,
            "count": 1
           },
           {
            "bin_start": 0.18769299250370966,
            "bin_end": 0.289231368440746,
            "count": 0
           },
           {
            "bin_start": 0.289231368440746,
            "bin_end": 0.3907697443777823,
            "count": 0
           },
           {
            "bin_start": 0.3907697443777823,
            "bin_end": 0.4923081203148186,
            "count": 0
           },
           {
            "bin_start": 0.4923081203148186,
            "bin_end": 0.5938464962518548,
            "count": 0
           },
           {
            "bin_start": 0.5938464962518548,
            "bin_end": 0.6953848721888911,
            "count": 1
           },
           {
            "bin_start": 0.6953848721888911,
            "bin_end": 0.7969232481259274,
            "count": 0
           },
           {
            "bin_start": 0.7969232481259274,
            "bin_end": 0.8984616240629637,
            "count": 2
           },
           {
            "bin_start": 0.8984616240629637,
            "bin_end": 1,
            "count": 2
           }
          ]
         }
        },
        {
         "name": "Garage",
         "dtype": "float64",
         "stats": {
          "unique_count": 13,
          "nan_count": 0,
          "min": "-0.0751108117188022",
          "max": "1.0",
          "histogram": [
           {
            "bin_start": -0.0751108117188022,
            "bin_end": 0.032400269453078015,
            "count": 7
           },
           {
            "bin_start": 0.032400269453078015,
            "bin_end": 0.13991135062495824,
            "count": 4
           },
           {
            "bin_start": 0.13991135062495824,
            "bin_end": 0.24742243179683843,
            "count": 1
           },
           {
            "bin_start": 0.24742243179683843,
            "bin_end": 0.35493351296871867,
            "count": 0
           },
           {
            "bin_start": 0.35493351296871867,
            "bin_end": 0.4624445941405989,
            "count": 0
           },
           {
            "bin_start": 0.4624445941405989,
            "bin_end": 0.569955675312479,
            "count": 0
           },
           {
            "bin_start": 0.569955675312479,
            "bin_end": 0.6774667564843593,
            "count": 0
           },
           {
            "bin_start": 0.6774667564843593,
            "bin_end": 0.7849778376562395,
            "count": 0
           },
           {
            "bin_start": 0.7849778376562395,
            "bin_end": 0.8924889188281198,
            "count": 0
           },
           {
            "bin_start": 0.8924889188281198,
            "bin_end": 1,
            "count": 1
           }
          ]
         }
        },
        {
         "name": "Pool",
         "dtype": "float64",
         "stats": {
          "unique_count": 13,
          "nan_count": 0,
          "min": "-0.052538244036146306",
          "max": "1.0",
          "histogram": [
           {
            "bin_start": -0.052538244036146306,
            "bin_end": 0.05271558036746833,
            "count": 9
           },
           {
            "bin_start": 0.05271558036746833,
            "bin_end": 0.15796940477108296,
            "count": 3
           },
           {
            "bin_start": 0.15796940477108296,
            "bin_end": 0.2632232291746976,
            "count": 0
           },
           {
            "bin_start": 0.2632232291746976,
            "bin_end": 0.36847705357831223,
            "count": 0
           },
           {
            "bin_start": 0.36847705357831223,
            "bin_end": 0.47373087798192687,
            "count": 0
           },
           {
            "bin_start": 0.47373087798192687,
            "bin_end": 0.5789847023855416,
            "count": 0
           },
           {
            "bin_start": 0.5789847023855416,
            "bin_end": 0.6842385267891562,
            "count": 0
           },
           {
            "bin_start": 0.6842385267891562,
            "bin_end": 0.7894923511927708,
            "count": 0
           },
           {
            "bin_start": 0.7894923511927708,
            "bin_end": 0.8947461755963855,
            "count": 0
           },
           {
            "bin_start": 0.8947461755963855,
            "bin_end": 1,
            "count": 1
           }
          ]
         }
        },
        {
         "name": "House_Age",
         "dtype": "float64",
         "stats": {
          "unique_count": 13,
          "nan_count": 0,
          "min": "-0.11487450623907482",
          "max": "1.0",
          "histogram": [
           {
            "bin_start": -0.11487450623907482,
            "bin_end": -0.0033870556151673337,
            "count": 5
           },
           {
            "bin_start": -0.0033870556151673337,
            "bin_end": 0.10810039500874015,
            "count": 7
           },
           {
            "bin_start": 0.10810039500874015,
            "bin_end": 0.21958784563264766,
            "count": 0
           },
           {
            "bin_start": 0.21958784563264766,
            "bin_end": 0.33107529625655513,
            "count": 0
           },
           {
            "bin_start": 0.33107529625655513,
            "bin_end": 0.4425627468804626,
            "count": 0
           },
           {
            "bin_start": 0.4425627468804626,
            "bin_end": 0.5540501975043701,
            "count": 0
           },
           {
            "bin_start": 0.5540501975043701,
            "bin_end": 0.6655376481282775,
            "count": 0
           },
           {
            "bin_start": 0.6655376481282775,
            "bin_end": 0.7770250987521851,
            "count": 0
           },
           {
            "bin_start": 0.7770250987521851,
            "bin_end": 0.8885125493760926,
            "count": 0
           },
           {
            "bin_start": 0.8885125493760926,
            "bin_end": 1,
            "count": 1
           }
          ]
         }
        },
        {
         "name": "Walkability",
         "dtype": "float64",
         "stats": {
          "unique_count": 13,
          "nan_count": 0,
          "min": "-0.5974646636881579",
          "max": "1.0",
          "histogram": [
           {
            "bin_start": -0.5974646636881579,
            "bin_end": -0.4377181973193421,
            "count": 1
           },
           {
            "bin_start": -0.4377181973193421,
            "bin_end": -0.2779717309505263,
            "count": 0
           },
           {
            "bin_start": -0.2779717309505263,
            "bin_end": -0.11822526458171051,
            "count": 1
           },
           {
            "bin_start": -0.11822526458171051,
            "bin_end": 0.04152120178710528,
            "count": 7
           },
           {
            "bin_start": 0.04152120178710528,
            "bin_end": 0.201267668155921,
            "count": 2
           },
           {
            "bin_start": 0.201267668155921,
            "bin_end": 0.36101413452473685,
            "count": 0
           },
           {
            "bin_start": 0.36101413452473685,
            "bin_end": 0.5207606008935527,
            "count": 1
           },
           {
            "bin_start": 0.5207606008935527,
            "bin_end": 0.6805070672623684,
            "count": 0
           },
           {
            "bin_start": 0.6805070672623684,
            "bin_end": 0.8402535336311842,
            "count": 0
           },
           {
            "bin_start": 0.8402535336311842,
            "bin_end": 1,
            "count": 1
           }
          ]
         }
        },
        {
         "name": "Crime_Rate",
         "dtype": "float64",
         "stats": {
          "unique_count": 13,
          "nan_count": 0,
          "min": "-0.6519579753677722",
          "max": "1.0",
          "histogram": [
           {
            "bin_start": -0.6519579753677722,
            "bin_end": -0.486762177830995,
            "count": 2
           },
           {
            "bin_start": -0.486762177830995,
            "bin_end": -0.3215663802942178,
            "count": 0
           },
           {
            "bin_start": -0.3215663802942178,
            "bin_end": -0.1563705827574406,
            "count": 0
           },
           {
            "bin_start": -0.1563705827574406,
            "bin_end": 0.008825214779336621,
            "count": 8
           },
           {
            "bin_start": 0.008825214779336621,
            "bin_end": 0.1740210123161139,
            "count": 1
           },
           {
            "bin_start": 0.1740210123161139,
            "bin_end": 0.33921680985289104,
            "count": 1
           },
           {
            "bin_start": 0.33921680985289104,
            "bin_end": 0.5044126073896682,
            "count": 0
           },
           {
            "bin_start": 0.5044126073896682,
            "bin_end": 0.6696084049264455,
            "count": 0
           },
           {
            "bin_start": 0.6696084049264455,
            "bin_end": 0.8348042024632227,
            "count": 0
           },
           {
            "bin_start": 0.8348042024632227,
            "bin_end": 1,
            "count": 1
           }
          ]
         }
        },
        {
         "name": "Zipcode",
         "dtype": "float64",
         "stats": {
          "unique_count": 13,
          "nan_count": 0,
          "min": "-0.4028906290475864",
          "max": "1.0",
          "histogram": [
           {
            "bin_start": -0.4028906290475864,
            "bin_end": -0.2626015661428277,
            "count": 1
           },
           {
            "bin_start": -0.2626015661428277,
            "bin_end": -0.12231250323806908,
            "count": 1
           },
           {
            "bin_start": -0.12231250323806908,
            "bin_end": 0.017976559666689595,
            "count": 5
           },
           {
            "bin_start": 0.017976559666689595,
            "bin_end": 0.15826562257144822,
            "count": 4
           },
           {
            "bin_start": 0.15826562257144822,
            "bin_end": 0.29855468547620684,
            "count": 1
           },
           {
            "bin_start": 0.29855468547620684,
            "bin_end": 0.43884374838096557,
            "count": 0
           },
           {
            "bin_start": 0.43884374838096557,
            "bin_end": 0.5791328112857241,
            "count": 0
           },
           {
            "bin_start": 0.5791328112857241,
            "bin_end": 0.7194218741904828,
            "count": 0
           },
           {
            "bin_start": 0.7194218741904828,
            "bin_end": 0.8597109370952414,
            "count": 0
           },
           {
            "bin_start": 0.8597109370952414,
            "bin_end": 1,
            "count": 1
           }
          ]
         }
        },
        {
         "name": "House_Price",
         "dtype": "float64",
         "stats": {
          "unique_count": 13,
          "nan_count": 0,
          "min": "-0.14280612480240337",
          "max": "1.0",
          "histogram": [
           {
            "bin_start": -0.14280612480240337,
            "bin_end": -0.02852551232216305,
            "count": 1
           },
           {
            "bin_start": -0.02852551232216305,
            "bin_end": 0.08575510015807727,
            "count": 5
           },
           {
            "bin_start": 0.08575510015807727,
            "bin_end": 0.20003571263831757,
            "count": 2
           },
           {
            "bin_start": 0.20003571263831757,
            "bin_end": 0.3143163251185579,
            "count": 0
           },
           {
            "bin_start": 0.3143163251185579,
            "bin_end": 0.42859693759879824,
            "count": 0
           },
           {
            "bin_start": 0.42859693759879824,
            "bin_end": 0.5428775500790385,
            "count": 0
           },
           {
            "bin_start": 0.5428775500790385,
            "bin_end": 0.6571581625592788,
            "count": 0
           },
           {
            "bin_start": 0.6571581625592788,
            "bin_end": 0.7714387750395192,
            "count": 0
           },
           {
            "bin_start": 0.7714387750395192,
            "bin_end": 0.8857193875197594,
            "count": 2
           },
           {
            "bin_start": 0.8857193875197594,
            "bin_end": 1,
            "count": 3
           }
          ]
         }
        },
        {
         "name": "_deepnote_index_column",
         "dtype": "object"
        }
       ],
       "rows_top": [
        {
         "Unnamed: 0": 1,
         "School_Rating": -0.014608373394860102,
         "House_Area": 0.0007593513032043686,
         "Lot_Area": -0.04643826388096345,
         "Room_No": 0.013790409033593043,
         "Bath_No": 0.02414968860722478,
         "Garage": -0.004328786916366685,
         "Pool": -0.00008675911822880155,
         "House_Age": 0.07217386703605387,
         "Walkability": -0.03918042398905683,
         "Crime_Rate": 0.00006485498856993311,
         "Zipcode": -0.08184789701001532,
         "House_Price": -0.02125463221282996,
         "_deepnote_index_column": "Unnamed: 0"
        },
        {
         "Unnamed: 0": -0.014608373394860102,
         "School_Rating": 1,
         "House_Area": 0.0032729614537656483,
         "Lot_Area": -0.012608322594110563,
         "Room_No": 0.005995673554783512,
         "Bath_No": 0.011233851072301723,
         "Garage": 0.016914724780044948,
         "Pool": 0.0013095854347864157,
         "House_Age": -0.11487450623907482,
         "Walkability": 0.37367480477571297,
         "Crime_Rate": -0.6519579753677722,
         "Zipcode": -0.4028906290475864,
         "House_Price": 0.08138203618880836,
         "_deepnote_index_column": "School_Rating"
        },
        {
         "Unnamed: 0": 0.0007593513032043686,
         "School_Rating": 0.0032729614537656483,
         "House_Area": 1,
         "Lot_Area": 0.6921915344535633,
         "Room_No": 0.9566320314457315,
         "Bath_No": 0.8640894941715237,
         "Garage": 0.12680640723976144,
         "Pool": 0.038590249283640396,
         "House_Age": 0.0034957499747023894,
         "Walkability": -0.001420915400566004,
         "Crime_Rate": 0.004004553165821516,
         "Zipcode": 0.05049039240435802,
         "House_Price": 0.9276680657197047,
         "_deepnote_index_column": "House_Area"
        },
        {
         "Unnamed: 0": -0.04643826388096345,
         "School_Rating": -0.012608322594110563,
         "House_Area": 0.6921915344535633,
         "Lot_Area": 1,
         "Room_No": 0.6635065742512987,
         "Bath_No": 0.6283910192744997,
         "Garage": 0.06600498429038246,
         "Pool": 0.03959109665690194,
         "House_Age": 0.0032793143685701034,
         "Walkability": 0.04152654515029924,
         "Crime_Rate": -0.028159557163340825,
         "Zipcode": 0.020761532119359254,
         "House_Price": 0.8758648674168976,
         "_deepnote_index_column": "Lot_Area"
        },
        {
         "Unnamed: 0": 0.013790409033593043,
         "School_Rating": 0.005995673554783512,
         "House_Area": 0.9566320314457315,
         "Lot_Area": 0.6635065742512987,
         "Room_No": 1,
         "Bath_No": 0.8993542192476857,
         "Garage": 0.16062737857366655,
         "Pool": 0.05821589757284257,
         "House_Age": -0.012670875547446819,
         "Walkability": 0.022115994039341242,
         "Crime_Rate": -0.007339642170391638,
         "Zipcode": 0.01887044352432019,
         "House_Price": 0.8925011769134096,
         "_deepnote_index_column": "Room_No"
        },
        {
         "Unnamed: 0": 0.02414968860722478,
         "School_Rating": 0.011233851072301723,
         "House_Area": 0.8640894941715237,
         "Lot_Area": 0.6283910192744997,
         "Room_No": 0.8993542192476857,
         "Bath_No": 1,
         "Garage": 0.12659161738063637,
         "Pool": 0.054423436849305284,
         "House_Age": -0.0011661242863674633,
         "Walkability": 0.0066427077610697735,
         "Crime_Rate": -0.01538375937036293,
         "Zipcode": -0.007732648595361972,
         "House_Price": 0.8167603778585195,
         "_deepnote_index_column": "Bath_No"
        },
        {
         "Unnamed: 0": -0.004328786916366685,
         "School_Rating": 0.016914724780044948,
         "House_Area": 0.12680640723976144,
         "Lot_Area": 0.06600498429038246,
         "Room_No": 0.16062737857366655,
         "Bath_No": 0.12659161738063637,
         "Garage": 1,
         "Pool": -0.00374987760919047,
         "House_Age": -0.048396206890319995,
         "Walkability": 0.021130148288912028,
         "Crime_Rate": -0.028996203876360874,
         "Zipcode": -0.0751108117188022,
         "House_Price": 0.12446651215524901,
         "_deepnote_index_column": "Garage"
        },
        {
         "Unnamed: 0": -0.00008675911822880155,
         "School_Rating": 0.0013095854347864157,
         "House_Area": 0.038590249283640396,
         "Lot_Area": 0.03959109665690194,
         "Room_No": 0.05821589757284257,
         "Bath_No": 0.054423436849305284,
         "Garage": -0.00374987760919047,
         "Pool": 1,
         "House_Age": -0.003237263728661288,
         "Walkability": -0.052538244036146306,
         "Crime_Rate": -0.014437763286124488,
         "Zipcode": -0.01427853619905243,
         "House_Price": 0.05734597169477303,
         "_deepnote_index_column": "Pool"
        },
        {
         "Unnamed: 0": 0.07217386703605387,
         "School_Rating": -0.11487450623907482,
         "House_Area": 0.0034957499747023894,
         "Lot_Area": 0.0032793143685701034,
         "Room_No": -0.012670875547446819,
         "Bath_No": -0.0011661242863674633,
         "Garage": -0.048396206890319995,
         "Pool": -0.003237263728661288,
         "House_Age": 1,
         "Walkability": -0.08750858387700709,
         "Crime_Rate": 0.06593702380827458,
         "Zipcode": 0.10255497058616708,
         "House_Price": -0.016290712003895112,
         "_deepnote_index_column": "House_Age"
        },
        {
         "Unnamed: 0": -0.03918042398905683,
         "School_Rating": 0.37367480477571297,
         "House_Area": -0.001420915400566004,
         "Lot_Area": 0.04152654515029924,
         "Room_No": 0.022115994039341242,
         "Bath_No": 0.0066427077610697735,
         "Garage": 0.021130148288912028,
         "Pool": -0.052538244036146306,
         "House_Age": -0.08750858387700709,
         "Walkability": 1,
         "Crime_Rate": -0.5974646636881579,
         "Zipcode": -0.19196426097224514,
         "House_Price": 0.09987215801144003,
         "_deepnote_index_column": "Walkability"
        },
        {
         "Unnamed: 0": 0.00006485498856993311,
         "School_Rating": -0.6519579753677722,
         "House_Area": 0.004004553165821516,
         "Lot_Area": -0.028159557163340825,
         "Room_No": -0.007339642170391638,
         "Bath_No": -0.01538375937036293,
         "Garage": -0.028996203876360874,
         "Pool": -0.014437763286124488,
         "House_Age": 0.06593702380827458,
         "Walkability": -0.5974646636881579,
         "Crime_Rate": 1,
         "Zipcode": 0.2701894953800248,
         "House_Price": -0.14280612480240337,
         "_deepnote_index_column": "Crime_Rate"
        },
        {
         "Unnamed: 0": -0.08184789701001532,
         "School_Rating": -0.4028906290475864,
         "House_Area": 0.05049039240435802,
         "Lot_Area": 0.020761532119359254,
         "Room_No": 0.01887044352432019,
         "Bath_No": -0.007732648595361972,
         "Garage": -0.0751108117188022,
         "Pool": -0.01427853619905243,
         "House_Age": 0.10255497058616708,
         "Walkability": -0.19196426097224514,
         "Crime_Rate": 0.2701894953800248,
         "Zipcode": 1,
         "House_Price": -0.008307236914392483,
         "_deepnote_index_column": "Zipcode"
        },
        {
         "Unnamed: 0": -0.02125463221282996,
         "School_Rating": 0.08138203618880836,
         "House_Area": 0.9276680657197047,
         "Lot_Area": 0.8758648674168976,
         "Room_No": 0.8925011769134096,
         "Bath_No": 0.8167603778585195,
         "Garage": 0.12446651215524901,
         "Pool": 0.05734597169477303,
         "House_Age": -0.016290712003895112,
         "Walkability": 0.09987215801144003,
         "Crime_Rate": -0.14280612480240337,
         "Zipcode": -0.008307236914392483,
         "House_Price": 1,
         "_deepnote_index_column": "House_Price"
        }
       ],
       "rows_bottom": null
      },
      "text/plain": "               Unnamed: 0  School_Rating  House_Area  Lot_Area   Room_No  \\\nUnnamed: 0       1.000000      -0.014608    0.000759 -0.046438  0.013790   \nSchool_Rating   -0.014608       1.000000    0.003273 -0.012608  0.005996   \nHouse_Area       0.000759       0.003273    1.000000  0.692192  0.956632   \nLot_Area        -0.046438      -0.012608    0.692192  1.000000  0.663507   \nRoom_No          0.013790       0.005996    0.956632  0.663507  1.000000   \nBath_No          0.024150       0.011234    0.864089  0.628391  0.899354   \nGarage          -0.004329       0.016915    0.126806  0.066005  0.160627   \nPool            -0.000087       0.001310    0.038590  0.039591  0.058216   \nHouse_Age        0.072174      -0.114875    0.003496  0.003279 -0.012671   \nWalkability     -0.039180       0.373675   -0.001421  0.041527  0.022116   \nCrime_Rate       0.000065      -0.651958    0.004005 -0.028160 -0.007340   \nZipcode         -0.081848      -0.402891    0.050490  0.020762  0.018870   \nHouse_Price     -0.021255       0.081382    0.927668  0.875865  0.892501   \n\n                Bath_No    Garage      Pool  House_Age  Walkability  \\\nUnnamed: 0     0.024150 -0.004329 -0.000087   0.072174    -0.039180   \nSchool_Rating  0.011234  0.016915  0.001310  -0.114875     0.373675   \nHouse_Area     0.864089  0.126806  0.038590   0.003496    -0.001421   \nLot_Area       0.628391  0.066005  0.039591   0.003279     0.041527   \nRoom_No        0.899354  0.160627  0.058216  -0.012671     0.022116   \nBath_No        1.000000  0.126592  0.054423  -0.001166     0.006643   \nGarage         0.126592  1.000000 -0.003750  -0.048396     0.021130   \nPool           0.054423 -0.003750  1.000000  -0.003237    -0.052538   \nHouse_Age     -0.001166 -0.048396 -0.003237   1.000000    -0.087509   \nWalkability    0.006643  0.021130 -0.052538  -0.087509     1.000000   \nCrime_Rate    -0.015384 -0.028996 -0.014438   0.065937    -0.597465   \nZipcode       -0.007733 -0.075111 -0.014279   0.102555    -0.191964   \nHouse_Price    0.816760  0.124467  0.057346  -0.016291     0.099872   \n\n               Crime_Rate   Zipcode  House_Price  \nUnnamed: 0       0.000065 -0.081848    -0.021255  \nSchool_Rating   -0.651958 -0.402891     0.081382  \nHouse_Area       0.004005  0.050490     0.927668  \nLot_Area        -0.028160  0.020762     0.875865  \nRoom_No         -0.007340  0.018870     0.892501  \nBath_No         -0.015384 -0.007733     0.816760  \nGarage          -0.028996 -0.075111     0.124467  \nPool            -0.014438 -0.014279     0.057346  \nHouse_Age        0.065937  0.102555    -0.016291  \nWalkability     -0.597465 -0.191964     0.099872  \nCrime_Rate       1.000000  0.270189    -0.142806  \nZipcode          0.270189  1.000000    -0.008307  \nHouse_Price     -0.142806 -0.008307     1.000000  ",
      "text/html": "<div>\n<style scoped>\n    .dataframe tbody tr th:only-of-type {\n        vertical-align: middle;\n    }\n\n    .dataframe tbody tr th {\n        vertical-align: top;\n    }\n\n    .dataframe thead th {\n        text-align: right;\n    }\n</style>\n<table border=\"1\" class=\"dataframe\">\n  <thead>\n    <tr style=\"text-align: right;\">\n      <th></th>\n      <th>Unnamed: 0</th>\n      <th>School_Rating</th>\n      <th>House_Area</th>\n      <th>Lot_Area</th>\n      <th>Room_No</th>\n      <th>Bath_No</th>\n      <th>Garage</th>\n      <th>Pool</th>\n      <th>House_Age</th>\n      <th>Walkability</th>\n      <th>Crime_Rate</th>\n      <th>Zipcode</th>\n      <th>House_Price</th>\n    </tr>\n  </thead>\n  <tbody>\n    <tr>\n      <th>Unnamed: 0</th>\n      <td>1.000000</td>\n      <td>-0.014608</td>\n      <td>0.000759</td>\n      <td>-0.046438</td>\n      <td>0.013790</td>\n      <td>0.024150</td>\n      <td>-0.004329</td>\n      <td>-0.000087</td>\n      <td>0.072174</td>\n      <td>-0.039180</td>\n      <td>0.000065</td>\n      <td>-0.081848</td>\n      <td>-0.021255</td>\n    </tr>\n    <tr>\n      <th>School_Rating</th>\n      <td>-0.014608</td>\n      <td>1.000000</td>\n      <td>0.003273</td>\n      <td>-0.012608</td>\n      <td>0.005996</td>\n      <td>0.011234</td>\n      <td>0.016915</td>\n      <td>0.001310</td>\n      <td>-0.114875</td>\n      <td>0.373675</td>\n      <td>-0.651958</td>\n      <td>-0.402891</td>\n      <td>0.081382</td>\n    </tr>\n    <tr>\n      <th>House_Area</th>\n      <td>0.000759</td>\n      <td>0.003273</td>\n      <td>1.000000</td>\n      <td>0.692192</td>\n      <td>0.956632</td>\n      <td>0.864089</td>\n      <td>0.126806</td>\n      <td>0.038590</td>\n      <td>0.003496</td>\n      <td>-0.001421</td>\n      <td>0.004005</td>\n      <td>0.050490</td>\n      <td>0.927668</td>\n    </tr>\n    <tr>\n      <th>Lot_Area</th>\n      <td>-0.046438</td>\n      <td>-0.012608</td>\n      <td>0.692192</td>\n      <td>1.000000</td>\n      <td>0.663507</td>\n      <td>0.628391</td>\n      <td>0.066005</td>\n      <td>0.039591</td>\n      <td>0.003279</td>\n      <td>0.041527</td>\n      <td>-0.028160</td>\n      <td>0.020762</td>\n      <td>0.875865</td>\n    </tr>\n    <tr>\n      <th>Room_No</th>\n      <td>0.013790</td>\n      <td>0.005996</td>\n      <td>0.956632</td>\n      <td>0.663507</td>\n      <td>1.000000</td>\n      <td>0.899354</td>\n      <td>0.160627</td>\n      <td>0.058216</td>\n      <td>-0.012671</td>\n      <td>0.022116</td>\n      <td>-0.007340</td>\n      <td>0.018870</td>\n      <td>0.892501</td>\n    </tr>\n    <tr>\n      <th>Bath_No</th>\n      <td>0.024150</td>\n      <td>0.011234</td>\n      <td>0.864089</td>\n      <td>0.628391</td>\n      <td>0.899354</td>\n      <td>1.000000</td>\n      <td>0.126592</td>\n      <td>0.054423</td>\n      <td>-0.001166</td>\n      <td>0.006643</td>\n      <td>-0.015384</td>\n      <td>-0.007733</td>\n      <td>0.816760</td>\n    </tr>\n    <tr>\n      <th>Garage</th>\n      <td>-0.004329</td>\n      <td>0.016915</td>\n      <td>0.126806</td>\n      <td>0.066005</td>\n      <td>0.160627</td>\n      <td>0.126592</td>\n      <td>1.000000</td>\n      <td>-0.003750</td>\n      <td>-0.048396</td>\n      <td>0.021130</td>\n      <td>-0.028996</td>\n      <td>-0.075111</td>\n      <td>0.124467</td>\n    </tr>\n    <tr>\n      <th>Pool</th>\n      <td>-0.000087</td>\n      <td>0.001310</td>\n      <td>0.038590</td>\n      <td>0.039591</td>\n      <td>0.058216</td>\n      <td>0.054423</td>\n      <td>-0.003750</td>\n      <td>1.000000</td>\n      <td>-0.003237</td>\n      <td>-0.052538</td>\n      <td>-0.014438</td>\n      <td>-0.014279</td>\n      <td>0.057346</td>\n    </tr>\n    <tr>\n      <th>House_Age</th>\n      <td>0.072174</td>\n      <td>-0.114875</td>\n      <td>0.003496</td>\n      <td>0.003279</td>\n      <td>-0.012671</td>\n      <td>-0.001166</td>\n      <td>-0.048396</td>\n      <td>-0.003237</td>\n      <td>1.000000</td>\n      <td>-0.087509</td>\n      <td>0.065937</td>\n      <td>0.102555</td>\n      <td>-0.016291</td>\n    </tr>\n    <tr>\n      <th>Walkability</th>\n      <td>-0.039180</td>\n      <td>0.373675</td>\n      <td>-0.001421</td>\n      <td>0.041527</td>\n      <td>0.022116</td>\n      <td>0.006643</td>\n      <td>0.021130</td>\n      <td>-0.052538</td>\n      <td>-0.087509</td>\n      <td>1.000000</td>\n      <td>-0.597465</td>\n      <td>-0.191964</td>\n      <td>0.099872</td>\n    </tr>\n    <tr>\n      <th>Crime_Rate</th>\n      <td>0.000065</td>\n      <td>-0.651958</td>\n      <td>0.004005</td>\n      <td>-0.028160</td>\n      <td>-0.007340</td>\n      <td>-0.015384</td>\n      <td>-0.028996</td>\n      <td>-0.014438</td>\n      <td>0.065937</td>\n      <td>-0.597465</td>\n      <td>1.000000</td>\n      <td>0.270189</td>\n      <td>-0.142806</td>\n    </tr>\n    <tr>\n      <th>Zipcode</th>\n      <td>-0.081848</td>\n      <td>-0.402891</td>\n      <td>0.050490</td>\n      <td>0.020762</td>\n      <td>0.018870</td>\n      <td>-0.007733</td>\n      <td>-0.075111</td>\n      <td>-0.014279</td>\n      <td>0.102555</td>\n      <td>-0.191964</td>\n      <td>0.270189</td>\n      <td>1.000000</td>\n      <td>-0.008307</td>\n    </tr>\n    <tr>\n      <th>House_Price</th>\n      <td>-0.021255</td>\n      <td>0.081382</td>\n      <td>0.927668</td>\n      <td>0.875865</td>\n      <td>0.892501</td>\n      <td>0.816760</td>\n      <td>0.124467</td>\n      <td>0.057346</td>\n      <td>-0.016291</td>\n      <td>0.099872</td>\n      <td>-0.142806</td>\n      <td>-0.008307</td>\n      <td>1.000000</td>\n    </tr>\n  </tbody>\n</table>\n</div>"
     },
     "metadata": {}
    }
   ]
  },
  {
   "cell_type": "code",
   "metadata": {
    "tags": [],
    "cell_id": "00011-37730df0-b61a-47f9-bb6f-e00c416cedc3",
    "deepnote_to_be_reexecuted": false,
    "source_hash": "d1d4a69c",
    "execution_start": 1638073233004,
    "execution_millis": 22,
    "deepnote_cell_type": "code"
   },
   "source": "print(\"Crime rate has the strongest correlation with school rating.\\nIt's negative, which means it's an inverse relationship (when one increases, the other decreases).\")",
   "execution_count": null,
   "outputs": [
    {
     "name": "stdout",
     "text": "Crime rate has the strongest correlation with school rating.\nIt's negative, which means it's an inverse relationship (when one increases, the other decreases).\n",
     "output_type": "stream"
    }
   ]
  },
  {
   "cell_type": "markdown",
   "source": "#### 4. Split your dataset into two (training 80%, validation (testing) %20, random_state=1). Build a multiple linear regression model to estimate the house price from all the other features we have and calculate the maximum relative error and R^2.",
   "metadata": {
    "tags": [],
    "cell_id": "00012-0eeb3ba6-c7a2-42a0-83e1-0ba5c53405dc",
    "deepnote_cell_type": "markdown"
   }
  },
  {
   "cell_type": "code",
   "metadata": {
    "tags": [],
    "cell_id": "00014-d7381eef-054b-4c15-a681-fa52a8e2e61b",
    "deepnote_to_be_reexecuted": false,
    "source_hash": "df267e98",
    "execution_start": 1638073233035,
    "execution_millis": 17,
    "deepnote_output_heights": [
     78,
     534
    ],
    "deepnote_cell_type": "code"
   },
   "source": "X = df.loc[:,['School_Rating', 'House_Area', 'Lot_Area', 'Room_No', 'Bath_No',\n        'Garage','Pool','House_Age','Walkability','Crime_Rate','Zipcode']].values\nY = df.loc[:,'House_Price'].values\n\nX_train, X_test, Y_train, Y_test = train_test_split(X, Y, test_size = 0.2, random_state=1)\n\n##  Linear Regression Fitting \nmodelz = LinearRegression()\n\n#fit the model\n#modelz.fit(pd.DataFrame(X_train), pd.DataFrame(Y_train))\nmodelz.fit(X_train, Y_train)\n\n# evaluate the model\n#y_test_predict = modelz.predict(pd.DataFrame(X_test))\nyhat = modelz.predict(X_test)\n\n## model evaluation\n#rmse = (np.sqrt(mean_squared_error(Y_test, y_test_predict)))\nmax_relative_error = np.amax(np.absolute(Y_test-yhat)/(np.amax(Y_test)-np.amin(Y_test)))\nprint('max_relative_error (%):', 100*max_relative_error)\n#print('Rsquared:',np.corrcoef(Y_test, yhat)[0,1]**2)\nr2 = r2_score(Y_test, yhat)\nprint('Rsquared:',r2)",
   "execution_count": null,
   "outputs": [
    {
     "name": "stdout",
     "text": "max_relative_error (%): 8.646444337900347\nRsquared: 0.9774507111556614\n",
     "output_type": "stream"
    }
   ]
  },
  {
   "cell_type": "code",
   "metadata": {
    "tags": [],
    "cell_id": "00014-4c7a48b4-ee2f-475e-8486-c9f6520183f9",
    "deepnote_to_be_reexecuted": false,
    "source_hash": "dd58a001",
    "execution_start": 1638073233052,
    "execution_millis": 16,
    "deepnote_cell_type": "code"
   },
   "source": "#very similar alternative of using iloc:\n#XX = df.iloc[:,:-1].values\n#yy = df.iloc[:,-1].values\n#X_train, X_test, y_train, y_test = train_test_split(XX, yy, test_size=0.2, random_state=1)\n# fit the model\n#model = LinearRegression()\n#model.fit(X_train, y_train)\n\n# evaluate the model\n#yhat = model.predict(X_test)\n# evaluate predictions\n#print('MAE:',mean_absolute_error(y_test, yhat))\n#max_relative_error = np.amax(np.absolute(y_test-yhat)/(np.amax(y_test)-np.amin(y_test)))\n#print('max_relative_error (%):', 100*max_relative_error)\n#print('Rsquared:',np.corrcoef(y_test, yhat)[0,1]**2)",
   "execution_count": null,
   "outputs": []
  },
  {
   "cell_type": "markdown",
   "source": "#### 5. Download the new test dataset (https://raw.githubusercontent.com/simsekergun/DATA601/main/2021Fall/datasets/HouseTest.csv), guess the prices of these 10 houses featured in this dataset and print your predictions. Note that this dataset doesn't include \"House_Price\" column which was given in the training dataset.",
   "metadata": {
    "tags": [],
    "cell_id": "00018-66f568a3-4b30-4ef7-b498-89c207e1344c",
    "deepnote_cell_type": "markdown"
   }
  },
  {
   "cell_type": "code",
   "metadata": {
    "tags": [],
    "cell_id": "00019-6b5f59f1-c7b2-4562-aabd-9dba68c00bee",
    "deepnote_to_be_reexecuted": false,
    "source_hash": "1f93028f",
    "execution_start": 1638073233075,
    "execution_millis": 147,
    "deepnote_output_heights": [
     null,
     254
    ],
    "deepnote_cell_type": "code"
   },
   "source": "df_test = pd.read_csv('https://raw.githubusercontent.com/simsekergun/DATA601/main/2021Fall/datasets/HouseTest.csv', index_col= 0)\ndf_test.head() #11 factors ",
   "execution_count": null,
   "outputs": [
    {
     "output_type": "execute_result",
     "execution_count": 12,
     "data": {
      "application/vnd.deepnote.dataframe.v2+json": {
       "row_count": 5,
       "column_count": 11,
       "columns": [
        {
         "name": "School_Rating",
         "dtype": "int64",
         "stats": {
          "unique_count": 4,
          "nan_count": 0,
          "min": "4",
          "max": "9",
          "histogram": [
           {
            "bin_start": 4,
            "bin_end": 4.5,
            "count": 1
           },
           {
            "bin_start": 4.5,
            "bin_end": 5,
            "count": 0
           },
           {
            "bin_start": 5,
            "bin_end": 5.5,
            "count": 0
           },
           {
            "bin_start": 5.5,
            "bin_end": 6,
            "count": 0
           },
           {
            "bin_start": 6,
            "bin_end": 6.5,
            "count": 0
           },
           {
            "bin_start": 6.5,
            "bin_end": 7,
            "count": 0
           },
           {
            "bin_start": 7,
            "bin_end": 7.5,
            "count": 1
           },
           {
            "bin_start": 7.5,
            "bin_end": 8,
            "count": 0
           },
           {
            "bin_start": 8,
            "bin_end": 8.5,
            "count": 2
           },
           {
            "bin_start": 8.5,
            "bin_end": 9,
            "count": 1
           }
          ]
         }
        },
        {
         "name": "House_Area",
         "dtype": "int64",
         "stats": {
          "unique_count": 5,
          "nan_count": 0,
          "min": "1739",
          "max": "3628",
          "histogram": [
           {
            "bin_start": 1739,
            "bin_end": 1927.9,
            "count": 1
           },
           {
            "bin_start": 1927.9,
            "bin_end": 2116.8,
            "count": 2
           },
           {
            "bin_start": 2116.8,
            "bin_end": 2305.7,
            "count": 0
           },
           {
            "bin_start": 2305.7,
            "bin_end": 2494.6,
            "count": 1
           },
           {
            "bin_start": 2494.6,
            "bin_end": 2683.5,
            "count": 0
           },
           {
            "bin_start": 2683.5,
            "bin_end": 2872.4,
            "count": 0
           },
           {
            "bin_start": 2872.4,
            "bin_end": 3061.3,
            "count": 0
           },
           {
            "bin_start": 3061.3,
            "bin_end": 3250.2,
            "count": 0
           },
           {
            "bin_start": 3250.2,
            "bin_end": 3439.1000000000004,
            "count": 0
           },
           {
            "bin_start": 3439.1000000000004,
            "bin_end": 3628,
            "count": 1
           }
          ]
         }
        },
        {
         "name": "Lot_Area",
         "dtype": "int64",
         "stats": {
          "unique_count": 5,
          "nan_count": 0,
          "min": "4715",
          "max": "6227",
          "histogram": [
           {
            "bin_start": 4715,
            "bin_end": 4866.2,
            "count": 1
           },
           {
            "bin_start": 4866.2,
            "bin_end": 5017.4,
            "count": 0
           },
           {
            "bin_start": 5017.4,
            "bin_end": 5168.6,
            "count": 0
           },
           {
            "bin_start": 5168.6,
            "bin_end": 5319.8,
            "count": 0
           },
           {
            "bin_start": 5319.8,
            "bin_end": 5471,
            "count": 1
           },
           {
            "bin_start": 5471,
            "bin_end": 5622.2,
            "count": 1
           },
           {
            "bin_start": 5622.2,
            "bin_end": 5773.4,
            "count": 1
           },
           {
            "bin_start": 5773.4,
            "bin_end": 5924.6,
            "count": 0
           },
           {
            "bin_start": 5924.6,
            "bin_end": 6075.8,
            "count": 0
           },
           {
            "bin_start": 6075.8,
            "bin_end": 6227,
            "count": 1
           }
          ]
         }
        },
        {
         "name": "Room_No",
         "dtype": "float64",
         "stats": {
          "unique_count": 3,
          "nan_count": 0,
          "min": "2.0",
          "max": "5.0",
          "histogram": [
           {
            "bin_start": 2,
            "bin_end": 2.3,
            "count": 1
           },
           {
            "bin_start": 2.3,
            "bin_end": 2.6,
            "count": 0
           },
           {
            "bin_start": 2.6,
            "bin_end": 2.9,
            "count": 0
           },
           {
            "bin_start": 2.9,
            "bin_end": 3.2,
            "count": 3
           },
           {
            "bin_start": 3.2,
            "bin_end": 3.5,
            "count": 0
           },
           {
            "bin_start": 3.5,
            "bin_end": 3.8,
            "count": 0
           },
           {
            "bin_start": 3.8,
            "bin_end": 4.1,
            "count": 0
           },
           {
            "bin_start": 4.1,
            "bin_end": 4.4,
            "count": 0
           },
           {
            "bin_start": 4.4,
            "bin_end": 4.699999999999999,
            "count": 0
           },
           {
            "bin_start": 4.699999999999999,
            "bin_end": 5,
            "count": 1
           }
          ]
         }
        },
        {
         "name": "Bath_No",
         "dtype": "float64",
         "stats": {
          "unique_count": 3,
          "nan_count": 0,
          "min": "2.0",
          "max": "5.0",
          "histogram": [
           {
            "bin_start": 2,
            "bin_end": 2.3,
            "count": 3
           },
           {
            "bin_start": 2.3,
            "bin_end": 2.6,
            "count": 0
           },
           {
            "bin_start": 2.6,
            "bin_end": 2.9,
            "count": 0
           },
           {
            "bin_start": 2.9,
            "bin_end": 3.2,
            "count": 1
           },
           {
            "bin_start": 3.2,
            "bin_end": 3.5,
            "count": 0
           },
           {
            "bin_start": 3.5,
            "bin_end": 3.8,
            "count": 0
           },
           {
            "bin_start": 3.8,
            "bin_end": 4.1,
            "count": 0
           },
           {
            "bin_start": 4.1,
            "bin_end": 4.4,
            "count": 0
           },
           {
            "bin_start": 4.4,
            "bin_end": 4.699999999999999,
            "count": 0
           },
           {
            "bin_start": 4.699999999999999,
            "bin_end": 5,
            "count": 1
           }
          ]
         }
        },
        {
         "name": "Garage",
         "dtype": "float64",
         "stats": {
          "unique_count": 2,
          "nan_count": 0,
          "min": "0.0",
          "max": "1.0",
          "histogram": [
           {
            "bin_start": 0,
            "bin_end": 0.1,
            "count": 2
           },
           {
            "bin_start": 0.1,
            "bin_end": 0.2,
            "count": 0
           },
           {
            "bin_start": 0.2,
            "bin_end": 0.30000000000000004,
            "count": 0
           },
           {
            "bin_start": 0.30000000000000004,
            "bin_end": 0.4,
            "count": 0
           },
           {
            "bin_start": 0.4,
            "bin_end": 0.5,
            "count": 0
           },
           {
            "bin_start": 0.5,
            "bin_end": 0.6000000000000001,
            "count": 0
           },
           {
            "bin_start": 0.6000000000000001,
            "bin_end": 0.7000000000000001,
            "count": 0
           },
           {
            "bin_start": 0.7000000000000001,
            "bin_end": 0.8,
            "count": 0
           },
           {
            "bin_start": 0.8,
            "bin_end": 0.9,
            "count": 0
           },
           {
            "bin_start": 0.9,
            "bin_end": 1,
            "count": 3
           }
          ]
         }
        },
        {
         "name": "Pool",
         "dtype": "float64",
         "stats": {
          "unique_count": 2,
          "nan_count": 0,
          "min": "0.0",
          "max": "1.0",
          "histogram": [
           {
            "bin_start": 0,
            "bin_end": 0.1,
            "count": 3
           },
           {
            "bin_start": 0.1,
            "bin_end": 0.2,
            "count": 0
           },
           {
            "bin_start": 0.2,
            "bin_end": 0.30000000000000004,
            "count": 0
           },
           {
            "bin_start": 0.30000000000000004,
            "bin_end": 0.4,
            "count": 0
           },
           {
            "bin_start": 0.4,
            "bin_end": 0.5,
            "count": 0
           },
           {
            "bin_start": 0.5,
            "bin_end": 0.6000000000000001,
            "count": 0
           },
           {
            "bin_start": 0.6000000000000001,
            "bin_end": 0.7000000000000001,
            "count": 0
           },
           {
            "bin_start": 0.7000000000000001,
            "bin_end": 0.8,
            "count": 0
           },
           {
            "bin_start": 0.8,
            "bin_end": 0.9,
            "count": 0
           },
           {
            "bin_start": 0.9,
            "bin_end": 1,
            "count": 2
           }
          ]
         }
        },
        {
         "name": "House_Age",
         "dtype": "int64",
         "stats": {
          "unique_count": 5,
          "nan_count": 0,
          "min": "2",
          "max": "59",
          "histogram": [
           {
            "bin_start": 2,
            "bin_end": 7.7,
            "count": 1
           },
           {
            "bin_start": 7.7,
            "bin_end": 13.4,
            "count": 0
           },
           {
            "bin_start": 13.4,
            "bin_end": 19.1,
            "count": 1
           },
           {
            "bin_start": 19.1,
            "bin_end": 24.8,
            "count": 0
           },
           {
            "bin_start": 24.8,
            "bin_end": 30.5,
            "count": 0
           },
           {
            "bin_start": 30.5,
            "bin_end": 36.2,
            "count": 0
           },
           {
            "bin_start": 36.2,
            "bin_end": 41.9,
            "count": 1
           },
           {
            "bin_start": 41.9,
            "bin_end": 47.6,
            "count": 0
           },
           {
            "bin_start": 47.6,
            "bin_end": 53.300000000000004,
            "count": 1
           },
           {
            "bin_start": 53.300000000000004,
            "bin_end": 59,
            "count": 1
           }
          ]
         }
        },
        {
         "name": "Walkability",
         "dtype": "float64",
         "stats": {
          "unique_count": 4,
          "nan_count": 0,
          "min": "4.0",
          "max": "8.0",
          "histogram": [
           {
            "bin_start": 4,
            "bin_end": 4.4,
            "count": 1
           },
           {
            "bin_start": 4.4,
            "bin_end": 4.8,
            "count": 0
           },
           {
            "bin_start": 4.8,
            "bin_end": 5.2,
            "count": 0
           },
           {
            "bin_start": 5.2,
            "bin_end": 5.6,
            "count": 0
           },
           {
            "bin_start": 5.6,
            "bin_end": 6,
            "count": 0
           },
           {
            "bin_start": 6,
            "bin_end": 6.4,
            "count": 1
           },
           {
            "bin_start": 6.4,
            "bin_end": 6.800000000000001,
            "count": 0
           },
           {
            "bin_start": 6.800000000000001,
            "bin_end": 7.2,
            "count": 1
           },
           {
            "bin_start": 7.2,
            "bin_end": 7.6,
            "count": 0
           },
           {
            "bin_start": 7.6,
            "bin_end": 8,
            "count": 2
           }
          ]
         }
        },
        {
         "name": "Crime_Rate",
         "dtype": "int64",
         "stats": {
          "unique_count": 4,
          "nan_count": 0,
          "min": "3",
          "max": "8",
          "histogram": [
           {
            "bin_start": 3,
            "bin_end": 3.5,
            "count": 1
           },
           {
            "bin_start": 3.5,
            "bin_end": 4,
            "count": 0
           },
           {
            "bin_start": 4,
            "bin_end": 4.5,
            "count": 2
           },
           {
            "bin_start": 4.5,
            "bin_end": 5,
            "count": 0
           },
           {
            "bin_start": 5,
            "bin_end": 5.5,
            "count": 1
           },
           {
            "bin_start": 5.5,
            "bin_end": 6,
            "count": 0
           },
           {
            "bin_start": 6,
            "bin_end": 6.5,
            "count": 0
           },
           {
            "bin_start": 6.5,
            "bin_end": 7,
            "count": 0
           },
           {
            "bin_start": 7,
            "bin_end": 7.5,
            "count": 0
           },
           {
            "bin_start": 7.5,
            "bin_end": 8,
            "count": 1
           }
          ]
         }
        },
        {
         "name": "Zipcode",
         "dtype": "int64",
         "stats": {
          "unique_count": 4,
          "nan_count": 0,
          "min": "20124",
          "max": "20170",
          "histogram": [
           {
            "bin_start": 20124,
            "bin_end": 20128.6,
            "count": 1
           },
           {
            "bin_start": 20128.6,
            "bin_end": 20133.2,
            "count": 0
           },
           {
            "bin_start": 20133.2,
            "bin_end": 20137.8,
            "count": 0
           },
           {
            "bin_start": 20137.8,
            "bin_end": 20142.4,
            "count": 0
           },
           {
            "bin_start": 20142.4,
            "bin_end": 20147,
            "count": 0
           },
           {
            "bin_start": 20147,
            "bin_end": 20151.6,
            "count": 0
           },
           {
            "bin_start": 20151.6,
            "bin_end": 20156.2,
            "count": 0
           },
           {
            "bin_start": 20156.2,
            "bin_end": 20160.8,
            "count": 0
           },
           {
            "bin_start": 20160.8,
            "bin_end": 20165.4,
            "count": 1
           },
           {
            "bin_start": 20165.4,
            "bin_end": 20170,
            "count": 3
           }
          ]
         }
        },
        {
         "name": "_deepnote_index_column",
         "dtype": "int64"
        }
       ],
       "rows_top": [
        {
         "School_Rating": 8,
         "House_Area": 2030,
         "Lot_Area": 4715,
         "Room_No": 3,
         "Bath_No": 2,
         "Garage": 1,
         "Pool": 1,
         "House_Age": 48,
         "Walkability": 7,
         "Crime_Rate": 4,
         "Zipcode": 20166,
         "_deepnote_index_column": 0
        },
        {
         "School_Rating": 8,
         "House_Area": 1739,
         "Lot_Area": 5499,
         "Room_No": 2,
         "Bath_No": 2,
         "Garage": 0,
         "Pool": 1,
         "House_Age": 37,
         "Walkability": 8,
         "Crime_Rate": 3,
         "Zipcode": 20166,
         "_deepnote_index_column": 1
        },
        {
         "School_Rating": 7,
         "House_Area": 3628,
         "Lot_Area": 5689,
         "Room_No": 5,
         "Bath_No": 5,
         "Garage": 1,
         "Pool": 0,
         "House_Age": 59,
         "Walkability": 6,
         "Crime_Rate": 4,
         "Zipcode": 20170,
         "_deepnote_index_column": 2
        },
        {
         "School_Rating": 4,
         "House_Area": 2019,
         "Lot_Area": 5441,
         "Room_No": 3,
         "Bath_No": 2,
         "Garage": 0,
         "Pool": 0,
         "House_Age": 2,
         "Walkability": 4,
         "Crime_Rate": 8,
         "Zipcode": 20124,
         "_deepnote_index_column": 3
        },
        {
         "School_Rating": 9,
         "House_Area": 2311,
         "Lot_Area": 6227,
         "Room_No": 3,
         "Bath_No": 3,
         "Garage": 1,
         "Pool": 0,
         "House_Age": 17,
         "Walkability": 8,
         "Crime_Rate": 5,
         "Zipcode": 20165,
         "_deepnote_index_column": 4
        }
       ],
       "rows_bottom": null
      },
      "text/plain": "   School_Rating  House_Area  Lot_Area  Room_No  Bath_No  Garage  Pool  \\\n0              8        2030      4715      3.0      2.0     1.0   1.0   \n1              8        1739      5499      2.0      2.0     0.0   1.0   \n2              7        3628      5689      5.0      5.0     1.0   0.0   \n3              4        2019      5441      3.0      2.0     0.0   0.0   \n4              9        2311      6227      3.0      3.0     1.0   0.0   \n\n   House_Age  Walkability  Crime_Rate  Zipcode  \n0         48          7.0           4    20166  \n1         37          8.0           3    20166  \n2         59          6.0           4    20170  \n3          2          4.0           8    20124  \n4         17          8.0           5    20165  ",
      "text/html": "<div>\n<style scoped>\n    .dataframe tbody tr th:only-of-type {\n        vertical-align: middle;\n    }\n\n    .dataframe tbody tr th {\n        vertical-align: top;\n    }\n\n    .dataframe thead th {\n        text-align: right;\n    }\n</style>\n<table border=\"1\" class=\"dataframe\">\n  <thead>\n    <tr style=\"text-align: right;\">\n      <th></th>\n      <th>School_Rating</th>\n      <th>House_Area</th>\n      <th>Lot_Area</th>\n      <th>Room_No</th>\n      <th>Bath_No</th>\n      <th>Garage</th>\n      <th>Pool</th>\n      <th>House_Age</th>\n      <th>Walkability</th>\n      <th>Crime_Rate</th>\n      <th>Zipcode</th>\n    </tr>\n  </thead>\n  <tbody>\n    <tr>\n      <th>0</th>\n      <td>8</td>\n      <td>2030</td>\n      <td>4715</td>\n      <td>3.0</td>\n      <td>2.0</td>\n      <td>1.0</td>\n      <td>1.0</td>\n      <td>48</td>\n      <td>7.0</td>\n      <td>4</td>\n      <td>20166</td>\n    </tr>\n    <tr>\n      <th>1</th>\n      <td>8</td>\n      <td>1739</td>\n      <td>5499</td>\n      <td>2.0</td>\n      <td>2.0</td>\n      <td>0.0</td>\n      <td>1.0</td>\n      <td>37</td>\n      <td>8.0</td>\n      <td>3</td>\n      <td>20166</td>\n    </tr>\n    <tr>\n      <th>2</th>\n      <td>7</td>\n      <td>3628</td>\n      <td>5689</td>\n      <td>5.0</td>\n      <td>5.0</td>\n      <td>1.0</td>\n      <td>0.0</td>\n      <td>59</td>\n      <td>6.0</td>\n      <td>4</td>\n      <td>20170</td>\n    </tr>\n    <tr>\n      <th>3</th>\n      <td>4</td>\n      <td>2019</td>\n      <td>5441</td>\n      <td>3.0</td>\n      <td>2.0</td>\n      <td>0.0</td>\n      <td>0.0</td>\n      <td>2</td>\n      <td>4.0</td>\n      <td>8</td>\n      <td>20124</td>\n    </tr>\n    <tr>\n      <th>4</th>\n      <td>9</td>\n      <td>2311</td>\n      <td>6227</td>\n      <td>3.0</td>\n      <td>3.0</td>\n      <td>1.0</td>\n      <td>0.0</td>\n      <td>17</td>\n      <td>8.0</td>\n      <td>5</td>\n      <td>20165</td>\n    </tr>\n  </tbody>\n</table>\n</div>"
     },
     "metadata": {}
    }
   ]
  },
  {
   "cell_type": "code",
   "metadata": {
    "tags": [],
    "cell_id": "00017-02b2de9d-176b-4522-90d1-00d042fd0653",
    "deepnote_to_be_reexecuted": false,
    "source_hash": "a150172e",
    "execution_start": 1638073233233,
    "execution_millis": 58,
    "deepnote_cell_type": "code"
   },
   "source": "test_info = df_test.to_numpy()",
   "execution_count": null,
   "outputs": []
  },
  {
   "cell_type": "code",
   "metadata": {
    "tags": [],
    "cell_id": "00018-668cc932-4e50-4e4f-a3d2-493dfa35d030",
    "deepnote_to_be_reexecuted": false,
    "source_hash": "bba904b0",
    "execution_start": 1638073233291,
    "execution_millis": 4,
    "deepnote_output_heights": [
     78
    ],
    "deepnote_cell_type": "code"
   },
   "source": "modelz.predict(test_info)",
   "execution_count": null,
   "outputs": [
    {
     "output_type": "execute_result",
     "execution_count": 14,
     "data": {
      "text/plain": "array([ 8561819.44871832,  8980294.32638028, 12881526.36890043,\n        8599287.43466798, 10511332.01790486, 12921742.59768681,\n       10019012.08221002, 11708426.88573511, 13117137.55306433,\n        6771455.75731301])"
     },
     "metadata": {}
    }
   ]
  },
  {
   "cell_type": "markdown",
   "source": "#### Question 2\n#### 1. Let's replace yes' and no's with 1's and 0's using the factorize() function. Note that factorize() returns two objects: a label array and an array with the unique values. We are only interested in the first object.",
   "metadata": {
    "tags": [],
    "cell_id": "00017-5e4d9784-1c49-44fa-80f2-1591830a2c80",
    "deepnote_cell_type": "markdown"
   }
  },
  {
   "cell_type": "code",
   "metadata": {
    "tags": [],
    "cell_id": "00018-55c1f42c-aaf8-4bd8-881d-3af671e28f73",
    "deepnote_to_be_reexecuted": false,
    "source_hash": "8b60d2ee",
    "execution_start": 1638073233293,
    "execution_millis": 3097,
    "deepnote_cell_type": "code"
   },
   "source": "#dfes = pd.read_excel('https://github.com/simsekergun/DATA601/blob/main/2021Fall/datasets/Default.xlsx?raw=true',index_col=[0])\n#this also works if you do: pip install openpyxl in terminal\ndfe = pd.read_excel('Default.xlsx', index_col=[0])\ndfe['default'] = dfe.default.factorize()[0]\ndfe['student'] = dfe.student.factorize()[0]\ndfe.head()\n#Zero means No\n#One means Yes",
   "execution_count": null,
   "outputs": [
    {
     "name": "stderr",
     "text": "/root/venv/lib/python3.7/site-packages/openpyxl/styles/stylesheet.py:226: UserWarning: Workbook contains no default style, apply openpyxl's default\n  warn(\"Workbook contains no default style, apply openpyxl's default\")\n",
     "output_type": "stream"
    },
    {
     "output_type": "execute_result",
     "execution_count": 15,
     "data": {
      "application/vnd.deepnote.dataframe.v2+json": {
       "row_count": 5,
       "column_count": 4,
       "columns": [
        {
         "name": "default",
         "dtype": "int64",
         "stats": {
          "unique_count": 1,
          "nan_count": 0,
          "min": "0",
          "max": "0",
          "histogram": [
           {
            "bin_start": -0.5,
            "bin_end": -0.4,
            "count": 0
           },
           {
            "bin_start": -0.4,
            "bin_end": -0.3,
            "count": 0
           },
           {
            "bin_start": -0.3,
            "bin_end": -0.19999999999999996,
            "count": 0
           },
           {
            "bin_start": -0.19999999999999996,
            "bin_end": -0.09999999999999998,
            "count": 0
           },
           {
            "bin_start": -0.09999999999999998,
            "bin_end": 0,
            "count": 0
           },
           {
            "bin_start": 0,
            "bin_end": 0.10000000000000009,
            "count": 5
           },
           {
            "bin_start": 0.10000000000000009,
            "bin_end": 0.20000000000000007,
            "count": 0
           },
           {
            "bin_start": 0.20000000000000007,
            "bin_end": 0.30000000000000004,
            "count": 0
           },
           {
            "bin_start": 0.30000000000000004,
            "bin_end": 0.4,
            "count": 0
           },
           {
            "bin_start": 0.4,
            "bin_end": 0.5,
            "count": 0
           }
          ]
         }
        },
        {
         "name": "student",
         "dtype": "int64",
         "stats": {
          "unique_count": 2,
          "nan_count": 0,
          "min": "0",
          "max": "1",
          "histogram": [
           {
            "bin_start": 0,
            "bin_end": 0.1,
            "count": 4
           },
           {
            "bin_start": 0.1,
            "bin_end": 0.2,
            "count": 0
           },
           {
            "bin_start": 0.2,
            "bin_end": 0.30000000000000004,
            "count": 0
           },
           {
            "bin_start": 0.30000000000000004,
            "bin_end": 0.4,
            "count": 0
           },
           {
            "bin_start": 0.4,
            "bin_end": 0.5,
            "count": 0
           },
           {
            "bin_start": 0.5,
            "bin_end": 0.6000000000000001,
            "count": 0
           },
           {
            "bin_start": 0.6000000000000001,
            "bin_end": 0.7000000000000001,
            "count": 0
           },
           {
            "bin_start": 0.7000000000000001,
            "bin_end": 0.8,
            "count": 0
           },
           {
            "bin_start": 0.8,
            "bin_end": 0.9,
            "count": 0
           },
           {
            "bin_start": 0.9,
            "bin_end": 1,
            "count": 1
           }
          ]
         }
        },
        {
         "name": "balance",
         "dtype": "float64",
         "stats": {
          "unique_count": 5,
          "nan_count": 0,
          "min": "529.2506047452785",
          "max": "1073.549164011728",
          "histogram": [
           {
            "bin_start": 529.2506047452785,
            "bin_end": 583.6804606719234,
            "count": 1
           },
           {
            "bin_start": 583.6804606719234,
            "bin_end": 638.1103165985684,
            "count": 0
           },
           {
            "bin_start": 638.1103165985684,
            "bin_end": 692.5401725252133,
            "count": 0
           },
           {
            "bin_start": 692.5401725252133,
            "bin_end": 746.9700284518583,
            "count": 1
           },
           {
            "bin_start": 746.9700284518583,
            "bin_end": 801.3998843785032,
            "count": 1
           },
           {
            "bin_start": 801.3998843785032,
            "bin_end": 855.8297403051481,
            "count": 1
           },
           {
            "bin_start": 855.8297403051481,
            "bin_end": 910.259596231793,
            "count": 0
           },
           {
            "bin_start": 910.259596231793,
            "bin_end": 964.689452158438,
            "count": 0
           },
           {
            "bin_start": 964.689452158438,
            "bin_end": 1019.119308085083,
            "count": 0
           },
           {
            "bin_start": 1019.119308085083,
            "bin_end": 1073.549164011728,
            "count": 1
           }
          ]
         }
        },
        {
         "name": "income",
         "dtype": "float64",
         "stats": {
          "unique_count": 5,
          "nan_count": 0,
          "min": "12106.134700314931",
          "max": "44361.62507426687",
          "histogram": [
           {
            "bin_start": 12106.134700314931,
            "bin_end": 15331.683737710126,
            "count": 1
           },
           {
            "bin_start": 15331.683737710126,
            "bin_end": 18557.23277510532,
            "count": 0
           },
           {
            "bin_start": 18557.23277510532,
            "bin_end": 21782.781812500514,
            "count": 0
           },
           {
            "bin_start": 21782.781812500514,
            "bin_end": 25008.330849895705,
            "count": 0
           },
           {
            "bin_start": 25008.330849895705,
            "bin_end": 28233.879887290903,
            "count": 0
           },
           {
            "bin_start": 28233.879887290903,
            "bin_end": 31459.428924686094,
            "count": 0
           },
           {
            "bin_start": 31459.428924686094,
            "bin_end": 34684.97796208129,
            "count": 1
           },
           {
            "bin_start": 34684.97796208129,
            "bin_end": 37910.52699947648,
            "count": 1
           },
           {
            "bin_start": 37910.52699947648,
            "bin_end": 41136.07603687167,
            "count": 1
           },
           {
            "bin_start": 41136.07603687167,
            "bin_end": 44361.62507426687,
            "count": 1
           }
          ]
         }
        },
        {
         "name": "_deepnote_index_column",
         "dtype": "int64"
        }
       ],
       "rows_top": [
        {
         "default": 0,
         "student": 0,
         "balance": 729.5264952072858,
         "income": 44361.62507426687,
         "_deepnote_index_column": 1
        },
        {
         "default": 0,
         "student": 1,
         "balance": 817.1804065554977,
         "income": 12106.134700314931,
         "_deepnote_index_column": 2
        },
        {
         "default": 0,
         "student": 0,
         "balance": 1073.549164011728,
         "income": 31767.138947399937,
         "_deepnote_index_column": 3
        },
        {
         "default": 0,
         "student": 0,
         "balance": 529.2506047452785,
         "income": 35704.4939350781,
         "_deepnote_index_column": 4
        },
        {
         "default": 0,
         "student": 0,
         "balance": 785.655882930501,
         "income": 38463.49587872287,
         "_deepnote_index_column": 5
        }
       ],
       "rows_bottom": null
      },
      "text/plain": "   default  student      balance        income\n1        0        0   729.526495  44361.625074\n2        0        1   817.180407  12106.134700\n3        0        0  1073.549164  31767.138947\n4        0        0   529.250605  35704.493935\n5        0        0   785.655883  38463.495879",
      "text/html": "<div>\n<style scoped>\n    .dataframe tbody tr th:only-of-type {\n        vertical-align: middle;\n    }\n\n    .dataframe tbody tr th {\n        vertical-align: top;\n    }\n\n    .dataframe thead th {\n        text-align: right;\n    }\n</style>\n<table border=\"1\" class=\"dataframe\">\n  <thead>\n    <tr style=\"text-align: right;\">\n      <th></th>\n      <th>default</th>\n      <th>student</th>\n      <th>balance</th>\n      <th>income</th>\n    </tr>\n  </thead>\n  <tbody>\n    <tr>\n      <th>1</th>\n      <td>0</td>\n      <td>0</td>\n      <td>729.526495</td>\n      <td>44361.625074</td>\n    </tr>\n    <tr>\n      <th>2</th>\n      <td>0</td>\n      <td>1</td>\n      <td>817.180407</td>\n      <td>12106.134700</td>\n    </tr>\n    <tr>\n      <th>3</th>\n      <td>0</td>\n      <td>0</td>\n      <td>1073.549164</td>\n      <td>31767.138947</td>\n    </tr>\n    <tr>\n      <th>4</th>\n      <td>0</td>\n      <td>0</td>\n      <td>529.250605</td>\n      <td>35704.493935</td>\n    </tr>\n    <tr>\n      <th>5</th>\n      <td>0</td>\n      <td>0</td>\n      <td>785.655883</td>\n      <td>38463.495879</td>\n    </tr>\n  </tbody>\n</table>\n</div>"
     },
     "metadata": {}
    }
   ]
  },
  {
   "cell_type": "markdown",
   "source": "#### 1. Plot the histograms of the features in this dataset. What kinds of distributions do you see?",
   "metadata": {
    "tags": [],
    "cell_id": "00019-8d76f127-5696-4495-8e25-16f0cbf319a2",
    "deepnote_cell_type": "markdown"
   }
  },
  {
   "cell_type": "code",
   "metadata": {
    "tags": [],
    "cell_id": "00020-d2ae1b85-7387-4c3f-847e-b01d50601a17",
    "deepnote_to_be_reexecuted": false,
    "source_hash": "c6ba0a7",
    "execution_start": 1638073236393,
    "execution_millis": 1499,
    "deepnote_output_heights": [
     570
    ],
    "deepnote_cell_type": "code"
   },
   "source": "dfe.hist(layout=(3,2), figsize=(15,15))\nplt.show()",
   "execution_count": null,
   "outputs": [
    {
     "data": {
      "text/plain": "<Figure size 1080x1080 with 6 Axes>",
      "image/png": "[encoded data removed]"
     },
     "metadata": {
      "needs_background": "light",
      "image/png": {
       "width": 889,
       "height": 568
      }
     },
     "output_type": "display_data"
    }
   ]
  },
  {
   "cell_type": "code",
   "metadata": {
    "tags": [],
    "cell_id": "00021-0a02e0dd-c337-46eb-a1ce-35ff5922294d",
    "deepnote_to_be_reexecuted": false,
    "source_hash": "6910cba0",
    "execution_start": 1638073237896,
    "execution_millis": 65,
    "deepnote_cell_type": "code"
   },
   "source": "print(\"I notice the vast majority of people in this dataset do not default,\\nthe number of non-students are roughly double the amount of students,\\nincome resembles a normal distribution,\\nand balance is skewed right (towards zero $).\")",
   "execution_count": null,
   "outputs": [
    {
     "name": "stdout",
     "text": "I notice the vast majority of people in this dataset do not default,\nthe number of non-students are roughly double the amount of students,\nincome resembles a normal distribution,\nand balance is skewed right (towards zero $).\n",
     "output_type": "stream"
    }
   ]
  },
  {
   "cell_type": "markdown",
   "source": "#### 2. Boxplot 'default vs balance' and 'default vs income'. Which one has outliers?",
   "metadata": {
    "tags": [],
    "cell_id": "00022-9e961207-eb07-4cb8-838f-95b0bf1a48a4",
    "deepnote_cell_type": "markdown"
   }
  },
  {
   "cell_type": "code",
   "metadata": {
    "tags": [],
    "cell_id": "00024-459b5cd7-d705-4620-9992-de10b62a5be8",
    "deepnote_to_be_reexecuted": false,
    "source_hash": "961851f4",
    "execution_start": 1638073237959,
    "execution_millis": 343,
    "deepnote_output_heights": [
     21,
     286
    ],
    "deepnote_cell_type": "code"
   },
   "source": "dfe.boxplot(column=['balance'], by='default')",
   "execution_count": null,
   "outputs": [
    {
     "output_type": "execute_result",
     "execution_count": 18,
     "data": {
      "text/plain": "<AxesSubplot:title={'center':'balance'}, xlabel='default'>"
     },
     "metadata": {}
    },
    {
     "data": {
      "text/plain": "<Figure size 432x288 with 1 Axes>",
      "image/png": "[encoded data removed]"
     },
     "metadata": {
      "needs_background": "light",
      "image/png": {
       "width": 392,
       "height": 284
      }
     },
     "output_type": "display_data"
    }
   ]
  },
  {
   "cell_type": "code",
   "metadata": {
    "tags": [],
    "cell_id": "00024-aa0df596-eafe-4aa5-9a24-ee0e8da74abc",
    "deepnote_to_be_reexecuted": false,
    "source_hash": "842b5f4b",
    "execution_start": 1638073238319,
    "execution_millis": 416,
    "deepnote_output_heights": [
     21,
     286
    ],
    "deepnote_cell_type": "code"
   },
   "source": "dfe.boxplot(column=['income'], by='default')",
   "execution_count": null,
   "outputs": [
    {
     "output_type": "execute_result",
     "execution_count": 19,
     "data": {
      "text/plain": "<AxesSubplot:title={'center':'income'}, xlabel='default'>"
     },
     "metadata": {}
    },
    {
     "data": {
      "text/plain": "<Figure size 432x288 with 1 Axes>",
      "image/png": "[encoded data removed]"
     },
     "metadata": {
      "needs_background": "light",
      "image/png": {
       "width": 398,
       "height": 284
      }
     },
     "output_type": "display_data"
    }
   ]
  },
  {
   "cell_type": "code",
   "metadata": {
    "tags": [],
    "cell_id": "00025-a78d26b9-7082-4899-9eb1-b3ef13f3a333",
    "deepnote_to_be_reexecuted": false,
    "source_hash": "13c2749e",
    "execution_start": 1638073238739,
    "execution_millis": 66,
    "deepnote_cell_type": "code"
   },
   "source": "print(\"The boxplot 'default vs balance' has outliers.\\nFor people who have not defaulted, the outliers are at the higher end of balances (towards 2500)\\nand for those who have defaulted, the outliers are at the lower end of balances (towards 500).\")",
   "execution_count": null,
   "outputs": [
    {
     "name": "stdout",
     "text": "The boxplot 'default vs balance' has outliers.\nFor people who have not defaulted, the outliers are at the higher end of balances (towards 2500)\nand for those who have defaulted, the outliers are at the lower end of balances (towards 500).\n",
     "output_type": "stream"
    }
   ]
  },
  {
   "cell_type": "markdown",
   "source": "#### 3. Split your dataset into two (training 80%, validation (testing) %20, random_state=1). Build a simple logistic regression model to predict default from balance feature only. Create the confusion matric and calculate accuracy, sensitivity, and specificity.",
   "metadata": {
    "tags": [],
    "cell_id": "00026-298cb4c6-01bd-407a-a283-74e0a64c6117",
    "deepnote_cell_type": "markdown"
   }
  },
  {
   "cell_type": "code",
   "metadata": {
    "tags": [],
    "cell_id": "00027-d45c198b-88d9-44b6-9c60-d2136faae754",
    "deepnote_to_be_reexecuted": false,
    "source_hash": "cf55c753",
    "execution_start": 1638073238799,
    "execution_millis": 1,
    "deepnote_output_heights": [
     21,
     250
    ],
    "deepnote_cell_type": "code"
   },
   "source": "dflog = dfe.loc[:,('balance','default')]\nx = dflog.balance.values\ny = dflog.default.values",
   "execution_count": null,
   "outputs": []
  },
  {
   "cell_type": "code",
   "metadata": {
    "tags": [],
    "cell_id": "00028-0c0595ed-7d98-466a-88a4-d0c14d53a6ce",
    "deepnote_to_be_reexecuted": false,
    "source_hash": "ffd5d6be",
    "execution_start": 1638073238800,
    "execution_millis": 1,
    "deepnote_cell_type": "code"
   },
   "source": "X_train, X_test, y_train, y_test = train_test_split(x, y, test_size=0.2, random_state=1)\n\n",
   "execution_count": null,
   "outputs": []
  },
  {
   "cell_type": "code",
   "metadata": {
    "tags": [],
    "cell_id": "00028-ed8d01a6-9f5b-4e77-a44c-38d1c9aa301c",
    "deepnote_to_be_reexecuted": false,
    "source_hash": "79e00d18",
    "execution_start": 1638073238843,
    "execution_millis": 62,
    "deepnote_output_heights": [
     21
    ],
    "deepnote_cell_type": "code"
   },
   "source": "from sklearn.linear_model import LogisticRegression\n\nlogreg = LogisticRegression()\nlogreg.fit(X_train.reshape(-1,1), y_train)",
   "execution_count": null,
   "outputs": [
    {
     "output_type": "execute_result",
     "execution_count": 23,
     "data": {
      "text/plain": "LogisticRegression()"
     },
     "metadata": {}
    }
   ]
  },
  {
   "cell_type": "code",
   "metadata": {
    "tags": [],
    "cell_id": "00031-1bb9caaf-e95f-4884-b6ea-ab89a16031b6",
    "deepnote_to_be_reexecuted": false,
    "source_hash": "cad7711c",
    "execution_start": 1638073238911,
    "execution_millis": 11,
    "deepnote_cell_type": "code"
   },
   "source": "y_predict = logreg.predict(X_test.reshape(-1,1))",
   "execution_count": null,
   "outputs": []
  },
  {
   "cell_type": "code",
   "metadata": {
    "tags": [],
    "cell_id": "00032-b6031b53-a09f-4836-abed-a60511af0cc3",
    "deepnote_to_be_reexecuted": false,
    "source_hash": "3d16bcf1",
    "execution_start": 1638073238928,
    "execution_millis": 87,
    "deepnote_output_heights": [
     21
    ],
    "deepnote_cell_type": "code"
   },
   "source": "logreg.score(X_test.reshape(-1,1) , y_test)",
   "execution_count": null,
   "outputs": [
    {
     "output_type": "execute_result",
     "execution_count": 25,
     "data": {
      "text/plain": "0.9745"
     },
     "metadata": {}
    }
   ]
  },
  {
   "cell_type": "code",
   "metadata": {
    "tags": [],
    "cell_id": "00032-11ef513c-7b59-428d-9b08-bbe4790e31f1",
    "deepnote_to_be_reexecuted": false,
    "source_hash": "3d76b61b",
    "execution_start": 1638073238999,
    "execution_millis": 17,
    "deepnote_cell_type": "code"
   },
   "source": "#Confusion matrix, Accuracy, sensitivity and specificity\nfrom sklearn.metrics import confusion_matrix\ncm1 = confusion_matrix(y_test,y_predict)\nprint('Confusion Matrix : \\n', cm1)\n\n#get total\ntotal1=sum(sum(cm1))\n#calculate accuracy\naccuracy1=(cm1[0,0]+cm1[1,1])/total1\nprint ('Accuracy : ', accuracy1)\n#calculate sensitivity\nsensitivity1 = cm1[0,0]/(cm1[0,0]+cm1[0,1])\nprint('Sensitivity : ', sensitivity1 )\n#calculate specificity\nspecificity1 = cm1[1,1]/(cm1[1,0]+cm1[1,1])\nprint('Specificity : ', specificity1) ",
   "execution_count": null,
   "outputs": [
    {
     "name": "stdout",
     "text": "Confusion Matrix : \n [[1930   11]\n [  40   19]]\nAccuracy :  0.9745\nSensitivity :  0.994332818134982\nSpecificity :  0.3220338983050847\n",
     "output_type": "stream"
    }
   ]
  },
  {
   "cell_type": "markdown",
   "source": "#### 4. Repeat 3. but this time use 'balance','income', and 'student' features to predict the default with a multiple logistic regression model. Create the confusion matric and calculate accuracy, sensitivity, and specificity.",
   "metadata": {
    "tags": [],
    "cell_id": "00033-cd25017b-d60d-41a8-af44-70c3e12efee0",
    "deepnote_cell_type": "markdown"
   }
  },
  {
   "cell_type": "code",
   "metadata": {
    "tags": [],
    "cell_id": "00033-7be63a48-552f-43aa-9994-a74a2f204897",
    "deepnote_to_be_reexecuted": false,
    "source_hash": "a69a6440",
    "execution_start": 1638073239000,
    "execution_millis": 48,
    "deepnote_cell_type": "code"
   },
   "source": "x = dfe.loc[:,['balance','income','student']].values\ny = dfe.loc[:,'default'].values",
   "execution_count": null,
   "outputs": []
  },
  {
   "cell_type": "code",
   "metadata": {
    "tags": [],
    "cell_id": "00035-deebe41c-a416-4260-9ce3-0ecbb16ae878",
    "deepnote_to_be_reexecuted": false,
    "source_hash": "5bd99392",
    "execution_start": 1638073239048,
    "execution_millis": 195,
    "deepnote_output_heights": [
     21
    ],
    "deepnote_cell_type": "code"
   },
   "source": "X_train, X_test, y_train, y_test = train_test_split(x, y, test_size=0.2, random_state=1)\nlogreg = LogisticRegression()\nlogreg.fit(X_train, y_train)\nlogreg.score(X_test, y_test)",
   "execution_count": null,
   "outputs": [
    {
     "output_type": "execute_result",
     "execution_count": 28,
     "data": {
      "text/plain": "0.967"
     },
     "metadata": {}
    }
   ]
  },
  {
   "cell_type": "code",
   "metadata": {
    "tags": [],
    "cell_id": "00036-198232fd-bd54-4745-96a3-72a8d7a829d6",
    "deepnote_to_be_reexecuted": false,
    "source_hash": "2ec60d9e",
    "execution_start": 1638073239235,
    "execution_millis": 69,
    "deepnote_cell_type": "code"
   },
   "source": "y_predict = logreg.predict(X_test)\ncm1 = confusion_matrix(y_test,y_predict)\nprint('Confusion Matrix : \\n', cm1)\n\ntotal1=sum(sum(cm1))\n#####from confusion matrix calculate accuracy\naccuracy1=(cm1[0,0]+cm1[1,1])/total1\nprint ('Accuracy : ', accuracy1)\n#calculate sensitivity\nsensitivity1 = cm1[0,0]/(cm1[0,0]+cm1[0,1])\nprint('Sensitivity : ', sensitivity1 )\n#calculate specificity\nspecificity1 = cm1[1,1]/(cm1[1,0]+cm1[1,1])\nprint('Specificity : ', specificity1)",
   "execution_count": null,
   "outputs": [
    {
     "name": "stdout",
     "text": "Confusion Matrix : \n [[1924   17]\n [  49   10]]\nAccuracy :  0.967\nSensitivity :  0.9912416280267903\nSpecificity :  0.1694915254237288\n",
     "output_type": "stream"
    }
   ]
  },
  {
   "cell_type": "markdown",
   "source": "#### 5. What does having a high sensitivity and a low specificity mean?\n#### Sensitivity is a model's ability to correctly determine true positives. \n#### A test with high sensitivity will identify almost everyone who has the condition, and sometimes return a false negative (people who do in fact have the condition, but tested negative for it). \n#### Specificity is a model's ability to correctly determine true negatives.\n#### A test with high specificity will identify almost everyone who doesn't have the condition as not having it, and sometimes return a false positive (people who don't have the condition, but testing positive for it). \n#### In general, the higher the sensitivity, the lower the specificity, and vice versa.\n#### So increased sensitivity (a higher true positive rate) usually comes at the expense of reduced specificity (higher false positive rate). \n#### Likewise, increased specificity (higher true negative rate) usually means lower sensitivity (higher false negative rate).",
   "metadata": {
    "tags": [],
    "cell_id": "00033-c641d27a-6dab-4692-8770-fff75fc86c39",
    "deepnote_cell_type": "markdown"
   }
  },
  {
   "cell_type": "markdown",
   "source": "<a style='text-decoration:none;line-height:16px;display:flex;color:#5B5B62;padding:10px;justify-content:end;' href='https://deepnote.com?utm_source=created-in-deepnote-cell&projectId=4511c9db-3ff3-4de2-bdfe-cb0da3a697d3' target=\"_blank\">\n<img alt='Created in deepnote.com' style='display:inline;max-height:16px;margin:0px;margin-right:7.5px;' src='data:image/svg+xml;base64,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' > </img>\nCreated in <span style='font-weight:600;margin-left:4px;'>Deepnote</span></a>",
   "metadata": {
    "tags": [],
    "created_in_deepnote_cell": true,
    "deepnote_cell_type": "markdown"
   }
  }
 ],
 "nbformat": 4,
 "nbformat_minor": 2,
 "metadata": {
  "orig_nbformat": 2,
  "deepnote": {
   "is_reactive": false
  },
  "deepnote_notebook_id": "1ccc4a9d-a4d9-47d7-a305-d1b72e5b3eaa",
  "deepnote_execution_queue": []
 }
}