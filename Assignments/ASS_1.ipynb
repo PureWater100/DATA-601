{
 "cells": [
  {
   "cell_type": "markdown",
   "source": "### Assignment 1",
   "metadata": {
    "tags": [],
    "cell_id": "00001-d730ac87-c412-4f1f-ba24-e0859c666c8c",
    "deepnote_cell_type": "markdown"
   }
  },
  {
   "cell_type": "markdown",
   "source": "#### 1. Install \"names\" module with the following command !pip install names",
   "metadata": {
    "tags": [],
    "cell_id": "00001-cac5d2c4-e555-4027-b4ba-5393190b67a1",
    "deepnote_cell_type": "markdown"
   }
  },
  {
   "cell_type": "code",
   "metadata": {
    "tags": [],
    "cell_id": "00001-d2e84d89-4eee-4c12-9ae1-8372789eaf52",
    "deepnote_to_be_reexecuted": false,
    "source_hash": "f9744f32",
    "execution_start": 1632705445509,
    "execution_millis": 2738,
    "deepnote_cell_type": "code"
   },
   "source": "!pip install names\nimport names",
   "execution_count": null,
   "outputs": [
    {
     "name": "stdout",
     "text": "Requirement already satisfied: names in /root/venv/lib/python3.7/site-packages (0.3.0)\r\n",
     "output_type": "stream"
    }
   ]
  },
  {
   "cell_type": "markdown",
   "source": "#### 2. Use the \"get_first_name\" function in the \"names\" module and create a list of 8 first-names. Name of this list should be \"fname\".",
   "metadata": {
    "tags": [],
    "cell_id": "00003-f516767b-56c6-47bc-8393-3844848085bb",
    "deepnote_cell_type": "markdown"
   }
  },
  {
   "cell_type": "code",
   "metadata": {
    "tags": [],
    "cell_id": "00005-ba96f9e7-c017-40f2-8d84-daf9d5dff93e",
    "deepnote_to_be_reexecuted": false,
    "source_hash": "d3d0e2d5",
    "execution_start": 1632705448251,
    "execution_millis": 10,
    "deepnote_cell_type": "code"
   },
   "source": "#start with empty list\nfname = [] \n\n#for each loop to add 8 names \nfor e in range(8): \n    fname.append(names.get_first_name(gender=None))\n\n#for each loop to print out each name\nfor e in fname:\n    print(e) ",
   "execution_count": null,
   "outputs": [
    {
     "name": "stdout",
     "text": "Woodrow\nJesus\nMaria\nMargaret\nJohn\nAli\nWilliam\nYesenia\n",
     "output_type": "stream"
    }
   ]
  },
  {
   "cell_type": "markdown",
   "source": "#### a. Remove the last \"first-name\" from your \"fname\" list.",
   "metadata": {
    "tags": [],
    "cell_id": "00005-6b0e3c29-4627-4a97-b4ca-6ab81653ee39",
    "deepnote_cell_type": "markdown"
   }
  },
  {
   "cell_type": "code",
   "metadata": {
    "tags": [],
    "cell_id": "00006-8bba77a8-a0a7-49e3-ba5b-cf6e505583f4",
    "deepnote_to_be_reexecuted": false,
    "source_hash": "28aefe0e",
    "execution_start": 1632705448263,
    "execution_millis": 12,
    "deepnote_cell_type": "code"
   },
   "source": "#pop([i]) removes an element at position i, \n#when there's no index specified, \n#removes and returns the last element in the list.\nfname.pop()\nprint(fname)",
   "execution_count": null,
   "outputs": [
    {
     "name": "stdout",
     "text": "['Woodrow', 'Jesus', 'Maria', 'Margaret', 'John', 'Ali', 'William']\n",
     "output_type": "stream"
    }
   ]
  },
  {
   "cell_type": "markdown",
   "source": "#### b. Insert a new first-name between the first and second first-names in the list.",
   "metadata": {
    "tags": [],
    "cell_id": "00007-cb3bd2ce-c221-4539-b660-a410159629c9",
    "deepnote_cell_type": "markdown"
   }
  },
  {
   "cell_type": "code",
   "metadata": {
    "tags": [],
    "cell_id": "00008-98bf250e-a4c0-47bb-98ed-21ce73cbfc0f",
    "deepnote_to_be_reexecuted": false,
    "source_hash": "8196a361",
    "execution_start": 1632705448272,
    "execution_millis": 8,
    "deepnote_cell_type": "code"
   },
   "source": "#insert() inserts an item at the specified index\n#manually adding a name:\n#fname.insert(1, \"Emerald\")\nfname.insert(1, names.get_first_name(gender=None))\nprint(fname)",
   "execution_count": null,
   "outputs": [
    {
     "name": "stdout",
     "text": "['Woodrow', 'Marco', 'Jesus', 'Maria', 'Margaret', 'John', 'Ali', 'William']\n",
     "output_type": "stream"
    }
   ]
  },
  {
   "cell_type": "markdown",
   "source": "#### c. Remove the third \"first-name\"",
   "metadata": {
    "tags": [],
    "cell_id": "00009-ed306949-6d4d-405b-8410-be60a6a9ef31",
    "deepnote_cell_type": "markdown"
   }
  },
  {
   "cell_type": "code",
   "metadata": {
    "tags": [],
    "cell_id": "00010-be683644-74e2-4441-a000-2a752acff326",
    "deepnote_to_be_reexecuted": false,
    "source_hash": "f1fe5d51",
    "execution_start": 1632705448295,
    "execution_millis": 15,
    "deepnote_cell_type": "code"
   },
   "source": "#del statement \ndel fname[2]\nprint(fname)",
   "execution_count": null,
   "outputs": [
    {
     "name": "stdout",
     "text": "['Woodrow', 'Marco', 'Maria', 'Margaret', 'John', 'Ali', 'William']\n",
     "output_type": "stream"
    }
   ]
  },
  {
   "cell_type": "markdown",
   "source": "#### d. Add three first names at the end of your \"fname\" list using the \"append\" command.",
   "metadata": {
    "tags": [],
    "cell_id": "00011-f069075c-799e-4164-b91f-5f546dcd1c20",
    "deepnote_cell_type": "markdown"
   }
  },
  {
   "cell_type": "code",
   "metadata": {
    "tags": [],
    "cell_id": "00012-4b012437-77ca-44ea-9ff5-79126d92d2c4",
    "deepnote_to_be_reexecuted": false,
    "source_hash": "192ff489",
    "execution_start": 1632705448295,
    "execution_millis": 15,
    "deepnote_cell_type": "code"
   },
   "source": "fname.append(names.get_first_name(gender=None))\nfname.append(names.get_first_name(gender=None))\nfname.append(names.get_first_name(gender=None))\n\n#manually adding names:\n#fname.append(\"diamond\")\n#fname.append(\"pearl\")\n#fname.append(\"sapphire\")\nprint(fname)",
   "execution_count": null,
   "outputs": [
    {
     "name": "stdout",
     "text": "['Woodrow', 'Marco', 'Maria', 'Margaret', 'John', 'Ali', 'William', 'Albert', 'Sarah', 'Jodi']\n",
     "output_type": "stream"
    }
   ]
  },
  {
   "cell_type": "markdown",
   "source": "#### e. Remove those last three first names. \n#### Create a secondary list of first-names with three new first-names. Add these three at the end of your \"fname\" list with the \"extend\" method. \n#### Comment when we should use \"append\" and we should use \"extend\".",
   "metadata": {
    "tags": [],
    "cell_id": "00013-ba62fbc8-41e0-4d86-a765-fa905e4783b6",
    "deepnote_cell_type": "markdown"
   }
  },
  {
   "cell_type": "code",
   "metadata": {
    "tags": [],
    "cell_id": "00014-9f76fee0-2cfd-4849-a42d-d7f544849a35",
    "deepnote_to_be_reexecuted": false,
    "source_hash": "29f16b56",
    "execution_start": 1632705448296,
    "execution_millis": 14,
    "deepnote_cell_type": "code"
   },
   "source": "#del statement\ndel fname[7:] #keep only first 7 \nprint(fname)",
   "execution_count": null,
   "outputs": [
    {
     "name": "stdout",
     "text": "['Woodrow', 'Marco', 'Maria', 'Margaret', 'John', 'Ali', 'William']\n",
     "output_type": "stream"
    }
   ]
  },
  {
   "cell_type": "code",
   "metadata": {
    "tags": [],
    "cell_id": "00015-f3d16d58-2314-4437-940b-06a200384ecb",
    "deepnote_to_be_reexecuted": false,
    "source_hash": "dfe68639",
    "execution_start": 1632705448302,
    "execution_millis": 9,
    "deepnote_cell_type": "code"
   },
   "source": "fname2 = []\nnames.get_first_name(gender=None)\nfor e in range(3): \n    fname2.append(names.get_first_name(gender=None))\n\nprint(fname2)",
   "execution_count": null,
   "outputs": [
    {
     "name": "stdout",
     "text": "['Norma', 'Gary', 'Samuel']\n",
     "output_type": "stream"
    }
   ]
  },
  {
   "cell_type": "code",
   "metadata": {
    "tags": [],
    "cell_id": "00016-9727673e-f697-43cf-a976-80ea548a5a43",
    "deepnote_to_be_reexecuted": false,
    "source_hash": "5fb9e898",
    "execution_start": 1632705448308,
    "execution_millis": 8,
    "deepnote_cell_type": "code"
   },
   "source": "#extend method\nfname.extend(fname2)\nprint(fname)",
   "execution_count": null,
   "outputs": [
    {
     "name": "stdout",
     "text": "['Woodrow', 'Marco', 'Maria', 'Margaret', 'John', 'Ali', 'William', 'Norma', 'Gary', 'Samuel']\n",
     "output_type": "stream"
    }
   ]
  },
  {
   "cell_type": "markdown",
   "source": "#### extend is better used for combining lists, whereas append is better suited for adding individual elements to a list.",
   "metadata": {
    "tags": [],
    "cell_id": "00017-712fd3a2-a197-4788-81b7-e4c328fb9d56",
    "deepnote_cell_type": "markdown"
   }
  },
  {
   "cell_type": "markdown",
   "source": "#### 3. Use the \"get_last_name\" function in the \"names\" module and create a list of 10 last names. Name it \"lname\". Sort it alphabetically.",
   "metadata": {
    "tags": [],
    "cell_id": "00018-b5afdcfa-c2a5-4cf1-9d05-149e05d48daf",
    "deepnote_cell_type": "markdown"
   }
  },
  {
   "cell_type": "code",
   "metadata": {
    "tags": [],
    "cell_id": "00019-170ca6d6-0691-4fe3-b8c9-e1cf4ac1da15",
    "deepnote_to_be_reexecuted": false,
    "source_hash": "de395fe7",
    "execution_start": 1632705448314,
    "execution_millis": 120,
    "deepnote_cell_type": "code"
   },
   "source": "#start with empty list\nlname = [] \n\n#for each loop to add 10 names \nfor e in range(10): \n    lname.append(names.get_last_name())\n\n#sort aplhabetically\nlname = sorted(lname)\n\n#for each loop to print out each name\nfor e in lname:\n    print(e) ",
   "execution_count": null,
   "outputs": [
    {
     "name": "stdout",
     "text": "Johnson\nMoser\nMurphy\nNoe\nOeltjen\nSawyer\nSimmer\nStubbs\nTith\nWellman\n",
     "output_type": "stream"
    }
   ]
  },
  {
   "cell_type": "markdown",
   "source": "#### 4. Use the \"randint\" function from the \"random\" module to create random integers.",
   "metadata": {
    "tags": [],
    "cell_id": "00020-ad48adab-1eb1-459a-958e-07be2a95feaa",
    "deepnote_cell_type": "markdown"
   }
  },
  {
   "cell_type": "markdown",
   "source": "#### a. Create 10 random birth-years between 1950 and 2021. Name it \"byears\".",
   "metadata": {
    "tags": [],
    "cell_id": "00021-3cca7ffd-4512-4d99-bf59-f43603cd2a6b",
    "deepnote_cell_type": "markdown"
   }
  },
  {
   "cell_type": "code",
   "metadata": {
    "tags": [],
    "cell_id": "00021-e9d7216e-51de-4475-bc74-4655da480232",
    "deepnote_to_be_reexecuted": false,
    "source_hash": "c00c00",
    "execution_start": 1632705448435,
    "execution_millis": 1,
    "deepnote_cell_type": "code"
   },
   "source": "import random\nbyears = []\nfor e in range(10): \n    byears.append(random.randint(1950, 2021))\nprint(byears)",
   "execution_count": null,
   "outputs": [
    {
     "name": "stdout",
     "text": "[1989, 1972, 2011, 1988, 1950, 2008, 1969, 1971, 1956, 2007]\n",
     "output_type": "stream"
    }
   ]
  },
  {
   "cell_type": "markdown",
   "source": "#### b. Create 10 random birth-months between 1 and 12. Name it \"bmonths\".",
   "metadata": {
    "tags": [],
    "cell_id": "00023-2cbbe033-8be9-4978-892b-a1b54ba014cc",
    "deepnote_cell_type": "markdown"
   }
  },
  {
   "cell_type": "code",
   "metadata": {
    "tags": [],
    "cell_id": "00024-c958d36d-e72a-4640-adc2-f97876e7a345",
    "deepnote_to_be_reexecuted": false,
    "source_hash": "7a4bed32",
    "execution_start": 1632705448475,
    "execution_millis": 5,
    "deepnote_cell_type": "code"
   },
   "source": "bmonths = []\nfor e in range(10): \n    bmonths.append(random.randint(1, 12))\nprint(bmonths)",
   "execution_count": null,
   "outputs": []
  },
  {
   "cell_type": "markdown",
   "source": "#### c. Create 10 random birth-days between 1 and 31. Name it \"bdays\". Replace the random integer if it is not realistic, according to \"bmonths\" (e.g. February 29, June 31, etc).",
   "metadata": {
    "tags": [],
    "cell_id": "00025-9d63d04a-5b5a-4d22-a96a-4a840ae9d14e",
    "deepnote_cell_type": "markdown"
   }
  },
  {
   "cell_type": "code",
   "metadata": {
    "tags": [],
    "cell_id": "00027-317a8d72-598f-4cc1-88ce-1fb08414a069",
    "deepnote_to_be_reexecuted": false,
    "source_hash": "3fc25dfd",
    "execution_start": 1632705448475,
    "execution_millis": 15,
    "deepnote_cell_type": "code"
   },
   "source": "bdays = []\nfor e in bmonths:\n    day = random.randint(1, 31)\n    if (e == 2):\n        if (day >= 29):\n            day = random.randint(1, 28)\n    if (e == 4 or e == 6 or e == 9 or e == 11):\n        if (day >= 31):\n            day = random.randint(1, 30)\n    bdays.append(day)\n\nprint(bdays)\n",
   "execution_count": null,
   "outputs": [
    {
     "name": "stdout",
     "text": "[22, 6, 12, 12, 21, 28, 26, 30, 23, 17]\n",
     "output_type": "stream"
    }
   ]
  },
  {
   "cell_type": "markdown",
   "source": "#### d. Create 10 random Credit-Scores between 100 and 800. Create a list of \"CreditApproval\" with \"Yes\" if the credit-score is higher than 650, \"No\" otherwise. Make sure that someone can't get approved if they are 17 years old or younger, even if their credit-score is higher than 650.",
   "metadata": {
    "tags": [],
    "cell_id": "00027-10c2c0d6-4c3c-4cee-99b9-25edaa9c8f87",
    "deepnote_cell_type": "markdown"
   }
  },
  {
   "cell_type": "code",
   "metadata": {
    "tags": [],
    "cell_id": "00029-9b3dc403-e419-4b1c-a327-cc9a4a802136",
    "deepnote_to_be_reexecuted": false,
    "source_hash": "37781bce",
    "execution_start": 1632705448476,
    "execution_millis": 14,
    "deepnote_cell_type": "code"
   },
   "source": "CreditApproval = []\n\nfor e in byears: \n    score = random.randint(100, 800)\n    if (score < 650):\n        CreditApproval.append(\"no\")\n    elif (e >= 2004):\n            CreditApproval.append(\"no\")\n    else:\n        CreditApproval.append(\"yes\")\n\nprint(CreditApproval)\n",
   "execution_count": null,
   "outputs": [
    {
     "name": "stdout",
     "text": "['no', 'no', 'no', 'no', 'no', 'no', 'yes', 'no', 'no', 'no']\n",
     "output_type": "stream"
    }
   ]
  },
  {
   "cell_type": "markdown",
   "source": "#### 5. Create a dictionary for these 10 people with first-name, last-name, birth-year, birth-month, birth-day, CreditApproval (e.g. [fname: Michael, lname: Jackson, byear: 1958, bmonth: 8, bday: 29, creditapproval:yes])",
   "metadata": {
    "tags": [],
    "cell_id": "00029-8dc70b4e-f2e6-4562-8947-5bd9ad124208",
    "deepnote_cell_type": "markdown"
   }
  },
  {
   "cell_type": "code",
   "metadata": {
    "tags": [],
    "cell_id": "00031-d0340d28-965d-49c4-b1c6-d5f5d83f2c24",
    "deepnote_to_be_reexecuted": false,
    "source_hash": "2bfd30fc",
    "execution_start": 1632705448488,
    "execution_millis": 2,
    "deepnote_cell_type": "code"
   },
   "source": "dic= [ {\"First Name\":val[0], \"Last Name\":val[1], \"Year\":val[2],\n        \"Month\":val[3], \"Day\":val[4], \"Credit Approved\":val[5]} \n        for val in zip(fname, lname, byears, bmonths, bdays, CreditApproval)]\nfor e in dic:\n    print(e)",
   "execution_count": null,
   "outputs": [
    {
     "name": "stdout",
     "text": "{'First Name': 'Woodrow', 'Last Name': 'Johnson', 'Year': 1989, 'Month': 4, 'Day': 22, 'Credit Approved': 'no'}\n{'First Name': 'Marco', 'Last Name': 'Moser', 'Year': 1972, 'Month': 7, 'Day': 6, 'Credit Approved': 'no'}\n{'First Name': 'Maria', 'Last Name': 'Murphy', 'Year': 2011, 'Month': 9, 'Day': 12, 'Credit Approved': 'no'}\n{'First Name': 'Margaret', 'Last Name': 'Noe', 'Year': 1988, 'Month': 5, 'Day': 12, 'Credit Approved': 'no'}\n{'First Name': 'John', 'Last Name': 'Oeltjen', 'Year': 1950, 'Month': 1, 'Day': 21, 'Credit Approved': 'no'}\n{'First Name': 'Ali', 'Last Name': 'Sawyer', 'Year': 2008, 'Month': 12, 'Day': 28, 'Credit Approved': 'no'}\n{'First Name': 'William', 'Last Name': 'Simmer', 'Year': 1969, 'Month': 10, 'Day': 26, 'Credit Approved': 'yes'}\n{'First Name': 'Norma', 'Last Name': 'Stubbs', 'Year': 1971, 'Month': 4, 'Day': 30, 'Credit Approved': 'no'}\n{'First Name': 'Gary', 'Last Name': 'Tith', 'Year': 1956, 'Month': 10, 'Day': 23, 'Credit Approved': 'no'}\n{'First Name': 'Samuel', 'Last Name': 'Wellman', 'Year': 2007, 'Month': 1, 'Day': 17, 'Credit Approved': 'no'}\n",
     "output_type": "stream"
    }
   ]
  },
  {
   "cell_type": "markdown",
   "source": "#### 6. Save as CSV File",
   "metadata": {
    "tags": [],
    "cell_id": "00031-35a9049b-387b-4776-bcae-191c77a22864",
    "deepnote_cell_type": "markdown"
   }
  },
  {
   "cell_type": "code",
   "metadata": {
    "tags": [],
    "cell_id": "00032-6d1cfbcb-48ab-4ea4-aca0-8e96468654b5",
    "deepnote_to_be_reexecuted": false,
    "source_hash": "dc39986b",
    "execution_start": 1632705448496,
    "execution_millis": 10227,
    "deepnote_cell_type": "code"
   },
   "source": "import csv \n\nlabels = ['First Name', \"Last Name\", \"Year\", \"Month\", \"Day\", \"Credit Approved\"]\n\ntry:\n    with open('Steph_HW1.csv', 'w') as f:\n        writer = csv.DictWriter(f, fieldnames=labels)\n        writer.writeheader()\n        for elem in dic:\n            writer.writerow(elem)\nexcept IOError:\n    print(\"I/O error\")",
   "execution_count": null,
   "outputs": []
  },
  {
   "cell_type": "markdown",
   "source": "#### Open and read this csv using the csv module's reader function",
   "metadata": {
    "tags": [],
    "cell_id": "00033-421145a8-7db3-4e39-8e23-4d6b39d93c46",
    "deepnote_cell_type": "markdown"
   }
  },
  {
   "cell_type": "code",
   "metadata": {
    "tags": [],
    "cell_id": "00034-0bb11cae-7684-4581-bbfc-646309b17152",
    "deepnote_to_be_reexecuted": false,
    "source_hash": "a62fec16",
    "execution_start": 1632705448542,
    "execution_millis": 10234,
    "deepnote_cell_type": "code"
   },
   "source": "#read csv file\nwith open('Steph_HW1.csv', 'rt') as f:\n    data = csv.reader(f)\n    for row in data:\n        print(row)",
   "execution_count": null,
   "outputs": [
    {
     "name": "stdout",
     "text": "['First Name', 'Last Name', 'Year', 'Month', 'Day', 'Credit Approved']\n['Woodrow', 'Johnson', '1989', '4', '22', 'no']\n['Marco', 'Moser', '1972', '7', '6', 'no']\n['Maria', 'Murphy', '2011', '9', '12', 'no']\n['Margaret', 'Noe', '1988', '5', '12', 'no']\n['John', 'Oeltjen', '1950', '1', '21', 'no']\n['Ali', 'Sawyer', '2008', '12', '28', 'no']\n['William', 'Simmer', '1969', '10', '26', 'yes']\n['Norma', 'Stubbs', '1971', '4', '30', 'no']\n['Gary', 'Tith', '1956', '10', '23', 'no']\n['Samuel', 'Wellman', '2007', '1', '17', 'no']\n",
     "output_type": "stream"
    }
   ]
  },
  {
   "cell_type": "code",
   "metadata": {
    "tags": [],
    "cell_id": "00035-9f582edb-98aa-4f99-aacf-30d5487a42fd",
    "deepnote_to_be_reexecuted": false,
    "source_hash": "d5e33061",
    "execution_start": 1632705448543,
    "execution_millis": 1,
    "deepnote_cell_type": "code"
   },
   "source": "#read csv as dictionary\nreader = csv.DictReader(open(\"Steph_HW1.csv\"))\nfor raw in reader:\n    print(raw)",
   "execution_count": null,
   "outputs": [
    {
     "name": "stdout",
     "text": "OrderedDict([('First Name', 'Woodrow'), ('Last Name', 'Johnson'), ('Year', '1989'), ('Month', '4'), ('Day', '22'), ('Credit Approved', 'no')])\nOrderedDict([('First Name', 'Marco'), ('Last Name', 'Moser'), ('Year', '1972'), ('Month', '7'), ('Day', '6'), ('Credit Approved', 'no')])\nOrderedDict([('First Name', 'Maria'), ('Last Name', 'Murphy'), ('Year', '2011'), ('Month', '9'), ('Day', '12'), ('Credit Approved', 'no')])\nOrderedDict([('First Name', 'Margaret'), ('Last Name', 'Noe'), ('Year', '1988'), ('Month', '5'), ('Day', '12'), ('Credit Approved', 'no')])\nOrderedDict([('First Name', 'John'), ('Last Name', 'Oeltjen'), ('Year', '1950'), ('Month', '1'), ('Day', '21'), ('Credit Approved', 'no')])\nOrderedDict([('First Name', 'Ali'), ('Last Name', 'Sawyer'), ('Year', '2008'), ('Month', '12'), ('Day', '28'), ('Credit Approved', 'no')])\nOrderedDict([('First Name', 'William'), ('Last Name', 'Simmer'), ('Year', '1969'), ('Month', '10'), ('Day', '26'), ('Credit Approved', 'yes')])\nOrderedDict([('First Name', 'Norma'), ('Last Name', 'Stubbs'), ('Year', '1971'), ('Month', '4'), ('Day', '30'), ('Credit Approved', 'no')])\nOrderedDict([('First Name', 'Gary'), ('Last Name', 'Tith'), ('Year', '1956'), ('Month', '10'), ('Day', '23'), ('Credit Approved', 'no')])\nOrderedDict([('First Name', 'Samuel'), ('Last Name', 'Wellman'), ('Year', '2007'), ('Month', '1'), ('Day', '17'), ('Credit Approved', 'no')])\n",
     "output_type": "stream"
    }
   ]
  },
  {
   "cell_type": "markdown",
   "source": "<a style='text-decoration:none;line-height:16px;display:flex;color:#5B5B62;padding:10px;justify-content:end;' href='https://deepnote.com?utm_source=created-in-deepnote-cell&projectId=4511c9db-3ff3-4de2-bdfe-cb0da3a697d3' target=\"_blank\">\n<img alt='Created in deepnote.com' style='display:inline;max-height:16px;margin:0px;margin-right:7.5px;' src='data:image/svg+xml;base64,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' > </img>\nCreated in <span style='font-weight:600;margin-left:4px;'>Deepnote</span></a>",
   "metadata": {
    "tags": [],
    "created_in_deepnote_cell": true,
    "deepnote_cell_type": "markdown"
   }
  }
 ],
 "nbformat": 4,
 "nbformat_minor": 2,
 "metadata": {
  "orig_nbformat": 2,
  "deepnote": {
   "is_reactive": false
  },
  "deepnote_notebook_id": "46b41efe-5e63-499b-afd2-ecbc8d05df50",
  "deepnote_execution_queue": []
 }
}