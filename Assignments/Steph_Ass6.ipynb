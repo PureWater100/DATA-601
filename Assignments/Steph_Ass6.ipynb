{
 "cells": [
  {
   "cell_type": "markdown",
   "source": "# DATA601 Homework Assignment 6\nDue Date: Sunday, December 5, 23:50 PM",
   "metadata": {
    "id": "ge2dnV2gmHjo",
    "cell_id": "00000-b6bbae48-5279-4b21-bc35-8327c6f4a82c",
    "deepnote_cell_type": "markdown"
   }
  },
  {
   "cell_type": "code",
   "metadata": {
    "id": "LuYj3MYf9Usk",
    "executionInfo": {
     "status": "ok",
     "timestamp": 1638287114749,
     "user_tz": 300,
     "elapsed": 126,
     "user": {
      "displayName": "Ergun Simsek",
      "photoUrl": "https://lh3.googleusercontent.com/a-/AOh14Gg-wjHaTCL8nW1-WBjkR0PKajXbyfc3UgfX4HpB=s64",
      "userId": "16739529127101354422"
     }
    },
    "cell_id": "00001-a37af69e-fad4-48a7-a715-fa6ddbe63c6d",
    "deepnote_to_be_reexecuted": false,
    "source_hash": "41930bec",
    "execution_start": 1638751443369,
    "execution_millis": 0,
    "deepnote_cell_type": "code"
   },
   "source": "import re",
   "execution_count": null,
   "outputs": []
  },
  {
   "cell_type": "markdown",
   "source": "#### Q1\nWrite a regexp that will find all the Data Science courses mentioned in the following sentence. <br>\n<code> sentence1 = 'So far, I took DATA 601, DATA 604, and DATA 605. Next semester I will take DATA 602.'</code> <br>\nsuch that the output will look like <br>\n<code> ['DATA 601', 'DATA 604', 'DATA 605', 'DATA 602'] </code>",
   "metadata": {
    "id": "-baHpqUZmHjo",
    "cell_id": "00002-730d7434-0d10-4b46-a653-0d6429f3b955",
    "deepnote_cell_type": "markdown"
   }
  },
  {
   "cell_type": "code",
   "metadata": {
    "id": "H5qqohJBmHjo",
    "executionInfo": {
     "status": "ok",
     "timestamp": 1638287114887,
     "user_tz": 300,
     "elapsed": 4,
     "user": {
      "displayName": "Ergun Simsek",
      "photoUrl": "https://lh3.googleusercontent.com/a-/AOh14Gg-wjHaTCL8nW1-WBjkR0PKajXbyfc3UgfX4HpB=s64",
      "userId": "16739529127101354422"
     }
    },
    "cell_id": "00003-c64c0232-7ec8-438c-a79b-dd024b6170ce",
    "deepnote_to_be_reexecuted": false,
    "source_hash": "e7d86a65",
    "execution_start": 1638751443369,
    "execution_millis": 2,
    "deepnote_cell_type": "code"
   },
   "source": "sentence1 = 'So far, I took DATA 601, DATA 604, and DATA 605. Next semester I will take DATA 602.'\n# Answer\ny = re.findall('DATA\\s\\d{3}', sentence1) \nprint(y)\n",
   "execution_count": null,
   "outputs": [
    {
     "name": "stdout",
     "text": "['DATA 601', 'DATA 604', 'DATA 605', 'DATA 602']\n",
     "output_type": "stream"
    }
   ]
  },
  {
   "cell_type": "markdown",
   "source": "### Q2\nWrite a regexp that will find all the Data Science courses mentioned in the following sentence. <br>\n<code> sentence2 = 'So far, I took DATA601, DATA-604, and DATA 605. Next semester I will take DATA602.'</code><br>\nsuch that the output will look like <br>\n<code> ['DATA601', 'DATA-604', 'DATA 605', 'DATA602'] </code>",
   "metadata": {
    "id": "EcNIDtY-Y3IX",
    "cell_id": "00004-c70368e5-efa2-403c-a8b2-56db545e6757",
    "deepnote_cell_type": "markdown"
   }
  },
  {
   "cell_type": "code",
   "metadata": {
    "id": "MCHb2vo0Y4KG",
    "executionInfo": {
     "status": "ok",
     "timestamp": 1638287114887,
     "user_tz": 300,
     "elapsed": 4,
     "user": {
      "displayName": "Ergun Simsek",
      "photoUrl": "https://lh3.googleusercontent.com/a-/AOh14Gg-wjHaTCL8nW1-WBjkR0PKajXbyfc3UgfX4HpB=s64",
      "userId": "16739529127101354422"
     }
    },
    "cell_id": "00005-02b25c28-e4ce-4fce-be71-5be21fa381eb",
    "deepnote_to_be_reexecuted": false,
    "source_hash": "b423aef2",
    "execution_start": 1638751443371,
    "execution_millis": 4,
    "deepnote_cell_type": "code"
   },
   "source": "sentence2 = 'So far, I took DATA601, DATA-604, and DATA 605. Next semester I will take DATA602.'\n# Answer\ny = re.findall('DATA.\\d{1,}', sentence2) #d{2,} also works\nprint(y)",
   "execution_count": null,
   "outputs": [
    {
     "name": "stdout",
     "text": "['DATA601', 'DATA-604', 'DATA 605', 'DATA602']\n",
     "output_type": "stream"
    }
   ]
  },
  {
   "cell_type": "markdown",
   "source": "### Q3\nWrite a regexp that will find all the graduate courses mentioned in the following sentence. <br>\n<code> sentence3 = 'So far, I took DATA 601, ENMG 652, and DATA 605. Next semester I will take DATA 602.'</code><br>\nsuch that the output will look like <br>\n<code> ['DATA 601', 'ENMG 652', 'DATA 605', 'DATA 602'] </code>",
   "metadata": {
    "id": "VDRyM6FLaH0V",
    "cell_id": "00006-408c7e52-4756-4804-8123-7933239ceebb",
    "deepnote_cell_type": "markdown"
   }
  },
  {
   "cell_type": "code",
   "metadata": {
    "id": "BdnCwYBGaH-s",
    "executionInfo": {
     "status": "ok",
     "timestamp": 1638287114887,
     "user_tz": 300,
     "elapsed": 3,
     "user": {
      "displayName": "Ergun Simsek",
      "photoUrl": "https://lh3.googleusercontent.com/a-/AOh14Gg-wjHaTCL8nW1-WBjkR0PKajXbyfc3UgfX4HpB=s64",
      "userId": "16739529127101354422"
     }
    },
    "cell_id": "00007-9a953db4-4fe6-4ab5-bf17-fd08c02074a4",
    "deepnote_to_be_reexecuted": false,
    "source_hash": "443c6dbb",
    "execution_start": 1638751443397,
    "execution_millis": 7,
    "deepnote_cell_type": "code"
   },
   "source": "sentence3 = 'So far, I took DATA 601, ENMG 652, and DATA 605. Next semester I will take DATA 602.'\n# Answer\ny = re.findall('DATA.\\d{1,}|ENMG....', sentence3) \nprint(y)\n",
   "execution_count": null,
   "outputs": [
    {
     "name": "stdout",
     "text": "['DATA 601', 'ENMG 652', 'DATA 605', 'DATA 602']\n",
     "output_type": "stream"
    }
   ]
  },
  {
   "cell_type": "markdown",
   "source": "#### Q4\nWrite a regexp that will match any Python Notebook (.ipynb) file in the following list. <br>\n<code> Files = ['lecture1.ipynb','lecture2.ipynb','lecture3.doc','lecture4.py','solutions.ipynb'] </code> <br>\nand print the list, e.g. your output will look like <br>\n<code>['lecture1.ipynb', 'lecture2.ipynb', 'solutions.ipynb']</code>",
   "metadata": {
    "id": "74wnPRYfmHjo",
    "cell_id": "00008-2a59e259-37c8-414b-8763-0bb7a0057188",
    "deepnote_cell_type": "markdown"
   }
  },
  {
   "cell_type": "code",
   "metadata": {
    "id": "9-wpHBlBmHjo",
    "executionInfo": {
     "status": "ok",
     "timestamp": 1638287114888,
     "user_tz": 300,
     "elapsed": 4,
     "user": {
      "displayName": "Ergun Simsek",
      "photoUrl": "https://lh3.googleusercontent.com/a-/AOh14Gg-wjHaTCL8nW1-WBjkR0PKajXbyfc3UgfX4HpB=s64",
      "userId": "16739529127101354422"
     }
    },
    "cell_id": "00009-3a0a4a5c-5eca-4f0f-b24f-910e667ab903",
    "deepnote_to_be_reexecuted": false,
    "source_hash": "db5e5e7d",
    "execution_start": 1638751443398,
    "execution_millis": 7,
    "deepnote_output_heights": [
     21
    ],
    "deepnote_cell_type": "code"
   },
   "source": "Files = ['lecture1.ipynb','lecture2.ipynb','lecture3.doc','lecture4.py','solutions.ipynb']\n# Answer\n#convert Files into one string\nmylist = \"\"\nfor e in Files:\n    e = str(e) + \" \"\n    mylist += e\n  \nprint(mylist) #print this string\ny = re.findall(\"\\S{2,}.ipynb\", mylist) #2 or more non-whitespace chars \nprint(y)\n",
   "execution_count": null,
   "outputs": [
    {
     "name": "stdout",
     "text": "lecture1.ipynb lecture2.ipynb lecture3.doc lecture4.py solutions.ipynb \n['lecture1.ipynb', 'lecture2.ipynb', 'solutions.ipynb']\n",
     "output_type": "stream"
    }
   ]
  },
  {
   "cell_type": "markdown",
   "source": "#### Q5\nCreate a regexp which detects Microsoft Word file names (either *.doc or *.docx) which contain at a numeral, and print their names for the following list <br>\n<code>Files2 = ['hw1.docx','hw2.docx','hw3.py','hw_last.docx','hw5.doc'] </code>",
   "metadata": {
    "id": "9FC373pbmHjp",
    "cell_id": "00010-f8a2ec0b-29fc-4996-8bc4-a165693c6830",
    "deepnote_cell_type": "markdown"
   }
  },
  {
   "cell_type": "code",
   "metadata": {
    "id": "rxQKTS4LmHjp",
    "executionInfo": {
     "status": "ok",
     "timestamp": 1638287114888,
     "user_tz": 300,
     "elapsed": 4,
     "user": {
      "displayName": "Ergun Simsek",
      "photoUrl": "https://lh3.googleusercontent.com/a-/AOh14Gg-wjHaTCL8nW1-WBjkR0PKajXbyfc3UgfX4HpB=s64",
      "userId": "16739529127101354422"
     }
    },
    "cell_id": "00011-94c21fa2-b5a1-4857-8533-57a407203ee2",
    "deepnote_to_be_reexecuted": false,
    "source_hash": "23b1c6a3",
    "execution_start": 1638751443399,
    "execution_millis": 8,
    "deepnote_cell_type": "code"
   },
   "source": "Files2 = ['hw1.docx','hw2.docx','hw3.py','hw_last.docx','hw5.doc']\n# Answer\n#'\\d{1, }do[c|x]'\n\n#convert Files into one string\nmylist = \"\"\nfor e in Files2:\n    e = str(e) + \" \"\n    mylist += e\n  \nprint(mylist) #print this string\ny = re.findall('(\\S{2,}\\d{1,}.docx|\\S{2,}\\d{1,}.doc)', mylist) #|\\S{2,}\\d{1,}doc DATA.\\d{1,}|ENMG....\nprint(y)",
   "execution_count": null,
   "outputs": [
    {
     "name": "stdout",
     "text": "hw1.docx hw2.docx hw3.py hw_last.docx hw5.doc \n['hw1.docx', 'hw2.docx', 'hw5.doc']\n",
     "output_type": "stream"
    }
   ]
  },
  {
   "cell_type": "markdown",
   "source": "### Q6. \nCompile a pattern that matches with web-addresses in the following sentence. <br> \n<code> sentence = 'Google\\'s address is www.google.com.' </code>",
   "metadata": {
    "id": "sxQBZZb_mHjp",
    "cell_id": "00012-802a8c74-11fd-4adf-9417-9f9c05cbc2bf",
    "deepnote_cell_type": "markdown"
   }
  },
  {
   "cell_type": "code",
   "metadata": {
    "id": "Bsort1Pb8qL1",
    "executionInfo": {
     "status": "ok",
     "timestamp": 1638287114888,
     "user_tz": 300,
     "elapsed": 3,
     "user": {
      "displayName": "Ergun Simsek",
      "photoUrl": "https://lh3.googleusercontent.com/a-/AOh14Gg-wjHaTCL8nW1-WBjkR0PKajXbyfc3UgfX4HpB=s64",
      "userId": "16739529127101354422"
     }
    },
    "cell_id": "00013-daf3d7f2-eb20-4430-af5c-38bc8a91d28b",
    "deepnote_to_be_reexecuted": false,
    "source_hash": "aa9154bc",
    "execution_start": 1638751443419,
    "execution_millis": 1,
    "deepnote_output_heights": [
     21
    ],
    "deepnote_cell_type": "code"
   },
   "source": "sentence = 'Google\\'s address is www.google.com.'\n# Answer\npattern = re.compile(r'www.\\S{1,}')\n## search for a match\nmo = pattern.search(sentence)\nmo.group()",
   "execution_count": null,
   "outputs": [
    {
     "output_type": "execute_result",
     "execution_count": 7,
     "data": {
      "text/plain": "'www.google.com.'"
     },
     "metadata": {}
    }
   ]
  },
  {
   "cell_type": "markdown",
   "source": "### Q7\nExtract all the words in the following sentence <br>\n<code>sentence = 'OMG! There is a punctuation. I want to remove it?'</code> <br>\nThe output should look like this <br>\n<code> ['OMG', 'There', 'is', 'a', 'punctuation', 'I', 'want', 'to', 'remove', 'it'] </code>",
   "metadata": {
    "id": "rAlXGNzE6lZm",
    "cell_id": "00014-f2d8e621-9f61-4438-a09e-986f7aaf5cee",
    "deepnote_cell_type": "markdown"
   }
  },
  {
   "cell_type": "code",
   "metadata": {
    "tags": [],
    "cell_id": "00017-9c0798db-b273-448f-8550-c61c03edd124",
    "deepnote_to_be_reexecuted": false,
    "source_hash": "ad99090c",
    "execution_start": 1638751443469,
    "execution_millis": 2,
    "deepnote_output_heights": [
     21
    ],
    "deepnote_cell_type": "code"
   },
   "source": "sentence = 'OMG! There is a punctuation. I want to remove it?'\nwords_pattern = '[a-z]+'\nre.findall(words_pattern, sentence, flags=re.IGNORECASE)",
   "execution_count": null,
   "outputs": [
    {
     "output_type": "execute_result",
     "execution_count": 8,
     "data": {
      "text/plain": "['OMG', 'There', 'is', 'a', 'punctuation', 'I', 'want', 'to', 'remove', 'it']"
     },
     "metadata": {}
    }
   ]
  },
  {
   "cell_type": "markdown",
   "source": "<a style='text-decoration:none;line-height:16px;display:flex;color:#5B5B62;padding:10px;justify-content:end;' href='https://deepnote.com?utm_source=created-in-deepnote-cell&projectId=4511c9db-3ff3-4de2-bdfe-cb0da3a697d3' target=\"_blank\">\n<img alt='Created in deepnote.com' style='display:inline;max-height:16px;margin:0px;margin-right:7.5px;' src='data:image/svg+xml;base64,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' > </img>\nCreated in <span style='font-weight:600;margin-left:4px;'>Deepnote</span></a>",
   "metadata": {
    "tags": [],
    "created_in_deepnote_cell": true,
    "deepnote_cell_type": "markdown"
   }
  }
 ],
 "nbformat": 4,
 "nbformat_minor": 0,
 "metadata": {
  "colab": {
   "name": "DATA601HW06.ipynb",
   "provenance": [
    {
     "file_id": "1BfWpD7CWjNjlx6KIGlNZmAHD7dw65TQG",
     "timestamp": 1638226849718
    }
   ],
   "collapsed_sections": [],
   "authorship_tag": "ABX9TyPnlX/ysTW+kva+nywfQ+we"
  },
  "kernelspec": {
   "name": "python3",
   "display_name": "Python 3"
  },
  "language_info": {
   "name": "python"
  },
  "deepnote_notebook_id": "5a6d4a0e-e294-43f4-b60f-b3dfe4c1329c",
  "deepnote": {},
  "deepnote_execution_queue": []
 }
}