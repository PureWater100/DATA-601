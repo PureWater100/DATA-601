{
 "cells": [
  {
   "cell_type": "markdown",
   "source": "### Assignment 7\n#### Question 1\n#### A) Create a class with the name \"rectangle\", which accepts 4 numbers (a, b, x1, y1) to create a rectangle object.\n#### B) Write a method which calculates and returns the area of this rectangle \n#### C) Write a method which calculates and returns the perimeter of this rectangle\n#### D) Write a method to plot this rectangle\n#### E) Write a method to shift this rectangle by (delta_x, delta_y), e.g. new x1 = x1+delta_x,new y1 = y1+delta_y ",
   "metadata": {
    "tags": [],
    "cell_id": "00000-a0ea7f1e-e698-4d1c-a336-538f75f1d868",
    "deepnote_cell_type": "markdown",
    "deepnote_cell_height": 322
   }
  },
  {
   "cell_type": "code",
   "metadata": {
    "tags": [],
    "cell_id": "00000-e3ee2e63-8c79-4b39-9a91-25cff9f3bba5",
    "deepnote_to_be_reexecuted": false,
    "source_hash": "a8f92e45",
    "execution_start": 1639344888632,
    "execution_millis": 290,
    "deepnote_cell_type": "code",
    "deepnote_cell_height": 621
   },
   "source": "import matplotlib.pyplot as plt\n\n#A\nclass rectangle:\n    area = 10\n    perimeter = 10\n    ## We use a constructor method to create a rectangle object\n    def __init__(self, a, b, x1, y1):\n        self.a = a #length\n        self.b = b #width\n        self.x1 = x1 #x coordinate \n        self.y1 = y1 #y coordinate \n#B\n    def area(self):\n        return self.a * self.b #print(self.a * self.b) will also work\n#C\n    def perimeter(self): \n        return (2*self.a) + (2*self.b)\n#D\n    def plot_shape(self):\n        plt.axes()\n        rectangle = plt.Rectangle((self.x1,self.y1), self.a, self.b, fc='white', ec='teal')\n        plt.gca().add_patch(rectangle)\n        plt.axis('scaled')\n        plt.show()\n#E\n    def shift(self, delta_x, delta_y):\n        self.x1 += delta_x\n        self.y1 += delta_y\n        self.plot_shape()\n",
   "execution_count": null,
   "outputs": []
  },
  {
   "cell_type": "markdown",
   "source": "#### Question 2\n#### Create another class called square using the \"inheritance\" property, which accepts 3 numbers (a, x1, y1) to create a square object, where a is the side length of square and reproduce the results you see below. ",
   "metadata": {
    "tags": [],
    "cell_id": "00002-033de119-c4c1-469b-85a6-4f30da1850c8",
    "deepnote_cell_type": "markdown",
    "deepnote_cell_height": 122
   }
  },
  {
   "cell_type": "code",
   "metadata": {
    "tags": [],
    "cell_id": "00002-2ac80f7f-3c04-4102-997f-d315f7bca4f2",
    "deepnote_to_be_reexecuted": false,
    "source_hash": "f51804c2",
    "execution_start": 1639344888932,
    "execution_millis": 9,
    "deepnote_cell_type": "code",
    "deepnote_cell_height": 190,
    "deepnote_output_heights": [
     21
    ]
   },
   "source": "# create a new rectangle object\nr1 = rectangle(5,3,0,0)\n\n#get area\nr1.area()",
   "execution_count": null,
   "outputs": [
    {
     "output_type": "execute_result",
     "execution_count": 2,
     "data": {
      "text/plain": "15"
     },
     "metadata": {}
    }
   ]
  },
  {
   "cell_type": "code",
   "metadata": {
    "tags": [],
    "cell_id": "00004-3d70e828-55da-4764-b349-297ed36864a1",
    "deepnote_to_be_reexecuted": false,
    "source_hash": "a6022750",
    "execution_start": 1639344888949,
    "execution_millis": 14,
    "deepnote_cell_type": "code",
    "deepnote_cell_height": 136,
    "deepnote_output_heights": [
     21
    ]
   },
   "source": "# get the perimeter\nr1.perimeter()",
   "execution_count": null,
   "outputs": [
    {
     "output_type": "execute_result",
     "execution_count": 3,
     "data": {
      "text/plain": "16"
     },
     "metadata": {}
    }
   ]
  },
  {
   "cell_type": "code",
   "metadata": {
    "tags": [],
    "cell_id": "00005-df3a3e6c-13dd-4e55-8dd5-74c8ba0addda",
    "deepnote_to_be_reexecuted": false,
    "source_hash": "91fee388",
    "execution_start": 1639344888995,
    "execution_millis": 224,
    "deepnote_cell_type": "code",
    "deepnote_cell_height": 349,
    "deepnote_output_heights": [
     234
    ]
   },
   "source": "# plot the rectangle\nr1.plot_shape()",
   "execution_count": null,
   "outputs": [
    {
     "data": {
      "text/plain": "<Figure size 432x288 with 1 Axes>",
      "image/png": "[encoded data removed]"
     },
     "metadata": {
      "needs_background": "light",
      "image/png": {
       "width": 372,
       "height": 232
      }
     },
     "output_type": "display_data"
    }
   ]
  },
  {
   "cell_type": "code",
   "metadata": {
    "tags": [],
    "cell_id": "00004-74e6dbb6-b645-408e-9396-738276eab40e",
    "deepnote_to_be_reexecuted": false,
    "source_hash": "f632bcec",
    "execution_start": 1639344889292,
    "execution_millis": 212,
    "deepnote_cell_type": "code",
    "deepnote_cell_height": 349,
    "deepnote_output_heights": [
     234
    ]
   },
   "source": "# shift the rectangle (no need to plot it separately, as the shift method calls the plot_shape method)\nr1.shift(2,2)",
   "execution_count": null,
   "outputs": [
    {
     "data": {
      "text/plain": "<Figure size 432x288 with 1 Axes>",
      "image/png": "[encoded data removed]"
     },
     "metadata": {
      "needs_background": "light",
      "image/png": {
       "width": 372,
       "height": 232
      }
     },
     "output_type": "display_data"
    }
   ]
  },
  {
   "cell_type": "code",
   "metadata": {
    "tags": [],
    "cell_id": "00007-a95a49b9-751b-4ed1-a0d9-df24bffbaec7",
    "deepnote_to_be_reexecuted": false,
    "source_hash": "962e97f7",
    "execution_start": 1639344889513,
    "execution_millis": 30,
    "deepnote_cell_type": "code",
    "deepnote_cell_height": 189
   },
   "source": "#create the square class, which inherits rectangle\nclass square(rectangle):\n  def __init__(self,a, x1, y1): #create the square constructor, takes 3 arguments\n        self.a = self.b = a #length and width, takes the argument a and assigns it to both a and b\n        self.x1 = x1 #x coordinate \n        self.y1 = y1 #y coordinate\n",
   "execution_count": null,
   "outputs": []
  },
  {
   "cell_type": "code",
   "metadata": {
    "tags": [],
    "cell_id": "00008-2ef5530b-98bc-4387-bff7-af1cdf417b94",
    "deepnote_to_be_reexecuted": false,
    "source_hash": "1f430e69",
    "execution_start": 1639344889544,
    "execution_millis": 1,
    "deepnote_cell_type": "code",
    "deepnote_cell_height": 172,
    "deepnote_output_heights": [
     21
    ]
   },
   "source": "# create a square\ns1 = square(4,2,2)\n# get area\ns1.area()",
   "execution_count": null,
   "outputs": [
    {
     "output_type": "execute_result",
     "execution_count": 7,
     "data": {
      "text/plain": "16"
     },
     "metadata": {}
    }
   ]
  },
  {
   "cell_type": "code",
   "metadata": {
    "tags": [],
    "cell_id": "00009-282db561-6ffb-4186-88af-5f922151135e",
    "deepnote_to_be_reexecuted": false,
    "source_hash": "6ed5ad0f",
    "execution_start": 1639344889546,
    "execution_millis": 7,
    "deepnote_cell_type": "code",
    "deepnote_cell_height": 136,
    "deepnote_output_heights": [
     21
    ]
   },
   "source": "# get perimeter\ns1.perimeter()",
   "execution_count": null,
   "outputs": [
    {
     "output_type": "execute_result",
     "execution_count": 8,
     "data": {
      "text/plain": "16"
     },
     "metadata": {}
    }
   ]
  },
  {
   "cell_type": "code",
   "metadata": {
    "tags": [],
    "cell_id": "00010-d09504e6-550e-4783-a243-e27cb619c332",
    "deepnote_to_be_reexecuted": false,
    "source_hash": "ae960317",
    "execution_start": 1639344889547,
    "execution_millis": 233,
    "deepnote_cell_type": "code",
    "deepnote_cell_height": 365,
    "deepnote_output_heights": [
     250
    ]
   },
   "source": "# plot\ns1.plot_shape()",
   "execution_count": null,
   "outputs": [
    {
     "data": {
      "text/plain": "<Figure size 432x288 with 1 Axes>",
      "image/png": "[encoded data removed]"
     },
     "metadata": {
      "needs_background": "light",
      "image/png": {
       "width": 254,
       "height": 248
      }
     },
     "output_type": "display_data"
    }
   ]
  },
  {
   "cell_type": "markdown",
   "source": "<a style='text-decoration:none;line-height:16px;display:flex;color:#5B5B62;padding:10px;justify-content:end;' href='https://deepnote.com?utm_source=created-in-deepnote-cell&projectId=f8475077-1815-4082-a9b9-b766f4497f53' target=\"_blank\">\n<img alt='Created in deepnote.com' style='display:inline;max-height:16px;margin:0px;margin-right:7.5px;' src='data:image/svg+xml;base64,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' > </img>\nCreated in <span style='font-weight:600;margin-left:4px;'>Deepnote</span></a>",
   "metadata": {
    "tags": [],
    "created_in_deepnote_cell": true,
    "deepnote_cell_type": "markdown"
   }
  }
 ],
 "nbformat": 4,
 "nbformat_minor": 2,
 "metadata": {
  "orig_nbformat": 2,
  "deepnote": {
   "is_reactive": false
  },
  "deepnote_notebook_id": "ff17fd61-b48c-4778-b9bd-a32c8836db64",
  "deepnote_execution_queue": []
 }
}